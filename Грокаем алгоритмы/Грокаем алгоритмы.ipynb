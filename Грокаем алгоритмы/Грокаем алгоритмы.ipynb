{
 "cells": [
  {
   "cell_type": "code",
   "execution_count": 7,
   "id": "836f2803",
   "metadata": {},
   "outputs": [],
   "source": [
    "import pandas as pd\n",
    "import numpy as np"
   ]
  },
  {
   "cell_type": "markdown",
   "id": "4adfd853",
   "metadata": {},
   "source": [
    "# Глава 1. Знакомство с алгоритмами"
   ]
  },
  {
   "cell_type": "markdown",
   "id": "820fd631",
   "metadata": {},
   "source": [
    "## Бинарный поиск\n",
    "- -- это алгоритм. На вход получает отсортированный список. Если элемент, который мы ищем присутствует в списке, то возвращает его позицию.\n",
    "- С бинарный поиском вы каждый раз загадываете число в середине диапазона и исключаете половину оставшихся чисел.\n",
    "- В общем случае для списка из n элементов бинарный поиск выполняется за $log_2n$ шагов."
   ]
  },
  {
   "cell_type": "code",
   "execution_count": 111,
   "id": "33c830e7",
   "metadata": {},
   "outputs": [],
   "source": [
    "# Полный код бинарного поиска\n",
    "# Он работает ТОЛЬКО когда список list отсортирован, т.е. list = sorted(list)\n",
    "def binary_search(list, item):\n",
    "    low = 0\n",
    "    high = len(list) - 1\n",
    "    \n",
    "    while low <= high:\n",
    "        mid = int((low + high)/2) # находим порядковый номер значения по середине\n",
    "        guess = list[mid]         # находим значение по середине\n",
    "        if guess == item:         # проверяем, является ли правильным ответом значение по середине\n",
    "            return mid\n",
    "        if guess > item:\n",
    "            high = mid - 1\n",
    "        else:\n",
    "            low = mid + 1\n",
    "    return None"
   ]
  },
  {
   "cell_type": "markdown",
   "id": "51743683",
   "metadata": {},
   "source": [
    "### Упражнения"
   ]
  },
  {
   "cell_type": "markdown",
   "id": "2f7f6bff",
   "metadata": {},
   "source": [
    "1.1 \n",
    "$log_2$128 = 7"
   ]
  },
  {
   "cell_type": "markdown",
   "id": "d169354d",
   "metadata": {},
   "source": [
    "1.2\\\n",
    "$log_2n = a$ \\\n",
    "$    log_22n = x$\n",
    "\n",
    "$n = 2^a$\\\n",
    "$2*n = 2^x$\n",
    "\n",
    "$2 = 2^(x-a)$\\\n",
    "$x = 1 + a$"
   ]
  },
  {
   "cell_type": "markdown",
   "id": "6b929f73",
   "metadata": {},
   "source": [
    "- Если список состоит из 4 млрд элементов, бинарный поиск найдет ответ за 32 операции. Он использует $логарифмическое$ время."
   ]
  },
  {
   "cell_type": "markdown",
   "id": "b8781fc9",
   "metadata": {},
   "source": [
    "## \"О большое\"\n",
    "- -- описывает скорость работы алгоритма\n",
    "- Позволяет сравнить количество операций\n",
    "- Простой поиск - $O(n)$\n",
    "- Бинарный поиск - $O(log_2n)$\n",
    "- Эффективные алгоритмы сортировки - $O(n*log_2n)$\n",
    "- Медленные алгоритмы сортировки - $O(n^2)$\n",
    "- Очень медленные алгоритмы сортировки - $O(n!)$\n",
    "- Общий случай O(\"количество операций\")"
   ]
  },
  {
   "cell_type": "markdown",
   "id": "5b0eb3d0",
   "metadata": {},
   "source": [
    "# Глава 2. Сортировка выбором"
   ]
  },
  {
   "cell_type": "markdown",
   "id": "458e2857",
   "metadata": {},
   "source": [
    "## Массивы и связанные списки"
   ]
  },
  {
   "cell_type": "markdown",
   "id": "ea31571d",
   "metadata": {},
   "source": [
    "- Массивы поддерживают произвольный доступ ко всем элементам\n",
    "- В списке элементы распределяются в произвольных местах памяти, при этом в одном элементе хранится адрес следующего элемента\n",
    "- Массивы обеспечивают быстрое чтение\n",
    "- Списки обеспечивают быструю вставку и удаление"
   ]
  },
  {
   "cell_type": "code",
   "execution_count": 114,
   "id": "e5a41c34",
   "metadata": {},
   "outputs": [
    {
     "data": {
      "text/html": [
       "<div>\n",
       "<style scoped>\n",
       "    .dataframe tbody tr th:only-of-type {\n",
       "        vertical-align: middle;\n",
       "    }\n",
       "\n",
       "    .dataframe tbody tr th {\n",
       "        vertical-align: top;\n",
       "    }\n",
       "\n",
       "    .dataframe thead th {\n",
       "        text-align: right;\n",
       "    }\n",
       "</style>\n",
       "<table border=\"1\" class=\"dataframe\">\n",
       "  <thead>\n",
       "    <tr style=\"text-align: right;\">\n",
       "      <th></th>\n",
       "      <th>Массивы</th>\n",
       "      <th>Списки</th>\n",
       "    </tr>\n",
       "  </thead>\n",
       "  <tbody>\n",
       "    <tr>\n",
       "      <th>Чтение</th>\n",
       "      <td>O(1)</td>\n",
       "      <td>O(n)</td>\n",
       "    </tr>\n",
       "    <tr>\n",
       "      <th>Вставка</th>\n",
       "      <td>O(n)</td>\n",
       "      <td>O(1)</td>\n",
       "    </tr>\n",
       "    <tr>\n",
       "      <th>Удаление</th>\n",
       "      <td>O(n)</td>\n",
       "      <td>O(1)</td>\n",
       "    </tr>\n",
       "  </tbody>\n",
       "</table>\n",
       "</div>"
      ],
      "text/plain": [
       "         Массивы Списки\n",
       "Чтение      O(1)   O(n)\n",
       "Вставка     O(n)   O(1)\n",
       "Удаление    O(n)   O(1)"
      ]
     },
     "execution_count": 114,
     "metadata": {},
     "output_type": "execute_result"
    }
   ],
   "source": [
    "column=['Массивы','Списки']\n",
    "index=['Чтение','Вставка','Удаление']\n",
    "\n",
    "df1 = pd.DataFrame(np.array([['O(1)','O(n)'],['O(n)', 'O(1)'],['O(n)', 'O(1)']]), columns=column, index=index)\n",
    "df1"
   ]
  },
  {
   "cell_type": "markdown",
   "id": "8dc047e0",
   "metadata": {},
   "source": [
    "## Сортировка выбором"
   ]
  },
  {
   "cell_type": "code",
   "execution_count": 3,
   "id": "2001c19b",
   "metadata": {},
   "outputs": [],
   "source": [
    "# функция поиска индекса наименьшего элемента массива\n",
    "def findSmallest(arr):\n",
    "    smallest = arr[0]\n",
    "    smallest_index = 0\n",
    "    for i in range(1, len(arr)):\n",
    "        if arr[i] < smallest:\n",
    "            smallest = arr[i]\n",
    "            smallest_index = i\n",
    "    return smallest_index"
   ]
  },
  {
   "cell_type": "code",
   "execution_count": 4,
   "id": "f0c4085c",
   "metadata": {},
   "outputs": [
    {
     "data": {
      "text/plain": [
       "9"
      ]
     },
     "execution_count": 4,
     "metadata": {},
     "output_type": "execute_result"
    }
   ],
   "source": [
    "findSmallest([9,8,7,6,5,4,3,11,2,1,7])"
   ]
  },
  {
   "cell_type": "markdown",
   "id": "356d4993",
   "metadata": {},
   "source": [
    "- Метод $pop()$ позволяет получить элемент по индексу удаляя его из последовательности."
   ]
  },
  {
   "cell_type": "code",
   "execution_count": 5,
   "id": "07edf73f",
   "metadata": {},
   "outputs": [],
   "source": [
    "# функция сортировки выбором\n",
    "def selectionSort(arr):\n",
    "    newArr = []\n",
    "    for i in range(len(arr)):\n",
    "        smallest = findSmallest(arr)     # индекс наименьшего элемента\n",
    "        newArr.append(arr.pop(smallest)) \n",
    "    return newArr"
   ]
  },
  {
   "cell_type": "code",
   "execution_count": 8,
   "id": "91b0e9b4",
   "metadata": {},
   "outputs": [
    {
     "data": {
      "text/plain": [
       "[1, 2, 3, 4, 5, 6, 7, 7, 8, 9, 11]"
      ]
     },
     "execution_count": 8,
     "metadata": {},
     "output_type": "execute_result"
    }
   ],
   "source": [
    "selectionSort([9,8,7,6,5,4,3,11,2,1,7])"
   ]
  },
  {
   "cell_type": "markdown",
   "id": "6866b857",
   "metadata": {},
   "source": [
    "- для сортировки выбором $O(n^2)$"
   ]
  },
  {
   "cell_type": "markdown",
   "id": "3c7b696c",
   "metadata": {},
   "source": [
    "# Глава 3. Рекурсия"
   ]
  },
  {
   "cell_type": "markdown",
   "id": "5f15a49f",
   "metadata": {},
   "source": [
    "- -- вызов функцией самой себя \n",
    "- Каждая рекурсивная функция состоит из двух частей: $базового$ случая и $рекурсивного$ случая"
   ]
  },
  {
   "cell_type": "code",
   "execution_count": 10,
   "id": "005e4201",
   "metadata": {},
   "outputs": [],
   "source": [
    "# Нужно записать 3 2 1 с помощью рекурсии\n",
    "def countdown(i):\n",
    "    print(i)\n",
    "    if i<=1:           # Базовый\n",
    "        return         # случай\n",
    "    else:\n",
    "        countdown(i-1) # Рекурсивный случай"
   ]
  },
  {
   "cell_type": "code",
   "execution_count": 12,
   "id": "6f96a929",
   "metadata": {},
   "outputs": [
    {
     "name": "stdout",
     "output_type": "stream",
     "text": [
      "3\n",
      "2\n",
      "1\n"
     ]
    }
   ],
   "source": [
    "countdown(3)"
   ]
  },
  {
   "cell_type": "markdown",
   "id": "77d6579e",
   "metadata": {},
   "source": [
    "## Стек"
   ]
  },
  {
   "cell_type": "markdown",
   "id": "43411f1d",
   "metadata": {},
   "source": [
    "- Стек — структура данных, представляющая из себя упорядоченный набор элементов, в которой добавление новых элементов и удаление существующих производится с одного конца, называемого вершиной стека. Притом первым из стека удаляется элемент, который был помещен туда последним, то есть в стеке реализуется стратегия «последним вошел — первым вышел»\n",
    "- Что произойдет со стеком при бесконечном выполнении рекурсии? Стек будет расти бесконечно. Каждой программе выделяется ограниченный объем памяти в стеке. Когда все пространство будет исчерпано, программа завершится с ошибкой переполнения стека."
   ]
  },
  {
   "cell_type": "markdown",
   "id": "5f6bb4da",
   "metadata": {},
   "source": [
    "# Глава 4. Быстрая сортировка"
   ]
  },
  {
   "cell_type": "markdown",
   "id": "bf95f95c",
   "metadata": {},
   "source": [
    "## \"Разделяй и властвуй\""
   ]
  },
  {
   "cell_type": "markdown",
   "id": "7cd53e4c",
   "metadata": {},
   "source": [
    "- Алгоритм Евклида - эффективный алгоритм для нахождения наибольшего общего делителя двух целых чисел.\n",
    "Пример:\\\n",
    "117 и 36\\\n",
    "117 - 36 = 81\\\n",
    "81 - 36 = 45\\\n",
    "45 - 36 = 9\\\n",
    "36 - 9*4 = 0\\\n",
    "Значит, НОД(117,36) = 9"
   ]
  },
  {
   "cell_type": "markdown",
   "id": "a9d3f1ec",
   "metadata": {},
   "source": [
    "### Упражнения"
   ]
  },
  {
   "cell_type": "code",
   "execution_count": 7,
   "id": "f45e8c5d",
   "metadata": {},
   "outputs": [
    {
     "data": {
      "text/plain": [
       "15"
      ]
     },
     "execution_count": 7,
     "metadata": {},
     "output_type": "execute_result"
    }
   ],
   "source": [
    "# 4.1\n",
    "def sum(list):\n",
    "    if list == []:\n",
    "        return 0\n",
    "    return list[0] + sum(list[1:])\n",
    "\n",
    "sum([1,2,3,4,5])"
   ]
  },
  {
   "cell_type": "code",
   "execution_count": 20,
   "id": "39b14d6d",
   "metadata": {},
   "outputs": [
    {
     "data": {
      "text/plain": [
       "33"
      ]
     },
     "execution_count": 20,
     "metadata": {},
     "output_type": "execute_result"
    }
   ],
   "source": [
    "# 4.2\n",
    "# мое\n",
    "k = 0\n",
    "def chi(spisok):\n",
    "    global k\n",
    "    k += 1\n",
    "    if spisok == []:\n",
    "        return k-1\n",
    "    return chi(spisok[1:])\n",
    "\n",
    "chi([1,2,3,4,5,6,7,8,9,6,3,6,7,547,5437,37,7,4,754,56,46,436,436,243,246,463,436243,2,463,4654,7786,546,75846])"
   ]
  },
  {
   "cell_type": "code",
   "execution_count": 23,
   "id": "028b53b3",
   "metadata": {},
   "outputs": [
    {
     "data": {
      "text/plain": [
       "5"
      ]
     },
     "execution_count": 23,
     "metadata": {},
     "output_type": "execute_result"
    }
   ],
   "source": [
    "# 4.2\n",
    "# не мое\n",
    "def count(list):\n",
    "    if list == []:\n",
    "        return 0\n",
    "    return 1 + count(list[1:])\n",
    "\n",
    "count([1,2,3,4,5])"
   ]
  },
  {
   "cell_type": "code",
   "execution_count": 34,
   "id": "2d90f1fe",
   "metadata": {},
   "outputs": [
    {
     "data": {
      "text/plain": [
       "99"
      ]
     },
     "execution_count": 34,
     "metadata": {},
     "output_type": "execute_result"
    }
   ],
   "source": [
    "# 4.3\n",
    "# мое без рекурсии\n",
    "def max(list):\n",
    "    m = list[0]\n",
    "    for i in range(1,len(list)):\n",
    "        if list[i] > m:\n",
    "            m = list[i]\n",
    "    return m\n",
    "\n",
    "max([1,2,3,4,9,7,8,3,33,6,78,43,7,78,4,45,67,8,99])"
   ]
  },
  {
   "cell_type": "code",
   "execution_count": 35,
   "id": "2cb6e086",
   "metadata": {},
   "outputs": [
    {
     "data": {
      "text/plain": [
       "99"
      ]
     },
     "execution_count": 35,
     "metadata": {},
     "output_type": "execute_result"
    }
   ],
   "source": [
    "# 4.3\n",
    "# не мое с рекурсией\n",
    "def max(list):\n",
    "    if len(list) == 2:\n",
    "        return list[0] if list[0] > list[1] else list[1]\n",
    "    sub_max = max(list[1:])\n",
    "    return list[0] if list[0] > sub_max else sub_max\n",
    "\n",
    "max([1,2,3,4,9,7,8,3,33,6,78,43,7,78,4,45,67,8,99])"
   ]
  },
  {
   "cell_type": "markdown",
   "id": "e6afe953",
   "metadata": {},
   "source": [
    "4.4 - халява"
   ]
  },
  {
   "cell_type": "markdown",
   "id": "e9c74e4d",
   "metadata": {},
   "source": [
    "## Быстрая сортировка"
   ]
  },
  {
   "cell_type": "markdown",
   "id": "1c2fa2ab",
   "metadata": {},
   "source": [
    "- Пустые массивы и массивы, содержащие один элемент, станут базовым случаем"
   ]
  },
  {
   "cell_type": "code",
   "execution_count": 42,
   "id": "a060c429",
   "metadata": {},
   "outputs": [],
   "source": [
    "def quicksort(array):\n",
    "    if len(array) < 2:\n",
    "        return array"
   ]
  },
  {
   "cell_type": "markdown",
   "id": "8086b296",
   "metadata": {},
   "source": [
    "- Для массива $двух$ элементов сравниваем два элемента, если первый меньше второго, меняем местами\n",
    "- Для массива $трех$ элементов и $больше$ сначала нужно взять случайный элемента как опорный, разделить массив на 3 части, массив чисел, меньших опорного, опорное число и массив чисел, больших опорного.\n",
    "- Далее мы с двумя массивами повторяем те же операции, что делали до этого"
   ]
  },
  {
   "cell_type": "code",
   "execution_count": 43,
   "id": "922d3911",
   "metadata": {},
   "outputs": [
    {
     "name": "stdout",
     "output_type": "stream",
     "text": [
      "[1, 5, 6, 8, 9, 46, 55, 67, 76, 587, 746, 758, 867, 876, 976, 2436, 5243, 5368, 5464, 6546, 8656, 8765, 456546]\n"
     ]
    }
   ],
   "source": [
    "# код быстрой сортировки\n",
    "\n",
    "def quicksort(array):\n",
    "    if len(array) < 2:\n",
    "        return array\n",
    "    else:\n",
    "        pivot = array[0]         # берем опорным числом первое число массива\n",
    "        less = [i for i in array[1:] if i < pivot]\n",
    "        greater = [i for i in array[1:] if i > pivot]\n",
    "    return quicksort(less) + [pivot] + quicksort(greater)\n",
    "\n",
    "print(quicksort([1,46,6,5,67,8656,8765,456546,6546,46,2436,76,876,76,867,976,9,587,5243,5464,55,758,76,8,6,6546,5368,746]))"
   ]
  },
  {
   "cell_type": "markdown",
   "id": "dbb78ead",
   "metadata": {},
   "source": [
    "## Снова об \"О-большом\" / Сортировка слиянием и быстрая сортировка"
   ]
  },
  {
   "cell_type": "markdown",
   "id": "a538e13e",
   "metadata": {},
   "source": [
    "- Для сортировки слиянием $О(n*log_2n)$ (В худшем случае, но он обычно и происходит)\n",
    "- Для быстрой сортировки в худшем случае $O(n^2)$, но в $среднем$ сортировка происходит за $О(n*log_2n)$, как и для сортировки слиянием\n",
    "- Работа О-большое в действительности означает О(c*n), где c-фиксированный промежуток времени, константа\n",
    "- Обычно константа игнорируется, потому что если алгоритмы имеют разное время \"О-большое\", она роли не играет\n",
    "- Казалось бы, \"О-большое\" одинаково для сортировки слиянием и быстрой сортировки, но $константа$ $быстрой$ $сортировки$ $меньше$, поэтому быстрая сортировка работает быстрее"
   ]
  },
  {
   "cell_type": "markdown",
   "id": "4a504b02",
   "metadata": {},
   "source": [
    "### Упражнения"
   ]
  },
  {
   "cell_type": "markdown",
   "id": "3e6d0cb3",
   "metadata": {},
   "source": [
    "4.5\\\n",
    "$O(n)$"
   ]
  },
  {
   "cell_type": "markdown",
   "id": "d6d8ab09",
   "metadata": {},
   "source": [
    "4.6\\\n",
    "$O(n)$"
   ]
  },
  {
   "cell_type": "markdown",
   "id": "2b83078e",
   "metadata": {},
   "source": [
    "4.7\\\n",
    "$O(1)$"
   ]
  },
  {
   "cell_type": "markdown",
   "id": "813d0e0a",
   "metadata": {},
   "source": [
    "4.8\\\n",
    "$O(n^2)$"
   ]
  },
  {
   "cell_type": "markdown",
   "id": "8455f1b4",
   "metadata": {},
   "source": [
    "# Глава 5. Хеш-таблицы"
   ]
  },
  {
   "cell_type": "markdown",
   "id": "98e7bbd7",
   "metadata": {},
   "source": [
    "- хеш -функция - функция, которая получает на вход строку и возвращает число\n",
    "- хеш-таблицы = ассоциативные массивы = $словари$ = отображения = хеш-карты = хеши\n",
    "- хеш-таблица создается объединением хеш функции с массивом"
   ]
  },
  {
   "cell_type": "code",
   "execution_count": 4,
   "id": "7e7b1a4e",
   "metadata": {},
   "outputs": [
    {
     "name": "stdout",
     "output_type": "stream",
     "text": [
      "{'milk': 1.49, 'apple': 0.67}\n",
      "1.49\n"
     ]
    }
   ],
   "source": [
    "book = {}\n",
    "# или book = dict()\n",
    "book['milk'] = 1.49\n",
    "book['apple'] = 0.67\n",
    "\n",
    "print(book)\n",
    "print(book['milk'])"
   ]
  },
  {
   "cell_type": "code",
   "execution_count": 7,
   "id": "fac9d647",
   "metadata": {},
   "outputs": [
    {
     "name": "stdout",
     "output_type": "stream",
     "text": [
      "let them vote!\n",
      "kick them out!\n"
     ]
    }
   ],
   "source": [
    "# проверка голосовал ли уже избиратель\n",
    "voted = {}\n",
    "def check_voter(name):\n",
    "    if voted.get(name):\n",
    "        print('kick them out!')\n",
    "    else:\n",
    "        voted[name] = True\n",
    "        print('let them vote!')\n",
    "        \n",
    "check_voter('Andrew')\n",
    "check_voter('Andrew')"
   ]
  },
  {
   "cell_type": "markdown",
   "id": "7059ff02",
   "metadata": {},
   "source": [
    "- Хеши часто используются для кеширования страниц сайтов, таких как 'домашняя страница', 'о нас', 'условия пользования'.\n",
    "- Когда вы посещаете сайт, сначала проверяется, хранится ли страница в кэше"
   ]
  },
  {
   "cell_type": "markdown",
   "id": "06af2bd3",
   "metadata": {},
   "source": [
    "## Коллизии"
   ]
  },
  {
   "cell_type": "markdown",
   "id": "7768f803",
   "metadata": {},
   "source": [
    "- ситуация когда двум ключам назначается один элемент массива\n",
    "- Существует много разных стратегий обработки коллизий. Простейшая из них выглядит так: если несколько ключей отображается на один элемент, в этом элементе создается $связанный$ $список$\\\n",
    "Пример: Апельсины и Авокадо начинаются с буквы \"А\", можно создать из них и и их цен связанный список и положить в одну ячейку массива, в которой будут продукты начинающиеся на букву \"А\"\n"
   ]
  },
  {
   "cell_type": "markdown",
   "id": "f9af9b85",
   "metadata": {},
   "source": [
    "- Выбор хеш-функции важен. Нужно стараться чтобы хеш-функция распределяла ключи равномерно по всему хешу\n",
    "- Если связанные списки становятся слишком длинными, работа с хеш таблицами сильно замедляется. Но они не станут слишком длинными при использовании хорошей хеш-функции!"
   ]
  },
  {
   "cell_type": "code",
   "execution_count": 72,
   "id": "36ed6646",
   "metadata": {},
   "outputs": [
    {
     "data": {
      "text/html": [
       "<div>\n",
       "<style scoped>\n",
       "    .dataframe tbody tr th:only-of-type {\n",
       "        vertical-align: middle;\n",
       "    }\n",
       "\n",
       "    .dataframe tbody tr th {\n",
       "        vertical-align: top;\n",
       "    }\n",
       "\n",
       "    .dataframe thead th {\n",
       "        text-align: right;\n",
       "    }\n",
       "</style>\n",
       "<table border=\"1\" class=\"dataframe\">\n",
       "  <thead>\n",
       "    <tr style=\"text-align: right;\">\n",
       "      <th></th>\n",
       "      <th>Хеш-таблицы (средний случай)</th>\n",
       "      <th>Хеш-таблицы (худший случай)</th>\n",
       "      <th>Массивы</th>\n",
       "      <th>Связанные списки</th>\n",
       "    </tr>\n",
       "  </thead>\n",
       "  <tbody>\n",
       "    <tr>\n",
       "      <th>Поиск</th>\n",
       "      <td>O(1)</td>\n",
       "      <td>O(n)</td>\n",
       "      <td>O(1)</td>\n",
       "      <td>O(n)</td>\n",
       "    </tr>\n",
       "    <tr>\n",
       "      <th>Вставка</th>\n",
       "      <td>O(1)</td>\n",
       "      <td>O(n)</td>\n",
       "      <td>O(n)</td>\n",
       "      <td>O(1)</td>\n",
       "    </tr>\n",
       "    <tr>\n",
       "      <th>Удаление</th>\n",
       "      <td>O(1)</td>\n",
       "      <td>O(n)</td>\n",
       "      <td>O(n)</td>\n",
       "      <td>O(1)</td>\n",
       "    </tr>\n",
       "  </tbody>\n",
       "</table>\n",
       "</div>"
      ],
      "text/plain": [
       "         Хеш-таблицы (средний случай) Хеш-таблицы (худший случай) Массивы  \\\n",
       "Поиск                            O(1)                        O(n)    O(1)   \n",
       "Вставка                          O(1)                        O(n)    O(n)   \n",
       "Удаление                         O(1)                        O(n)    O(n)   \n",
       "\n",
       "         Связанные списки  \n",
       "Поиск                O(n)  \n",
       "Вставка              O(1)  \n",
       "Удаление             O(1)  "
      ]
     },
     "execution_count": 72,
     "metadata": {},
     "output_type": "execute_result"
    }
   ],
   "source": [
    "column=['Хеш-таблицы (средний случай)','Хеш-таблицы (худший случай)', 'Массивы', 'Связанные списки']\n",
    "index=['Поиск','Вставка','Удаление']\n",
    "\n",
    "df1 = pd.DataFrame(np.array([['O(1)','O(n)','O(1)','O(n)'],['O(1)', 'O(n)','O(n)','O(1)'],['O(1)', 'O(n)','O(n)','O(1)']]), columns=column, index=index)\n",
    "df1"
   ]
  },
  {
   "cell_type": "markdown",
   "id": "7d75fb22",
   "metadata": {},
   "source": [
    "## Коэффициент заполнения"
   ]
  },
  {
   "cell_type": "markdown",
   "id": "c8116462",
   "metadata": {},
   "source": [
    "- = (количество элементов в хеш-таблице)/(общее количество элементов)\n",
    "- $_$1$_$0$_$ - коэффициент заполнения 2/5\n",
    "- Хорошее приближенное правило: изменяйте размер хеш-таблицы, когда коэффициент заполнения превышает 0.7"
   ]
  },
  {
   "cell_type": "markdown",
   "id": "65f40bef",
   "metadata": {},
   "source": [
    "# Глава 6. Поиск в ширину"
   ]
  },
  {
   "cell_type": "markdown",
   "id": "484ca135",
   "metadata": {},
   "source": [
    "- -- позволяет найти кратчайшее расстояние между двумя объектами (в данном случае кратчайшее расстояние = наименьшее количество шагов)"
   ]
  },
  {
   "cell_type": "markdown",
   "id": "02a798e1",
   "metadata": {},
   "source": [
    "## Что такое граф?"
   ]
  },
  {
   "cell_type": "markdown",
   "id": "3b508276",
   "metadata": {},
   "source": [
    "- Граф моделирует набор связей между разными объектами\n",
    "- Графы состоят из узлов и ребер\n",
    "- Соседние узлы называются соседями"
   ]
  },
  {
   "cell_type": "markdown",
   "id": "1eb07ca6",
   "metadata": {},
   "source": [
    "## Поиск в ширину"
   ]
  },
  {
   "cell_type": "markdown",
   "id": "bd4037f1",
   "metadata": {},
   "source": [
    "- Помогает ответить на 2 вопроса: 1) Существует ли путь от узла А к узлу Б? 2) Как выглядит кратчайший путь от узла А к узлу Б?\\\n",
    "Пример на 1): \\\n",
    "Представим, что мы хотим найти продавца манго из своих друзей. \\\n",
    "Тогда сначала мы спросим у своих самых близких друзей, затем у друзей друзей и так далее. \\\n",
    "(Для операции такого рода существует специальная структура данных - $очередь$.)"
   ]
  },
  {
   "cell_type": "markdown",
   "id": "f7b81f5e",
   "metadata": {},
   "source": [
    "## Очереди"
   ]
  },
  {
   "cell_type": "markdown",
   "id": "d0447c7d",
   "metadata": {},
   "source": [
    "- работает точно так же, как и в реальной жизни\n",
    "- Очередь относится к категории структур данных $FIFO$: $First$ $In$$,$ $First$ $Out$\n",
    "- А стек принадлежит к числу структур данных $LIFO$: $Last$ $In$$,$ $First$ $Out$"
   ]
  },
  {
   "cell_type": "markdown",
   "id": "47623d8d",
   "metadata": {},
   "source": [
    "## Реализация графа"
   ]
  },
  {
   "cell_type": "code",
   "execution_count": 20,
   "id": "99507c9d",
   "metadata": {},
   "outputs": [],
   "source": [
    "graph = {}\n",
    "graph['you'] = ['alice', 'bob', 'claire']\n",
    "graph['bob'] = ['anuj', 'peggy']\n",
    "graph['alice'] = ['peggy']\n",
    "graph['claire'] = ['thom', 'jonny']\n",
    "graph['anuj'] = []\n",
    "graph['peggy'] = []\n",
    "graph['thom'] = []\n",
    "graph['jonny'] = []"
   ]
  },
  {
   "cell_type": "markdown",
   "id": "5eb9afd6",
   "metadata": {},
   "source": [
    "- граф со стрелками называется направленным. Например, $anuj$ является соседом $bob$, но $bob$ не является соседом $anuj$"
   ]
  },
  {
   "cell_type": "markdown",
   "id": "0b5a5244",
   "metadata": {},
   "source": [
    "## Реализация алгоритма"
   ]
  },
  {
   "cell_type": "code",
   "execution_count": 52,
   "id": "1fe6db6b",
   "metadata": {},
   "outputs": [
    {
     "data": {
      "text/plain": [
       "True"
      ]
     },
     "execution_count": 52,
     "metadata": {},
     "output_type": "execute_result"
    }
   ],
   "source": [
    "# функция проверяющая, продает ли человек манго\n",
    "def person_is_seller(name):\n",
    "    return name[-1] == 'm'    # True(т.е. продает), если последняя буква имени = м\n",
    "\n",
    "person_is_seller('sam')"
   ]
  },
  {
   "cell_type": "code",
   "execution_count": 71,
   "id": "75feea76",
   "metadata": {},
   "outputs": [
    {
     "name": "stdout",
     "output_type": "stream",
     "text": [
      "thom is a mango seller!\n"
     ]
    },
    {
     "data": {
      "text/plain": [
       "True"
      ]
     },
     "execution_count": 71,
     "metadata": {},
     "output_type": "execute_result"
    }
   ],
   "source": [
    "# взял из инета, тк в книжке не работае, сам не особо понял\n",
    "def search(name):\n",
    "    search_queue = deque()            # создание двусторонней очереди\n",
    "    search_queue += graph[name]\n",
    "    searched = set()\n",
    "    while search_queue:                                # пока очередь не пуста\n",
    "        person = search_queue.popleft()                # берем первого человека\n",
    "        if person not in searched:\n",
    "            if person_is_seller(person):\n",
    "                print(person + \" is a mango seller!\")  # Да, это продавец манго, выходим из search_queue\n",
    "                return True \n",
    "            else:                                      # Если не является, то добавляем всех друзей person в очередь\n",
    "                search_queue += graph[person]\n",
    "                searched.add(person)\n",
    "    return False\n",
    "\n",
    "search('you')"
   ]
  },
  {
   "cell_type": "markdown",
   "id": "f6f793a3",
   "metadata": {},
   "source": [
    "- поиск в ширину выполняется за время $O$$($$количество$ $людей$ $+$ $количество$ $ребер$$)$"
   ]
  },
  {
   "cell_type": "markdown",
   "id": "227e196d",
   "metadata": {},
   "source": [
    "- граф, в котором нет ребер, указывающих в обратном направлении, называется $деревом$\n",
    "- Топологическая сортировка — упорядочивание вершин бесконтурного ориентированного графа согласно частичному порядку, заданному ребрами орграфа на множестве его вершин."
   ]
  },
  {
   "cell_type": "markdown",
   "id": "cd3439f5",
   "metadata": {},
   "source": [
    "# Глава 7. Алгоритм Дейкстры"
   ]
  },
  {
   "cell_type": "markdown",
   "id": "44633b2c",
   "metadata": {},
   "source": [
    "- Поиск в ширину находит путь с минимальным количеством сегментов, а Алгоритм Дейкстры находит самый быстрый путь (в мере расстояния) \n",
    "- Каждому ребру назначается время перемещения в минутах. Алгоритм Дейкстры используется для поиска пути от начальной точки к конечной за кратчайшее возможное время\n",
    "- Число связанное с ребром графа называется $весом$\n",
    "- Граф с весами - $взвешенный$ $граф$, Граф без весов - $невзвешенный$ $граф$\n",
    "- Алгоритм Дейкстры не может работать при наличии ребер, имеющих отрицательный вес"
   ]
  },
  {
   "cell_type": "markdown",
   "id": "51ec1537",
   "metadata": {},
   "source": [
    "Алгоритм Дейкстры состоит из четырех  шагов:\n",
    "1) Найти узел с наименьшей стоимостью \\\n",
    "2) Вычислить сколько времени потребуется для того, чтобы добраться до всех соседей узла при переходи по ребру из узла (обновить стоимость соседей этого узла)\\\n",
    "3) Повторять, пока это не будет сделано для всех узлов графа\\\n",
    "4) Вычислить итоговый путь"
   ]
  },
  {
   "cell_type": "code",
   "execution_count": 1,
   "id": "8254e13a",
   "metadata": {},
   "outputs": [
    {
     "name": "stdout",
     "output_type": "stream",
     "text": [
      "Cost from the start to each node:\n",
      "{'a': 5, 'b': 2, 'fin': 6}\n"
     ]
    }
   ],
   "source": [
    "# заполняем граф\n",
    "graph = {}\n",
    "graph[\"start\"] = {}\n",
    "graph[\"start\"][\"a\"] = 6\n",
    "graph[\"start\"][\"b\"] = 2\n",
    "\n",
    "graph[\"a\"] = {}\n",
    "graph[\"a\"][\"fin\"] = 1\n",
    "\n",
    "graph[\"b\"] = {}\n",
    "graph[\"b\"][\"a\"] = 3\n",
    "graph[\"b\"][\"fin\"] = 5\n",
    "\n",
    "graph[\"fin\"] = {} # у конечного узла нет соседей\n",
    "\n",
    "# таблица затрат\n",
    "infinity = float(\"inf\") # если стоимость неизвестна, она считается бесконечностью\n",
    "costs = {}\n",
    "costs[\"a\"] = 6\n",
    "costs[\"b\"] = 2\n",
    "costs[\"fin\"] = infinity\n",
    "\n",
    "# родительская таблица\n",
    "parents = {}\n",
    "parents[\"a\"] = \"start\"\n",
    "parents[\"b\"] = \"start\"\n",
    "parents[\"fin\"] = None\n",
    "\n",
    "processed = []\n",
    "\n",
    "def find_lowest_cost_node(costs):\n",
    "    lowest_cost = float(\"inf\")\n",
    "    lowest_cost_node = None\n",
    "    # Пройдитесь по каждому узлу.\n",
    "    for node in costs:\n",
    "        cost = costs[node]\n",
    "        # Если это самая низкая стоимость на данный момент и она еще не обработана...\n",
    "        if cost < lowest_cost and node not in processed:\n",
    "            # ... установите его как новый узел с наименьшей стоимостью.\n",
    "            lowest_cost = cost\n",
    "            lowest_cost_node = node\n",
    "    return lowest_cost_node\n",
    "\n",
    "# Find the lowest-cost node that you haven't processed yet.\n",
    "node = find_lowest_cost_node(costs)\n",
    "# If you've processed all the nodes, this while loop is done.\n",
    "while node is not None:\n",
    "    cost = costs[node]\n",
    "    # Go through all the neighbors of this node.\n",
    "    neighbors = graph[node]\n",
    "    for n in neighbors.keys():\n",
    "        new_cost = cost + neighbors[n]\n",
    "        # If it's cheaper to get to this neighbor by going through this node...\n",
    "        if costs[n] > new_cost:\n",
    "            # ... update the cost for this node.\n",
    "            costs[n] = new_cost\n",
    "            # This node becomes the new parent for this neighbor.\n",
    "            parents[n] = node\n",
    "    # Mark the node as processed.\n",
    "    processed.append(node)\n",
    "    # Find the next node to process, and loop.\n",
    "    node = find_lowest_cost_node(costs)\n",
    "\n",
    "print(\"Cost from the start to each node:\")\n",
    "print(costs)"
   ]
  },
  {
   "cell_type": "markdown",
   "id": "96278641",
   "metadata": {},
   "source": [
    "# Глава 8. Жадные алгоритмы"
   ]
  },
  {
   "cell_type": "markdown",
   "id": "de22bc0c",
   "metadata": {},
   "source": [
    "## Задача о рюкзаке"
   ]
  },
  {
   "cell_type": "markdown",
   "id": "9030223e",
   "metadata": {},
   "source": [
    "Пример:\\\n",
    "Вы вор и вам требуется подобрать набор товаров максимальной стоимости, которые можно сложить в рюкзак.\\\n",
    "Алгоритм такой:\n",
    "- Выбрать самый дорогой предмет, который поместится в рюкзак\n",
    "- Выбрать следующий по стоимости предмет предмет, который поместится в рюкзак... И так далее\\\n",
    "Но жадная стратегия не дает оптимального решения:\\\n",
    "Рюкзак 35\\\n",
    "Магнитофон 30, 3000\\\\$\\\n",
    "Ноутбук 20, 2000\\\\$\\\n",
    "Гитара 15, 1500\\$"
   ]
  },
  {
   "cell_type": "markdown",
   "id": "e2d190b2",
   "metadata": {},
   "source": [
    "## Задача о покрытии множеств"
   ]
  },
  {
   "cell_type": "markdown",
   "id": "d3e4f0db",
   "metadata": {},
   "source": [
    "Вы открываете свое радио и нужно чтобы все штаты были покрыты сетью. Некоторые радиовышки перекрываются друг с другом и нужно найти минимальное количество вышек, чтобы покрыть все штаты.\\\n",
    "Это вычислительно сложная задача. На помощь приходят жадные алгоритмы."
   ]
  },
  {
   "cell_type": "markdown",
   "id": "58cd952d",
   "metadata": {},
   "source": [
    "## Приближенные алгоритмы"
   ]
  },
  {
   "cell_type": "markdown",
   "id": "b0d4288a",
   "metadata": {},
   "source": [
    "Вот как выглядит жадный алгоритм, дающий результат, близкий к оптимуму:\n",
    "1) Выбрать штат, покрывающий наибольшее количество штатов, еще не входящих в покрытие\\\n",
    "2) Повторять, пока остаются штаты, не входящие в покрытие\n",
    "\n",
    "- истинное решение находится за O(2^n)\n",
    "- приближенное решение находится за O(n^2)"
   ]
  },
  {
   "cell_type": "code",
   "execution_count": 5,
   "id": "b62e4c3b",
   "metadata": {},
   "outputs": [
    {
     "name": "stdout",
     "output_type": "stream",
     "text": [
      "{'kone', 'kthree', 'ktwo', 'kfive'}\n"
     ]
    }
   ],
   "source": [
    "states_needed = set([\"mt\", \"wa\", \"or\", \"id\", \"nv\", \"ut\", \"ca\", \"az\"]) # создаем список штатов\n",
    "\n",
    "stations = {} # список станций, которые будут покрывать штаты\n",
    "stations[\"kone\"] = set([\"id\", \"nv\", \"ut\"])\n",
    "stations[\"ktwo\"] = set([\"wa\", \"id\", \"mt\"])\n",
    "stations[\"kthree\"] = set([\"or\", \"nv\", \"ca\"])\n",
    "stations[\"kfour\"] = set([\"nv\", \"ut\"])\n",
    "stations[\"kfive\"] = set([\"ca\", \"az\"])\n",
    "\n",
    "final_stations = set() # список для хранения итогового набора станций\n",
    "\n",
    "while states_needed:\n",
    "    best_station = None\n",
    "    states_covered = set()\n",
    "    for station, states_for_station in stations.items():\n",
    "        covered = states_needed & states_for_station\n",
    "        if len(covered) > len(states_covered):\n",
    "            best_station = station\n",
    "            states_covered = covered\n",
    "\n",
    "    states_needed -= states_covered\n",
    "    final_stations.add(best_station)\n",
    "\n",
    "print(final_stations)"
   ]
  },
  {
   "cell_type": "markdown",
   "id": "72f1ba9e",
   "metadata": {},
   "source": [
    "- Жадные алгоритмы легко реализуются и быстро выполняются, поэтому из них получаются хорошие приближенные алгоритмы\n",
    "- Приближенное решение о киммивояжере: коммивояжер постоянно выбирает ближайший город из тех, что он еще не посещал"
   ]
  },
  {
   "cell_type": "markdown",
   "id": "66b57653",
   "metadata": {},
   "source": [
    "# Глава 9. Динамическое программирование"
   ]
  },
  {
   "cell_type": "markdown",
   "id": "a3141b54",
   "metadata": {},
   "source": [
    "- каждый алгоритм начинается с таблицы\n",
    "- Динамическое программирование работает только в том случае, если каждая подзадача автономна, то есть не зависит от других подзадач\n",
    "- Динамическое программирование применяется для оптимизации какой-либо характеристики при заданных ограничениях. В задаче о рюкзаке требуется максимизировать стоимость отобранных предметов с ограничениями по емкости рюкзака."
   ]
  },
  {
   "cell_type": "code",
   "execution_count": 19,
   "id": "7004141b",
   "metadata": {},
   "outputs": [
    {
     "data": {
      "text/html": [
       "<div>\n",
       "<style scoped>\n",
       "    .dataframe tbody tr th:only-of-type {\n",
       "        vertical-align: middle;\n",
       "    }\n",
       "\n",
       "    .dataframe tbody tr th {\n",
       "        vertical-align: top;\n",
       "    }\n",
       "\n",
       "    .dataframe thead th {\n",
       "        text-align: right;\n",
       "    }\n",
       "</style>\n",
       "<table border=\"1\" class=\"dataframe\">\n",
       "  <thead>\n",
       "    <tr style=\"text-align: right;\">\n",
       "      <th></th>\n",
       "      <th>1</th>\n",
       "      <th>2</th>\n",
       "      <th>3</th>\n",
       "      <th>4</th>\n",
       "    </tr>\n",
       "  </thead>\n",
       "  <tbody>\n",
       "    <tr>\n",
       "      <th>гитара (вес 1, 1500)</th>\n",
       "      <td>_</td>\n",
       "      <td>_</td>\n",
       "      <td>_</td>\n",
       "      <td>_</td>\n",
       "    </tr>\n",
       "    <tr>\n",
       "      <th>магнитофон (вес 4, 3000)</th>\n",
       "      <td>_</td>\n",
       "      <td>_</td>\n",
       "      <td>_</td>\n",
       "      <td>_</td>\n",
       "    </tr>\n",
       "    <tr>\n",
       "      <th>ноутбук (вес 3, 2000)</th>\n",
       "      <td>_</td>\n",
       "      <td>_</td>\n",
       "      <td>_</td>\n",
       "      <td>_</td>\n",
       "    </tr>\n",
       "  </tbody>\n",
       "</table>\n",
       "</div>"
      ],
      "text/plain": [
       "                          1  2  3  4\n",
       "гитара (вес 1, 1500)      _  _  _  _\n",
       "магнитофон (вес 4, 3000)  _  _  _  _\n",
       "ноутбук (вес 3, 2000)     _  _  _  _"
      ]
     },
     "execution_count": 19,
     "metadata": {},
     "output_type": "execute_result"
    }
   ],
   "source": [
    "# решение задачи о рюкзаке. Размер рюкзака 4 фунта. Мы представляем что сначала у нас есть рюкзак размером 1, потом 2...\n",
    "column=['1','2', '3', '4']\n",
    "index=['гитара (вес 1, 1500)','магнитофон (вес 4, 3000)','ноутбук (вес 3, 2000)']\n",
    "\n",
    "df1 = pd.DataFrame(np.array([['_','_','_','_'],['_', '_','_','_'],['_', '_','_','_']]), columns=column, index=index)\n",
    "df1"
   ]
  },
  {
   "cell_type": "code",
   "execution_count": 20,
   "id": "297e8c7c",
   "metadata": {},
   "outputs": [
    {
     "data": {
      "text/html": [
       "<div>\n",
       "<style scoped>\n",
       "    .dataframe tbody tr th:only-of-type {\n",
       "        vertical-align: middle;\n",
       "    }\n",
       "\n",
       "    .dataframe tbody tr th {\n",
       "        vertical-align: top;\n",
       "    }\n",
       "\n",
       "    .dataframe thead th {\n",
       "        text-align: right;\n",
       "    }\n",
       "</style>\n",
       "<table border=\"1\" class=\"dataframe\">\n",
       "  <thead>\n",
       "    <tr style=\"text-align: right;\">\n",
       "      <th></th>\n",
       "      <th>1</th>\n",
       "      <th>2</th>\n",
       "      <th>3</th>\n",
       "      <th>4</th>\n",
       "    </tr>\n",
       "  </thead>\n",
       "  <tbody>\n",
       "    <tr>\n",
       "      <th>гитара (вес 1, 1500)</th>\n",
       "      <td>1500</td>\n",
       "      <td>1500</td>\n",
       "      <td>1500</td>\n",
       "      <td>1500</td>\n",
       "    </tr>\n",
       "    <tr>\n",
       "      <th>магнитофон (вес 4, 3000)</th>\n",
       "      <td>1500</td>\n",
       "      <td>1500</td>\n",
       "      <td>1500</td>\n",
       "      <td>3000</td>\n",
       "    </tr>\n",
       "    <tr>\n",
       "      <th>ноутбук (вес 3, 2000)</th>\n",
       "      <td>1500</td>\n",
       "      <td>1500</td>\n",
       "      <td>2000</td>\n",
       "      <td>3500</td>\n",
       "    </tr>\n",
       "  </tbody>\n",
       "</table>\n",
       "</div>"
      ],
      "text/plain": [
       "                             1     2     3     4\n",
       "гитара (вес 1, 1500)      1500  1500  1500  1500\n",
       "магнитофон (вес 4, 3000)  1500  1500  1500  3000\n",
       "ноутбук (вес 3, 2000)     1500  1500  2000  3500"
      ]
     },
     "execution_count": 20,
     "metadata": {},
     "output_type": "execute_result"
    }
   ],
   "source": [
    "# решение задачи о рюкзаке. Размер рюкзака 4 фунта. Мы представляем что сначала у нас есть рюкзак размером 1, потом 2...\n",
    "column=['1','2', '3', '4']\n",
    "index=['гитара (вес 1, 1500)','магнитофон (вес 4, 3000)','ноутбук (вес 3, 2000)']\n",
    "\n",
    "df1 = pd.DataFrame(np.array([['1500','1500','1500','1500'],['1500', '1500','1500','3000'],['1500', '1500','2000','3500']]), columns=column, index=index)\n",
    "df1"
   ]
  },
  {
   "cell_type": "code",
   "execution_count": 22,
   "id": "bf2420f5",
   "metadata": {},
   "outputs": [
    {
     "data": {
      "text/html": [
       "<div>\n",
       "<style scoped>\n",
       "    .dataframe tbody tr th:only-of-type {\n",
       "        vertical-align: middle;\n",
       "    }\n",
       "\n",
       "    .dataframe tbody tr th {\n",
       "        vertical-align: top;\n",
       "    }\n",
       "\n",
       "    .dataframe thead th {\n",
       "        text-align: right;\n",
       "    }\n",
       "</style>\n",
       "<table border=\"1\" class=\"dataframe\">\n",
       "  <thead>\n",
       "    <tr style=\"text-align: right;\">\n",
       "      <th></th>\n",
       "      <th>h</th>\n",
       "      <th>i</th>\n",
       "      <th>s</th>\n",
       "      <th>h</th>\n",
       "    </tr>\n",
       "  </thead>\n",
       "  <tbody>\n",
       "    <tr>\n",
       "      <th>f</th>\n",
       "      <td>0</td>\n",
       "      <td>0</td>\n",
       "      <td>0</td>\n",
       "      <td>0</td>\n",
       "    </tr>\n",
       "    <tr>\n",
       "      <th>i</th>\n",
       "      <td>0</td>\n",
       "      <td>1</td>\n",
       "      <td>0</td>\n",
       "      <td>0</td>\n",
       "    </tr>\n",
       "    <tr>\n",
       "      <th>s</th>\n",
       "      <td>0</td>\n",
       "      <td>0</td>\n",
       "      <td>2</td>\n",
       "      <td>0</td>\n",
       "    </tr>\n",
       "    <tr>\n",
       "      <th>h</th>\n",
       "      <td>0</td>\n",
       "      <td>0</td>\n",
       "      <td>0</td>\n",
       "      <td>3</td>\n",
       "    </tr>\n",
       "  </tbody>\n",
       "</table>\n",
       "</div>"
      ],
      "text/plain": [
       "   h  i  s  h\n",
       "f  0  0  0  0\n",
       "i  0  1  0  0\n",
       "s  0  0  2  0\n",
       "h  0  0  0  3"
      ]
     },
     "execution_count": 22,
     "metadata": {},
     "output_type": "execute_result"
    }
   ],
   "source": [
    "# предпололжим мы ищем в словаре слово fish но допустили опечатку и написали hish\n",
    "column=['h','i', 's', 'h']\n",
    "index=['f','i', 's', 'h']\n",
    "\n",
    "df1 = pd.DataFrame(np.array([['0','0','0','0'],['0', '1','0','0'],['0', '0','2','0'],['0', '0','0','3']]), columns=column, index=index)\n",
    "df1"
   ]
  },
  {
   "cell_type": "markdown",
   "id": "84d02512",
   "metadata": {},
   "source": [
    "- но в этом случае мы искали наибольшую непрерыносовпадающую подстроку в двух словах, но если рассмотреть fosh и fort то не оч сработает"
   ]
  },
  {
   "cell_type": "code",
   "execution_count": 26,
   "id": "1fcaeeff",
   "metadata": {},
   "outputs": [
    {
     "data": {
      "text/html": [
       "<div>\n",
       "<style scoped>\n",
       "    .dataframe tbody tr th:only-of-type {\n",
       "        vertical-align: middle;\n",
       "    }\n",
       "\n",
       "    .dataframe tbody tr th {\n",
       "        vertical-align: top;\n",
       "    }\n",
       "\n",
       "    .dataframe thead th {\n",
       "        text-align: right;\n",
       "    }\n",
       "</style>\n",
       "<table border=\"1\" class=\"dataframe\">\n",
       "  <thead>\n",
       "    <tr style=\"text-align: right;\">\n",
       "      <th></th>\n",
       "      <th>f</th>\n",
       "      <th>o</th>\n",
       "      <th>s</th>\n",
       "      <th>h</th>\n",
       "    </tr>\n",
       "  </thead>\n",
       "  <tbody>\n",
       "    <tr>\n",
       "      <th>f</th>\n",
       "      <td>1</td>\n",
       "      <td>1</td>\n",
       "      <td>1</td>\n",
       "      <td>1</td>\n",
       "    </tr>\n",
       "    <tr>\n",
       "      <th>o</th>\n",
       "      <td>1</td>\n",
       "      <td>2</td>\n",
       "      <td>2</td>\n",
       "      <td>2</td>\n",
       "    </tr>\n",
       "    <tr>\n",
       "      <th>r</th>\n",
       "      <td>1</td>\n",
       "      <td>2</td>\n",
       "      <td>2</td>\n",
       "      <td>2</td>\n",
       "    </tr>\n",
       "    <tr>\n",
       "      <th>t</th>\n",
       "      <td>1</td>\n",
       "      <td>2</td>\n",
       "      <td>2</td>\n",
       "      <td>2</td>\n",
       "    </tr>\n",
       "  </tbody>\n",
       "</table>\n",
       "</div>"
      ],
      "text/plain": [
       "   f  o  s  h\n",
       "f  1  1  1  1\n",
       "o  1  2  2  2\n",
       "r  1  2  2  2\n",
       "t  1  2  2  2"
      ]
     },
     "execution_count": 26,
     "metadata": {},
     "output_type": "execute_result"
    }
   ],
   "source": [
    "# поэтому можно делать так\n",
    "\n",
    "column=['f','o', 's', 'h']\n",
    "index=['f','o', 'r', 't']\n",
    "\n",
    "df1 = pd.DataFrame(np.array([['1','1','1','1'],['1', '2','2','2'],['1', '2','2','2'],['1', '2','2','2']]), columns=column, index=index)\n",
    "df1"
   ]
  },
  {
   "cell_type": "code",
   "execution_count": 27,
   "id": "eafe7bed",
   "metadata": {},
   "outputs": [
    {
     "data": {
      "text/html": [
       "<div>\n",
       "<style scoped>\n",
       "    .dataframe tbody tr th:only-of-type {\n",
       "        vertical-align: middle;\n",
       "    }\n",
       "\n",
       "    .dataframe tbody tr th {\n",
       "        vertical-align: top;\n",
       "    }\n",
       "\n",
       "    .dataframe thead th {\n",
       "        text-align: right;\n",
       "    }\n",
       "</style>\n",
       "<table border=\"1\" class=\"dataframe\">\n",
       "  <thead>\n",
       "    <tr style=\"text-align: right;\">\n",
       "      <th></th>\n",
       "      <th>f</th>\n",
       "      <th>o</th>\n",
       "      <th>s</th>\n",
       "      <th>h</th>\n",
       "    </tr>\n",
       "  </thead>\n",
       "  <tbody>\n",
       "    <tr>\n",
       "      <th>f</th>\n",
       "      <td>1</td>\n",
       "      <td>1</td>\n",
       "      <td>1</td>\n",
       "      <td>1</td>\n",
       "    </tr>\n",
       "    <tr>\n",
       "      <th>i</th>\n",
       "      <td>1</td>\n",
       "      <td>1</td>\n",
       "      <td>1</td>\n",
       "      <td>1</td>\n",
       "    </tr>\n",
       "    <tr>\n",
       "      <th>s</th>\n",
       "      <td>1</td>\n",
       "      <td>1</td>\n",
       "      <td>2</td>\n",
       "      <td>2</td>\n",
       "    </tr>\n",
       "    <tr>\n",
       "      <th>h</th>\n",
       "      <td>1</td>\n",
       "      <td>1</td>\n",
       "      <td>2</td>\n",
       "      <td>3</td>\n",
       "    </tr>\n",
       "  </tbody>\n",
       "</table>\n",
       "</div>"
      ],
      "text/plain": [
       "   f  o  s  h\n",
       "f  1  1  1  1\n",
       "i  1  1  1  1\n",
       "s  1  1  2  2\n",
       "h  1  1  2  3"
      ]
     },
     "execution_count": 27,
     "metadata": {},
     "output_type": "execute_result"
    }
   ],
   "source": [
    "# поэтому можно делать так\n",
    "\n",
    "column=['f','o', 's', 'h']\n",
    "index=['f','i', 's', 'h']\n",
    "\n",
    "df1 = pd.DataFrame(np.array([['1','1','1','1'],['1', '1','1','1'],['1', '1','2','2'],['1', '1','2','3']]), columns=column, index=index)\n",
    "df1"
   ]
  },
  {
   "cell_type": "markdown",
   "id": "ec9e6d5c",
   "metadata": {},
   "source": [
    "# Глава 10. Алгоритм k ближайших соседей"
   ]
  },
  {
   "cell_type": "markdown",
   "id": "4204a23e",
   "metadata": {},
   "source": [
    "- предположим мы видим фрукт, знаем его размер (x) и цвет (y), но не знаем его название. Мы берем k (хорошо брать k = sqrt(N), где N - число всех фруктов) ближайших соседей фруктов к нашему фрукту по величине $sqrt((x_1-x_2)^2+(y_1-y_2)^2+...)$ и скорее всего название нашего фрукта совпадет с названием k ближайших"
   ]
  },
  {
   "cell_type": "markdown",
   "id": "baf9951e",
   "metadata": {},
   "source": [
    "10.1\\\n",
    "Допустим, вы работете в Netflix.\\\n",
    "Первый пользователь ставит почти любому фильму оценку 5, а второй пользователь более разборчив и ставит 5 только самым лучшим фильмам.\\\n",
    "Вроде бы вкусы одинаковы, но по метрике расстояния они не являются соседями.\\\n",
    "Как учесть различия в стратегиях выставления оценок?\n",
    "\n",
    "- Можно воспользоваться нормализацией: вычислить среднюю оценку для каждого человека и использовать её для масштабирования оценок.\n",
    "- Например, ср оценка первого 3.5, а второго - 3. Тогда надо будет увеличить оценки второго, чтобы его средняя оценка была равна среднему второго и уже сравнивать по единой шкале."
   ]
  },
  {
   "cell_type": "markdown",
   "id": "db166376",
   "metadata": {},
   "source": [
    "## Классификатор Байеса"
   ]
  },
  {
   "cell_type": "markdown",
   "id": "c9b0e074",
   "metadata": {},
   "source": [
    "- сначала тренируется на данных\n",
    "- наивный классификатор Байеса вычисляет вероятность того, что сообщение с большой вероятностью является спамом"
   ]
  },
  {
   "cell_type": "markdown",
   "id": "45c9337c",
   "metadata": {},
   "source": [
    "Классификация - распределение по категориям\\\n",
    "Регрессия - прогнозирование результата"
   ]
  }
 ],
 "metadata": {
  "kernelspec": {
   "display_name": "Python 3 (ipykernel)",
   "language": "python",
   "name": "python3"
  },
  "language_info": {
   "codemirror_mode": {
    "name": "ipython",
    "version": 3
   },
   "file_extension": ".py",
   "mimetype": "text/x-python",
   "name": "python",
   "nbconvert_exporter": "python",
   "pygments_lexer": "ipython3",
   "version": "3.9.7"
  }
 },
 "nbformat": 4,
 "nbformat_minor": 5
}
