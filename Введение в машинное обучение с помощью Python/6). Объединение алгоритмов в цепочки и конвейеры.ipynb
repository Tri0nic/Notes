{
 "cells": [
  {
   "cell_type": "code",
   "execution_count": 1,
   "id": "15bc9fe6",
   "metadata": {},
   "outputs": [],
   "source": [
    "import mglearn\n",
    "import pandas as pd\n",
    "import numpy as np\n",
    "import matplotlib.pyplot as plt\n",
    "from sklearn.model_selection import train_test_split"
   ]
  },
  {
   "cell_type": "markdown",
   "id": "54b0885b",
   "metadata": {},
   "source": [
    "Преобразование данных начинается с масштабирования данных и объединения\n",
    "признаков вручную, а также включает в себя процесс преобразования\n",
    "признаков с помощью неконтролируемого обучения. Поэтому большая часть проектов машинного обучения требует\n",
    "не разового использования какого-то одного алгоритма, а применения\n",
    "различных операций предварительной обработки и моделей машинного\n",
    "обучения, объединенных в цепочку."
   ]
  },
  {
   "cell_type": "markdown",
   "id": "e6755ca6",
   "metadata": {},
   "source": [
    "Класс Pipeline используется, чтобы упростить процесс построения\n",
    "цепочек преобразований и моделей. "
   ]
  },
  {
   "cell_type": "markdown",
   "id": "8fab9cb2",
   "metadata": {},
   "source": [
    "# Отбор параметров с использованием предварительной обработки"
   ]
  },
  {
   "cell_type": "markdown",
   "id": "ef99e435",
   "metadata": {},
   "source": [
    "Ниже приводится программный код для разбиения данных, вычисления\n",
    "минимума и максимума, масштабирования данных и построения SVM:"
   ]
  },
  {
   "cell_type": "code",
   "execution_count": 2,
   "id": "0f56a024",
   "metadata": {},
   "outputs": [],
   "source": [
    "from sklearn.svm import SVC\n",
    "from sklearn.datasets import load_breast_cancer\n",
    "from sklearn.model_selection import train_test_split\n",
    "from sklearn.preprocessing import MinMaxScaler\n",
    "\n",
    "# загружаем и разбиваем данные\n",
    "cancer = load_breast_cancer()\n",
    "X_train, X_test, y_train, y_test = train_test_split(\n",
    "    cancer.data, cancer.target, random_state=0)\n",
    "\n",
    "# вычисляем минимум и максимум по обучающим данным\n",
    "scaler = MinMaxScaler().fit(X_train)"
   ]
  },
  {
   "cell_type": "code",
   "execution_count": 3,
   "id": "ea670751",
   "metadata": {},
   "outputs": [
    {
     "name": "stdout",
     "output_type": "stream",
     "text": [
      "Правильность на тестовом наборе: 0.97\n"
     ]
    }
   ],
   "source": [
    "# масштабируем обучающие данные\n",
    "X_train_scaled = scaler.transform(X_train)\n",
    "\n",
    "svm = SVC()\n",
    "# строим SVM на масштабированных обучающих данных\n",
    "svm.fit(X_train_scaled, y_train)\n",
    "# масштабируем тестовые данные и оцениваем качество на масштабированных данных\n",
    "X_test_scaled = scaler.transform(X_test)\n",
    "print(\"Правильность на тестовом наборе: {:.2f}\".format(svm.score(X_test_scaled, y_test)))"
   ]
  },
  {
   "cell_type": "markdown",
   "id": "af9688c5",
   "metadata": {},
   "source": [
    "Теперь предположим, мы хотим найти более оптимальные параметры для\n",
    "SVC с помощью GridSearchCV. Как нам\n",
    "выполнить это? Наивный подход может выглядеть следующим образом:"
   ]
  },
  {
   "cell_type": "code",
   "execution_count": 4,
   "id": "c83f46ed",
   "metadata": {},
   "outputs": [
    {
     "name": "stdout",
     "output_type": "stream",
     "text": [
      "Наил знач правильности перекр проверки: 0.98\n",
      "Наил знач правильности на тесте: 0.97\n",
      "Наил параметры:  {'C': 1, 'gamma': 1}\n"
     ]
    }
   ],
   "source": [
    "from sklearn.model_selection import GridSearchCV\n",
    "# !!!!!только в иллюстративных целях, не используйте этот код! !!!!!\n",
    "param_grid = {'C': [0.001, 0.01, 0.1, 1, 10, 100],\n",
    "'gamma': [0.001, 0.01, 0.1, 1, 10, 100]}\n",
    "grid = GridSearchCV(SVC(), param_grid=param_grid, cv=5)\n",
    "grid.fit(X_train_scaled, y_train)\n",
    "print(\"Наил знач правильности перекр проверки: {:.2f}\".format(grid.best_score_))\n",
    "print(\"Наил знач правильности на тесте: {:.2f}\".format(grid.score(X_test_scaled, y_test)))\n",
    "print(\"Наил параметры: \", grid.best_params_)"
   ]
  },
  {
   "cell_type": "markdown",
   "id": "a89a9903",
   "metadata": {},
   "source": [
    "Здесь мы запустили решетчатый поиск по параметрам SVC,\n",
    "использовав масштабированные данные. Однако нюанс заключается в\n",
    "том, как мы сейчас это сделали. \n",
    "- При масштабировании данных мы\n",
    "использовали все данные обучающего набора, чтобы вычислить\n",
    "минимальные и максимальные значения признаков. Затем мы\n",
    "используем масштабированные обучающие данные, чтобы запустить наш\n",
    "решетчатый поиск с использованием перекрестной проверки. \n",
    "- При\n",
    "каждом разбиении перекрестной проверки определенная часть исходного\n",
    "обучающего набора становится тренировочными блоками, а другая часть\n",
    "– проверочным блоком. Проверочный блок используется для оценки\n",
    "работы обученной модели на новых данных. \n",
    "- Однако мы уже\n",
    "использовали информацию, содержащуюся в проверочном блоке, когда\n",
    "масштабировали данные. Вспомним, что проверочный блок в каждом\n",
    "разбиении перекрестной проверки является частью обучающего набора,\n",
    "а мы использовали информацию всего обучающего набора для поиска\n",
    "правильного масштаба данных. \n",
    "- Мы получим совершенно другое\n",
    "представление новых данных в модели. Новые данные (скажем,\n",
    "представленные в виде тестового набора) не будут использованы при\n",
    "масштабировании обучающих данных и могут иметь значения минимума\n",
    "и максимума, отличающиеся от значений минимума и максимума для\n",
    "обучающих данных. \n",
    "\n",
    "Следующий пример показывает различие\n",
    "между обработкой данных в ходе перекрестной проверки и итоговой\n",
    "оценкой:"
   ]
  },
  {
   "attachments": {
    "image.png": {
     "image/png": "[encoded data removed]"
    }
   },
   "cell_type": "markdown",
   "id": "d0fde337",
   "metadata": {},
   "source": [
    "![image.png](attachment:image.png)"
   ]
  },
  {
   "cell_type": "markdown",
   "id": "1a6604f7",
   "metadata": {},
   "source": [
    "Рис. 6.1 Использование данных: предварительная обработка вынесена\n",
    "за пределы цикла перекрестной проверки"
   ]
  },
  {
   "cell_type": "markdown",
   "id": "9d521dfb",
   "metadata": {},
   "source": [
    "- Таким образом, разбиения перекрестной проверки не позволяют\n",
    "больше адекватно моделировать новые данные. Мы уже «поделились»\n",
    "информацией, содержащейся в этих блоках, с моделью. Это приведет к\n",
    "чрезмерно оптимистичным результатам перекрестной проверки, и,\n",
    "возможно, к выбору субоптимальных параметров.\n",
    "- Чтобы обойти эту проблему, разбиения набора данных во время\n",
    "перекрестной проверки должны быть выполнены перед предварительной\n",
    "обработкой данных. Любой процесс, извлекающий знания из данных,\n",
    "должен осуществляться на обучающей части набора данных, и поэтому\n",
    "его следует разместить внутри цикла перекрестной проверки.\n",
    "- Для решения этой задачи в библиотеке scikit-learn наряду с\n",
    "функцией cross_val_score и функцией GridSearchCV мы можем\n",
    "воспользоваться классом Pipeline. Класс Pipeline позволяет\n",
    "«склеивать» вместе несколько операций обработки данных в единую\n",
    "модель scikit-learn. Класс Pipeline предусматривает методы fit,\n",
    "predict и score и имеет все те же свойства, что и любая модель scikitlearn. Чаще всего класс Pipeline используется для объединения\n",
    "операций предварительной обработки (например, масштабирования данных) с моделью контролируемого машинного обучения типа\n",
    "классификатора."
   ]
  },
  {
   "cell_type": "markdown",
   "id": "c672d304",
   "metadata": {},
   "source": [
    "# Построение конвейеров"
   ]
  },
  {
   "cell_type": "markdown",
   "id": "2b6caf29",
   "metadata": {},
   "source": [
    "Создадим объект-конвейер, передав ему список необходимых\n",
    "этапов. Каждый этап представляет собой кортеж, содержащий имя\n",
    "(любая строка на ваш выбор) и экземпляр модели:"
   ]
  },
  {
   "cell_type": "code",
   "execution_count": 5,
   "id": "22dfa7bf",
   "metadata": {},
   "outputs": [],
   "source": [
    "from sklearn.pipeline import Pipeline\n",
    "pipe = Pipeline([(\"scaler\", MinMaxScaler()), (\"svm\", SVC())])"
   ]
  },
  {
   "cell_type": "markdown",
   "id": "28338102",
   "metadata": {},
   "source": [
    "Здесь мы создали два этапа: первый этап, названный \"scaler\",\n",
    "является экземпляром MinMaxScaler, а второй, названный \"svm\", является\n",
    "экземпляром SVC. Теперь мы можем построить конвейер точно так же,\n",
    "как и любую другую модель scikit-learn:"
   ]
  },
  {
   "cell_type": "code",
   "execution_count": 6,
   "id": "f1870ecd",
   "metadata": {},
   "outputs": [
    {
     "data": {
      "text/plain": [
       "Pipeline(steps=[('scaler', MinMaxScaler()), ('svm', SVC())])"
      ]
     },
     "execution_count": 6,
     "metadata": {},
     "output_type": "execute_result"
    }
   ],
   "source": [
    "pipe.fit(X_train, y_train)"
   ]
  },
  {
   "cell_type": "markdown",
   "id": "09388426",
   "metadata": {},
   "source": [
    "В данном случае pipe.fit сначала вызывает метод fit объекта\n",
    "scaler, преобразует обучающие данные, используя MinMaxScaler, и,\n",
    "наконец, строит модель SVM на основе масштабированных данных.\n",
    "Чтобы оценить правильность модели на тестовых данных, мы просто\n",
    "вызываем pipe.score:"
   ]
  },
  {
   "cell_type": "code",
   "execution_count": 7,
   "id": "c800ef9b",
   "metadata": {},
   "outputs": [
    {
     "name": "stdout",
     "output_type": "stream",
     "text": [
      "Правильность на тестовом наборе: 0.97\n"
     ]
    }
   ],
   "source": [
    "print(\"Правильность на тестовом наборе: {:.2f}\".format(pipe.score(X_test, y_test)))"
   ]
  },
  {
   "cell_type": "markdown",
   "id": "b42935b4",
   "metadata": {},
   "source": [
    "- Когда мы вызываем pipe.score, сначала тестовые данные\n",
    "масштабируются с помощью MinMaxScaler, затем к масштабированным\n",
    "тестовым данным применяется построенная модель SVM (происходит\n",
    "вызов метода score объекта svm).\n",
    "- Главное преимущество конвейера заключается в том, что сейчас мы можем использовать эту отдельную модель в качестве аргумента\n",
    "функции cross_val_score или GridSearchCV."
   ]
  },
  {
   "cell_type": "markdown",
   "id": "5d431b92",
   "metadata": {},
   "source": [
    "# Использование конвейера, помещенного в объект GridSearchCV"
   ]
  },
  {
   "cell_type": "markdown",
   "id": "200586c2",
   "metadata": {},
   "source": [
    "- Использование конвейера в объекте GridSearchCV аналогично\n",
    "использованию любой другой модели. Мы задаем сетку параметров для\n",
    "поиска и строим GridSearchCV на основе конвейера и сетки параметров.\n",
    "- Однако теперь определение сетки параметров выглядит несколько иначе.\n",
    "Для каждого параметра нам нужно указать этап конвейера, к которому\n",
    "он относится.\n",
    "- Оба параметра, которые мы хотим скорректировать, C и\n",
    "gamma являются параметрами SVC, то есть относятся ко второму этапу.\n",
    "Мы назвали этот этап \"svm\".\n",
    "- Синтаксис, позволяющий настроить сетку\n",
    "параметров для конвейера, заключается в том, чтобы для каждого\n",
    "параметра указать имя этапа, затем символ двойного подчеркивания \\__,\n",
    "а потом имя параметра. Чтобы выполнить поиск по параметру C для SVC,\n",
    "мы в качестве ключа (сетка параметров представляет собой словарь)\n",
    "должны задать \"svm__C\", затем ту же самую процедуру нужно выполнить\n",
    "для gamma."
   ]
  },
  {
   "cell_type": "code",
   "execution_count": 8,
   "id": "f35049a0",
   "metadata": {},
   "outputs": [],
   "source": [
    "param_grid = {'svm__C': [0.001, 0.01, 0.1, 1, 10, 100], \n",
    "              'svm__gamma': [0.001, 0.01, 0.1, 1, 10, 100]}"
   ]
  },
  {
   "cell_type": "markdown",
   "id": "a2f75fac",
   "metadata": {},
   "source": [
    "Задав сетку параметров, мы можем использовать GridSearchCV\n",
    "обычным образом:"
   ]
  },
  {
   "cell_type": "code",
   "execution_count": 9,
   "id": "e781d0f9",
   "metadata": {},
   "outputs": [
    {
     "name": "stdout",
     "output_type": "stream",
     "text": [
      "Наил значение правильности перекр проверки: 0.98\n",
      "Правильность на тестовом наборе: 0.97\n",
      "Наилучшие параметры: {'svm__C': 1, 'svm__gamma': 1}\n"
     ]
    }
   ],
   "source": [
    "grid = GridSearchCV(pipe, param_grid=param_grid, cv=5)\n",
    "grid.fit(X_train, y_train)\n",
    "print(\"Наил значение правильности перекр проверки: {:.2f}\".format(grid.best_score_))\n",
    "print(\"Правильность на тестовом наборе: {:.2f}\".format(grid.score(X_test, y_test)))\n",
    "print(\"Наилучшие параметры: {}\".format(grid.best_params_))"
   ]
  },
  {
   "cell_type": "markdown",
   "id": "88751d75",
   "metadata": {},
   "source": [
    "В отличие от решетчатого поиска, выполненного ранее, теперь для\n",
    "каждого разбиения перекрестной проверки MinMaxScaler выполняет\n",
    "масштабирование данных, используя лишь обучающие блоки разбиений,\n",
    "и теперь информация тестового блока не передается модели при поиске\n",
    "параметров."
   ]
  },
  {
   "attachments": {
    "image.png": {
     "image/png": "[encoded data removed]"
    }
   },
   "cell_type": "markdown",
   "id": "c3c9dc55",
   "metadata": {},
   "source": [
    "![image.png](attachment:image.png)"
   ]
  },
  {
   "cell_type": "markdown",
   "id": "d21ef52f",
   "metadata": {},
   "source": [
    "Рис. 6.2 Использование данных: предварительная обработка внутри\n",
    "цикла перекрестной проверки, используется конвейер"
   ]
  },
  {
   "cell_type": "markdown",
   "id": "5451b62e",
   "metadata": {},
   "source": [
    "Иллюстрация утечки информации (стр. 391 (333))"
   ]
  },
  {
   "cell_type": "markdown",
   "id": "8f39122d",
   "metadata": {},
   "source": [
    "# Общий интерфейс конвейера"
   ]
  },
  {
   "cell_type": "markdown",
   "id": "33991f6b",
   "metadata": {},
   "source": [
    "Класс Pipeline не ограничивается предварительной обработкой и\n",
    "классификацией, с его помощью можно объединить любое количество\n",
    "моделей. \n",
    "- Например, можно создать конвейер, включающий в себя\n",
    "выделение признаков, отбор признаков, масштабирование и\n",
    "классификацию, в общей сложности четыре этапа.\n",
    "\n",
    "Кроме того,\n",
    "последним этапом вместо классификации может быть регрессия или\n",
    "кластеризация."
   ]
  },
  {
   "cell_type": "markdown",
   "id": "7535d7bd",
   "metadata": {},
   "source": [
    "- Единственное требование, предъявляемое к моделям в конвейере,\n",
    "заключается в том, что все этапы, кроме последнего, должны\n",
    "использовать метод transform, таким образом, они позволяют\n",
    "сгенерировать новое представление данных, которое можно использовать\n",
    "на следующем этапе.\n",
    "\n",
    "- Во время вызова Pipeline.fit конвейер поочередно вызывает метод\n",
    "fit, а затем метод transform каждого этапа, вводная информация\n",
    "представляет собой вывод метода transform для предыдущего этапа. Для\n",
    "последнего этапа конвейера просто вызывается метод fit.\n",
    "- Следует\n",
    "помнить, что pipeline.steps является списком кортежей, поэтому\n",
    "pipeline.steps [0][1] является первой моделью, а line.steps[1][1] –\n",
    "второй моделью и так далее"
   ]
  },
  {
   "cell_type": "markdown",
   "id": "122398c1",
   "metadata": {},
   "source": [
    "Можно показать методы Pipeline в виде кода:"
   ]
  },
  {
   "cell_type": "code",
   "execution_count": 10,
   "id": "3d20aae7",
   "metadata": {},
   "outputs": [],
   "source": [
    "def fit(self, X, y):\n",
    "    X_transformed = X\n",
    "    for name, estimator in self.steps[:-1]:\n",
    "        # перебираем все этапы, кроме последнего\n",
    "        # подгоняем и преобразуем данные\n",
    "        X_transformed = estimator.fit_transform(X_transformed, y)\n",
    "    # осуществляем подгонку на последнем этапе\n",
    "    self.steps[-1][1].fit(X_transformed, y)\n",
    "    return self"
   ]
  },
  {
   "cell_type": "markdown",
   "id": "5e7bbc24",
   "metadata": {},
   "source": [
    "При прогнозировании с помощью конвейера мы одинаковым образом\n",
    "преобразуем данные на всех этапах, кроме последнего, а затем вызываем\n",
    "метод predict на последнем этапе:"
   ]
  },
  {
   "cell_type": "code",
   "execution_count": 11,
   "id": "692c8799",
   "metadata": {},
   "outputs": [],
   "source": [
    "def predict(self, X):\n",
    "    X_transformed = X\n",
    "    for step in self.steps[:-1]:\n",
    "        # перебираем все этапы, кроме последнего\n",
    "        # преобразуем данные\n",
    "        X_transformed = step[1].transform(X_transformed)\n",
    "    # получаем прогнозы на последнем этапе\n",
    "    return self.steps[-1][1].predict(X_transformed)"
   ]
  },
  {
   "attachments": {
    "image.png": {
     "image/png": "[encoded data removed]"
    }
   },
   "cell_type": "markdown",
   "id": "cec007f1",
   "metadata": {},
   "source": [
    "![image.png](attachment:image.png)"
   ]
  },
  {
   "cell_type": "markdown",
   "id": "2668655b",
   "metadata": {},
   "source": [
    "Рис. 6.3 Схема конвейера, предназначенного\n",
    "для обучения и получения прогнозов"
   ]
  },
  {
   "cell_type": "markdown",
   "id": "8e8d774f",
   "metadata": {},
   "source": [
    "## Удобный способ построения конвейеров с помощью функции make_pipeline"
   ]
  },
  {
   "cell_type": "markdown",
   "id": "a616a247",
   "metadata": {},
   "source": [
    "Построение конвейера с помощью вышеописанного синтаксиса иногда\n",
    "выглядит немного громоздким и, как правило, нам нет необходимости\n",
    "присваивать имя каждому этапу. Существует удобная функция\n",
    "make_pipeline, которая позволяет создать конвейер и автоматически\n",
    "присвоить имя каждому этапу, исходя из его класса (напомним, что каждый этап представляет собой кортеж, содержащий имя и экземпляр\n",
    "модели). Синтаксис make_pipeline выглядит следующим образом:"
   ]
  },
  {
   "cell_type": "code",
   "execution_count": 12,
   "id": "f8edf07b",
   "metadata": {},
   "outputs": [],
   "source": [
    "from sklearn.pipeline import make_pipeline\n",
    "\n",
    "# стандартный синтаксис\n",
    "pipe_long = Pipeline([(\"scaler\", MinMaxScaler()), (\"svm\", SVC(C=100))])\n",
    "\n",
    "# сокращенный синтаксис\n",
    "pipe_short = make_pipeline(MinMaxScaler(), SVC(C=100))"
   ]
  },
  {
   "cell_type": "markdown",
   "id": "f41f2187",
   "metadata": {},
   "source": [
    "Объекты-конвейеры pipe_long и pipe_short выполняют одну и ту же\n",
    "последовательность операций, но в случае с pipe_short имена этапов\n",
    "присваиваются автоматически. Мы можем взглянуть на имена этапов с\n",
    "помощью атрибута steps:"
   ]
  },
  {
   "cell_type": "code",
   "execution_count": 13,
   "id": "e2aec3cb",
   "metadata": {},
   "outputs": [
    {
     "name": "stdout",
     "output_type": "stream",
     "text": [
      "Этапы конвейера:\n",
      "[('minmaxscaler', MinMaxScaler()), ('svc', SVC(C=100))]\n"
     ]
    }
   ],
   "source": [
    "print(\"Этапы конвейера:\\n{}\".format(pipe_short.steps))"
   ]
  },
  {
   "cell_type": "markdown",
   "id": "adebdf2f",
   "metadata": {},
   "source": [
    "Этапам присвоены имена minmaxscaler и SVC. В общем случае - имена этапов\n",
    "– это просто названия классов, написанные строчными буквами. Если\n",
    "несколько этапов используют один и тот же класс, добавляется номер:"
   ]
  },
  {
   "cell_type": "code",
   "execution_count": 14,
   "id": "bd149c99",
   "metadata": {},
   "outputs": [
    {
     "name": "stdout",
     "output_type": "stream",
     "text": [
      "Этапы конвейера:\n",
      "[('standardscaler-1', StandardScaler()), ('pca', PCA(n_components=2)), ('standardscaler-2', StandardScaler())]\n"
     ]
    }
   ],
   "source": [
    "from sklearn.preprocessing import StandardScaler\n",
    "from sklearn.decomposition import PCA\n",
    "\n",
    "pipe = make_pipeline(StandardScaler(), PCA(n_components=2), StandardScaler())\n",
    "print(\"Этапы конвейера:\\n{}\".format(pipe.steps))"
   ]
  },
  {
   "cell_type": "markdown",
   "id": "45ca95aa",
   "metadata": {},
   "source": [
    "Видно, что первый этап StandardScaler был назван standardscaler-1,\n",
    "а второй – standardscaler-2. Однако в данной ситуации было бы лучше\n",
    "использовать архитектуру конвейера с явными именами, чтобы\n",
    "присвоить этапам более содержательные названия."
   ]
  },
  {
   "cell_type": "markdown",
   "id": "f90652be",
   "metadata": {},
   "source": [
    "## Работа с атрибутами этапов"
   ]
  },
  {
   "cell_type": "markdown",
   "id": "2315b157",
   "metadata": {},
   "source": [
    "Часто бывают ситуации, когда вам нужно посмотреть атрибуты одного\n",
    "из этапов конвейера, например, коэффициенты линейной модели или\n",
    "компоненты, извлекаемые с помощью PCA. Самый простой способ получить подробную информацию об этапах конвейера заключается в\n",
    "том, чтобы воспользоваться атрибутом named_steps, который является\n",
    "словарем с именами этапов и моделями:"
   ]
  },
  {
   "cell_type": "code",
   "execution_count": 15,
   "id": "dfd94b71",
   "metadata": {},
   "outputs": [
    {
     "name": "stdout",
     "output_type": "stream",
     "text": [
      "форма components: (2, 30)\n"
     ]
    }
   ],
   "source": [
    "# подгоняем заранее заданный конвейер к набору данных cancer\n",
    "pipe.fit(cancer.data)\n",
    "# извлекаем первые две главные компоненты на этапе \"pca\"\n",
    "components = pipe.named_steps[\"pca\"].components_\n",
    "print(\"форма components: {}\".format(components.shape))"
   ]
  },
  {
   "cell_type": "code",
   "execution_count": 16,
   "id": "6f1902c0",
   "metadata": {},
   "outputs": [
    {
     "data": {
      "text/plain": [
       "{'standardscaler-1': StandardScaler(),\n",
       " 'pca': PCA(n_components=2),\n",
       " 'standardscaler-2': StandardScaler()}"
      ]
     },
     "execution_count": 16,
     "metadata": {},
     "output_type": "execute_result"
    }
   ],
   "source": [
    "pipe.named_steps"
   ]
  },
  {
   "cell_type": "markdown",
   "id": "1046bb7e",
   "metadata": {},
   "source": [
    "## Работа с атрибутами конвейера, помещенного в объект GridSearchCV"
   ]
  },
  {
   "cell_type": "markdown",
   "id": "2c7a20c2",
   "metadata": {},
   "source": [
    "Как мы уже говорили ранее в этой главе:\n",
    "- одна из главных причин\n",
    "использования конвейеров – это выполнение решетчатого поиска.\n",
    "\n",
    "Общераспространенная задача – получить доступ к некоторым этапам\n",
    "конвейера внутри объекта GridSearchCV. Давайте запустим решетчатый\n",
    "поиск для классификатора LogisticRegression на наборе данных cancer,\n",
    "использовав Pipeline и StandardScaler, чтобы отмасштабировать данные\n",
    "перед тем, как передать их в классификатор LogistiсRegression. Сначала\n",
    "мы создаем конвейер с помощью функции make_pipeline:"
   ]
  },
  {
   "cell_type": "code",
   "execution_count": 17,
   "id": "abf0e6f9",
   "metadata": {},
   "outputs": [],
   "source": [
    "from sklearn.linear_model import LogisticRegression\n",
    "\n",
    "pipe = make_pipeline(StandardScaler(), LogisticRegression(max_iter=1000))"
   ]
  },
  {
   "cell_type": "markdown",
   "id": "41baadd3",
   "metadata": {},
   "source": [
    "Далее мы создаем сетку параметров. Как объяснялось в главе 2,\n",
    "параметр регуляризации С позволяет настроить модель логистической\n",
    "регрессии (класс LogisticRegression). Мы используем\n",
    "логарифмическую сетку для этого параметра, поиск осуществляется в\n",
    "диапазоне значений от 0.01 до 100. Поскольку мы использовали функцию\n",
    "make_pipeline, имя этапа LogisticRegression записывается в нижнем\n",
    "регистре как logisticregression. Чтобы настроить параметр C, мы\n",
    "должны задать сетку параметров в виде logisticregression__C:"
   ]
  },
  {
   "cell_type": "code",
   "execution_count": 18,
   "id": "8dcb27c3",
   "metadata": {},
   "outputs": [],
   "source": [
    "param_grid = {'logisticregression__C': [0.01, 0.1, 1, 10, 100]}"
   ]
  },
  {
   "cell_type": "markdown",
   "id": "7a3b46f4",
   "metadata": {},
   "source": [
    "И как обычно мы разбиваем набор данных cancer на обучающий и\n",
    "тестовый наборы и запускаем решетчатый поиск:"
   ]
  },
  {
   "cell_type": "code",
   "execution_count": 19,
   "id": "b0e42330",
   "metadata": {},
   "outputs": [
    {
     "data": {
      "text/plain": [
       "GridSearchCV(cv=5,\n",
       "             estimator=Pipeline(steps=[('standardscaler', StandardScaler()),\n",
       "                                       ('logisticregression',\n",
       "                                        LogisticRegression(max_iter=1000))]),\n",
       "             param_grid={'logisticregression__C': [0.01, 0.1, 1, 10, 100]})"
      ]
     },
     "execution_count": 19,
     "metadata": {},
     "output_type": "execute_result"
    }
   ],
   "source": [
    "X_train, X_test, y_train, y_test = train_test_split(\n",
    "    cancer.data, cancer.target, random_state=4)\n",
    "grid = GridSearchCV(pipe, param_grid, cv=5)\n",
    "grid.fit(X_train, y_train)"
   ]
  },
  {
   "cell_type": "markdown",
   "id": "e97027b2",
   "metadata": {},
   "source": [
    "Итак, каким образом мы можем посмотреть коэффициенты\n",
    "наилучшей модели логистической регрессии, которые были найдены с\n",
    "помощью GridSearchCV? Из главы 5 мы знаем, что наилучшая модель,\n",
    "найденная с помощью GridSearchCV и построенная на всех обучающих\n",
    "данных, хранится в grid.best_estimator_:"
   ]
  },
  {
   "cell_type": "code",
   "execution_count": 20,
   "id": "cb43b11e",
   "metadata": {},
   "outputs": [
    {
     "name": "stdout",
     "output_type": "stream",
     "text": [
      "Лучшая модель:\n",
      "Pipeline(steps=[('standardscaler', StandardScaler()),\n",
      "                ('logisticregression', LogisticRegression(C=1, max_iter=1000))])\n"
     ]
    }
   ],
   "source": [
    "print(\"Лучшая модель:\\n{}\".format(grid.best_estimator_))"
   ]
  },
  {
   "cell_type": "markdown",
   "id": "9a2d0162",
   "metadata": {},
   "source": [
    "В нашем случае наилучшей моделью (best_estimator_) является\n",
    "конвейер, состоящий из двух этапов standardscaler и\n",
    "logisticregression. Как уже говорилось ранее, получить информацию\n",
    "об этапе logisticregression мы можем с помощью атрибута конвейера\n",
    "named_steps:"
   ]
  },
  {
   "cell_type": "code",
   "execution_count": 21,
   "id": "3d181c4a",
   "metadata": {},
   "outputs": [
    {
     "name": "stdout",
     "output_type": "stream",
     "text": [
      "Этап логистической регрессии:\n",
      "LogisticRegression(C=1, max_iter=1000)\n"
     ]
    }
   ],
   "source": [
    "print(\"Этап логистической регрессии:\\n{}\".format(\n",
    "    grid.best_estimator_.named_steps[\"logisticregression\"]))"
   ]
  },
  {
   "cell_type": "markdown",
   "id": "2f8b62b3",
   "metadata": {},
   "source": [
    "Теперь, когда мы построили логистическую регрессию, можно\n",
    "взглянуть на регрессионные коэффициенты (веса), связанные с\n",
    "входными признаками:"
   ]
  },
  {
   "cell_type": "code",
   "execution_count": 22,
   "id": "4d947667",
   "metadata": {},
   "outputs": [
    {
     "name": "stdout",
     "output_type": "stream",
     "text": [
      "Коэффициенты логистической регрессии:\n",
      "[[-0.43570655 -0.34266946 -0.40809443 -0.5344574  -0.14971847  0.61034122\n",
      "  -0.72634347 -0.78538827  0.03886087  0.27497198 -1.29780109  0.04926005\n",
      "  -0.67336941 -0.93447426 -0.13939555  0.45032641 -0.13009864 -0.10144273\n",
      "   0.43432027  0.71596578 -1.09068862 -1.09463976 -0.85183755 -1.06406198\n",
      "  -0.74316099  0.07252425 -0.82323903 -0.65321239 -0.64379499 -0.42026013]]\n"
     ]
    }
   ],
   "source": [
    "print(\"Коэффициенты логистической регрессии:\\n{}\".format(\n",
    "    grid.best_estimator_.named_steps[\"logisticregression\"].coef_))"
   ]
  },
  {
   "cell_type": "markdown",
   "id": "9f7927e7",
   "metadata": {},
   "source": [
    "# Находим оптимальные параметры этапов конвейера с помощью решетчатого поиска"
   ]
  },
  {
   "cell_type": "markdown",
   "id": "67781600",
   "metadata": {},
   "source": [
    "С помощью конвейеров мы можем инкапсулировать все этапы\n",
    "предварительной обработки в одной модели scikit-learn. \n",
    "\n",
    "Еще одно\n",
    "преимущество конвейеров заключается в том, что теперь мы можем\n",
    "настроить параметры предварительной обработки, используя результат,\n",
    "полученный с помощью модели контролируемого машинного обучения\n",
    "(то есть результат решения регрессионной или классификационной\n",
    "задачи). При работе с набором данных boston мы перед применением\n",
    "гребневой регрессии создали полиномиальные признаки. Теперь давайте\n",
    "используем конвейер. \n",
    "- Конвейер включает три этапа – масштабирование\n",
    "данных, вычисление полиномиальных признаков и построение гребневой\n",
    "регрессии:"
   ]
  },
  {
   "cell_type": "code",
   "execution_count": 23,
   "id": "38542a37",
   "metadata": {},
   "outputs": [],
   "source": [
    "from sklearn.datasets import load_boston\n",
    "from sklearn.linear_model import Ridge\n",
    "boston = load_boston()\n",
    "X_train, X_test, y_train, y_test = train_test_split(boston.data, boston.target,\n",
    "                                                    random_state=0)\n",
    "\n",
    "from sklearn.preprocessing import PolynomialFeatures\n",
    "pipe = make_pipeline(\n",
    "    StandardScaler(),\n",
    "    PolynomialFeatures(),\n",
    "    Ridge())"
   ]
  },
  {
   "cell_type": "markdown",
   "id": "87467368",
   "metadata": {},
   "source": [
    "Как мы узнаем, какие степени полиномов нужно выбрать, выбирать\n",
    "ли полиномы или взаимодействия вообще? В идеале мы хотим выбрать\n",
    "значение параметра degree, основываясь на результатах классификации.\n",
    "С помощью нашего конвейера мы можем осуществить поиск значений\n",
    "параметра degree для полиномиальных преобразований значениями\n",
    "одновременно с поиском значений параметра alpha модели гребневой\n",
    "регрессии. Для этого мы задаем сетку параметров в необходимом\n",
    "формате: после каждого имени этапа следует двойной символ\n",
    "подчеркивания и соответствующий параметр:"
   ]
  },
  {
   "cell_type": "code",
   "execution_count": 24,
   "id": "67186e4e",
   "metadata": {},
   "outputs": [],
   "source": [
    "param_grid = {'polynomialfeatures__degree': [1, 2, 3],\n",
    "              'ridge__alpha': [0.001, 0.01, 0.1, 1, 10, 100]}"
   ]
  },
  {
   "cell_type": "markdown",
   "id": "fc73105f",
   "metadata": {},
   "source": [
    "Теперь мы можем запустить наш решетчатый поиск снова:"
   ]
  },
  {
   "cell_type": "code",
   "execution_count": 25,
   "id": "7a703665",
   "metadata": {},
   "outputs": [
    {
     "data": {
      "text/plain": [
       "GridSearchCV(cv=5,\n",
       "             estimator=Pipeline(steps=[('standardscaler', StandardScaler()),\n",
       "                                       ('polynomialfeatures',\n",
       "                                        PolynomialFeatures()),\n",
       "                                       ('ridge', Ridge())]),\n",
       "             n_jobs=-1,\n",
       "             param_grid={'polynomialfeatures__degree': [1, 2, 3],\n",
       "                         'ridge__alpha': [0.001, 0.01, 0.1, 1, 10, 100]})"
      ]
     },
     "execution_count": 25,
     "metadata": {},
     "output_type": "execute_result"
    }
   ],
   "source": [
    "grid = GridSearchCV(pipe, param_grid=param_grid, cv=5, n_jobs=-1)\n",
    "grid.fit(X_train, y_train)"
   ]
  },
  {
   "cell_type": "markdown",
   "id": "7a526421",
   "metadata": {},
   "source": [
    "Результат перекрестной проверки можно визуализировать с помощью\n",
    "теплокарты:"
   ]
  },
  {
   "cell_type": "code",
   "execution_count": 26,
   "id": "70e41f90",
   "metadata": {},
   "outputs": [
    {
     "data": {
      "text/plain": [
       "<matplotlib.colorbar.Colorbar at 0x209a74603d0>"
      ]
     },
     "execution_count": 26,
     "metadata": {},
     "output_type": "execute_result"
    },
    {
     "data": {
      "image/png": "[encoded data removed]",
      "text/plain": [
       "<Figure size 576x288 with 2 Axes>"
      ]
     },
     "metadata": {
      "needs_background": "light"
     },
     "output_type": "display_data"
    }
   ],
   "source": [
    "plt.matshow(grid.cv_results_['mean_test_score'].reshape(3, -1),\n",
    "            vmin=0, cmap=\"viridis\")\n",
    "plt.xlabel(\"ridge__alpha\")\n",
    "plt.ylabel(\"polynomialfeatures__degree\")\n",
    "plt.xticks(range(len(param_grid['ridge__alpha'])), param_grid['ridge__alpha'])\n",
    "plt.yticks(range(len(param_grid['polynomialfeatures__degree'])),\n",
    "           param_grid['polynomialfeatures__degree'])\n",
    "\n",
    "plt.colorbar()"
   ]
  },
  {
   "cell_type": "markdown",
   "id": "fa41757b",
   "metadata": {},
   "source": [
    "Рис. 6.4 Теплокарта для усредненной правильности перекрестной проверки,\n",
    "выраженной в виде функции двух параметров: параметра degree для\n",
    "полиномиального преобразования и параметра alpha для гребневой регрессии"
   ]
  },
  {
   "cell_type": "markdown",
   "id": "391769d9",
   "metadata": {},
   "source": [
    "Взглянув на результаты, полученные с помощью перекрестной\n",
    "проверки, мы можем увидеть, что степень полинома 2 помогает, однако\n",
    "степень полинома 3 дает гораздо худший результат, чем степень 1 или\n",
    "степень 2. Данный факт отражается в найденных наилучших параметрах:"
   ]
  },
  {
   "cell_type": "code",
   "execution_count": 27,
   "id": "1ea72b73",
   "metadata": {},
   "outputs": [
    {
     "name": "stdout",
     "output_type": "stream",
     "text": [
      "Наилучшие параметры: {'polynomialfeatures__degree': 2, 'ridge__alpha': 10}\n"
     ]
    }
   ],
   "source": [
    "print(\"Наилучшие параметры: {}\".format(grid.best_params_))"
   ]
  },
  {
   "cell_type": "markdown",
   "id": "3ee880e3",
   "metadata": {},
   "source": [
    "Эти значения параметров позволяют получить следующее значение правильности:"
   ]
  },
  {
   "cell_type": "code",
   "execution_count": 28,
   "id": "95e44996",
   "metadata": {},
   "outputs": [
    {
     "name": "stdout",
     "output_type": "stream",
     "text": [
      "Правильность на тестовом наборе: 0.77\n"
     ]
    }
   ],
   "source": [
    "print(\"Правильность на тестовом наборе: {:.2f}\".format(grid.score(X_test, y_test)))"
   ]
  },
  {
   "cell_type": "markdown",
   "id": "d488f29c",
   "metadata": {},
   "source": [
    "Давайте для сравнения запустим решетчатый поиск без\n",
    "полиномиального преобразования:"
   ]
  },
  {
   "cell_type": "code",
   "execution_count": 29,
   "id": "339cc8a0",
   "metadata": {},
   "outputs": [
    {
     "name": "stdout",
     "output_type": "stream",
     "text": [
      "Правильность без полином. преобразования: 0.63\n"
     ]
    }
   ],
   "source": [
    "param_grid = {'ridge__alpha': [0.001, 0.01, 0.1, 1, 10, 100]}\n",
    "pipe = make_pipeline(StandardScaler(), Ridge())\n",
    "grid = GridSearchCV(pipe, param_grid, cv=5)\n",
    "grid.fit(X_train, y_train)\n",
    "print(\"Правильность без полином. преобразования: {:.2f}\".format(grid.score(X_test, y_test)))"
   ]
  },
  {
   "cell_type": "markdown",
   "id": "ca0e4134",
   "metadata": {},
   "source": [
    "Как мы и предполагали, анализируя результаты решетчатого поиска,\n",
    "приведенные на рис. 6.4, отказ от использования полиномиальных\n",
    "признаков привел к существенно худшим результатам.\n",
    "\n",
    "Одновременный поиск параметров предварительной обработки и\n",
    "параметров модели является очень мощной стратегией. \n",
    "- Однако имейте в\n",
    "виду, что GridSearchCV перебирает все возможные комбинации заданных\n",
    "параметров. Поэтому включение в сетку большего количества\n",
    "параметров ведет к экспоненциальному росту моделей."
   ]
  },
  {
   "cell_type": "markdown",
   "id": "e6eee86a",
   "metadata": {},
   "source": [
    "# Выбор оптимальной модели с помощью решетчатого поиска"
   ]
  },
  {
   "cell_type": "markdown",
   "id": "bd82b8f0",
   "metadata": {},
   "source": [
    "Как правило, перебор всех возможных\n",
    "моделей не является оптимальной стратегией машинного обучения."
   ]
  },
  {
   "cell_type": "markdown",
   "id": "d1118efc",
   "metadata": {},
   "source": [
    "Ниже приводится пример сравнения результатов работы\n",
    "RandomForestClassifier и SVC на наборе данных iris. Мы знаем, что SVC,\n",
    "возможно, потребуются отмасштабированные данные, поэтому\n",
    "необходимо решить, использовать StandardScaler или обойтись без\n",
    "предварительной обработки. Что касается RandomForestClassifier, мы\n",
    "знаем, что для него предварительная обработка данных не требуется. Мы\n",
    "начинаем с построения конвейера. В данном случае мы задаем имена\n",
    "этапов в явном виде. Наш конвейер будет включать два этапа: один – для\n",
    "предварительной обработки, второй – для классификатора."
   ]
  },
  {
   "cell_type": "code",
   "execution_count": 30,
   "id": "c5e9755c",
   "metadata": {},
   "outputs": [],
   "source": [
    "# Создаем экземпляры объектов с помощью SVC и StandardScaler:\n",
    "pipe = Pipeline([('preprocessing', StandardScaler()), ('classifier', SVC())])"
   ]
  },
  {
   "cell_type": "markdown",
   "id": "a45d3c7d",
   "metadata": {},
   "source": [
    "Теперь мы можем задать сетку параметров для поиска. Нам нужно\n",
    "выбрать либо RandomForestClassifier, либо SVC. Поскольку они\n",
    "используют разные параметры для настройки, один метод нуждается в\n",
    "предварительной обработке, а другой – нет, мы можем воспользоваться __списком словарей__, в котором каждый словарь представляет отдельную\n",
    "сетку параметров (см. раздел «Экономичный решетчатый поиск»). Чтобы\n",
    "задать модель для этапа, мы должны указать имя этапа в качестве названия параметра. Если нам нужно пропустить какой-то этап в\n",
    "конвейере (например, потому что нам не нужна предварительная\n",
    "обработка для RandomForest), мы можем задать для этапа значение None:"
   ]
  },
  {
   "cell_type": "code",
   "execution_count": 31,
   "id": "920b8c2f",
   "metadata": {},
   "outputs": [],
   "source": [
    "from sklearn.ensemble import RandomForestClassifier\n",
    "\n",
    "param_grid = [\n",
    "    {'classifier': [SVC()], 'preprocessing': [StandardScaler(), None],\n",
    "     'classifier__gamma': [0.001, 0.01, 0.1, 1, 10, 100],\n",
    "     'classifier__C': [0.001, 0.01, 0.1, 1, 10, 100]},\n",
    "    {'classifier': [RandomForestClassifier(n_estimators=100)],\n",
    "     'preprocessing': [None], 'classifier__max_features': [1, 2, 3]}]"
   ]
  },
  {
   "cell_type": "markdown",
   "id": "1d714248",
   "metadata": {},
   "source": [
    "Мы можем создать экземпляр класса GridSearchCV и запустить\n",
    "решетчатый поиск в обычном режиме на наборе данных cancer."
   ]
  },
  {
   "cell_type": "code",
   "execution_count": 32,
   "id": "f090d728",
   "metadata": {},
   "outputs": [
    {
     "name": "stdout",
     "output_type": "stream",
     "text": [
      "Наилучшие параметры:\n",
      "{'classifier': SVC(C=10, gamma=0.01), 'classifier__C': 10, 'classifier__gamma': 0.01, 'preprocessing': StandardScaler()}\n",
      "\n",
      "Наил значение правильности перекр проверки: 0.99\n",
      "Правильность на тестовом наборе: 0.98\n"
     ]
    }
   ],
   "source": [
    "X_train, X_test, y_train, y_test = train_test_split(\n",
    "    cancer.data, cancer.target, random_state=0)\n",
    "\n",
    "grid = GridSearchCV(pipe, param_grid, cv=5)\n",
    "grid.fit(X_train, y_train)\n",
    "\n",
    "print(\"Наилучшие параметры:\\n{}\\n\".format(grid.best_params_))\n",
    "print(\"Наил значение правильности перекр проверки: {:.2f}\".format(grid.best_score_))\n",
    "print(\"Правильность на тестовом наборе: {:.2f}\".format(grid.score(X_test, y_test)))"
   ]
  },
  {
   "cell_type": "markdown",
   "id": "97e35a26",
   "metadata": {},
   "source": [
    "По итогам решатчатого поиска становится ясно, что модель SVC с\n",
    "предварительной обработкой StandardScaler, параметрами C=10 и\n",
    "gamma=0.01 дает наилучший результат."
   ]
  }
 ],
 "metadata": {
  "hide_input": false,
  "kernelspec": {
   "display_name": "Python 3 (ipykernel)",
   "language": "python",
   "name": "python3"
  },
  "language_info": {
   "codemirror_mode": {
    "name": "ipython",
    "version": 3
   },
   "file_extension": ".py",
   "mimetype": "text/x-python",
   "name": "python",
   "nbconvert_exporter": "python",
   "pygments_lexer": "ipython3",
   "version": "3.9.7"
  },
  "toc": {
   "base_numbering": 1,
   "nav_menu": {},
   "number_sections": true,
   "sideBar": true,
   "skip_h1_title": false,
   "title_cell": "Table of Contents",
   "title_sidebar": "Contents",
   "toc_cell": false,
   "toc_position": {},
   "toc_section_display": true,
   "toc_window_display": false
  },
  "varInspector": {
   "cols": {
    "lenName": 16,
    "lenType": 16,
    "lenVar": 40
   },
   "kernels_config": {
    "python": {
     "delete_cmd_postfix": "",
     "delete_cmd_prefix": "del ",
     "library": "var_list.py",
     "varRefreshCmd": "print(var_dic_list())"
    },
    "r": {
     "delete_cmd_postfix": ") ",
     "delete_cmd_prefix": "rm(",
     "library": "var_list.r",
     "varRefreshCmd": "cat(var_dic_list()) "
    }
   },
   "types_to_exclude": [
    "module",
    "function",
    "builtin_function_or_method",
    "instance",
    "_Feature"
   ],
   "window_display": false
  }
 },
 "nbformat": 4,
 "nbformat_minor": 5
}
