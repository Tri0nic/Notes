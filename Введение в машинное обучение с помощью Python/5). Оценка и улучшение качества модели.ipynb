{
 "cells": [
  {
   "cell_type": "code",
   "execution_count": 1,
   "id": "25f01cfa",
   "metadata": {},
   "outputs": [],
   "source": [
    "import mglearn\n",
    "import pandas as pd\n",
    "import numpy as np\n",
    "import matplotlib.pyplot as plt\n",
    "from sklearn.model_selection import train_test_split"
   ]
  },
  {
   "cell_type": "markdown",
   "id": "b1a37a97",
   "metadata": {},
   "source": [
    "# Перекрестная проверка"
   ]
  },
  {
   "cell_type": "markdown",
   "id": "d20772aa",
   "metadata": {},
   "source": [
    "- Перекрестная проверка представляет собой статистический метод оценки\n",
    "обобщающей способности, который является более устойчивым и\n",
    "основательным, чем разбиение данных на обучающий и тестовый наборы.\n",
    "- В перекрестной проверке данные разбиваются несколько раз и строится\n",
    "несколько моделей. Наиболее часто используемый вариант перекрестной\n",
    "проверки – k-блочная кросс-проверка (k-fold cross-validation), в которой\n",
    "k – это задаваемое пользователем число, как правило, 5 или 10.\n",
    "- Для каждого из этих пяти\n",
    "разбиений (splits) данных на обучающий и тестовый наборы мы\n",
    "вычисляем правильность. В итоге мы зафиксировали пять значений\n",
    "правильности. Процесс показан на рис. 5.1:"
   ]
  },
  {
   "cell_type": "code",
   "execution_count": 2,
   "id": "f17dc562",
   "metadata": {},
   "outputs": [
    {
     "data": {
      "image/png": "[encoded data removed]",
      "text/plain": [
       "<Figure size 864x144 with 1 Axes>"
      ]
     },
     "metadata": {
      "needs_background": "light"
     },
     "output_type": "display_data"
    }
   ],
   "source": [
    "mglearn.plots.plot_cross_validation()"
   ]
  },
  {
   "cell_type": "markdown",
   "id": "fcbdb1de",
   "metadata": {},
   "source": [
    "Рис. 5.1 Разбиение данных в пятиблочной перекрестной проверке"
   ]
  },
  {
   "cell_type": "markdown",
   "id": "3d42bba7",
   "metadata": {},
   "source": [
    "## Перекрестная проверка в библиотеке scikit-learn"
   ]
  },
  {
   "cell_type": "markdown",
   "id": "c7a45003",
   "metadata": {},
   "source": [
    "В scikit-learn перекрестная проверка реализована с помощью функции\n",
    "cross_val_score модуля model_selection. Аргументами функции\n",
    "cross_val_score являются:\n",
    "- оцениваемая модель\n",
    "- обучающие данные\n",
    "- фактические метки"
   ]
  },
  {
   "cell_type": "code",
   "execution_count": 3,
   "id": "5d9594d7",
   "metadata": {},
   "outputs": [
    {
     "name": "stdout",
     "output_type": "stream",
     "text": [
      "Значения правильности перекрестной проверки: [0.96666667 1.         0.93333333 0.96666667 1.        ]\n"
     ]
    }
   ],
   "source": [
    "from sklearn.model_selection import cross_val_score\n",
    "from sklearn.datasets import load_iris\n",
    "from sklearn.linear_model import LogisticRegression\n",
    "\n",
    "iris = load_iris()\n",
    "logreg = LogisticRegression(max_iter=1000)\n",
    "\n",
    "scores = cross_val_score(logreg, iris.data, iris.target)\n",
    "print(\"Значения правильности перекрестной проверки: {}\".format(scores))"
   ]
  },
  {
   "cell_type": "markdown",
   "id": "4af2fcc8",
   "metadata": {},
   "source": [
    "Мы\n",
    "можем изменить количество блоков, задав другое значение параметра cv:"
   ]
  },
  {
   "cell_type": "code",
   "execution_count": 4,
   "id": "4d380b58",
   "metadata": {},
   "outputs": [
    {
     "name": "stdout",
     "output_type": "stream",
     "text": [
      "Значения правильности перекрестной проверки: [1.         0.93333333 1.         1.         0.93333333 0.93333333\n",
      " 0.93333333 1.         1.         1.        ]\n"
     ]
    }
   ],
   "source": [
    "scores = cross_val_score(logreg, iris.data, iris.target, cv=10)\n",
    "print(\"Значения правильности перекрестной проверки: {}\".format(scores))"
   ]
  },
  {
   "cell_type": "markdown",
   "id": "6ce26c4b",
   "metadata": {},
   "source": [
    "Наиболее распространенный способ подытожить правильность,\n",
    "вычисленную в ходе перекрестной проверки, – это вычисление среднего\n",
    "значения:"
   ]
  },
  {
   "cell_type": "code",
   "execution_count": 5,
   "id": "0a6eaeae",
   "metadata": {},
   "outputs": [
    {
     "name": "stdout",
     "output_type": "stream",
     "text": [
      "Средняя правильность перекрестной проверки: 0.97\n"
     ]
    }
   ],
   "source": [
    "print(\"Средняя правильность перекрестной проверки: {:.2f}\".format(scores.mean()))"
   ]
  },
  {
   "cell_type": "markdown",
   "id": "0acde315",
   "metadata": {},
   "source": [
    "Используя усредненное значение правильности для перекрестной\n",
    "проверки, мы можем сделать вывод, что средняя правильность модели\n",
    "составит примерно 97%. Взглянув на все пять значений правильности,\n",
    "полученных в ходе пятиблочной перекрестной проверки, можно еще\n",
    "сделать вывод о том, что:\n",
    "- существует относительно высокий разброс\n",
    "значений правильности, вычисленных для блоков, от 100% до 93%.\n",
    "- Подобный результат может означать, что модель сильно зависит от\n",
    "конкретных блоков, использованных для обучения\n",
    "- а также это может\n",
    "быть обусловлено небольшим размером набора данных."
   ]
  },
  {
   "cell_type": "markdown",
   "id": "da69ade3",
   "metadata": {},
   "source": [
    "## Преимущества перекрестной проверки"
   ]
  },
  {
   "cell_type": "markdown",
   "id": "bbeb23a8",
   "metadata": {},
   "source": [
    "- Во-первых, вспомним что train_test_split выполняет\n",
    "случайное разбиение данных. Представьте себе, что при выполнении\n",
    "случайного разбиения данных нам «повезло», и все трудно\n",
    "классифицируемые примеры в конечном итоге попали в обучающий\n",
    "набор. В этом случае в тестовый набор попадут только «легкие» примеры,\n",
    "и правильность на тестовом наборе будет неправдоподобно высокой. И,\n",
    "наоборот, если нам «не повезло», все трудно классифицируемые примеры\n",
    "попадают в тестовый набор и поэтому мы получаем неправдоподобно\n",
    "низкую правильность.\n",
    "- Однако при использовании перекрестной\n",
    "проверки на каждой итерации в тестовый набор, использующийся для\n",
    "проверки модели, попадают разные примеры. Таким образом, модель\n",
    "должна хорошо обобщать все примеры в наборе данных, чтобы все\n",
    "значения правильности (или их среднее) были высокими.\n",
    "- Наличие нескольких разбиений дает определенную\n",
    "информацию о том, насколько наша модель чувствительна к выбору\n",
    "обучающего набора данных. \n",
    "- Применяя train_test_split, мы обычно\n",
    "используем 75% данных для обучения и 25% данных для оценки\n",
    "качества. Применяя пятиблочную перекрестную проверку, на каждой\n",
    "итерации для подгонки модели мы можем использовать 4/5 данных\n",
    "(80%). При использовании 10-блочной перекрестной проверки мы можем\n",
    "использовать для подгонки модели 9/10 данных (90%). Больший объем\n",
    "данных, как правило, приводит к построению более точных моделей.\n",
    "- Основной недостаток перекрестной проверки – увеличение стоимости\n",
    "вычислений. Поскольку теперь мы обучаем k моделей вместо одной\n",
    "модели, перекрестная проверка будет выполняться примерно в k раз\n",
    "медленнее, чем однократное разбиение данных.\n",
    "- Кросс-валидация не является способом\n",
    "построения модели, которую можно применить к новым данным.\n",
    "Перекрестная проверка не возвращает модель. При вызове\n",
    "cross_val_score строится несколько внутренних моделей, однако\n",
    "цель перекрестной проверки заключается только в том, чтобы\n",
    "оценить обобщающую способность данного алгоритма, обучив на\n",
    "определенном наборе данных."
   ]
  },
  {
   "cell_type": "markdown",
   "id": "8788c284",
   "metadata": {},
   "source": [
    "## Стратифицированная k-оболочная перекрестная проверка и другие стратегии"
   ]
  },
  {
   "cell_type": "markdown",
   "id": "709e121e",
   "metadata": {},
   "source": [
    "Описанное в предыдущем разделе разбиение данных на k блоков,\n",
    "начиная с первого k-го блока, не всегда является хорошей идеей, тк значения могут быть отсортированы. "
   ]
  },
  {
   "cell_type": "markdown",
   "id": "aeeb036e",
   "metadata": {},
   "source": [
    "Поскольку обычная k-блочная стратегия в данном случае терпит\n",
    "неудачу, вместо нее библиотека scikit-learn предлагает использовать\n",
    "для классификации стратифицированную k-блочную перекрестную\n",
    "проверку (stratified k-fold cross-validation). В стратифицированной\n",
    "перекрестной проверке мы разбиваем данные таким образом, чтобы\n",
    "пропорции классов в каждом блоке в точности соответствовали\n",
    "пропорциям классов в наборе данных, как это показано на рис. 5.2:"
   ]
  },
  {
   "cell_type": "code",
   "execution_count": 6,
   "id": "1bc4c1f7",
   "metadata": {},
   "outputs": [
    {
     "data": {
      "image/png": "[encoded data removed]",
      "text/plain": [
       "<Figure size 864x360 with 2 Axes>"
      ]
     },
     "metadata": {
      "needs_background": "light"
     },
     "output_type": "display_data"
    }
   ],
   "source": [
    "mglearn.plots.plot_stratified_cross_validation()"
   ]
  },
  {
   "cell_type": "markdown",
   "id": "0cedb5c6",
   "metadata": {},
   "source": [
    "Рис. 5.2 Сравнение стандартной перекрестной проверки и стратифицированной\n",
    "перекрестной проверки, когда данные упорядочены по меткам классов"
   ]
  },
  {
   "cell_type": "markdown",
   "id": "02d1cb47",
   "metadata": {},
   "source": [
    "- Например, если 90% примеров относятся к классу А, а 10% примеров\n",
    "– к классу В, то стратифицированная перекрестная проверка\n",
    "выполняется так, чтобы в каждом блоке 90% примеров принадлежали к\n",
    "классу А, а 10% примеров – к классу B.\n",
    "- Использование для оценки классификатора стратифицированной k-блочной перекрестной проверки вместо обычной k-блочной\n",
    "перекрестной является хорошей идеей, поскольку позволяет получить\n",
    "более надежные оценки обобщающей способности. В ситуации, когда\n",
    "лишь 10% примеров принадлежат к классу В, использование стандартной\n",
    "k-блочной перекрестной проверки может привести к тому, что один из\n",
    "блоков будет полностью состоять из примеров, относящихся к классу А.\n",
    "Использование этого блока в качестве тестового набора не даст особой\n",
    "информации о качестве работы классификатора."
   ]
  },
  {
   "cell_type": "markdown",
   "id": "8503d95c",
   "metadata": {},
   "source": [
    "### Больше контроля над перекрестной проверкой"
   ]
  },
  {
   "cell_type": "markdown",
   "id": "0191b897",
   "metadata": {},
   "source": [
    "- Ранее мы уже видели, что можно настроить количество блоков,\n",
    "используемое в cross_val_score, с помощью параметра cv. Однако\n",
    "scikit-learn позволяет значительно точнее настроить процесс\n",
    "перекрестной проверки, используя в качестве параметра cv генератор\n",
    "разбиений перекрестной проверки (cross-validation splitter).\n",
    "- В\n",
    "большинстве случаев значения параметров, выставленные по умолчанию для k-блочной перекрестной проверки в случае регрессии и\n",
    "стратифицированной k-блочной проверки в случае классификации дают\n",
    "хорошие результаты, однако бывают ситуации, когда вы, возможно,\n",
    "захотите использовать другую стратегию.\n",
    "- Допустим, мы хотим\n",
    "применить k-блочную перекрестную проверку к классификационному\n",
    "набору данных, чтобы воспроизвести чьи-то результаты. Для этого мы\n",
    "должны сначала импортировать класс KFold из модуля model_selection\n",
    "и создать его экземпляр, задав нужное количество блоков:"
   ]
  },
  {
   "cell_type": "code",
   "execution_count": 7,
   "id": "5e00877d",
   "metadata": {},
   "outputs": [],
   "source": [
    "from sklearn.model_selection import KFold\n",
    "kfold = KFold(n_splits=5)"
   ]
  },
  {
   "cell_type": "markdown",
   "id": "180b54d7",
   "metadata": {},
   "source": [
    "Затем мы можем передать генератор разбиений kfold в качестве\n",
    "параметра cv в функцию cross_val_score."
   ]
  },
  {
   "cell_type": "code",
   "execution_count": 8,
   "id": "0ffc5478",
   "metadata": {},
   "outputs": [
    {
     "name": "stdout",
     "output_type": "stream",
     "text": [
      "Значения правильности перекрестной проверки:\n",
      "[1.         1.         0.86666667 0.93333333 0.83333333]\n"
     ]
    }
   ],
   "source": [
    "print(\"Значения правильности перекрестной проверки:\\n{}\".format(\n",
    "    cross_val_score(logreg, iris.data, iris.target, cv=kfold)))"
   ]
  },
  {
   "cell_type": "markdown",
   "id": "8f69f4e2",
   "metadata": {},
   "source": [
    "Убедимся, что использование трехблочной\n",
    "(нестратифицированной) перекрестной проверки для набора данных\n",
    "iris действительно является очень плохой идеей:"
   ]
  },
  {
   "cell_type": "code",
   "execution_count": 9,
   "id": "a2e480f9",
   "metadata": {},
   "outputs": [
    {
     "name": "stdout",
     "output_type": "stream",
     "text": [
      "Значения правильности перекрестной проверки:\n",
      "[0. 0. 0.]\n"
     ]
    }
   ],
   "source": [
    "kfold = KFold(n_splits=3)\n",
    "print(\"Значения правильности перекрестной проверки:\\n{}\".format(\n",
    "    cross_val_score(logreg, iris.data, iris.target, cv=kfold)))"
   ]
  },
  {
   "cell_type": "markdown",
   "id": "c92c10fe",
   "metadata": {},
   "source": [
    "Вспомним, что в наборе данных iris каждый блок соответствует\n",
    "одному классу и поэтому, применив нестратифицированную\n",
    "перекрестную проверку, мы ничего не сможем узнать о правильности\n",
    "модели. "
   ]
  },
  {
   "cell_type": "markdown",
   "id": "2d766e17",
   "metadata": {},
   "source": [
    "Еще один способ решения этой проблемы состоит в том, чтобы\n",
    "вместо стратификации перемешать данные и тем самым нарушить\n",
    "порядок сортировки примеров, определяемый их метками. \n",
    "- Мы можем\n",
    "сделать это, передав генератору KFold параметр shuffle=True. Если мы\n",
    "перемешиваем данные, нам необходимо зафиксировать random_state,\n",
    "чтобы воспроизвести результат перемешивания. В противном случае\n",
    "каждый прогон cross_val_score будет давать разный результат,\n",
    "поскольку каждый раз используется разное разбиение (это не является\n",
    "проблемой, но может привести к неожиданным результатам).\n",
    "Перемешивание данных перед их разбиением дает гораздо лучший\n",
    "результат:"
   ]
  },
  {
   "cell_type": "code",
   "execution_count": 10,
   "id": "f5ff42ea",
   "metadata": {},
   "outputs": [
    {
     "name": "stdout",
     "output_type": "stream",
     "text": [
      "Значения правильности перекрестной проверки:\n",
      "[0.98 0.96 0.96]\n"
     ]
    }
   ],
   "source": [
    "kfold = KFold(n_splits=3, shuffle=True, random_state=0)\n",
    "print(\"Значения правильности перекрестной проверки:\\n{}\".format(\n",
    "    cross_val_score(logreg, iris.data, iris.target, cv=kfold)))"
   ]
  },
  {
   "cell_type": "markdown",
   "id": "a5998dc8",
   "metadata": {},
   "source": [
    "### Перекрестная проверка с исключением по одному"
   ]
  },
  {
   "cell_type": "markdown",
   "id": "77ff50aa",
   "metadata": {},
   "source": [
    "Еще один часто используемый метод перекрестной проверки –\n",
    "исключение по одному (leave-one-out). Перекрестную проверку с\n",
    "исключением по одному можно представить в виде k-блочной\n",
    "перекрестной проверки, в которой каждый блок представляет собой\n",
    "отдельный пример. По каждому разбиению вы выбираете одну точку\n",
    "данных в качестве тестового набора. Этот вид проверки может занимать\n",
    "очень много времени, особенно при работе с большими наборами данных,\n",
    "однако иногда позволяет получить более точные оценки на небольших\n",
    "наборах данных:"
   ]
  },
  {
   "cell_type": "code",
   "execution_count": 11,
   "id": "b4170516",
   "metadata": {},
   "outputs": [
    {
     "name": "stdout",
     "output_type": "stream",
     "text": [
      "Количество итераций:  150\n",
      "Средняя правильность: 0.97\n"
     ]
    }
   ],
   "source": [
    "from sklearn.model_selection import LeaveOneOut\n",
    "loo = LeaveOneOut()\n",
    "scores = cross_val_score(logreg, iris.data, iris.target, cv=loo)\n",
    "print(\"Количество итераций: \", len(scores))\n",
    "print(\"Средняя правильность: {:.2f}\".format(scores.mean()))"
   ]
  },
  {
   "cell_type": "markdown",
   "id": "dad59ef2",
   "metadata": {},
   "source": [
    "### Перекрестная проверка со случайными перестановками при разбиении"
   ]
  },
  {
   "cell_type": "markdown",
   "id": "8c7136f9",
   "metadata": {},
   "source": [
    "Еще одной, очень гибкой стратегией перекрестной проверки является\n",
    "перекрестная проверка со случайными перестановками при разбиении\n",
    "(shuffle-split cross-validation). В этом виде проверки каждое разбиение\n",
    "выбирает train_size точек для обучающего набора и test_size точек для\n",
    "тестового набора (при этом обучающее и тестовое подмножества не\n",
    "пересекаются). Точки выбираются с возвращением. Разбиение\n",
    "повторяется n_iter раз. "
   ]
  },
  {
   "cell_type": "markdown",
   "id": "0c1bc11d",
   "metadata": {},
   "source": [
    "Рис. 5.3 иллюстрирует четырехпроходное\n",
    "разбиение набора данных, состоящего из 10 точек, на обучающий набор\n",
    "из 5 точек и тестовый набор из 2 точек (чтобы задать абсолютные\n",
    "размеры этих подмножеств вы можете использовать для train_size и\n",
    "test_size целочисленные значения, либо числа с плавающей точкой,\n",
    "чтобы задать доли от общей выборки):"
   ]
  },
  {
   "cell_type": "code",
   "execution_count": 12,
   "id": "46c00096",
   "metadata": {},
   "outputs": [
    {
     "data": {
      "image/png": "[encoded data removed]",
      "text/plain": [
       "<Figure size 720x144 with 1 Axes>"
      ]
     },
     "metadata": {
      "needs_background": "light"
     },
     "output_type": "display_data"
    }
   ],
   "source": [
    "mglearn.plots.plot_shuffle_split()"
   ]
  },
  {
   "cell_type": "markdown",
   "id": "edebf85c",
   "metadata": {},
   "source": [
    "Рис. 5.3 Перекрестная проверка со случайными перестановками при разбиении\n",
    "для набора данных из 10 точек, train_size=5, test_size=2 и n_iter=4"
   ]
  },
  {
   "cell_type": "markdown",
   "id": "eadbd250",
   "metadata": {},
   "source": [
    "Программный код, приведенный ниже, 10 раз разбивает данные на\n",
    "50%-ный обучающий набор и 50%-ный тестовый набор:"
   ]
  },
  {
   "cell_type": "code",
   "execution_count": 13,
   "id": "3c681799",
   "metadata": {},
   "outputs": [
    {
     "name": "stdout",
     "output_type": "stream",
     "text": [
      "Значения правильности перекрестной проверки:\n",
      "[0.97333333 0.97333333 0.94666667 0.97333333 0.98666667 1.\n",
      " 0.94666667 0.96       1.         0.98666667]\n"
     ]
    }
   ],
   "source": [
    "from sklearn.model_selection import ShuffleSplit\n",
    "shuffle_split = ShuffleSplit(test_size=.5, train_size=.5, n_splits=10)\n",
    "scores = cross_val_score(logreg, iris.data, iris.target, cv=shuffle_split)\n",
    "print(\"Значения правильности перекрестной проверки:\\n{}\".format(scores))"
   ]
  },
  {
   "cell_type": "markdown",
   "id": "250a77b9",
   "metadata": {},
   "source": [
    "- Перекрестная проверка со случайными перестановками при\n",
    "разбиении позволяет задавать количество итераций независимо от\n",
    "размеров обучающего и тестового наборов, что иногда может быть\n",
    "полезно. \n",
    "- Кроме того, этот метод позволяет использовать на каждой\n",
    "итерации лишь часть данных (значения train_size и test_size\n",
    "необязательно должны в сумме давать 1). Подобное прореживание\n",
    "данных может быть полезно при работе с большими наборами данных.\n",
    "- Существует также стратифицированный вариант ShuffleSplit,\n",
    "названный StratifiedShuffleSplit, который позволяет получить более\n",
    "надежные результаты при решении задач классификации"
   ]
  },
  {
   "cell_type": "markdown",
   "id": "87e5491b",
   "metadata": {},
   "source": [
    "### Перекрестная проверка с использованием групп"
   ]
  },
  {
   "cell_type": "markdown",
   "id": "6d47d17a",
   "metadata": {},
   "source": [
    "Еще одна весьма распространенная настройка для перекрестной\n",
    "проверки применяется, когда данные содержат сильно взаимосвязанные\n",
    "между собой группы."
   ]
  },
  {
   "cell_type": "markdown",
   "id": "1c155a8b",
   "metadata": {},
   "source": [
    "Допустим, вы хотите построить систему\n",
    "распознавания эмоций по фотографиям лиц и для этого вы собрали\n",
    "набор изображений 100 человек, в котором каждый человек\n",
    "сфотографирован несколько раз, чтобы зафиксировать разные эмоции.\n",
    "Цель заключается в том, чтобы построить классификатор, который\n",
    "сможет правильно определить эмоции людей, не включенных в этот\n",
    "набор изображений. В данном случае для оценки качества работы\n",
    "классификатора вы можете использовать традиционную\n",
    "стратифицированную перекрестную проверку. Однако, вполне вероятно,\n",
    "что фотографии одного и того же человека попадут как в обучающий, так\n",
    "и в тестовый наборы. По сравнению с совершенно новым лицом классификатору намного проще будет определить эмоции по лицу,\n",
    "которое уже встречалось ему в обучающем наборе. Чтобы точно оценить\n",
    "способность модели обобщать результат на новые лица, необходимо\n",
    "убедиться в том, что обучающий и тестовый наборы содержат\n",
    "изображения разных людей.\n",
    "- Для решения этой задачи мы можем воспользоваться GroupKFold,\n",
    "принимающий в качестве аргумента массив groups. С помощью него мы\n",
    "указываем, какой человек изображен на снимке. В данном случае массив\n",
    "groups указывает группы данных, которые не следует разбивать при\n",
    "создании обучающего и тестового наборов, при этом их не следует путать\n",
    "с метками классов."
   ]
  },
  {
   "cell_type": "markdown",
   "id": "fbad4ee6",
   "metadata": {},
   "source": [
    "Приведем пример с использованием синтетического набора\n",
    "данных, группировка данных задана массивом groups. Набор данных\n",
    "состоит из 12 точек данных, и для каждой точки массив groups задает\n",
    "группу (допустим, пациента), к которой относится эта точка. У нас\n",
    "существуют четыре группы, первые три примера принадлежат к первой\n",
    "группе, следующие четыре примера принадлежат ко второй группе и так\n",
    "далее:"
   ]
  },
  {
   "cell_type": "code",
   "execution_count": 14,
   "id": "7571374a",
   "metadata": {},
   "outputs": [
    {
     "name": "stdout",
     "output_type": "stream",
     "text": [
      "Значения правильности перекрестной проверки:\n",
      "[0.75       0.6        0.66666667]\n"
     ]
    }
   ],
   "source": [
    "from sklearn.model_selection import GroupKFold\n",
    "from sklearn.datasets import make_blobs\n",
    "# создаем синтетический набор данных\n",
    "X, y = make_blobs(n_samples=12, random_state=0)\n",
    "# предположим, что первые три примера относятся к одной и той же группе,\n",
    "# затем следующие четыре и так далее.\n",
    "groups = [0, 0, 0, 1, 1, 1, 1, 2, 2, 3, 3, 3]\n",
    "scores = cross_val_score(logreg, X, y, groups=groups, cv=GroupKFold(n_splits=3))\n",
    "print(\"Значения правильности перекрестной проверки:\\n{}\".format(scores))"
   ]
  },
  {
   "cell_type": "markdown",
   "id": "afae5570",
   "metadata": {},
   "source": [
    "Примеры не нужно сортировать по группам, мы сделали это в\n",
    "иллюстративных целях. Разбиения, вычисляемые на основе этих меток,\n",
    "показаны на рис. 5.4.\n",
    "Видно, что при выполнении разбиении каждая группа полностью\n",
    "попадает либо в обучающий набор, либо в тестовый набор:"
   ]
  },
  {
   "cell_type": "code",
   "execution_count": 15,
   "id": "1f25670c",
   "metadata": {},
   "outputs": [
    {
     "data": {
      "image/png": "[encoded data removed]",
      "text/plain": [
       "<Figure size 720x144 with 1 Axes>"
      ]
     },
     "metadata": {
      "needs_background": "light"
     },
     "output_type": "display_data"
    }
   ],
   "source": [
    "mglearn.plots.plot_group_kfold()"
   ]
  },
  {
   "cell_type": "markdown",
   "id": "6354666c",
   "metadata": {},
   "source": [
    "# Решетчатый поиск"
   ]
  },
  {
   "cell_type": "markdown",
   "id": "beb153c1",
   "metadata": {},
   "source": [
    "Поиск оптимальных значений\n",
    "параметров является общераспространенной задачей, библиотека\n",
    "scikit-learn предлагает стандартные методы, позволяющие решить ее.\n",
    "Наиболее часто используемый метод – это решетчатый поиск (grid\n",
    "search), который по сути является попыткой перебрать все возможные\n",
    "комбинации интересующих параметров."
   ]
  },
  {
   "cell_type": "markdown",
   "id": "dc3c4f81",
   "metadata": {},
   "source": [
    "Рассмотрим применение ядерного метода SVM с ядром RBF\n",
    "(радиальной базисной функцией), реализованного в классе SVC. Как мы\n",
    "уже говорили в главе 2, в ядерном методе опорных векторов есть два\n",
    "важных параметра: ширина ядра gamma и параметр регуляризации C.\n",
    "Допустим, мы хотим попробовать значения 0.001, 0.01, 0.1, 1, 10 и 100\n",
    "для параметра С и то же самое для параметра gamma. Поскольку нам\n",
    "нужно попробовать шесть различных настроек для C и gamma, получается\n",
    "36 комбинаций параметров в целом. Все возможные комбинации\n",
    "формируют таблицу (которую еще называют решеткой или сеткой)\n",
    "настроек параметров для SVM"
   ]
  },
  {
   "cell_type": "markdown",
   "id": "126c0005",
   "metadata": {},
   "source": [
    "## Простой решетчатый поиск"
   ]
  },
  {
   "cell_type": "markdown",
   "id": "9c7041b8",
   "metadata": {},
   "source": [
    "Мы можем реализовать простой решетчатый поиск с помощью\n",
    "вложенных циклов for по двум параметрам, обучая и оценивая\n",
    "классификатор для каждой комбинации:"
   ]
  },
  {
   "cell_type": "code",
   "execution_count": 16,
   "id": "5bd0ab6d",
   "metadata": {},
   "outputs": [
    {
     "name": "stdout",
     "output_type": "stream",
     "text": [
      "Размер обучающего набора: 112 размер тестового набора: 38\n",
      "Наилучшее значение правильности: 0.97\n",
      "Наилучшие значения параметров: {'C': 100, 'gamma': 0.001}\n"
     ]
    }
   ],
   "source": [
    "# naive grid search implementation\n",
    "from sklearn.svm import SVC\n",
    "X_train, X_test, y_train, y_test = train_test_split(\n",
    "    iris.data, iris.target, random_state=0)\n",
    "print(\"Размер обучающего набора: {} размер тестового набора: {}\".format(\n",
    "      X_train.shape[0], X_test.shape[0]))\n",
    "\n",
    "best_score = 0\n",
    "\n",
    "for gamma in [0.001, 0.01, 0.1, 1, 10, 100]:\n",
    "    for C in [0.001, 0.01, 0.1, 1, 10, 100]:\n",
    "        # для каждой комбинации параметров обучаем SVC\n",
    "        svm = SVC(gamma=gamma, C=C)\n",
    "        svm.fit(X_train, y_train)\n",
    "        # оцениваем качество SVC на тестовом наборе\n",
    "        score = svm.score(X_test, y_test)\n",
    "        # если получаем наилучшее значение правильности, сохраняем значение и параметры\n",
    "        if score > best_score:\n",
    "            best_score = score\n",
    "            best_parameters = {'C': C, 'gamma': gamma}\n",
    "\n",
    "print(\"Наилучшее значение правильности: {:.2f}\".format(best_score))\n",
    "print(\"Наилучшие значения параметров: {}\".format(best_parameters))"
   ]
  },
  {
   "cell_type": "markdown",
   "id": "f8edd00b",
   "metadata": {},
   "source": [
    "## Опасность переобучения параметров и проверочный набор данных"
   ]
  },
  {
   "cell_type": "markdown",
   "id": "35245888",
   "metadata": {},
   "source": [
    "Получив такой результат, мы могли бы поддаться искушению и заявить,\n",
    "что нашли модель, которая дает 97%-ную правильность на нашем наборе\n",
    "данных. Однако это заявление может быть чрезмерно оптимистичным\n",
    "(или просто неверным) по следующей причине: мы перебрали множество\n",
    "значений параметров и выбрали ту комбинацию значений, которая дает\n",
    "наилучшую правильность на тестовом наборе, но это вовсе не означает, что на новых данных мы получим такое же значение правильности.\n",
    "- Поскольку мы использовали тестовый набор для настройки параметров,\n",
    "мы больше не можем использовать его для оценки качества модели. Это\n",
    "та же самая причина, по которой нам изначально нужно разбивать\n",
    "данные на обучающий и тестовый наборы. Теперь для оценки качества\n",
    "модели нам необходим независимый набор данных, то есть набор,\n",
    "который не использовался для построения модели и настройки ее\n",
    "параметров.\n",
    "- Один из способов решения этой проблемы заключается в том, чтобы\n",
    "разбить данные еще раз, таким образом, мы получаем три набора:\n",
    "- - обучающий набор для построения модели\n",
    "- - проверочный\n",
    "(валидационный) набор для выбора параметров модели\n",
    "- - тестовый набор для оценки качества работы выбранных параметров. \n",
    "\n",
    "Рис.5.5 показывает, как это выглядит:"
   ]
  },
  {
   "cell_type": "code",
   "execution_count": 17,
   "id": "c87479b7",
   "metadata": {},
   "outputs": [
    {
     "data": {
      "image/png": "[encoded data removed]",
      "text/plain": [
       "<Figure size 1080x72 with 1 Axes>"
      ]
     },
     "metadata": {
      "needs_background": "light"
     },
     "output_type": "display_data"
    }
   ],
   "source": [
    "mglearn.plots.plot_threefold_split()"
   ]
  },
  {
   "cell_type": "markdown",
   "id": "d02c409a",
   "metadata": {},
   "source": [
    "Рис. 5.5 Тройное разбиение данных на обучающий набор,\n",
    "проверочный набор и тестовый набор"
   ]
  },
  {
   "cell_type": "markdown",
   "id": "bc4c4d9d",
   "metadata": {},
   "source": [
    "После выбора наилучших параметров с помощью проверочного\n",
    "набора проверки, мы можем заново построить модель, используя\n",
    "найденные настройки, но теперь на основе объединенных обучающих и\n",
    "проверочных данных. Таким образом, мы можем использовать для\n",
    "построения модели максимально возможное количество данных. Это\n",
    "приводит к следующему программному коду:"
   ]
  },
  {
   "cell_type": "code",
   "execution_count": 18,
   "id": "43bd87c3",
   "metadata": {},
   "outputs": [
    {
     "name": "stdout",
     "output_type": "stream",
     "text": [
      "Размер обучающего набора: 84 размер проверочного набора: 28 размер тестового набора: 38\n",
      "\n",
      "Лучшее значение правильности на проверочном наборе: 0.96\n",
      "Наилучшие значения параметров:  {'C': 10, 'gamma': 0.001}\n",
      "Правильность на тестовом наборе с наилучшими параметрами: 0.92\n"
     ]
    }
   ],
   "source": [
    "from sklearn.svm import SVC\n",
    "# разбиваем данные на обучающий+проверочный набор и тестовый набор\n",
    "X_trainval, X_test, y_trainval, y_test = train_test_split(\n",
    "    iris.data, iris.target, random_state=0)\n",
    "# разбиваем обучающий+проверочный набор на обучающий и проверочный наборы\n",
    "X_train, X_valid, y_train, y_valid = train_test_split(\n",
    "    X_trainval, y_trainval, random_state=1)\n",
    "print(\"Размер обучающего набора: {} размер проверочного набора: {} размер тестового набора:\"\n",
    "    \" {}\\n\".format(X_train.shape[0], X_valid.shape[0], X_test.shape[0]))\n",
    "best_score = 0\n",
    "for gamma in [0.001, 0.01, 0.1, 1, 10, 100]:\n",
    "    for C in [0.001, 0.01, 0.1, 1, 10, 100]:\n",
    "        # для каждой комбинации параметров обучаем SVC\n",
    "        svm = SVC(gamma=gamma, C=C)\n",
    "        svm.fit(X_train, y_train)\n",
    "        # оцениваем качество SVC на тестовом наборе\n",
    "        score = svm.score(X_valid, y_valid)\n",
    "        # если получаем наилучшее значение правильности, сохраняем значение и параметры\n",
    "        if score > best_score:\n",
    "            best_score = score\n",
    "            best_parameters = {'C': C, 'gamma': gamma}\n",
    "# заново строим модель на наборе, полученном в результате объединения обучающих\n",
    "# и проверочных данных, оцениваем качество модели на тестовом наборе\n",
    "svm = SVC(**best_parameters)\n",
    "svm.fit(X_trainval, y_trainval)\n",
    "test_score = svm.score(X_test, y_test)\n",
    "print(\"Лучшее значение правильности на проверочном наборе: {:.2f}\".format(best_score))\n",
    "print(\"Наилучшие значения параметров: \", best_parameters)\n",
    "print(\"Правильность на тестовом наборе с наилучшими параметрами: {:.2f}\".format(test_score))"
   ]
  },
  {
   "cell_type": "markdown",
   "id": "a8e0dc7b",
   "metadata": {},
   "source": [
    "- Лучшее значение правильности на проверочном наборе составляет\n",
    "96%, что немного ниже значения правильности, полученного для\n",
    "тестового набора ранее, вероятно, из-за того, что мы использовали\n",
    "меньше данных для обучения модели (размер X_train теперь стал\n",
    "меньше, поскольку что мы разбили наш набор данных дважды).\n",
    "- Однако\n",
    "значение правильности на тестовом наборе, значение, которое\n",
    "показывает реальную обобщающую способность – стало еще ниже, 92%.\n",
    "Таким образом, мы можем утверждать, что правильность классификации\n",
    "новых данных составляет 92%, а не 97%, как мы думали ранее!\n",
    "- Любой выбор, сделанный,\n",
    "исходя из правильности на тестовом наборе, «сливает» модели\n",
    "информацию тестового набора. Поэтому важно иметь отдельный\n",
    "тестовый набор, который используется лишь для итоговой оценки.\n",
    "Осуществление всего разведочного анализа и отбора модели с помощью\n",
    "комбинации обучающего и проверочного наборов и резервирование\n",
    "тестового набора для итоговой оценки является хорошей практикой.\n",
    "- Данная практика является верной даже при проведении разведочной\n",
    "визуализации. Строго говоря, оценка качества моделей и выбор\n",
    "наилучшей из них с помощью тестового набора, использующегося для\n",
    "отбора параметров, приведет к чрезмерно оптимистичной оценке\n",
    "правильности модели"
   ]
  },
  {
   "cell_type": "markdown",
   "id": "42eee4c1",
   "metadata": {},
   "source": [
    "Грубо говоря, без проверочного набора, когда мы проверяем модель и подгоняем коэффициенты на тестовом наборе, наши коэффициенты могут быть слишком зависить от тестового набора и любые отклонения от тестового набора покажут другую правильность модели. Чтобы узнать реальную правильность, мы подгоняем коэффициенты на проверочном наборе (вместо тестового), а затем проверяем их правильность на новых данных в виде тестового набора, которые никак не участвовали в процессе обучения."
   ]
  },
  {
   "cell_type": "markdown",
   "id": "b6ee8266",
   "metadata": {},
   "source": [
    "## Решетчатый поиск с перекрестной проверкой"
   ]
  },
  {
   "cell_type": "markdown",
   "id": "766028a8",
   "metadata": {},
   "source": [
    "- Хотя только что рассмотренный нами метод разбиения данных на\n",
    "обучающий, проверочный и тестовый наборы является вполне рабочим\n",
    "и относительно широко используемым, он весьма чувствителен к\n",
    "правильности разбиения данных. \n",
    "- Взглянув на вывод, приведенный для\n",
    "предыдущего фрагмента программного кода, мы видим, что GridSearchCV выбрал в качестве лучших параметров 'C': 10, 'gamma': 0.001, тогда\n",
    "как вывод, приведенный для программного кода в предыдущем разделе,\n",
    "сообщает нам, что наилучшими параметрами являются 'C': 100,\n",
    "'gamma': 0.001. \n",
    "- Для лучшей оценки обобщающей способности вместо\n",
    "одного разбиения данных на обучающий и проверочный наборы мы\n",
    "можем воспользоваться перекрестной проверкой. Теперь качество\n",
    "модели оценивается для каждой комбинации параметров по всем\n",
    "разбиениям перекрестной проверки. Этот метод можно реализовать с\n",
    "помощью следующего программного кода:"
   ]
  },
  {
   "cell_type": "code",
   "execution_count": 19,
   "id": "57654fef",
   "metadata": {},
   "outputs": [
    {
     "data": {
      "text/plain": [
       "SVC(C=10, gamma=0.1)"
      ]
     },
     "execution_count": 19,
     "metadata": {},
     "output_type": "execute_result"
    }
   ],
   "source": [
    "for gamma in [0.001, 0.01, 0.1, 1, 10, 100]:\n",
    "    for C in [0.001, 0.01, 0.1, 1, 10, 100]:\n",
    "        # для каждой комбинации параметров,\n",
    "        # обучаем SVC\n",
    "        svm = SVC(gamma=gamma, C=C)\n",
    "        # выполняем перекрестную проверку\n",
    "        scores = cross_val_score(svm, X_trainval, y_trainval, cv=5)\n",
    "        # вычисляем среднюю правильность перекрестной проверки\n",
    "        score = np.mean(scores)\n",
    "        # если получаем лучшее значение правильности, сохраняем значение и параметры\n",
    "        if score > best_score:\n",
    "            best_score = score\n",
    "            best_parameters = {'C': C, 'gamma': gamma}\n",
    "# заново строим модель на наборе, полученном в результате\n",
    "# объединения обучающих и проверочных данных\n",
    "svm = SVC(**best_parameters)\n",
    "svm.fit(X_trainval, y_trainval)"
   ]
  },
  {
   "cell_type": "markdown",
   "id": "585f66e9",
   "metadata": {},
   "source": [
    "Чтобы c помощью пятиблочной перекрестной проверки оценить\n",
    "правильность SVM для конкретной комбинации значений C и gamma, нам\n",
    "необходимо обучить 36*5=180 моделей. Как вы понимаете, основным\n",
    "недостатком использования перекрестной проверки является время,\n",
    "которое требуется для обучения всех этих моделей."
   ]
  },
  {
   "cell_type": "markdown",
   "id": "48593316",
   "metadata": {},
   "source": [
    "Как мы уже говорили ранее, перекрестная проверка – это способ\n",
    "оценить качество работы конкретного алгоритма на определенном\n",
    "наборе данных. Однако она часто используется в сочетании с\n",
    "методами поиска параметров типа решетчатного поиска. По этой\n",
    "причине многие люди в разговорной речи под термином\n",
    "перекрестная проверка\n",
    "(cross-validation) подразумевают\n",
    "решетчатый поиск с перекрестной проверкой."
   ]
  },
  {
   "attachments": {
    "image.png": {
     "image/png": "[encoded data removed]"
    }
   },
   "cell_type": "markdown",
   "id": "bc968afb",
   "metadata": {},
   "source": [
    "![image.png](attachment:image.png)"
   ]
  },
  {
   "cell_type": "markdown",
   "id": "bae955fc",
   "metadata": {},
   "source": [
    "- Поскольку решетчатый поиск с перекрестной проверкой является\n",
    "весьма распространенным методом настройки параметров, библиотека\n",
    "scikit-learn предлагает класс GridSearchCV, в котором решетчатый\n",
    "поиск реализован в виде модели. \n",
    "- Чтобы воспользоваться классом\n",
    "GridSearchCV, сначала необходимо указать искомые параметры с\n",
    "помощью $словаря$. GridSearchCV построит все необходимые модели.\n",
    "Ключами словаря являются имена настраиваемых параметров (в данном\n",
    "случае С и gamma), а значениями – тестируемые настройки параметров.\n",
    "Перебор значений 0.001, 0.01, 0.1, 1, 10 и 100 для C и gamma требует\n",
    "словаря следующего вида:"
   ]
  },
  {
   "cell_type": "code",
   "execution_count": 20,
   "id": "b7fdd928",
   "metadata": {},
   "outputs": [
    {
     "name": "stdout",
     "output_type": "stream",
     "text": [
      "Сетка параметров:\n",
      "{'C': [0.001, 0.01, 0.1, 1, 10, 100], 'gamma': [0.001, 0.01, 0.1, 1, 10, 100]}\n"
     ]
    }
   ],
   "source": [
    "param_grid = {'C': [0.001, 0.01, 0.1, 1, 10, 100],\n",
    "              'gamma': [0.001, 0.01, 0.1, 1, 10, 100]}\n",
    "\n",
    "print(\"Сетка параметров:\\n{}\".format(param_grid))"
   ]
  },
  {
   "cell_type": "markdown",
   "id": "a9464ac3",
   "metadata": {},
   "source": [
    "Теперь мы можем создать экземпляр класса GridSearchCV, передав\n",
    "модель (SVC), сетку искомых параметров (param_grid), а также стратегию\n",
    "перекрестной проверки, которую мы хотим использовать (допустим,\n",
    "пятиблочную стратифицированную перекрестную проверку):"
   ]
  },
  {
   "cell_type": "code",
   "execution_count": 21,
   "id": "26d11fa1",
   "metadata": {},
   "outputs": [],
   "source": [
    "from sklearn.model_selection import GridSearchCV\n",
    "from sklearn.svm import SVC\n",
    "grid_search = GridSearchCV(SVC(), param_grid, cv=5)"
   ]
  },
  {
   "cell_type": "markdown",
   "id": "439f45f5",
   "metadata": {},
   "source": [
    "Вместо разбиения на обучающий и проверочный набор,\n",
    "использованного нами ранее, GridSearchCV запустит перекрестную\n",
    "проверку. Однако нам по-прежнему нужно разделить данные на\n",
    "обучающий и тестовый наборы, чтобы избежать переобучения\n",
    "параметров:"
   ]
  },
  {
   "cell_type": "code",
   "execution_count": 22,
   "id": "c5236548",
   "metadata": {},
   "outputs": [],
   "source": [
    "X_train, X_test, y_train, y_test = train_test_split(\n",
    "    iris.data, iris.target, random_state=0)"
   ]
  },
  {
   "cell_type": "markdown",
   "id": "cf626eda",
   "metadata": {},
   "source": [
    "Модель scikit-learn, которая создается с помощью другой модели называется метамоделью (metaestimator\n",
    "). GridSearchCV является наиболее часто используемой метамоделью, но об этом мы\n",
    "поговорим позже"
   ]
  },
  {
   "cell_type": "markdown",
   "id": "955c5b88",
   "metadata": {},
   "source": [
    "Созданный нами объект grid_search аналогичен классификатору, мы\n",
    "можем вызвать стандартные методы fit, predict и score от его имени:"
   ]
  },
  {
   "cell_type": "code",
   "execution_count": 23,
   "id": "99f56599",
   "metadata": {},
   "outputs": [
    {
     "data": {
      "text/plain": [
       "GridSearchCV(cv=5, estimator=SVC(),\n",
       "             param_grid={'C': [0.001, 0.01, 0.1, 1, 10, 100],\n",
       "                         'gamma': [0.001, 0.01, 0.1, 1, 10, 100]})"
      ]
     },
     "execution_count": 23,
     "metadata": {},
     "output_type": "execute_result"
    }
   ],
   "source": [
    "grid_search.fit(X_train, y_train)"
   ]
  },
  {
   "cell_type": "markdown",
   "id": "3b544e22",
   "metadata": {},
   "source": [
    "Процесс подгонки объекта GridSearchCV включает в себя не только\n",
    "поиск лучших параметров, но и автоматическое построение новой модели\n",
    "на всем обучающем наборе данных. Чтобы оценить обобщающую способность найденных наилучших\n",
    "параметров, мы можем вызвать метод score:"
   ]
  },
  {
   "cell_type": "code",
   "execution_count": 24,
   "id": "718ef98a",
   "metadata": {},
   "outputs": [
    {
     "name": "stdout",
     "output_type": "stream",
     "text": [
      "Правильность на тестовом наборе: 0.97\n"
     ]
    }
   ],
   "source": [
    "print(\"Правильность на тестовом наборе: {:.2f}\".format(grid_search.score(X_test, y_test)))"
   ]
  },
  {
   "cell_type": "markdown",
   "id": "3718b557",
   "metadata": {},
   "source": [
    "- Выбрав параметры с помощью перекрестной проверки, мы\n",
    "фактически нашли модель, которая достигает правильности 97% на\n",
    "тестовом наборе. Главный момент здесь в том, что мы не использовали\n",
    "тестовый набор для отбора параметров.\n",
    "- Найденная комбинация\n",
    "параметров сохраняется в атрибуте best_params_\n",
    "- наилучшее значение\n",
    "правильности перекрестной проверки сохраняется в атрибуте best_score_"
   ]
  },
  {
   "cell_type": "code",
   "execution_count": 25,
   "id": "ad84396a",
   "metadata": {},
   "outputs": [
    {
     "name": "stdout",
     "output_type": "stream",
     "text": [
      "Наилучшие значения параметров: {'C': 10, 'gamma': 0.1}\n",
      "Наилучшее значение кросс-валидац. правильности:0.97\n"
     ]
    }
   ],
   "source": [
    "print(\"Наилучшие значения параметров: {}\".format(grid_search.best_params_))\n",
    "print(\"Наилучшее значение кросс-валидац. правильности:{:.2f}\".format(grid_search.best_score_))"
   ]
  },
  {
   "cell_type": "markdown",
   "id": "0b6514a5",
   "metadata": {},
   "source": [
    "Будьте осторожны, чтобы не перепутать best_score_ со\n",
    "значением обобщающей способности модели, которое\n",
    "вычисляется на тестовом наборе с помощью метода score. Метод\n",
    "score (оценивающий качество результатов, полученных с\n",
    "помощью метода predict) использует модель, построенную на\n",
    "всем обучающем наборе данных. В атрибуте best_score_\n",
    "записывается средняя правильность перекрестной проверки. Для\n",
    "ее вычисления используется модель, построенная на обучающем\n",
    "наборе перекрестной проверки."
   ]
  },
  {
   "cell_type": "markdown",
   "id": "5a0b5878",
   "metadata": {},
   "source": [
    "Посмотреть наилучшую модель, построенную на всем\n",
    "обучающем наборе, вы можете с помощью атрибута best_estimator_:"
   ]
  },
  {
   "cell_type": "code",
   "execution_count": 26,
   "id": "51ad2073",
   "metadata": {},
   "outputs": [
    {
     "name": "stdout",
     "output_type": "stream",
     "text": [
      "Наилучшая модель:\n",
      "SVC(C=10, gamma=0.1)\n"
     ]
    }
   ],
   "source": [
    "print(\"Наилучшая модель:\\n{}\".format(grid_search.best_estimator_))"
   ]
  },
  {
   "cell_type": "markdown",
   "id": "e553aaff",
   "metadata": {},
   "source": [
    "### Анализ результатов перекрестной проверки"
   ]
  },
  {
   "cell_type": "markdown",
   "id": "20eb9ac7",
   "metadata": {},
   "source": [
    "- Поскольку выполнение решетчатого поиска\n",
    "довольно затратно с вычислительной точки зрения, целесообразно\n",
    "начинать поиск с простой и небольшой сетки параметров.\n",
    "- Затем мы\n",
    "можем проверить результаты решетчатого поиска, использовав\n",
    "перекрестную проверку, и, возможно, расширить наш поиск. \n",
    "- Результаты\n",
    "решетчатого поиска можно найти в атрибуте cv_results, который\n",
    "является словарем, хранящим все настройки поиска."
   ]
  },
  {
   "cell_type": "code",
   "execution_count": 27,
   "id": "96d299df",
   "metadata": {},
   "outputs": [
    {
     "data": {
      "text/html": [
       "<div>\n",
       "<style scoped>\n",
       "    .dataframe tbody tr th:only-of-type {\n",
       "        vertical-align: middle;\n",
       "    }\n",
       "\n",
       "    .dataframe tbody tr th {\n",
       "        vertical-align: top;\n",
       "    }\n",
       "\n",
       "    .dataframe thead th {\n",
       "        text-align: right;\n",
       "    }\n",
       "</style>\n",
       "<table border=\"1\" class=\"dataframe\">\n",
       "  <thead>\n",
       "    <tr style=\"text-align: right;\">\n",
       "      <th></th>\n",
       "      <th>mean_fit_time</th>\n",
       "      <th>std_fit_time</th>\n",
       "      <th>mean_score_time</th>\n",
       "      <th>std_score_time</th>\n",
       "      <th>param_C</th>\n",
       "      <th>param_gamma</th>\n",
       "      <th>params</th>\n",
       "      <th>split0_test_score</th>\n",
       "      <th>split1_test_score</th>\n",
       "      <th>split2_test_score</th>\n",
       "      <th>split3_test_score</th>\n",
       "      <th>split4_test_score</th>\n",
       "      <th>mean_test_score</th>\n",
       "      <th>std_test_score</th>\n",
       "      <th>rank_test_score</th>\n",
       "    </tr>\n",
       "  </thead>\n",
       "  <tbody>\n",
       "    <tr>\n",
       "      <th>0</th>\n",
       "      <td>0.002999</td>\n",
       "      <td>3.371748e-07</td>\n",
       "      <td>0.001799</td>\n",
       "      <td>0.000400</td>\n",
       "      <td>0.001</td>\n",
       "      <td>0.001</td>\n",
       "      <td>{'C': 0.001, 'gamma': 0.001}</td>\n",
       "      <td>0.347826</td>\n",
       "      <td>0.347826</td>\n",
       "      <td>0.363636</td>\n",
       "      <td>0.363636</td>\n",
       "      <td>0.409091</td>\n",
       "      <td>0.366403</td>\n",
       "      <td>0.022485</td>\n",
       "      <td>22</td>\n",
       "    </tr>\n",
       "    <tr>\n",
       "      <th>1</th>\n",
       "      <td>0.002998</td>\n",
       "      <td>5.091228e-07</td>\n",
       "      <td>0.001799</td>\n",
       "      <td>0.000399</td>\n",
       "      <td>0.001</td>\n",
       "      <td>0.01</td>\n",
       "      <td>{'C': 0.001, 'gamma': 0.01}</td>\n",
       "      <td>0.347826</td>\n",
       "      <td>0.347826</td>\n",
       "      <td>0.363636</td>\n",
       "      <td>0.363636</td>\n",
       "      <td>0.409091</td>\n",
       "      <td>0.366403</td>\n",
       "      <td>0.022485</td>\n",
       "      <td>22</td>\n",
       "    </tr>\n",
       "    <tr>\n",
       "      <th>2</th>\n",
       "      <td>0.002805</td>\n",
       "      <td>4.030890e-04</td>\n",
       "      <td>0.001799</td>\n",
       "      <td>0.000400</td>\n",
       "      <td>0.001</td>\n",
       "      <td>0.1</td>\n",
       "      <td>{'C': 0.001, 'gamma': 0.1}</td>\n",
       "      <td>0.347826</td>\n",
       "      <td>0.347826</td>\n",
       "      <td>0.363636</td>\n",
       "      <td>0.363636</td>\n",
       "      <td>0.409091</td>\n",
       "      <td>0.366403</td>\n",
       "      <td>0.022485</td>\n",
       "      <td>22</td>\n",
       "    </tr>\n",
       "    <tr>\n",
       "      <th>3</th>\n",
       "      <td>0.002999</td>\n",
       "      <td>2.861023e-07</td>\n",
       "      <td>0.001599</td>\n",
       "      <td>0.000490</td>\n",
       "      <td>0.001</td>\n",
       "      <td>1</td>\n",
       "      <td>{'C': 0.001, 'gamma': 1}</td>\n",
       "      <td>0.347826</td>\n",
       "      <td>0.347826</td>\n",
       "      <td>0.363636</td>\n",
       "      <td>0.363636</td>\n",
       "      <td>0.409091</td>\n",
       "      <td>0.366403</td>\n",
       "      <td>0.022485</td>\n",
       "      <td>22</td>\n",
       "    </tr>\n",
       "    <tr>\n",
       "      <th>4</th>\n",
       "      <td>0.002902</td>\n",
       "      <td>1.938822e-04</td>\n",
       "      <td>0.001501</td>\n",
       "      <td>0.000447</td>\n",
       "      <td>0.001</td>\n",
       "      <td>10</td>\n",
       "      <td>{'C': 0.001, 'gamma': 10}</td>\n",
       "      <td>0.347826</td>\n",
       "      <td>0.347826</td>\n",
       "      <td>0.363636</td>\n",
       "      <td>0.363636</td>\n",
       "      <td>0.409091</td>\n",
       "      <td>0.366403</td>\n",
       "      <td>0.022485</td>\n",
       "      <td>22</td>\n",
       "    </tr>\n",
       "  </tbody>\n",
       "</table>\n",
       "</div>"
      ],
      "text/plain": [
       "   mean_fit_time  std_fit_time  mean_score_time  std_score_time param_C  \\\n",
       "0       0.002999  3.371748e-07         0.001799        0.000400   0.001   \n",
       "1       0.002998  5.091228e-07         0.001799        0.000399   0.001   \n",
       "2       0.002805  4.030890e-04         0.001799        0.000400   0.001   \n",
       "3       0.002999  2.861023e-07         0.001599        0.000490   0.001   \n",
       "4       0.002902  1.938822e-04         0.001501        0.000447   0.001   \n",
       "\n",
       "  param_gamma                        params  split0_test_score  \\\n",
       "0       0.001  {'C': 0.001, 'gamma': 0.001}           0.347826   \n",
       "1        0.01   {'C': 0.001, 'gamma': 0.01}           0.347826   \n",
       "2         0.1    {'C': 0.001, 'gamma': 0.1}           0.347826   \n",
       "3           1      {'C': 0.001, 'gamma': 1}           0.347826   \n",
       "4          10     {'C': 0.001, 'gamma': 10}           0.347826   \n",
       "\n",
       "   split1_test_score  split2_test_score  split3_test_score  split4_test_score  \\\n",
       "0           0.347826           0.363636           0.363636           0.409091   \n",
       "1           0.347826           0.363636           0.363636           0.409091   \n",
       "2           0.347826           0.363636           0.363636           0.409091   \n",
       "3           0.347826           0.363636           0.363636           0.409091   \n",
       "4           0.347826           0.363636           0.363636           0.409091   \n",
       "\n",
       "   mean_test_score  std_test_score  rank_test_score  \n",
       "0         0.366403        0.022485               22  \n",
       "1         0.366403        0.022485               22  \n",
       "2         0.366403        0.022485               22  \n",
       "3         0.366403        0.022485               22  \n",
       "4         0.366403        0.022485               22  "
      ]
     },
     "metadata": {},
     "output_type": "display_data"
    }
   ],
   "source": [
    "import pandas as pd\n",
    "# преобразуем в DataFrame\n",
    "results = pd.DataFrame(grid_search.cv_results_)\n",
    "# показываем первые 5 строк\n",
    "display(results.head())"
   ]
  },
  {
   "cell_type": "markdown",
   "id": "fbedfe9a",
   "metadata": {},
   "source": [
    "- Каждая строка в results соответствует одной конкретной\n",
    "комбинации параметров. Для каждой комбинации записываются\n",
    "результаты всех разбиений перекрестной проверки, а также среднее\n",
    "значение и стандартное отклонение по всем разбиениям. \n",
    "- Поскольку мы\n",
    "осуществляли поиск на основе двумерной сетки параметров (C и gamma),\n",
    "наилучший способ визуализировать этот процесс, представить его в виде\n",
    "тепловой карты (рис. 5.8). \n",
    "- Сначала мы извлечем средние значения\n",
    "правильности перекрестной проверки, затем изменим форму массива со\n",
    "значениями так, чтобы оси соответствовали C и gamma:"
   ]
  },
  {
   "cell_type": "code",
   "execution_count": 28,
   "id": "0fececb5",
   "metadata": {},
   "outputs": [
    {
     "data": {
      "image/png": "[encoded data removed]",
      "text/plain": [
       "<Figure size 432x288 with 1 Axes>"
      ]
     },
     "metadata": {
      "needs_background": "light"
     },
     "output_type": "display_data"
    }
   ],
   "source": [
    "scores = np.array(results.mean_test_score).reshape(6, 6)\n",
    "# строим теплокарту средних значений правильности перекрестной проверки\n",
    "mglearn.tools.heatmap(scores, xlabel='gamma', xticklabels=param_grid['gamma'],\n",
    "                      ylabel='C', yticklabels=param_grid['C'], cmap=\"viridis\");"
   ]
  },
  {
   "cell_type": "markdown",
   "id": "b608e691",
   "metadata": {},
   "source": [
    "Рис. 5.8 Тепловая карта для усредненной правильности перекрестной проверки,\n",
    "выраженной в виде функции двух параметров С и gamma"
   ]
  },
  {
   "cell_type": "markdown",
   "id": "1a6b204c",
   "metadata": {},
   "source": [
    "- Параметры, которые мы\n",
    "корректировали, очень важны для получения хорошей обобщающей\n",
    "способности. Оба параметра (C и gamma) имеют большое значение,\n",
    "поскольку их корректировка позволяет повысить правильность с 40% до\n",
    "96%.\n",
    "- Интервалы значений, которые мы выбрали для\n",
    "параметров, представляют собой диапазоны, в которых мы видим\n",
    "существенные изменения результатов."
   ]
  },
  {
   "cell_type": "markdown",
   "id": "1ce8e699",
   "metadata": {},
   "source": [
    "Посмотрим на графики, где результат получился менее идеальным, поскольку\n",
    "диапазоны поиска не были подобраны правильно:"
   ]
  },
  {
   "cell_type": "code",
   "execution_count": 29,
   "id": "13730fbc",
   "metadata": {},
   "outputs": [
    {
     "data": {
      "image/png": "[encoded data removed]",
      "text/plain": [
       "<Figure size 936x360 with 4 Axes>"
      ]
     },
     "metadata": {
      "needs_background": "light"
     },
     "output_type": "display_data"
    }
   ],
   "source": [
    "fig, axes = plt.subplots(1, 3, figsize=(13, 5))\n",
    "\n",
    "param_grid_linear = {'C': np.linspace(1, 2, 6),\n",
    "                     'gamma': np.linspace(1, 2, 6)}\n",
    "param_grid_one_log = {'C': np.linspace(1, 2, 6),\n",
    "                      'gamma': np.logspace(-3, 2, 6)}\n",
    "param_grid_range = {'C': np.logspace(-3, 2, 6),\n",
    "                    'gamma': np.logspace(-7, -2, 6)}\n",
    "for param_grid, ax in zip([param_grid_linear, param_grid_one_log,\n",
    "                           param_grid_range], axes):\n",
    "    grid_search = GridSearchCV(SVC(), param_grid, cv=5)\n",
    "    grid_search.fit(X_train, y_train)\n",
    "    scores = grid_search.cv_results_['mean_test_score'].reshape(6, 6)\n",
    "    \n",
    "    # строим теплокарту средних значений правильности перекрестной проверки\n",
    "    scores_image = mglearn.tools.heatmap(\n",
    "        scores, xlabel='gamma', ylabel='C', xticklabels=param_grid['gamma'],\n",
    "        yticklabels=param_grid['C'], cmap=\"viridis\", ax=ax)\n",
    "plt.colorbar(scores_image, ax=axes.tolist());"
   ]
  },
  {
   "cell_type": "markdown",
   "id": "dc3eaa8b",
   "metadata": {},
   "source": [
    "Рис. 5.9 Теплокарты для неправильно подобранных\n",
    "диапазонов поиска"
   ]
  },
  {
   "cell_type": "markdown",
   "id": "308c0f8e",
   "metadata": {},
   "source": [
    "На первом графике опечатка с цветом видимо"
   ]
  },
  {
   "cell_type": "markdown",
   "id": "97ba395c",
   "metadata": {},
   "source": [
    "- Как правило,\n",
    "сначала лучше задать крайние значения, чтобы посмотреть, меняется ли\n",
    "правильность в результате корректировки параметра.\n",
    "- Настройка сетки параметров с помощью перекрестной проверки – это\n",
    "хороший способ исследовать важность различных параметров\n",
    "- Как мы уже обсуждали ранее, значения различных параметров не должны\n",
    "проверяться на итоговом тестовом наборе\n",
    "- Качество модели на тестовом\n",
    "наборе должно оцениваться лишь один раз, когда мы точно знаем, какую\n",
    "модель хотим использовать"
   ]
  },
  {
   "cell_type": "markdown",
   "id": "317c1e9c",
   "metadata": {},
   "source": [
    "### Экономичный решетчатый поиск"
   ]
  },
  {
   "cell_type": "markdown",
   "id": "77aeb31a",
   "metadata": {},
   "source": [
    "В некоторых случаях перебор всех возможных комбинаций по всем\n",
    "параметрам, который обычно выполняет GridSearchCV, не является\n",
    "хорошей идеей. Например, SVC имеет параметр kernel, и в зависимости\n",
    "от того, какое ядро выбрано, все остальные параметры будут иметь\n",
    "соответствующие этому выбору значения. Если kernel='linear', модель\n",
    "является линейной и используется только параметр С. Если используется\n",
    "kernel='rbf', используются параметры C и gamma (однако другие\n",
    "параметры типа degree не используются). В этом случае поиск по всем\n",
    "возможным комбинациям C, gamma и kernel не имеет смысла: если\n",
    "kernel='linear', то gamma не используется и перебор различных\n",
    "значений gamma – это пустая трата времени."
   ]
  },
  {
   "cell_type": "markdown",
   "id": "43e2fc38",
   "metadata": {},
   "source": [
    "Чтобы обработать подобные\n",
    "«условные» параметры, GridSearchCV позволяет превратить param_grid в\n",
    "список словарей. Каждый словарь в списке выделяется в\n",
    "самостоятельную сетку параметров. Возможный решетчатый поиск,\n",
    "включающий настройки ядра и параметров, мог бы выглядеть\n",
    "следующим образом:"
   ]
  },
  {
   "cell_type": "code",
   "execution_count": 30,
   "id": "81be8713",
   "metadata": {},
   "outputs": [
    {
     "name": "stdout",
     "output_type": "stream",
     "text": [
      "List of grids:\n",
      "[{'kernel': ['rbf'], 'C': [0.001, 0.01, 0.1, 1, 10, 100], 'gamma': [0.001, 0.01, 0.1, 1, 10, 100]}, {'kernel': ['linear'], 'C': [0.001, 0.01, 0.1, 1, 10, 100]}]\n"
     ]
    }
   ],
   "source": [
    "param_grid = [{'kernel': ['rbf'],\n",
    "               'C': [0.001, 0.01, 0.1, 1, 10, 100],\n",
    "               'gamma': [0.001, 0.01, 0.1, 1, 10, 100]},\n",
    "              {'kernel': ['linear'],\n",
    "               'C': [0.001, 0.01, 0.1, 1, 10, 100]}]\n",
    "print(\"List of grids:\\n{}\".format(param_grid))"
   ]
  },
  {
   "cell_type": "markdown",
   "id": "3be887c2",
   "metadata": {},
   "source": [
    "Теперь давайте\n",
    "применим этот более сложный поиск параметров:"
   ]
  },
  {
   "cell_type": "code",
   "execution_count": 31,
   "id": "60f29bc3",
   "metadata": {},
   "outputs": [
    {
     "name": "stdout",
     "output_type": "stream",
     "text": [
      "Наилучшие значения параметров: {'C': 10, 'gamma': 0.1, 'kernel': 'rbf'}\n",
      "Наилучшее значение кросс-валидац. правильности:0.97\n"
     ]
    }
   ],
   "source": [
    "grid_search = GridSearchCV(SVC(), param_grid, cv=5)\n",
    "grid_search.fit(X_train, y_train)\n",
    "print(\"Наилучшие значения параметров: {}\".format(grid_search.best_params_))\n",
    "print(\"Наилучшее значение кросс-валидац. правильности:{:.2f}\".format(grid_search.best_score_))"
   ]
  },
  {
   "cell_type": "markdown",
   "id": "b1784546",
   "metadata": {},
   "source": [
    "Давайте снова посмотрим на cv_results_. Как и следовало ожидать,\n",
    "если kernel имеет значение 'linear', то меняется только параметр C:"
   ]
  },
  {
   "cell_type": "code",
   "execution_count": 32,
   "id": "d46ff83e",
   "metadata": {},
   "outputs": [
    {
     "data": {
      "text/html": [
       "<div>\n",
       "<style scoped>\n",
       "    .dataframe tbody tr th:only-of-type {\n",
       "        vertical-align: middle;\n",
       "    }\n",
       "\n",
       "    .dataframe tbody tr th {\n",
       "        vertical-align: top;\n",
       "    }\n",
       "\n",
       "    .dataframe thead th {\n",
       "        text-align: right;\n",
       "    }\n",
       "</style>\n",
       "<table border=\"1\" class=\"dataframe\">\n",
       "  <thead>\n",
       "    <tr style=\"text-align: right;\">\n",
       "      <th></th>\n",
       "      <th>0</th>\n",
       "      <th>1</th>\n",
       "      <th>2</th>\n",
       "      <th>3</th>\n",
       "      <th>4</th>\n",
       "      <th>5</th>\n",
       "      <th>6</th>\n",
       "      <th>7</th>\n",
       "      <th>8</th>\n",
       "      <th>9</th>\n",
       "      <th>...</th>\n",
       "      <th>32</th>\n",
       "      <th>33</th>\n",
       "      <th>34</th>\n",
       "      <th>35</th>\n",
       "      <th>36</th>\n",
       "      <th>37</th>\n",
       "      <th>38</th>\n",
       "      <th>39</th>\n",
       "      <th>40</th>\n",
       "      <th>41</th>\n",
       "    </tr>\n",
       "  </thead>\n",
       "  <tbody>\n",
       "    <tr>\n",
       "      <th>mean_fit_time</th>\n",
       "      <td>0.003425</td>\n",
       "      <td>0.002803</td>\n",
       "      <td>0.002798</td>\n",
       "      <td>0.002798</td>\n",
       "      <td>0.002799</td>\n",
       "      <td>0.003302</td>\n",
       "      <td>0.002798</td>\n",
       "      <td>0.002996</td>\n",
       "      <td>0.002721</td>\n",
       "      <td>0.002598</td>\n",
       "      <td>...</td>\n",
       "      <td>0.001999</td>\n",
       "      <td>0.001999</td>\n",
       "      <td>0.003194</td>\n",
       "      <td>0.003798</td>\n",
       "      <td>0.002599</td>\n",
       "      <td>0.002412</td>\n",
       "      <td>0.002128</td>\n",
       "      <td>0.002</td>\n",
       "      <td>0.002199</td>\n",
       "      <td>0.001999</td>\n",
       "    </tr>\n",
       "    <tr>\n",
       "      <th>std_fit_time</th>\n",
       "      <td>0.000383</td>\n",
       "      <td>0.000247</td>\n",
       "      <td>0.000401</td>\n",
       "      <td>0.000399</td>\n",
       "      <td>0.0004</td>\n",
       "      <td>0.000402</td>\n",
       "      <td>0.0004</td>\n",
       "      <td>0.000006</td>\n",
       "      <td>0.000391</td>\n",
       "      <td>0.00049</td>\n",
       "      <td>...</td>\n",
       "      <td>0.000001</td>\n",
       "      <td>0.000001</td>\n",
       "      <td>0.000403</td>\n",
       "      <td>0.0004</td>\n",
       "      <td>0.00049</td>\n",
       "      <td>0.000506</td>\n",
       "      <td>0.000257</td>\n",
       "      <td>0.000001</td>\n",
       "      <td>0.0004</td>\n",
       "      <td>0.000001</td>\n",
       "    </tr>\n",
       "    <tr>\n",
       "      <th>mean_score_time</th>\n",
       "      <td>0.001381</td>\n",
       "      <td>0.001489</td>\n",
       "      <td>0.001599</td>\n",
       "      <td>0.0016</td>\n",
       "      <td>0.001399</td>\n",
       "      <td>0.001901</td>\n",
       "      <td>0.001506</td>\n",
       "      <td>0.001599</td>\n",
       "      <td>0.001677</td>\n",
       "      <td>0.001799</td>\n",
       "      <td>...</td>\n",
       "      <td>0.000999</td>\n",
       "      <td>0.001399</td>\n",
       "      <td>0.0016</td>\n",
       "      <td>0.001799</td>\n",
       "      <td>0.0012</td>\n",
       "      <td>0.000993</td>\n",
       "      <td>0.00087</td>\n",
       "      <td>0.000999</td>\n",
       "      <td>0.000731</td>\n",
       "      <td>0.000799</td>\n",
       "    </tr>\n",
       "    <tr>\n",
       "      <th>std_score_time</th>\n",
       "      <td>0.000371</td>\n",
       "      <td>0.000439</td>\n",
       "      <td>0.00049</td>\n",
       "      <td>0.00049</td>\n",
       "      <td>0.000489</td>\n",
       "      <td>0.000197</td>\n",
       "      <td>0.000447</td>\n",
       "      <td>0.000491</td>\n",
       "      <td>0.000413</td>\n",
       "      <td>0.0004</td>\n",
       "      <td>...</td>\n",
       "      <td>0.0</td>\n",
       "      <td>0.000489</td>\n",
       "      <td>0.00049</td>\n",
       "      <td>0.0004</td>\n",
       "      <td>0.0004</td>\n",
       "      <td>0.000013</td>\n",
       "      <td>0.000258</td>\n",
       "      <td>0.000001</td>\n",
       "      <td>0.000389</td>\n",
       "      <td>0.0004</td>\n",
       "    </tr>\n",
       "    <tr>\n",
       "      <th>param_C</th>\n",
       "      <td>0.001</td>\n",
       "      <td>0.001</td>\n",
       "      <td>0.001</td>\n",
       "      <td>0.001</td>\n",
       "      <td>0.001</td>\n",
       "      <td>0.001</td>\n",
       "      <td>0.01</td>\n",
       "      <td>0.01</td>\n",
       "      <td>0.01</td>\n",
       "      <td>0.01</td>\n",
       "      <td>...</td>\n",
       "      <td>100</td>\n",
       "      <td>100</td>\n",
       "      <td>100</td>\n",
       "      <td>100</td>\n",
       "      <td>0.001</td>\n",
       "      <td>0.01</td>\n",
       "      <td>0.1</td>\n",
       "      <td>1</td>\n",
       "      <td>10</td>\n",
       "      <td>100</td>\n",
       "    </tr>\n",
       "    <tr>\n",
       "      <th>param_gamma</th>\n",
       "      <td>0.001</td>\n",
       "      <td>0.01</td>\n",
       "      <td>0.1</td>\n",
       "      <td>1</td>\n",
       "      <td>10</td>\n",
       "      <td>100</td>\n",
       "      <td>0.001</td>\n",
       "      <td>0.01</td>\n",
       "      <td>0.1</td>\n",
       "      <td>1</td>\n",
       "      <td>...</td>\n",
       "      <td>0.1</td>\n",
       "      <td>1</td>\n",
       "      <td>10</td>\n",
       "      <td>100</td>\n",
       "      <td>NaN</td>\n",
       "      <td>NaN</td>\n",
       "      <td>NaN</td>\n",
       "      <td>NaN</td>\n",
       "      <td>NaN</td>\n",
       "      <td>NaN</td>\n",
       "    </tr>\n",
       "    <tr>\n",
       "      <th>param_kernel</th>\n",
       "      <td>rbf</td>\n",
       "      <td>rbf</td>\n",
       "      <td>rbf</td>\n",
       "      <td>rbf</td>\n",
       "      <td>rbf</td>\n",
       "      <td>rbf</td>\n",
       "      <td>rbf</td>\n",
       "      <td>rbf</td>\n",
       "      <td>rbf</td>\n",
       "      <td>rbf</td>\n",
       "      <td>...</td>\n",
       "      <td>rbf</td>\n",
       "      <td>rbf</td>\n",
       "      <td>rbf</td>\n",
       "      <td>rbf</td>\n",
       "      <td>linear</td>\n",
       "      <td>linear</td>\n",
       "      <td>linear</td>\n",
       "      <td>linear</td>\n",
       "      <td>linear</td>\n",
       "      <td>linear</td>\n",
       "    </tr>\n",
       "    <tr>\n",
       "      <th>params</th>\n",
       "      <td>{'C': 0.001, 'gamma': 0.001, 'kernel': 'rbf'}</td>\n",
       "      <td>{'C': 0.001, 'gamma': 0.01, 'kernel': 'rbf'}</td>\n",
       "      <td>{'C': 0.001, 'gamma': 0.1, 'kernel': 'rbf'}</td>\n",
       "      <td>{'C': 0.001, 'gamma': 1, 'kernel': 'rbf'}</td>\n",
       "      <td>{'C': 0.001, 'gamma': 10, 'kernel': 'rbf'}</td>\n",
       "      <td>{'C': 0.001, 'gamma': 100, 'kernel': 'rbf'}</td>\n",
       "      <td>{'C': 0.01, 'gamma': 0.001, 'kernel': 'rbf'}</td>\n",
       "      <td>{'C': 0.01, 'gamma': 0.01, 'kernel': 'rbf'}</td>\n",
       "      <td>{'C': 0.01, 'gamma': 0.1, 'kernel': 'rbf'}</td>\n",
       "      <td>{'C': 0.01, 'gamma': 1, 'kernel': 'rbf'}</td>\n",
       "      <td>...</td>\n",
       "      <td>{'C': 100, 'gamma': 0.1, 'kernel': 'rbf'}</td>\n",
       "      <td>{'C': 100, 'gamma': 1, 'kernel': 'rbf'}</td>\n",
       "      <td>{'C': 100, 'gamma': 10, 'kernel': 'rbf'}</td>\n",
       "      <td>{'C': 100, 'gamma': 100, 'kernel': 'rbf'}</td>\n",
       "      <td>{'C': 0.001, 'kernel': 'linear'}</td>\n",
       "      <td>{'C': 0.01, 'kernel': 'linear'}</td>\n",
       "      <td>{'C': 0.1, 'kernel': 'linear'}</td>\n",
       "      <td>{'C': 1, 'kernel': 'linear'}</td>\n",
       "      <td>{'C': 10, 'kernel': 'linear'}</td>\n",
       "      <td>{'C': 100, 'kernel': 'linear'}</td>\n",
       "    </tr>\n",
       "    <tr>\n",
       "      <th>split0_test_score</th>\n",
       "      <td>0.347826</td>\n",
       "      <td>0.347826</td>\n",
       "      <td>0.347826</td>\n",
       "      <td>0.347826</td>\n",
       "      <td>0.347826</td>\n",
       "      <td>0.347826</td>\n",
       "      <td>0.347826</td>\n",
       "      <td>0.347826</td>\n",
       "      <td>0.347826</td>\n",
       "      <td>0.347826</td>\n",
       "      <td>...</td>\n",
       "      <td>1.0</td>\n",
       "      <td>0.956522</td>\n",
       "      <td>0.869565</td>\n",
       "      <td>0.521739</td>\n",
       "      <td>0.347826</td>\n",
       "      <td>0.869565</td>\n",
       "      <td>1.0</td>\n",
       "      <td>1.0</td>\n",
       "      <td>1.0</td>\n",
       "      <td>0.956522</td>\n",
       "    </tr>\n",
       "    <tr>\n",
       "      <th>split1_test_score</th>\n",
       "      <td>0.347826</td>\n",
       "      <td>0.347826</td>\n",
       "      <td>0.347826</td>\n",
       "      <td>0.347826</td>\n",
       "      <td>0.347826</td>\n",
       "      <td>0.347826</td>\n",
       "      <td>0.347826</td>\n",
       "      <td>0.347826</td>\n",
       "      <td>0.347826</td>\n",
       "      <td>0.347826</td>\n",
       "      <td>...</td>\n",
       "      <td>0.956522</td>\n",
       "      <td>0.956522</td>\n",
       "      <td>0.913043</td>\n",
       "      <td>0.521739</td>\n",
       "      <td>0.347826</td>\n",
       "      <td>0.869565</td>\n",
       "      <td>0.913043</td>\n",
       "      <td>0.956522</td>\n",
       "      <td>1.0</td>\n",
       "      <td>0.956522</td>\n",
       "    </tr>\n",
       "    <tr>\n",
       "      <th>split2_test_score</th>\n",
       "      <td>0.363636</td>\n",
       "      <td>0.363636</td>\n",
       "      <td>0.363636</td>\n",
       "      <td>0.363636</td>\n",
       "      <td>0.363636</td>\n",
       "      <td>0.363636</td>\n",
       "      <td>0.363636</td>\n",
       "      <td>0.363636</td>\n",
       "      <td>0.363636</td>\n",
       "      <td>0.363636</td>\n",
       "      <td>...</td>\n",
       "      <td>1.0</td>\n",
       "      <td>1.0</td>\n",
       "      <td>1.0</td>\n",
       "      <td>0.590909</td>\n",
       "      <td>0.363636</td>\n",
       "      <td>0.772727</td>\n",
       "      <td>1.0</td>\n",
       "      <td>1.0</td>\n",
       "      <td>1.0</td>\n",
       "      <td>1.0</td>\n",
       "    </tr>\n",
       "    <tr>\n",
       "      <th>split3_test_score</th>\n",
       "      <td>0.363636</td>\n",
       "      <td>0.363636</td>\n",
       "      <td>0.363636</td>\n",
       "      <td>0.363636</td>\n",
       "      <td>0.363636</td>\n",
       "      <td>0.363636</td>\n",
       "      <td>0.363636</td>\n",
       "      <td>0.363636</td>\n",
       "      <td>0.363636</td>\n",
       "      <td>0.363636</td>\n",
       "      <td>...</td>\n",
       "      <td>0.863636</td>\n",
       "      <td>0.863636</td>\n",
       "      <td>0.818182</td>\n",
       "      <td>0.590909</td>\n",
       "      <td>0.363636</td>\n",
       "      <td>0.772727</td>\n",
       "      <td>0.909091</td>\n",
       "      <td>0.954545</td>\n",
       "      <td>0.909091</td>\n",
       "      <td>0.909091</td>\n",
       "    </tr>\n",
       "    <tr>\n",
       "      <th>split4_test_score</th>\n",
       "      <td>0.409091</td>\n",
       "      <td>0.409091</td>\n",
       "      <td>0.409091</td>\n",
       "      <td>0.409091</td>\n",
       "      <td>0.409091</td>\n",
       "      <td>0.409091</td>\n",
       "      <td>0.409091</td>\n",
       "      <td>0.409091</td>\n",
       "      <td>0.409091</td>\n",
       "      <td>0.409091</td>\n",
       "      <td>...</td>\n",
       "      <td>0.954545</td>\n",
       "      <td>0.954545</td>\n",
       "      <td>0.954545</td>\n",
       "      <td>0.681818</td>\n",
       "      <td>0.409091</td>\n",
       "      <td>0.909091</td>\n",
       "      <td>0.954545</td>\n",
       "      <td>0.954545</td>\n",
       "      <td>0.954545</td>\n",
       "      <td>0.954545</td>\n",
       "    </tr>\n",
       "    <tr>\n",
       "      <th>mean_test_score</th>\n",
       "      <td>0.366403</td>\n",
       "      <td>0.366403</td>\n",
       "      <td>0.366403</td>\n",
       "      <td>0.366403</td>\n",
       "      <td>0.366403</td>\n",
       "      <td>0.366403</td>\n",
       "      <td>0.366403</td>\n",
       "      <td>0.366403</td>\n",
       "      <td>0.366403</td>\n",
       "      <td>0.366403</td>\n",
       "      <td>...</td>\n",
       "      <td>0.954941</td>\n",
       "      <td>0.946245</td>\n",
       "      <td>0.911067</td>\n",
       "      <td>0.581423</td>\n",
       "      <td>0.366403</td>\n",
       "      <td>0.838735</td>\n",
       "      <td>0.955336</td>\n",
       "      <td>0.973123</td>\n",
       "      <td>0.972727</td>\n",
       "      <td>0.955336</td>\n",
       "    </tr>\n",
       "    <tr>\n",
       "      <th>std_test_score</th>\n",
       "      <td>0.022485</td>\n",
       "      <td>0.022485</td>\n",
       "      <td>0.022485</td>\n",
       "      <td>0.022485</td>\n",
       "      <td>0.022485</td>\n",
       "      <td>0.022485</td>\n",
       "      <td>0.022485</td>\n",
       "      <td>0.022485</td>\n",
       "      <td>0.022485</td>\n",
       "      <td>0.022485</td>\n",
       "      <td>...</td>\n",
       "      <td>0.049799</td>\n",
       "      <td>0.044708</td>\n",
       "      <td>0.063488</td>\n",
       "      <td>0.058964</td>\n",
       "      <td>0.022485</td>\n",
       "      <td>0.055794</td>\n",
       "      <td>0.039794</td>\n",
       "      <td>0.021957</td>\n",
       "      <td>0.036364</td>\n",
       "      <td>0.028764</td>\n",
       "    </tr>\n",
       "    <tr>\n",
       "      <th>rank_test_score</th>\n",
       "      <td>27</td>\n",
       "      <td>27</td>\n",
       "      <td>27</td>\n",
       "      <td>27</td>\n",
       "      <td>27</td>\n",
       "      <td>27</td>\n",
       "      <td>27</td>\n",
       "      <td>27</td>\n",
       "      <td>27</td>\n",
       "      <td>27</td>\n",
       "      <td>...</td>\n",
       "      <td>11</td>\n",
       "      <td>13</td>\n",
       "      <td>18</td>\n",
       "      <td>24</td>\n",
       "      <td>27</td>\n",
       "      <td>21</td>\n",
       "      <td>8</td>\n",
       "      <td>1</td>\n",
       "      <td>3</td>\n",
       "      <td>8</td>\n",
       "    </tr>\n",
       "  </tbody>\n",
       "</table>\n",
       "<p>16 rows × 42 columns</p>\n",
       "</div>"
      ],
      "text/plain": [
       "                                                              0   \\\n",
       "mean_fit_time                                           0.003425   \n",
       "std_fit_time                                            0.000383   \n",
       "mean_score_time                                         0.001381   \n",
       "std_score_time                                          0.000371   \n",
       "param_C                                                    0.001   \n",
       "param_gamma                                                0.001   \n",
       "param_kernel                                                 rbf   \n",
       "params             {'C': 0.001, 'gamma': 0.001, 'kernel': 'rbf'}   \n",
       "split0_test_score                                       0.347826   \n",
       "split1_test_score                                       0.347826   \n",
       "split2_test_score                                       0.363636   \n",
       "split3_test_score                                       0.363636   \n",
       "split4_test_score                                       0.409091   \n",
       "mean_test_score                                         0.366403   \n",
       "std_test_score                                          0.022485   \n",
       "rank_test_score                                               27   \n",
       "\n",
       "                                                             1   \\\n",
       "mean_fit_time                                          0.002803   \n",
       "std_fit_time                                           0.000247   \n",
       "mean_score_time                                        0.001489   \n",
       "std_score_time                                         0.000439   \n",
       "param_C                                                   0.001   \n",
       "param_gamma                                                0.01   \n",
       "param_kernel                                                rbf   \n",
       "params             {'C': 0.001, 'gamma': 0.01, 'kernel': 'rbf'}   \n",
       "split0_test_score                                      0.347826   \n",
       "split1_test_score                                      0.347826   \n",
       "split2_test_score                                      0.363636   \n",
       "split3_test_score                                      0.363636   \n",
       "split4_test_score                                      0.409091   \n",
       "mean_test_score                                        0.366403   \n",
       "std_test_score                                         0.022485   \n",
       "rank_test_score                                              27   \n",
       "\n",
       "                                                            2   \\\n",
       "mean_fit_time                                         0.002798   \n",
       "std_fit_time                                          0.000401   \n",
       "mean_score_time                                       0.001599   \n",
       "std_score_time                                         0.00049   \n",
       "param_C                                                  0.001   \n",
       "param_gamma                                                0.1   \n",
       "param_kernel                                               rbf   \n",
       "params             {'C': 0.001, 'gamma': 0.1, 'kernel': 'rbf'}   \n",
       "split0_test_score                                     0.347826   \n",
       "split1_test_score                                     0.347826   \n",
       "split2_test_score                                     0.363636   \n",
       "split3_test_score                                     0.363636   \n",
       "split4_test_score                                     0.409091   \n",
       "mean_test_score                                       0.366403   \n",
       "std_test_score                                        0.022485   \n",
       "rank_test_score                                             27   \n",
       "\n",
       "                                                          3   \\\n",
       "mean_fit_time                                       0.002798   \n",
       "std_fit_time                                        0.000399   \n",
       "mean_score_time                                       0.0016   \n",
       "std_score_time                                       0.00049   \n",
       "param_C                                                0.001   \n",
       "param_gamma                                                1   \n",
       "param_kernel                                             rbf   \n",
       "params             {'C': 0.001, 'gamma': 1, 'kernel': 'rbf'}   \n",
       "split0_test_score                                   0.347826   \n",
       "split1_test_score                                   0.347826   \n",
       "split2_test_score                                   0.363636   \n",
       "split3_test_score                                   0.363636   \n",
       "split4_test_score                                   0.409091   \n",
       "mean_test_score                                     0.366403   \n",
       "std_test_score                                      0.022485   \n",
       "rank_test_score                                           27   \n",
       "\n",
       "                                                           4   \\\n",
       "mean_fit_time                                        0.002799   \n",
       "std_fit_time                                           0.0004   \n",
       "mean_score_time                                      0.001399   \n",
       "std_score_time                                       0.000489   \n",
       "param_C                                                 0.001   \n",
       "param_gamma                                                10   \n",
       "param_kernel                                              rbf   \n",
       "params             {'C': 0.001, 'gamma': 10, 'kernel': 'rbf'}   \n",
       "split0_test_score                                    0.347826   \n",
       "split1_test_score                                    0.347826   \n",
       "split2_test_score                                    0.363636   \n",
       "split3_test_score                                    0.363636   \n",
       "split4_test_score                                    0.409091   \n",
       "mean_test_score                                      0.366403   \n",
       "std_test_score                                       0.022485   \n",
       "rank_test_score                                            27   \n",
       "\n",
       "                                                            5   \\\n",
       "mean_fit_time                                         0.003302   \n",
       "std_fit_time                                          0.000402   \n",
       "mean_score_time                                       0.001901   \n",
       "std_score_time                                        0.000197   \n",
       "param_C                                                  0.001   \n",
       "param_gamma                                                100   \n",
       "param_kernel                                               rbf   \n",
       "params             {'C': 0.001, 'gamma': 100, 'kernel': 'rbf'}   \n",
       "split0_test_score                                     0.347826   \n",
       "split1_test_score                                     0.347826   \n",
       "split2_test_score                                     0.363636   \n",
       "split3_test_score                                     0.363636   \n",
       "split4_test_score                                     0.409091   \n",
       "mean_test_score                                       0.366403   \n",
       "std_test_score                                        0.022485   \n",
       "rank_test_score                                             27   \n",
       "\n",
       "                                                             6   \\\n",
       "mean_fit_time                                          0.002798   \n",
       "std_fit_time                                             0.0004   \n",
       "mean_score_time                                        0.001506   \n",
       "std_score_time                                         0.000447   \n",
       "param_C                                                    0.01   \n",
       "param_gamma                                               0.001   \n",
       "param_kernel                                                rbf   \n",
       "params             {'C': 0.01, 'gamma': 0.001, 'kernel': 'rbf'}   \n",
       "split0_test_score                                      0.347826   \n",
       "split1_test_score                                      0.347826   \n",
       "split2_test_score                                      0.363636   \n",
       "split3_test_score                                      0.363636   \n",
       "split4_test_score                                      0.409091   \n",
       "mean_test_score                                        0.366403   \n",
       "std_test_score                                         0.022485   \n",
       "rank_test_score                                              27   \n",
       "\n",
       "                                                            7   \\\n",
       "mean_fit_time                                         0.002996   \n",
       "std_fit_time                                          0.000006   \n",
       "mean_score_time                                       0.001599   \n",
       "std_score_time                                        0.000491   \n",
       "param_C                                                   0.01   \n",
       "param_gamma                                               0.01   \n",
       "param_kernel                                               rbf   \n",
       "params             {'C': 0.01, 'gamma': 0.01, 'kernel': 'rbf'}   \n",
       "split0_test_score                                     0.347826   \n",
       "split1_test_score                                     0.347826   \n",
       "split2_test_score                                     0.363636   \n",
       "split3_test_score                                     0.363636   \n",
       "split4_test_score                                     0.409091   \n",
       "mean_test_score                                       0.366403   \n",
       "std_test_score                                        0.022485   \n",
       "rank_test_score                                             27   \n",
       "\n",
       "                                                           8   \\\n",
       "mean_fit_time                                        0.002721   \n",
       "std_fit_time                                         0.000391   \n",
       "mean_score_time                                      0.001677   \n",
       "std_score_time                                       0.000413   \n",
       "param_C                                                  0.01   \n",
       "param_gamma                                               0.1   \n",
       "param_kernel                                              rbf   \n",
       "params             {'C': 0.01, 'gamma': 0.1, 'kernel': 'rbf'}   \n",
       "split0_test_score                                    0.347826   \n",
       "split1_test_score                                    0.347826   \n",
       "split2_test_score                                    0.363636   \n",
       "split3_test_score                                    0.363636   \n",
       "split4_test_score                                    0.409091   \n",
       "mean_test_score                                      0.366403   \n",
       "std_test_score                                       0.022485   \n",
       "rank_test_score                                            27   \n",
       "\n",
       "                                                         9   ...  \\\n",
       "mean_fit_time                                      0.002598  ...   \n",
       "std_fit_time                                        0.00049  ...   \n",
       "mean_score_time                                    0.001799  ...   \n",
       "std_score_time                                       0.0004  ...   \n",
       "param_C                                                0.01  ...   \n",
       "param_gamma                                               1  ...   \n",
       "param_kernel                                            rbf  ...   \n",
       "params             {'C': 0.01, 'gamma': 1, 'kernel': 'rbf'}  ...   \n",
       "split0_test_score                                  0.347826  ...   \n",
       "split1_test_score                                  0.347826  ...   \n",
       "split2_test_score                                  0.363636  ...   \n",
       "split3_test_score                                  0.363636  ...   \n",
       "split4_test_score                                  0.409091  ...   \n",
       "mean_test_score                                    0.366403  ...   \n",
       "std_test_score                                     0.022485  ...   \n",
       "rank_test_score                                          27  ...   \n",
       "\n",
       "                                                          32  \\\n",
       "mean_fit_time                                       0.001999   \n",
       "std_fit_time                                        0.000001   \n",
       "mean_score_time                                     0.000999   \n",
       "std_score_time                                           0.0   \n",
       "param_C                                                  100   \n",
       "param_gamma                                              0.1   \n",
       "param_kernel                                             rbf   \n",
       "params             {'C': 100, 'gamma': 0.1, 'kernel': 'rbf'}   \n",
       "split0_test_score                                        1.0   \n",
       "split1_test_score                                   0.956522   \n",
       "split2_test_score                                        1.0   \n",
       "split3_test_score                                   0.863636   \n",
       "split4_test_score                                   0.954545   \n",
       "mean_test_score                                     0.954941   \n",
       "std_test_score                                      0.049799   \n",
       "rank_test_score                                           11   \n",
       "\n",
       "                                                        33  \\\n",
       "mean_fit_time                                     0.001999   \n",
       "std_fit_time                                      0.000001   \n",
       "mean_score_time                                   0.001399   \n",
       "std_score_time                                    0.000489   \n",
       "param_C                                                100   \n",
       "param_gamma                                              1   \n",
       "param_kernel                                           rbf   \n",
       "params             {'C': 100, 'gamma': 1, 'kernel': 'rbf'}   \n",
       "split0_test_score                                 0.956522   \n",
       "split1_test_score                                 0.956522   \n",
       "split2_test_score                                      1.0   \n",
       "split3_test_score                                 0.863636   \n",
       "split4_test_score                                 0.954545   \n",
       "mean_test_score                                   0.946245   \n",
       "std_test_score                                    0.044708   \n",
       "rank_test_score                                         13   \n",
       "\n",
       "                                                         34  \\\n",
       "mean_fit_time                                      0.003194   \n",
       "std_fit_time                                       0.000403   \n",
       "mean_score_time                                      0.0016   \n",
       "std_score_time                                      0.00049   \n",
       "param_C                                                 100   \n",
       "param_gamma                                              10   \n",
       "param_kernel                                            rbf   \n",
       "params             {'C': 100, 'gamma': 10, 'kernel': 'rbf'}   \n",
       "split0_test_score                                  0.869565   \n",
       "split1_test_score                                  0.913043   \n",
       "split2_test_score                                       1.0   \n",
       "split3_test_score                                  0.818182   \n",
       "split4_test_score                                  0.954545   \n",
       "mean_test_score                                    0.911067   \n",
       "std_test_score                                     0.063488   \n",
       "rank_test_score                                          18   \n",
       "\n",
       "                                                          35  \\\n",
       "mean_fit_time                                       0.003798   \n",
       "std_fit_time                                          0.0004   \n",
       "mean_score_time                                     0.001799   \n",
       "std_score_time                                        0.0004   \n",
       "param_C                                                  100   \n",
       "param_gamma                                              100   \n",
       "param_kernel                                             rbf   \n",
       "params             {'C': 100, 'gamma': 100, 'kernel': 'rbf'}   \n",
       "split0_test_score                                   0.521739   \n",
       "split1_test_score                                   0.521739   \n",
       "split2_test_score                                   0.590909   \n",
       "split3_test_score                                   0.590909   \n",
       "split4_test_score                                   0.681818   \n",
       "mean_test_score                                     0.581423   \n",
       "std_test_score                                      0.058964   \n",
       "rank_test_score                                           24   \n",
       "\n",
       "                                                 36  \\\n",
       "mean_fit_time                              0.002599   \n",
       "std_fit_time                                0.00049   \n",
       "mean_score_time                              0.0012   \n",
       "std_score_time                               0.0004   \n",
       "param_C                                       0.001   \n",
       "param_gamma                                     NaN   \n",
       "param_kernel                                 linear   \n",
       "params             {'C': 0.001, 'kernel': 'linear'}   \n",
       "split0_test_score                          0.347826   \n",
       "split1_test_score                          0.347826   \n",
       "split2_test_score                          0.363636   \n",
       "split3_test_score                          0.363636   \n",
       "split4_test_score                          0.409091   \n",
       "mean_test_score                            0.366403   \n",
       "std_test_score                             0.022485   \n",
       "rank_test_score                                  27   \n",
       "\n",
       "                                                37  \\\n",
       "mean_fit_time                             0.002412   \n",
       "std_fit_time                              0.000506   \n",
       "mean_score_time                           0.000993   \n",
       "std_score_time                            0.000013   \n",
       "param_C                                       0.01   \n",
       "param_gamma                                    NaN   \n",
       "param_kernel                                linear   \n",
       "params             {'C': 0.01, 'kernel': 'linear'}   \n",
       "split0_test_score                         0.869565   \n",
       "split1_test_score                         0.869565   \n",
       "split2_test_score                         0.772727   \n",
       "split3_test_score                         0.772727   \n",
       "split4_test_score                         0.909091   \n",
       "mean_test_score                           0.838735   \n",
       "std_test_score                            0.055794   \n",
       "rank_test_score                                 21   \n",
       "\n",
       "                                               38  \\\n",
       "mean_fit_time                            0.002128   \n",
       "std_fit_time                             0.000257   \n",
       "mean_score_time                           0.00087   \n",
       "std_score_time                           0.000258   \n",
       "param_C                                       0.1   \n",
       "param_gamma                                   NaN   \n",
       "param_kernel                               linear   \n",
       "params             {'C': 0.1, 'kernel': 'linear'}   \n",
       "split0_test_score                             1.0   \n",
       "split1_test_score                        0.913043   \n",
       "split2_test_score                             1.0   \n",
       "split3_test_score                        0.909091   \n",
       "split4_test_score                        0.954545   \n",
       "mean_test_score                          0.955336   \n",
       "std_test_score                           0.039794   \n",
       "rank_test_score                                 8   \n",
       "\n",
       "                                             39  \\\n",
       "mean_fit_time                             0.002   \n",
       "std_fit_time                           0.000001   \n",
       "mean_score_time                        0.000999   \n",
       "std_score_time                         0.000001   \n",
       "param_C                                       1   \n",
       "param_gamma                                 NaN   \n",
       "param_kernel                             linear   \n",
       "params             {'C': 1, 'kernel': 'linear'}   \n",
       "split0_test_score                           1.0   \n",
       "split1_test_score                      0.956522   \n",
       "split2_test_score                           1.0   \n",
       "split3_test_score                      0.954545   \n",
       "split4_test_score                      0.954545   \n",
       "mean_test_score                        0.973123   \n",
       "std_test_score                         0.021957   \n",
       "rank_test_score                               1   \n",
       "\n",
       "                                              40  \\\n",
       "mean_fit_time                           0.002199   \n",
       "std_fit_time                              0.0004   \n",
       "mean_score_time                         0.000731   \n",
       "std_score_time                          0.000389   \n",
       "param_C                                       10   \n",
       "param_gamma                                  NaN   \n",
       "param_kernel                              linear   \n",
       "params             {'C': 10, 'kernel': 'linear'}   \n",
       "split0_test_score                            1.0   \n",
       "split1_test_score                            1.0   \n",
       "split2_test_score                            1.0   \n",
       "split3_test_score                       0.909091   \n",
       "split4_test_score                       0.954545   \n",
       "mean_test_score                         0.972727   \n",
       "std_test_score                          0.036364   \n",
       "rank_test_score                                3   \n",
       "\n",
       "                                               41  \n",
       "mean_fit_time                            0.001999  \n",
       "std_fit_time                             0.000001  \n",
       "mean_score_time                          0.000799  \n",
       "std_score_time                             0.0004  \n",
       "param_C                                       100  \n",
       "param_gamma                                   NaN  \n",
       "param_kernel                               linear  \n",
       "params             {'C': 100, 'kernel': 'linear'}  \n",
       "split0_test_score                        0.956522  \n",
       "split1_test_score                        0.956522  \n",
       "split2_test_score                             1.0  \n",
       "split3_test_score                        0.909091  \n",
       "split4_test_score                        0.954545  \n",
       "mean_test_score                          0.955336  \n",
       "std_test_score                           0.028764  \n",
       "rank_test_score                                 8  \n",
       "\n",
       "[16 rows x 42 columns]"
      ]
     },
     "metadata": {},
     "output_type": "display_data"
    }
   ],
   "source": [
    "results = pd.DataFrame(grid_search.cv_results_)\n",
    "# мы выводим транспонированную таблицу для лучшего отображения на странице:\n",
    "display(results.T)"
   ]
  },
  {
   "cell_type": "markdown",
   "id": "d43a4090",
   "metadata": {},
   "source": [
    "### Применение различных стратегий перекрестной проверки с помощью решетчатого поиска"
   ]
  },
  {
   "cell_type": "markdown",
   "id": "88042334",
   "metadata": {},
   "source": [
    "Как и cross_val_score, GridSearchCV использует по умолчанию kблочную перекрестную проверку для классификации и k-блочную\n",
    "перекрестную проверку для регрессии. Однако при использовании\n",
    "GridSearchCV вы можете дополнительно передать любой генератор\n",
    "разбиения (как было описано в разделе «Больше контроля над\n",
    "перекрестной проверкой») в качестве параметра cv. В частности, чтобы\n",
    "получить только одно разбиение на обучащий и проверочный наборы, вы\n",
    "можете воспользоваться ShuffleSplit или StratifiedShuffleSplit с\n",
    "n_iter=1. Данная настройка может оказаться полезной для очень\n",
    "больших наборов данных или очень медленных моделей."
   ]
  },
  {
   "cell_type": "markdown",
   "id": "8b9857f3",
   "metadata": {},
   "source": [
    "### Вложенная перекрестная проверка"
   ]
  },
  {
   "cell_type": "markdown",
   "id": "e7be9bec",
   "metadata": {},
   "source": [
    "- В предыдущих примерах мы прошли путь от использования одного\n",
    "разбиения данных на обучающий, проверочный и тестовый наборы\n",
    "(раздел «Опасность переобучения параметров и проверочный набор\n",
    "данных»)\n",
    "- до разбиения данных на обучающий и тестовый наборы с\n",
    "проведением перекрестной проверки на обучающем наборе (раздел\n",
    "«Решетчатный поиск с перекрестной проверкой»)\n",
    "- Но при\n",
    "использовании GridSearchCV ранее описанным способом мы все еще\n",
    "выполняем всего лишь одно разбиение на обучающий и тестовый наборы,\n",
    "что может привести к получению нестабильных результатов и ставит нас\n",
    "в зависимость от этого единственного разбиения данных\n",
    "- Мы можем\n",
    "пойти дальше и вместо однократного разбиения исходных данных на\n",
    "обучающий и тестовый наборы использовать несколько разбиений\n",
    "перекрестной проверки. В результате мы получим вложенную\n",
    "перекрестную проверкой (nested cross-validation).\n",
    "- Во вложенной\n",
    "перекрестной проверке используется внешний цикл по разбиениям\n",
    "данных на обучающий и тестовый наборы. Для каждого из них\n",
    "выполняется решетчатый поиск (в результате чего для каждого\n",
    "разбиения внешнего цикла можно получить разные наилучшие\n",
    "параметры)\n",
    "- Затем для каждого внешнего разбиения выводится\n",
    "правильность на тестовом наборе с использованием наилучших\n",
    "параметров\n",
    "- Результатом этой процедуры является не модель и не настройки\n",
    "параметров, а список значений правильности\n",
    "- Значения правильности\n",
    "указывают нам на обобщающую способность модели с использованием\n",
    "лучших параметров, найденных в ходе решетчатого поиска\n",
    "- Поскольку\n",
    "вложенная перекрестная проверка не дает модель, которую можно\n",
    "использовать на новых данных, ее редко используют при поиске\n",
    "прогнозной модели для применения к новым данным. Тем не менее, она может быть полезна для оценки работы модели на конкретном наборе\n",
    "данных.\n",
    "- Реализовать вложенную перекрестную проверку в scikit-learn\n",
    "довольно просто. Мы вызываем cross_val_score и передаем ей\n",
    "экземпляр GridSearchCV в качестве модели:"
   ]
  },
  {
   "cell_type": "code",
   "execution_count": 33,
   "id": "b1867d9a",
   "metadata": {},
   "outputs": [
    {
     "name": "stdout",
     "output_type": "stream",
     "text": [
      "Значения правильности перекрестной проверки:  [0.96666667 1.         0.9        0.96666667 1.        ]\n",
      "Среднеее значение правильности перекрестной проверки:  0.9666666666666668\n"
     ]
    }
   ],
   "source": [
    "scores = cross_val_score(GridSearchCV(SVC(), param_grid, cv=5),\n",
    "                         iris.data, iris.target, cv=5)\n",
    "print(\"Значения правильности перекрестной проверки: \", scores)\n",
    "print(\"Среднеее значение правильности перекрестной проверки: \", scores.mean())"
   ]
  },
  {
   "cell_type": "markdown",
   "id": "9b443f62",
   "metadata": {},
   "source": [
    "- Результат нашей вложенной перекрестной проверки можно\n",
    "резюмировать так: «на наборе данных iris модель SVC может достигнуть\n",
    "средней правильности перекрестной проверки 98%» – ни больше, ни\n",
    "меньше.\n",
    "- В данном случае мы использовали стратифицированную\n",
    "пятиблочную перекрестную проверку как во внутреннем, так и во\n",
    "внешнем циклах. Поскольку наша сетка param_grid содержит 36\n",
    "комбинаций параметров, будет построено целых 36 * 5 * 5 = 900 моделей,\n",
    "что делает процедуру вложенной перекрестной проверки очень затратной\n",
    "с вычислительной точки зрения\n",
    "- Данный процесс можно\n",
    "визуализировать с помощью циклов for, как это сделано в следующей\n",
    "упрощенной реализации программного кода:"
   ]
  },
  {
   "cell_type": "code",
   "execution_count": 34,
   "id": "8f33f5b1",
   "metadata": {},
   "outputs": [],
   "source": [
    "def nested_cv(X, y, inner_cv, outer_cv, Classifier, parameter_grid):\n",
    "    outer_scores = []\n",
    "    # для каждого разбиения данных во внешней перекрестной проверке\n",
    "    # (метод split возвращает индексы)\n",
    "    for training_samples, test_samples in outer_cv.split(X, y):\n",
    "        # находим наилучшие параметры с помощью внутренней перекрестной проверки\n",
    "        best_parms = {}\n",
    "        best_score = -np.inf\n",
    "        # итерируем по параметрам\n",
    "        for parameters in parameter_grid:\n",
    "            # собираем значения правильности по всем внутренним разбиениям\n",
    "            cv_scores = []\n",
    "            # итерируем по разбиениям внутренней перекрестной проверки\n",
    "            for inner_train, inner_test in inner_cv.split(\n",
    "                    X[training_samples], y[training_samples]):\n",
    "                # строим классификатор с данными параметрами на внутреннем обучающем наборе\n",
    "                clf = Classifier(**parameters)\n",
    "                clf.fit(X[inner_train], y[inner_train])\n",
    "                # оцениваем качество на внутреннем тестовом наборе\n",
    "                score = clf.score(X[inner_test], y[inner_test])\n",
    "                cv_scores.append(score)\n",
    "                # вычисляем среднее значение правильности по внутренним блокам\n",
    "                mean_score = np.mean(cv_scores)\n",
    "            if mean_score > best_score:\n",
    "                # если лучше, чем предыдущие, запоминаем параметры\n",
    "                best_score = mean_score\n",
    "                best_params = parameters\n",
    "        # строим классификатор с лучшими параметрами на внешнем обучающем наборе\n",
    "        clf = Classifier(**best_params)\n",
    "        clf.fit(X[training_samples], y[training_samples])\n",
    "        # оцениваем качество на внешнем тестовом наборе\n",
    "        outer_scores.append(clf.score(X[test_samples], y[test_samples]))\n",
    "    return np.array(outer_scores)"
   ]
  },
  {
   "cell_type": "markdown",
   "id": "dfa19d56",
   "metadata": {},
   "source": [
    "Применим эту функцию к набору данных iris:"
   ]
  },
  {
   "cell_type": "code",
   "execution_count": 35,
   "id": "336b4a97",
   "metadata": {},
   "outputs": [
    {
     "name": "stdout",
     "output_type": "stream",
     "text": [
      "Значения правильности перекрестной проверки: [0.96666667 1.         0.96666667 0.96666667 1.        ]\n"
     ]
    }
   ],
   "source": [
    "from sklearn.model_selection import ParameterGrid, StratifiedKFold\n",
    "scores = nested_cv(iris.data, iris.target, StratifiedKFold(5),\n",
    "                   StratifiedKFold(5), SVC, ParameterGrid(param_grid))\n",
    "print(\"Значения правильности перекрестной проверки: {}\".format(scores))"
   ]
  },
  {
   "cell_type": "markdown",
   "id": "4ac98340",
   "metadata": {},
   "source": [
    "### Распараллеливание перекрестной проверки и решетчатого поиска"
   ]
  },
  {
   "cell_type": "markdown",
   "id": "675adcca",
   "metadata": {},
   "source": [
    "Построение моделей при решетчатом поиске независимо друг от друга, поэтому можно использовать распараллеливание по нескольким процессорным ядрам. \n",
    "-  В\n",
    "GridSearchCV и cross_val_score вы можете использовать несколько\n",
    "процессорных ядер, задав значение параметра n_jobs равным нужному количеству ядер. Также вы можете установить n_jobs=-1, чтобы использовать\n",
    "все доступные ядра."
   ]
  },
  {
   "cell_type": "markdown",
   "id": "912c8552",
   "metadata": {},
   "source": [
    "Имейте в виду, что scikit-learn не поддерживает вложенность\n",
    "параллельных операций\n",
    "(nesting of parallel operations). Поэтому, если вы\n",
    "используете опцию n_jobs для вашей модели (например, для случайного\n",
    "леса), вы не можете использовать ее в GridSearchCV для осуществления\n",
    "поиска по этой модели. "
   ]
  },
  {
   "cell_type": "markdown",
   "id": "4a11ce4f",
   "metadata": {},
   "source": [
    "# Метрики качества модели и их вычисление"
   ]
  },
  {
   "cell_type": "markdown",
   "id": "02e6cdcf",
   "metadata": {},
   "source": [
    "На практике\n",
    "эти метрики качества могут не соответствовать вашим задачам и поэтому\n",
    "очень важно при отборе моделей и корректировке параметров подобрать\n",
    "правильную метрику."
   ]
  },
  {
   "cell_type": "markdown",
   "id": "438bc57d",
   "metadata": {},
   "source": [
    "## Помните о конечной цели"
   ]
  },
  {
   "cell_type": "markdown",
   "id": "759dbfa8",
   "metadata": {},
   "source": [
    "- Прежде чем\n",
    "выбрать показатель качества машинного обучения, вам стоит подумать о\n",
    "высокоуровневой цели вашего проекта, которую часто называют бизнесметрикой\n",
    "(business metric).\n",
    "- Последствия, обусловленные выбором\n",
    "конкретного алгоритма для того или иного проекта, называются влиянием на бизнес (business impact)."
   ]
  },
  {
   "cell_type": "markdown",
   "id": "98773c96",
   "metadata": {},
   "source": [
    "- Вы должны выбрать такую модель или такие значения\n",
    "параметров, которые оказывают наибольшее положительное влияние на\n",
    "бизнес-метрику. Часто эта задача является трудной, поскольку оценка\n",
    "влияния конкретной модели на бизнес может потребовать ее внедрения\n",
    "в реальное производство.\n",
    "- Как правило, на ранних этапах разработки, а также при настройке\n",
    "параметров внедрить модель в производство только для тестирования не\n",
    "представляется возможным по причине возникновения высоких\n",
    "коммерческих и человеческих рисков."
   ]
  },
  {
   "cell_type": "markdown",
   "id": "b4aac7e6",
   "metadata": {},
   "source": [
    "- Метрика должна использоваться по возможности для оценки и\n",
    "отбора модели\n",
    "- Возможно, что в результате этой процедуры вы не\n",
    "получите какой-то конкретной цифры, например, вывод, найденный с\n",
    "помощью алгоритма, может звучат так: у вас на 10% больше клиентов, но\n",
    "каждый клиент будет тратить на 15% меньше – однако эта процедура\n",
    "должна оценить влияние на бизнес, зависящее от выбора той или иной\n",
    "модели."
   ]
  },
  {
   "cell_type": "markdown",
   "id": "cb2c241a",
   "metadata": {},
   "source": [
    "## Метрики для бинарной классификации"
   ]
  },
  {
   "cell_type": "markdown",
   "id": "4b0a86ae",
   "metadata": {},
   "source": [
    "- Прежде чем мы\n",
    "углубимся в альтернативные метрики, давайте рассмотрим ситуации, в\n",
    "которых правильность измерения может ввести в заблуждение.\n",
    "- Вспомним, что в случае бинарной классификации мы говорим о\n",
    "положительном\n",
    "(positive) классе и отрицательном (negative) классе,\n",
    "подразумевая под положительным классом интересующий нас класс."
   ]
  },
  {
   "cell_type": "markdown",
   "id": "cfcf196e",
   "metadata": {},
   "source": [
    "### Типы ошибок"
   ]
  },
  {
   "cell_type": "markdown",
   "id": "b02de72d",
   "metadata": {},
   "source": [
    "Вспомним, что в случае бинарной классификации мы говорим о\n",
    "положительном\n",
    "(positive) классе и отрицательном (negative) классе,\n",
    "подразумевая под положительным классом интересующий нас класс. Здесь мы называем положительным тестом (наличие\n",
    "рака) положительный класс, а отрицательный тест соответствует\n",
    "отрицательному классу.\n",
    "- Одна из возможных ошибок заключается в том, что здоровый пациент\n",
    "будет классифицирован как больной (положительный класс), что даст\n",
    "повод для дополнительного тестирования. Пример,\n",
    "неправильно спрогнозированный как положительный, называется ложно\n",
    "положительным\n",
    "(false positive). \n",
    "- Другая возможная ошибка состоит в том,\n",
    "что больной пациент будет классифицирован как здоровый\n",
    "(отрицательный класс), не пройдет дополнительные тесты и не получит\n",
    "лечения. Пример, неправильно спрогнозированный как\n",
    "отрицательный, называется ложно отрицательным (false negative).\n",
    "- В\n",
    "статистике ложно положительный пример также известен как ошибка I\n",
    "рода\n",
    "(type I error), а ложно отрицательный пример – как ошибка II рода\n",
    "(type II error). \n",
    "- В примере с\n",
    "диагностикой рака очевидно, что мы хотим минимизировать долю ложно\n",
    "отрицательных примеров, тогда как ложно положительные примеры\n",
    "можно считать гораздо менее значительной неприятностью."
   ]
  },
  {
   "cell_type": "markdown",
   "id": "aaa67c72",
   "metadata": {},
   "source": [
    "### Несбалансированные наборы данных"
   ]
  },
  {
   "cell_type": "markdown",
   "id": "b7792981",
   "metadata": {},
   "source": [
    "Наборы данных, в\n",
    "которых один класс встречается гораздо чаще, чем остальные, часто\n",
    "называют несбалансированными наборами данных (imbalanced datasets)\n",
    "или наборами данных с несбалансированными классами (datasets with\n",
    "imbalanced classes). В реальности несбалансированные данные являются\n",
    "нормой и редко бывает, что интересующий класс встречался в данных с\n",
    "одинаковой или почти такой же частотой, что и остальные классы."
   ]
  },
  {
   "cell_type": "markdown",
   "id": "78ee369f",
   "metadata": {},
   "source": [
    "На основе набора данных digits (задача о определении нарисованных цифр)\n",
    "создадим несбалансированный набор данных с пропорциями 9:1, создав\n",
    "два класса «не-девятка» и «девятка»:"
   ]
  },
  {
   "cell_type": "code",
   "execution_count": 36,
   "id": "fc1b3980",
   "metadata": {},
   "outputs": [],
   "source": [
    "from sklearn.datasets import load_digits\n",
    "\n",
    "digits = load_digits()\n",
    "y = digits.target == 9\n",
    "\n",
    "X_train, X_test, y_train, y_test = train_test_split(\n",
    "    digits.data, y, random_state=0)"
   ]
  },
  {
   "cell_type": "markdown",
   "id": "7c325e95",
   "metadata": {},
   "source": [
    "Мы можем воспользоваться DummyClassifier, который всегда\n",
    "предсказывает мажоритарный класс (в данном случае класс «недевятка»), чтобы проиллюстрировать, насколько малоинформативной\n",
    "может быть правильность:"
   ]
  },
  {
   "cell_type": "code",
   "execution_count": 37,
   "id": "1190d572",
   "metadata": {},
   "outputs": [
    {
     "name": "stdout",
     "output_type": "stream",
     "text": [
      "Уникальные спрогнозированные метки: [False]\n",
      "Правильность на тестовом наборе: 0.90\n"
     ]
    }
   ],
   "source": [
    "from sklearn.dummy import DummyClassifier\n",
    "dummy_majority = DummyClassifier(strategy='most_frequent').fit(X_train, y_train)\n",
    "pred_most_frequent = dummy_majority.predict(X_test)\n",
    "print(\"Уникальные спрогнозированные метки: {}\".format(np.unique(pred_most_frequent)))\n",
    "print(\"Правильность на тестовом наборе: {:.2f}\".format(dummy_majority.score(X_test, y_test)))"
   ]
  },
  {
   "cell_type": "markdown",
   "id": "eba4522b",
   "metadata": {},
   "source": [
    "Мы получили 90%-ную правильностью без какого-либо обучения. Давайте сравним этот результат с результатом, полученным с\n",
    "помощью реальной модели:"
   ]
  },
  {
   "cell_type": "code",
   "execution_count": 38,
   "id": "7db54164",
   "metadata": {},
   "outputs": [
    {
     "name": "stdout",
     "output_type": "stream",
     "text": [
      "Правильность на тестовом наборе: 0.92\n"
     ]
    }
   ],
   "source": [
    "from sklearn.tree import DecisionTreeClassifier\n",
    "tree = DecisionTreeClassifier(max_depth=2).fit(X_train, y_train)\n",
    "pred_tree = tree.predict(X_test)\n",
    "print(\"Правильность на тестовом наборе: {:.2f}\".format(tree.score(X_test, y_test)))"
   ]
  },
  {
   "cell_type": "markdown",
   "id": "ac9e0048",
   "metadata": {},
   "source": [
    "С точки зрения правильности DecisionTreeClassifier оказался чуть\n",
    "лучше, чем DummyClassifier, постоянно предсказывающего\n",
    "мажоритарный класс. Это может означать, что либо мы неправильно\n",
    "использовали DecisionTreeClassifier, либо правильность на самом деле\n",
    "не является в данном случае адекватной метрикой."
   ]
  },
  {
   "cell_type": "markdown",
   "id": "f642b958",
   "metadata": {},
   "source": [
    "Для сравнения давайте оценим качество еще двух классификаторов,\n",
    "LogisticRegression и обычный DummyClassifier, который выдает\n",
    "случайные прогнозы:"
   ]
  },
  {
   "cell_type": "code",
   "execution_count": 39,
   "id": "91cf8738",
   "metadata": {},
   "outputs": [
    {
     "name": "stdout",
     "output_type": "stream",
     "text": [
      "правильность dummy: 0.90\n",
      "правильность logreg: 0.98\n"
     ]
    }
   ],
   "source": [
    "from sklearn.linear_model import LogisticRegression\n",
    "dummy = DummyClassifier().fit(X_train, y_train)\n",
    "pred_dummy = dummy.predict(X_test)\n",
    "print(\"правильность dummy: {:.2f}\".format(dummy.score(X_test, y_test)))\n",
    "logreg = LogisticRegression(C=0.1,max_iter = 1000).fit(X_train, y_train)\n",
    "pred_logreg = logreg.predict(X_test)\n",
    "print(\"правильность logreg: {:.2f}\".format(logreg.score(X_test, y_test)))"
   ]
  },
  {
   "cell_type": "markdown",
   "id": "4170ef76",
   "metadata": {},
   "source": [
    "- Проблема здесь заключается в том, что для\n",
    "несбалансированных наборов данных правильность не является\n",
    "адекватной метрикой, позволяющей количественно оценить\n",
    "прогностическую способность модели.\n",
    "- В частности, нам нужны такие метрики,\n",
    "которые позволяют сравнить правильность модели машинного обучения\n",
    "с правильностью классификатора, всегда предсказывающего «наиболее\n",
    "часто встречающийся класс», или случайного классификатора (в данном\n",
    "случае такие классификаторы были вычислены с помощью\n",
    "pred_most_frequent и pred_dummy)."
   ]
  },
  {
   "cell_type": "markdown",
   "id": "f691f9c4",
   "metadata": {},
   "source": [
    "### Матрица ошибок"
   ]
  },
  {
   "cell_type": "markdown",
   "id": "a8bf2ef9",
   "metadata": {},
   "source": [
    "Одним из наиболее развернутых способов, позволяющих оценить\n",
    "качество бинарной классификации, является использование матрицы\n",
    "ошибок. Давайте исследуем прогнозы модели LogisticRegression,\n",
    "построенной в предыдущем разделе, с помощью функции\n",
    "confusion_matrix. Прогнозы для тестового набора данных мы уже\n",
    "сохранили в pred_logreg:"
   ]
  },
  {
   "cell_type": "code",
   "execution_count": 40,
   "id": "da62cb05",
   "metadata": {
    "scrolled": true
   },
   "outputs": [
    {
     "name": "stdout",
     "output_type": "stream",
     "text": [
      "Матрица ошибок:\n",
      "[[402   1]\n",
      " [  6  41]]\n"
     ]
    }
   ],
   "source": [
    "from sklearn.metrics import confusion_matrix\n",
    "confusion = confusion_matrix(y_test, pred_logreg)\n",
    "print(\"Матрица ошибок:\\n{}\".format(confusion))"
   ]
  },
  {
   "cell_type": "markdown",
   "id": "72cbc6c9",
   "metadata": {},
   "source": [
    "Вывод confusion_matrix представляет собой массив размером 2x2, где\n",
    "строки соответствуют фактическим классам, а столбцы соответствуют\n",
    "спрогнозированным классам. В данном случае речь идет о классах «недевятка» и «девятка». Число в каждой ячейке показывает количество\n",
    "примеров, когда спрогнозированный класс, представленный столбцом,\n",
    "совпадает или не совпадает с фактическим классом, представленным\n",
    "строкой."
   ]
  },
  {
   "cell_type": "code",
   "execution_count": 41,
   "id": "0f90748a",
   "metadata": {},
   "outputs": [
    {
     "data": {
      "image/png": "[encoded data removed]",
      "text/plain": [
       "<Figure size 576x576 with 1 Axes>"
      ]
     },
     "metadata": {
      "needs_background": "light"
     },
     "output_type": "display_data"
    }
   ],
   "source": [
    "mglearn.plots.plot_confusion_matrix_illustration()"
   ]
  },
  {
   "cell_type": "markdown",
   "id": "2094662d",
   "metadata": {},
   "source": [
    "Рис. 5.10 Матрица ошибок для классификационной задачи\n",
    "«девятка против остальных»"
   ]
  },
  {
   "cell_type": "markdown",
   "id": "2e0ec698",
   "metadata": {},
   "source": [
    "- Элементы главной диагонали матрицы ошибок соответствуют\n",
    "правильным прогнозам (результатам классификации), тогда как\n",
    "остальные элементы показывают, сколько примеров, относящихся к\n",
    "одному классу, были ошибочно классифицированы как другой класс.\n",
    "- Объявив «девятку» положительным классом, мы можем рассмотреть\n",
    "элементы матрицы ошибок в терминах ложно положительных (false\n",
    "positive\n",
    ") и ложно отрицательных (false negative) примеров, которые мы\n",
    "ввели ранее. \n",
    "- Для полноты картины мы назовем правильно\n",
    "классифицированные положительные примеры истинно\n",
    "положительными\n",
    "(true positive), а правильно классифицированные\n",
    "отрицательные примеры – истинно отрицательными (true negative). Эти\n",
    "термины, как правило, записывают в сокращенном виде как FP, FN, TP\n",
    "и TN и приводят к следующей интерпретации матрицы ошибок (рис.5.11):"
   ]
  },
  {
   "cell_type": "markdown",
   "id": "81e80246",
   "metadata": {},
   "source": [
    "Тест на наличие рака (позитивный, если тест показал, что рак есть):\n",
    "- TN - на здоровом показал здорового\n",
    "- TP - на больном показал больного\n",
    "- FP - на здоровом показал больного\n",
    "- FN - на больном показал здорового"
   ]
  },
  {
   "cell_type": "code",
   "execution_count": 42,
   "id": "1048a224",
   "metadata": {
    "scrolled": true
   },
   "outputs": [
    {
     "data": {
      "image/png": "[encoded data removed]",
      "text/plain": [
       "<Figure size 432x288 with 1 Axes>"
      ]
     },
     "metadata": {
      "needs_background": "light"
     },
     "output_type": "display_data"
    }
   ],
   "source": [
    "mglearn.plots.plot_binary_confusion_matrix()"
   ]
  },
  {
   "cell_type": "markdown",
   "id": "401836ad",
   "metadata": {},
   "source": [
    "Рис. 5.11 Матрица ошибок для бинарной классификации"
   ]
  },
  {
   "cell_type": "markdown",
   "id": "b0d36490",
   "metadata": {},
   "source": [
    "Теперь давайте воспользуемся матрицей ошибок для сравнения ранее\n",
    "построенных моделей (две дамми-модели, дерево решений, а также\n",
    "логистическая регрессия):"
   ]
  },
  {
   "cell_type": "code",
   "execution_count": 43,
   "id": "cd09c9a0",
   "metadata": {},
   "outputs": [
    {
     "name": "stdout",
     "output_type": "stream",
     "text": [
      "Наиболее часто встречающийся класс:\n",
      "[[403   0]\n",
      " [ 47   0]]\n",
      "\n",
      "Дамми-модель:\n",
      "[[403   0]\n",
      " [ 47   0]]\n",
      "\n",
      "Дерево решений:\n",
      "[[390  13]\n",
      " [ 24  23]]\n",
      "\n",
      "Логистическая регрессия\n",
      "[[402   1]\n",
      " [  6  41]]\n"
     ]
    }
   ],
   "source": [
    "print(\"Наиболее часто встречающийся класс:\")\n",
    "print(confusion_matrix(y_test, pred_most_frequent))\n",
    "print(\"\\nДамми-модель:\")\n",
    "print(confusion_matrix(y_test, pred_dummy))\n",
    "print(\"\\nДерево решений:\")\n",
    "print(confusion_matrix(y_test, pred_tree))\n",
    "print(\"\\nЛогистическая регрессия\")\n",
    "print(confusion_matrix(y_test, pred_logreg))"
   ]
  },
  {
   "cell_type": "markdown",
   "id": "95d63b67",
   "metadata": {},
   "source": [
    "- Взглянув на матрицу ошибок, становится совершенно ясно, что с\n",
    "моделью pred_most_frequent что-то не так, потому что она всегда\n",
    "предсказывает один и тот же класс.\n",
    "- С другой стороны, модель pred_dummy\n",
    "характеризуется очень маленьким количеством истинно положительных\n",
    "примеров (4) по сравнению с остальными примерами, при этом\n",
    "количество ложно положительных примеров существенно больше\n",
    "количества истинно положительных примеров! \n",
    "- Прогнозы, полученные с\n",
    "помощью дерева решений, несут гораздо больше смысла, чем прогнозы\n",
    "дамми-модели, хотя правильность у этих моделей почти одинаковая.\n",
    "- И,\n",
    "наконец, мы видим, что прогнозы логистической регрессии лучше\n",
    "прогнозов pred_tree во всех аспектах: она имеет большее количество\n",
    "истинно положительных и истинно отрицательных примеров, в то время\n",
    "количество ложно положительных и ложно отрицательных примеров\n",
    "стало меньше. \n",
    "\n",
    "Из этого сравнения ясно, что лишь дерево решений и\n",
    "логистическая регрессия дают разумные результаты, при этом\n",
    "логистическая регрессия работает лучше дерева во всех отношениях.\n",
    "Однако интерпретация матрицы ошибок немного громоздка и хотя мы\n",
    "получили массу информации, анализируя все аспекты матрицы, процесс\n",
    "работы с матрицей ошибок был трудоемким и сложным. \n",
    "- Есть несколько\n",
    "способов обобщить информацию, содержащуюся в матрице ошибок. О\n",
    "них мы поговорим в следующем разделе."
   ]
  },
  {
   "cell_type": "markdown",
   "id": "bfb31c48",
   "metadata": {},
   "source": [
    "#### Связь с правильностью"
   ]
  },
  {
   "cell_type": "markdown",
   "id": "f4a952ba",
   "metadata": {},
   "source": [
    "Мы уже знакомы с одним из способов обобщить результаты матрицы –\n",
    "вычислением правильности (accuracy), которую можно выразить в виде следующей\n",
    "формулы:"
   ]
  },
  {
   "attachments": {
    "image.png": {
     "image/png": "[encoded data removed]"
    }
   },
   "cell_type": "markdown",
   "id": "d564ef12",
   "metadata": {},
   "source": [
    "![image.png](attachment:image.png)"
   ]
  },
  {
   "cell_type": "markdown",
   "id": "88e188b7",
   "metadata": {},
   "source": [
    "Другими словами, правильность – это количество верно\n",
    "классифицированных примеров (TP и TN), поделенное на общее\n",
    "количество примеров (суммируем все элементы матрицы ошибок)."
   ]
  },
  {
   "cell_type": "markdown",
   "id": "50e7f31a",
   "metadata": {},
   "source": [
    "#### Точность, полнота, и F-мера"
   ]
  },
  {
   "cell_type": "markdown",
   "id": "7790a613",
   "metadata": {},
   "source": [
    "Есть еще несколько способов подытожить информацию матрицы\n",
    "ошибок, наиболее часто используемыми из них являются точность и\n",
    "полнота."
   ]
  },
  {
   "cell_type": "markdown",
   "id": "90291c7f",
   "metadata": {},
   "source": [
    "Точность (precision) показывает, сколько из предсказанных\n",
    "положительных примеров оказались действительно положительными.\n",
    "Таким образом, точность – это доля истинно положительных примеров\n",
    "от общего количества предсказанных положительных примеров."
   ]
  },
  {
   "attachments": {
    "image.png": {
     "image/png": "[encoded data removed]"
    }
   },
   "cell_type": "markdown",
   "id": "3c8f1bb4",
   "metadata": {},
   "source": [
    "![image.png](attachment:image.png)"
   ]
  },
  {
   "cell_type": "markdown",
   "id": "1b3a9a37",
   "metadata": {},
   "source": [
    "Точность используется в качестве показателя качества модели, когда\n",
    "цель состоит в том, чтобы снизить количество ложно положительных\n",
    "примеров; другими словами, необходимо увеличить точность.\n",
    "- Точность также\n",
    "известна как прогностическая ценность положительного результата\n",
    "(positive predictive value, PPV)."
   ]
  },
  {
   "cell_type": "markdown",
   "id": "1a93c410",
   "metadata": {},
   "source": [
    "С другой стороны, полнота (recall) показывает, сколько от общего\n",
    "числа фактических положительных примеров было предсказано как\n",
    "положительный класс. Полнота – это доля истинно положительных\n",
    "примеров от общего количества фактических положительных примеров."
   ]
  },
  {
   "attachments": {
    "image.png": {
     "image/png": "[encoded data removed]"
    }
   },
   "cell_type": "markdown",
   "id": "2a99acce",
   "metadata": {},
   "source": [
    "![image.png](attachment:image.png)"
   ]
  },
  {
   "cell_type": "markdown",
   "id": "13b06bcc",
   "metadata": {},
   "source": [
    "Полнота используется в качестве показателя качества модели, когда\n",
    "нам необходимо определить все положительные примеры, то есть, когда\n",
    "важно снизить количество ложно отрицательных примеров. \n",
    "Другие\n",
    "названия полноты:\n",
    "- чувствительность (sensitivity)\n",
    "- процент\n",
    "результативных ответов или хит-рейт (hit rate)\n",
    "- доля истинно\n",
    "положительных примеров (true positive rate, TPR)"
   ]
  },
  {
   "cell_type": "markdown",
   "id": "6dfcd1e4",
   "metadata": {},
   "source": [
    "Пример\n",
    "диагностики рака, приведенный ранее в этой главе, является хорошей\n",
    "иллюстрацией подобной задачи: важно выявить всех больных пациентов,\n",
    "при этом, возможно, включив в их число здоровых пациентов."
   ]
  },
  {
   "cell_type": "markdown",
   "id": "fe4fc8c2",
   "metadata": {},
   "source": [
    "Всегда необходимо найти компромисс между оптимизацией полноты\n",
    "и оптимизацией точности."
   ]
  },
  {
   "cell_type": "markdown",
   "id": "9a4f28ed",
   "metadata": {},
   "source": [
    "Хотя точность и полнота являются очень важными метриками, сами\n",
    "по себе они не дадут вам полной картины. Одним из способов\n",
    "подытожить их является F-мера (F-measure), которая представляет собой\n",
    "гармоническое среднее точности и полноты:"
   ]
  },
  {
   "attachments": {
    "image.png": {
     "image/png": "[encoded data removed]"
    }
   },
   "cell_type": "markdown",
   "id": "a8465d05",
   "metadata": {},
   "source": [
    "![image.png](attachment:image.png)"
   ]
  },
  {
   "cell_type": "markdown",
   "id": "5dc5227b",
   "metadata": {},
   "source": [
    "Этот вариант вычисления F-меры еще известен как f1-мера. Поскольку\n",
    "f1-мера учитывает точность и полноту, то для бинарной классификации\n",
    "несбалансированных данных она может быть более лучшей метрикой,\n",
    "чем правильность."
   ]
  },
  {
   "cell_type": "markdown",
   "id": "2b02efd9",
   "metadata": {},
   "source": [
    "Этот вариант вычисления F-меры еще известен как f1-мера. Поскольку\n",
    "f1-мера учитывает точность и полноту, то для бинарной классификации\n",
    "несбалансированных данных она может быть более лучшей метрикой,\n",
    "чем правильность."
   ]
  },
  {
   "cell_type": "code",
   "execution_count": 44,
   "id": "4af26a4f",
   "metadata": {},
   "outputs": [
    {
     "name": "stdout",
     "output_type": "stream",
     "text": [
      "f1-мера наибольшая частота: 0.00\n",
      "f1-мера дамми: 0.00\n",
      "f1-мера дерево: 0.55\n",
      "f1-мера логистическая регрессия: 0.92\n"
     ]
    }
   ],
   "source": [
    "from sklearn.metrics import f1_score\n",
    "\n",
    "print(\"f1-мера наибольшая частота: {:.2f}\".format(\n",
    "    f1_score(y_test, pred_most_frequent)))\n",
    "print(\"f1-мера дамми: {:.2f}\".format(f1_score(y_test, pred_dummy)))\n",
    "print(\"f1-мера дерево: {:.2f}\".format(f1_score(y_test, pred_tree)))\n",
    "print(\"f1-мера логистическая регрессия: {:.2f}\".format(\n",
    "    f1_score(y_test, pred_logreg)))"
   ]
  },
  {
   "cell_type": "markdown",
   "id": "3442a941",
   "metadata": {},
   "source": [
    "Использовав f-меру для оценки\n",
    "качества, мы снова подытоживаем прогностическую способность с\n",
    "помощью одного числа. Однако, похоже, что f-мера действительно дает\n",
    "более лучшее представление о качестве модели, чем правильность.\n",
    "Вместе с тем недостаток f-меры заключается в том, что в отличие от\n",
    "правильности ее труднее интерпретировать и объяснить."
   ]
  },
  {
   "cell_type": "markdown",
   "id": "bea9e490",
   "metadata": {},
   "source": [
    "Если мы хотим получить более развернутый отчет о точности,\n",
    "полноте и f1-мере, можно воспользоваться удобной функцией\n",
    "classification_report, чтобы вычислить все три метрики сразу и\n",
    "распечатать их в привлекательном виде:"
   ]
  },
  {
   "cell_type": "code",
   "execution_count": 45,
   "id": "e0901a9c",
   "metadata": {},
   "outputs": [
    {
     "name": "stdout",
     "output_type": "stream",
     "text": [
      "              precision    recall  f1-score   support\n",
      "\n",
      "    not nine       0.90      1.00      0.94       403\n",
      "        nine       0.00      0.00      0.00        47\n",
      "\n",
      "    accuracy                           0.90       450\n",
      "   macro avg       0.45      0.50      0.47       450\n",
      "weighted avg       0.80      0.90      0.85       450\n",
      "\n"
     ]
    },
    {
     "name": "stderr",
     "output_type": "stream",
     "text": [
      "D:\\ANACONDA\\lib\\site-packages\\sklearn\\metrics\\_classification.py:1248: UndefinedMetricWarning: Precision and F-score are ill-defined and being set to 0.0 in labels with no predicted samples. Use `zero_division` parameter to control this behavior.\n",
      "  _warn_prf(average, modifier, msg_start, len(result))\n",
      "D:\\ANACONDA\\lib\\site-packages\\sklearn\\metrics\\_classification.py:1248: UndefinedMetricWarning: Precision and F-score are ill-defined and being set to 0.0 in labels with no predicted samples. Use `zero_division` parameter to control this behavior.\n",
      "  _warn_prf(average, modifier, msg_start, len(result))\n",
      "D:\\ANACONDA\\lib\\site-packages\\sklearn\\metrics\\_classification.py:1248: UndefinedMetricWarning: Precision and F-score are ill-defined and being set to 0.0 in labels with no predicted samples. Use `zero_division` parameter to control this behavior.\n",
      "  _warn_prf(average, modifier, msg_start, len(result))\n"
     ]
    }
   ],
   "source": [
    "from sklearn.metrics import classification_report\n",
    "print(classification_report(y_test, pred_most_frequent,\n",
    "                            target_names=[\"not nine\", \"nine\"]))"
   ]
  },
  {
   "cell_type": "markdown",
   "id": "aaab34ff",
   "metadata": {},
   "source": [
    "- Функция classification_report печатает отчет, в котором выводятся\n",
    "показатели точности, полноты и f-меры для отрицательного и\n",
    "положительного классов. Миноритарный класс «девятка» считается\n",
    "положительным классом. Значение f-меры для него равно 0. Для\n",
    "мажоритарного класса «не-девятка» значение f-меры равно 0.94. Кроме\n",
    "того, полнота для класса «не-девятка» равна 1, поскольку мы\n",
    "классифицировали все примеры как «не-девятки». Крайний правый\n",
    "столбец – это поддержка (support), которая равна фактическому\n",
    "количеству примеров данного класса.\n",
    "- В последней строке отчета приводятся средние значения метрик,\n",
    "взвешенные по количеству фактических примеров в каждом классе.\n",
    "Поясним процесс вычисления взвешенного среднего значения для\n",
    "примере f-метрики. Сначала вычисляем веса отрицательного и\n",
    "положительного классов. Вес отрицательного класса равен 403/450=0.90.\n",
    "Вес положительного класса равен 47/450=0.10. Теперь\n",
    "спрогнозированное значение f-меры для каждого класса умножаем на вес\n",
    "соответствующего класса, складываем результаты и получаем\n",
    "взвешенное среднее значение f-меры: 0.90 x 0.94 + 0.10 x 0.00 = 0.85."
   ]
  },
  {
   "cell_type": "code",
   "execution_count": 46,
   "id": "adcf811a",
   "metadata": {},
   "outputs": [
    {
     "name": "stdout",
     "output_type": "stream",
     "text": [
      "              precision    recall  f1-score   support\n",
      "\n",
      "    not nine       0.90      1.00      0.94       403\n",
      "        nine       0.00      0.00      0.00        47\n",
      "\n",
      "    accuracy                           0.90       450\n",
      "   macro avg       0.45      0.50      0.47       450\n",
      "weighted avg       0.80      0.90      0.85       450\n",
      "\n"
     ]
    },
    {
     "name": "stderr",
     "output_type": "stream",
     "text": [
      "D:\\ANACONDA\\lib\\site-packages\\sklearn\\metrics\\_classification.py:1248: UndefinedMetricWarning: Precision and F-score are ill-defined and being set to 0.0 in labels with no predicted samples. Use `zero_division` parameter to control this behavior.\n",
      "  _warn_prf(average, modifier, msg_start, len(result))\n",
      "D:\\ANACONDA\\lib\\site-packages\\sklearn\\metrics\\_classification.py:1248: UndefinedMetricWarning: Precision and F-score are ill-defined and being set to 0.0 in labels with no predicted samples. Use `zero_division` parameter to control this behavior.\n",
      "  _warn_prf(average, modifier, msg_start, len(result))\n",
      "D:\\ANACONDA\\lib\\site-packages\\sklearn\\metrics\\_classification.py:1248: UndefinedMetricWarning: Precision and F-score are ill-defined and being set to 0.0 in labels with no predicted samples. Use `zero_division` parameter to control this behavior.\n",
      "  _warn_prf(average, modifier, msg_start, len(result))\n"
     ]
    }
   ],
   "source": [
    "print(classification_report(y_test, pred_dummy,\n",
    "                            target_names=[\"not nine\", \"nine\"]))"
   ]
  },
  {
   "cell_type": "code",
   "execution_count": 47,
   "id": "783c43a7",
   "metadata": {},
   "outputs": [
    {
     "name": "stdout",
     "output_type": "stream",
     "text": [
      "              precision    recall  f1-score   support\n",
      "\n",
      "    not nine       0.99      1.00      0.99       403\n",
      "        nine       0.98      0.87      0.92        47\n",
      "\n",
      "    accuracy                           0.98       450\n",
      "   macro avg       0.98      0.93      0.96       450\n",
      "weighted avg       0.98      0.98      0.98       450\n",
      "\n"
     ]
    }
   ],
   "source": [
    "print(classification_report(y_test, pred_logreg,\n",
    "                            target_names=[\"not nine\", \"nine\"]))"
   ]
  },
  {
   "cell_type": "markdown",
   "id": "1bcf9f8a",
   "metadata": {},
   "source": [
    "Различия между даммимоделью и моделью логистической регрессии уже не столь очевидны.\n",
    "Решение о том, какой класс объявить положительным, имеет большое\n",
    "влияние на метрики."
   ]
  },
  {
   "cell_type": "markdown",
   "id": "9758b482",
   "metadata": {},
   "source": [
    "Проанализировав все показатели вместе, можно составить довольно точную картину и четко увидеть превосходство\n",
    "модели логистической регрессии."
   ]
  },
  {
   "cell_type": "markdown",
   "id": "bfd97815",
   "metadata": {},
   "source": [
    "### Принимаем во внимание неопределенность"
   ]
  },
  {
   "cell_type": "markdown",
   "id": "42786549",
   "metadata": {},
   "source": [
    "####################################"
   ]
  },
  {
   "cell_type": "markdown",
   "id": "5dd91b44",
   "metadata": {},
   "source": [
    "Как мы уже говорили в главе 2, большинство\n",
    "классификаторов для оценки степени достоверности прогнозов\n",
    "позволяют использовать методы decision_function или predict_proba.\n",
    "Получить прогнозы можно, установив для decision_function или\n",
    "predict_proba пороговое значение в некоторой фиксированной точке – в\n",
    "случае бинарной классификации мы используем 0 для решающей\n",
    "функции и 0.5 для метода predict_proba."
   ]
  },
  {
   "cell_type": "code",
   "execution_count": 48,
   "id": "71f8297d",
   "metadata": {},
   "outputs": [],
   "source": [
    "X, y = make_blobs(n_samples=(400, 50), cluster_std=[7.0, 2],\n",
    "                  random_state=22)\n",
    "X_train, X_test, y_train, y_test = train_test_split(X, y, random_state=0)\n",
    "svc = SVC(gamma=.05).fit(X_train, y_train)"
   ]
  },
  {
   "cell_type": "code",
   "execution_count": 49,
   "id": "eac42554",
   "metadata": {},
   "outputs": [
    {
     "data": {
      "image/png": "[encoded data removed]",
      "text/plain": [
       "<Figure size 1080x576 with 6 Axes>"
      ]
     },
     "metadata": {},
     "output_type": "display_data"
    }
   ],
   "source": [
    "mglearn.plots.plot_decision_threshold()"
   ]
  },
  {
   "cell_type": "markdown",
   "id": "701bb1ee",
   "metadata": {},
   "source": [
    "Рис. 5.12 Тепловая карта решающей функции и влияние\n",
    "изменения порогового значения на результат"
   ]
  },
  {
   "cell_type": "code",
   "execution_count": 50,
   "id": "02a63e50",
   "metadata": {},
   "outputs": [
    {
     "name": "stdout",
     "output_type": "stream",
     "text": [
      "              precision    recall  f1-score   support\n",
      "\n",
      "           0       0.97      0.89      0.93       104\n",
      "           1       0.35      0.67      0.46         9\n",
      "\n",
      "    accuracy                           0.88       113\n",
      "   macro avg       0.66      0.78      0.70       113\n",
      "weighted avg       0.92      0.88      0.89       113\n",
      "\n"
     ]
    }
   ],
   "source": [
    "print(classification_report(y_test, svc.predict(X_test)))"
   ]
  },
  {
   "cell_type": "markdown",
   "id": "814d4990",
   "metadata": {},
   "source": [
    "Давайте предположим, что в нашем примере гораздо важнее получить\n",
    "высокое значение полноты для класса, как в случае со скринингом рака,\n",
    "приведенном ранее. Это означает, что мы готовы допустить большее\n",
    "количество ложных срабатываний (случаев, когда неверно\n",
    "спрогнозирован класс 1), что даст нам большее количество истинно\n",
    "положительных примеров (то есть увеличит значение полноты).\n",
    "Прогнозы, полученные с помощью svc.predict, не отвечают этому\n",
    "требованию, но мы можем скорректировать их, чтобы получить более\n",
    "высокое значение полноты для класса 1. Для этого необходимо изменить\n",
    "пороговое значение для принятия решений. По умолчанию точки данных со значениями решающей функции больше 0 будут классифицироваться\n",
    "как класс 1. Мы хотим увеличить количество точек данных,\n",
    "прогнозируемых как класс 1, поэтому нужно снизить пороговое значение:"
   ]
  },
  {
   "cell_type": "code",
   "execution_count": 51,
   "id": "a8b7b75e",
   "metadata": {},
   "outputs": [],
   "source": [
    "y_pred_lower_threshold = svc.decision_function(X_test) > -.8"
   ]
  },
  {
   "cell_type": "code",
   "execution_count": 52,
   "id": "18527300",
   "metadata": {},
   "outputs": [
    {
     "name": "stdout",
     "output_type": "stream",
     "text": [
      "              precision    recall  f1-score   support\n",
      "\n",
      "           0       1.00      0.82      0.90       104\n",
      "           1       0.32      1.00      0.49         9\n",
      "\n",
      "    accuracy                           0.83       113\n",
      "   macro avg       0.66      0.91      0.69       113\n",
      "weighted avg       0.95      0.83      0.87       113\n",
      "\n"
     ]
    }
   ],
   "source": [
    "print(classification_report(y_test, y_pred_lower_threshold))"
   ]
  },
  {
   "cell_type": "markdown",
   "id": "bbe1457e",
   "metadata": {},
   "source": [
    "### Кривые точности-полноты и ROC-кривые"
   ]
  },
  {
   "cell_type": "markdown",
   "id": "b0b454d4",
   "metadata": {},
   "source": [
    "Изменение порога, используемого для\n",
    "классификации решений модели – это способ, позволяющий найти\n",
    "компромисс между точностью и полнотой для данного классификатора.\n",
    "Возможно, вы хотите пропустить менее 10% положительных примеров,\n",
    "таким образом, желаемое значение полноты составит 90%. Решение\n",
    "зависит от конкретного примера и оно должно определяться бизнесцелями. Как только поставлена конкретная цель, скажем, задано\n",
    "конкретное значение полноты или точности для класса, можно\n",
    "установить соответствующий порог. Всегда можно задать то или иное\n",
    "пороговое значение для реализации конкретной цели (например,\n",
    "достижения значения полноты 90%). Трудность состоит в разработке\n",
    "такой модели, которая при этом пороге еще и будет иметь приемлемое\n",
    "значение точности, ведь классифицировав все примеры как\n",
    "положительные, вы получите значение полноты, равное 100%, но при\n",
    "этом ваша модель будет бесполезной."
   ]
  },
  {
   "cell_type": "markdown",
   "id": "71218c9d",
   "metadata": {},
   "source": [
    "Требование, выдвигаемое к качеству модели (например, значение\n",
    "полноты должно быть 90%), часто называют рабочей точкой (operating\n",
    "point\n",
    "). Фиксирование рабочей точки часто бывает полезно в контексте\n",
    "бизнеса, чтобы гарантировать определенный уровень качества клиентам\n",
    "или другим группам лиц внутри организации.\n",
    "Как правило, при разработке новой модели нет четкого представления\n",
    "о том, что будет рабочей точкой. По этой причине, а также для того,\n",
    "чтобы получить более полное представление о решаемой задаче, полезно\n",
    "сразу взглянуть на все возможные пороговые значения или все\n",
    "возможные соотношения точности и полноты для этих пороговых\n",
    "значений. Данную процедуру можно осуществить с помощью\n",
    "инструмента, называемого кривой точности-полноты (precision-recall\n",
    "curve\n",
    "). Функцию для вычисления кривой точности-полноты можно\n",
    "найти в модуле sklearn.metrics. Ей необходимо передать фактические\n",
    "метки классов и спрогнозированные вероятности, вычисленные с\n",
    "помощью decision_function или predict_proba:"
   ]
  },
  {
   "cell_type": "code",
   "execution_count": 53,
   "id": "44e4ecf1",
   "metadata": {},
   "outputs": [],
   "source": [
    "from sklearn.metrics import precision_recall_curve\n",
    "precision, recall, thresholds = precision_recall_curve(\n",
    "    y_test, svc.decision_function(X_test))"
   ]
  },
  {
   "cell_type": "code",
   "execution_count": 54,
   "id": "69161492",
   "metadata": {},
   "outputs": [
    {
     "data": {
      "text/plain": [
       "array([0.32142857, 0.2962963 , 0.30769231, 0.32      , 0.33333333,\n",
       "       0.34782609, 0.36363636, 0.38095238, 0.4       , 0.36842105,\n",
       "       0.33333333, 0.35294118, 0.375     , 0.4       , 0.42857143,\n",
       "       0.38461538, 0.41666667, 0.45454545, 0.4       , 0.44444444,\n",
       "       0.5       , 0.57142857, 0.66666667, 0.6       , 0.5       ,\n",
       "       0.66666667, 0.5       , 1.        , 1.        ])"
      ]
     },
     "execution_count": 54,
     "metadata": {},
     "output_type": "execute_result"
    }
   ],
   "source": [
    "precision"
   ]
  },
  {
   "cell_type": "code",
   "execution_count": 55,
   "id": "bd017654",
   "metadata": {},
   "outputs": [
    {
     "data": {
      "text/plain": [
       "array([1.        , 0.88888889, 0.88888889, 0.88888889, 0.88888889,\n",
       "       0.88888889, 0.88888889, 0.88888889, 0.88888889, 0.77777778,\n",
       "       0.66666667, 0.66666667, 0.66666667, 0.66666667, 0.66666667,\n",
       "       0.55555556, 0.55555556, 0.55555556, 0.44444444, 0.44444444,\n",
       "       0.44444444, 0.44444444, 0.44444444, 0.33333333, 0.22222222,\n",
       "       0.22222222, 0.11111111, 0.11111111, 0.        ])"
      ]
     },
     "execution_count": 55,
     "metadata": {},
     "output_type": "execute_result"
    }
   ],
   "source": [
    "recall"
   ]
  },
  {
   "cell_type": "code",
   "execution_count": 56,
   "id": "f4fca95b",
   "metadata": {},
   "outputs": [
    {
     "data": {
      "text/plain": [
       "array([-0.7512563 , -0.58749402, -0.48739733, -0.44364565, -0.40435353,\n",
       "       -0.28965335, -0.24173165, -0.19257469, -0.17852475, -0.16644845,\n",
       "       -0.1601932 ,  0.08620484,  0.14630375,  0.19153373,  0.36988055,\n",
       "        0.52008479,  0.5230006 ,  0.53195462,  0.63212214,  0.74430046,\n",
       "        0.87212596,  0.88002558,  0.88395198,  0.97789353,  1.00010384,\n",
       "        1.07030762,  1.08436417,  1.25059991])"
      ]
     },
     "execution_count": 56,
     "metadata": {},
     "output_type": "execute_result"
    }
   ],
   "source": [
    "thresholds"
   ]
  },
  {
   "cell_type": "markdown",
   "id": "c1bd8039",
   "metadata": {},
   "source": [
    "Функция precision_recall_curve возвращает список значений\n",
    "точности и полноты для всех возможных пороговых значений (всех\n",
    "значений решающей функции) в отсортированном виде, поэтому мы\n",
    "можем построить кривую, как показано на рис. 5.13:"
   ]
  },
  {
   "cell_type": "code",
   "execution_count": 57,
   "id": "15ade188",
   "metadata": {},
   "outputs": [
    {
     "data": {
      "text/plain": [
       "<matplotlib.legend.Legend at 0x20e4c0d08b0>"
      ]
     },
     "execution_count": 57,
     "metadata": {},
     "output_type": "execute_result"
    },
    {
     "data": {
      "image/png": "[encoded data removed]",
      "text/plain": [
       "<Figure size 432x288 with 1 Axes>"
      ]
     },
     "metadata": {
      "needs_background": "light"
     },
     "output_type": "display_data"
    }
   ],
   "source": [
    "# используем больший объем данных, чтобы получить более гладкую кривую\n",
    "X, y = make_blobs(n_samples=(4000, 500), cluster_std=[7.0, 2],\n",
    "                  random_state=22)\n",
    "X_train, X_test, y_train, y_test = train_test_split(X, y, random_state=0)\n",
    "svc = SVC(gamma=.05).fit(X_train, y_train)\n",
    "precision, recall, thresholds = precision_recall_curve(\n",
    "    y_test, svc.decision_function(X_test))\n",
    "# находим ближайший к нулю порог\n",
    "close_zero = np.argmin(np.abs(thresholds))\n",
    "plt.plot(precision[close_zero], recall[close_zero], 'o', markersize=10,\n",
    "         label=\"порог 0\", fillstyle=\"none\", c='k', mew=2)\n",
    "\n",
    "plt.plot(precision, recall, label=\"кривая точности-полноты\")\n",
    "plt.xlabel(\"Точность\")\n",
    "plt.ylabel(\"Полнота\")\n",
    "plt.legend(loc=\"best\")"
   ]
  },
  {
   "cell_type": "markdown",
   "id": "c8c31d2c",
   "metadata": {},
   "source": [
    "Рис. 5.13 Кривая точности-полноты для SVC (gamma=0.05)"
   ]
  },
  {
   "cell_type": "markdown",
   "id": "8a9f53a5",
   "metadata": {},
   "source": [
    "- Каждая точка на кривой (рис. 5.13) соответствует возможному\n",
    "пороговому значению решающей функции. Например, видно, что мы\n",
    "можем достичь полноты 0.4 при точности около 0.75. Черный кружок\n",
    "отмечает точку, соответствующую порогу 0, пороговому значению по умолчанию для решающей функции. Данная точка является\n",
    "компромиссом, который выбирается при вызове метода predict.\n",
    "- Чем ближе кривая подходит к верхнему правом углу, тем лучше\n",
    "классификатор. Точка в верхнем правом углу означает высокое значение\n",
    "точности и высокое значение полноты для соответствующего порога.\n",
    "Кривая начинается в верхнем левом углу, что соответствует очень\n",
    "низкому порогу, все примеры классифицируются как положительный\n",
    "класс. Повышение порога перемещает кривую в сторону более высоких\n",
    "значений точности и в то же время более низких значений полноты. При\n",
    "дальнейшем повышении порога мы получаем ситуацию, в которой\n",
    "большинство точек, классифицированных как положительные, являются\n",
    "истинно пложительными, что приводит к очень высокой точности, но\n",
    "более низкому значению полноты. Чем больше модель сохраняет высокое\n",
    "значение полноты при одновременном увеличении точности, тем лучше.\n",
    "- Взглянув на эту кривую чуть более пристально, можно увидеть, что с\n",
    "помощью построенной модели можно добиться точности в районе 0.5 при\n",
    "очень высоком значении полноты. Если мы хотим получить гораздо\n",
    "более высокое значение точности, мы должны в значительной степени\n",
    "пожертвовать полнотой. Другими словами, слева наша кривая выглядит\n",
    "относительно плоской, это означает, что при увеличении точности\n",
    "полнота падает незначительно. Однако, чтобы получить значение\n",
    "точности более 0.5, нам придется пожертвовать значительным\n",
    "снижением полноты.\n",
    "- Различные классификаторы могут давать хорошее качество на\n",
    "различных участках кривой, то есть в разных рабочих точках. Давайте\n",
    "сравним модель SVM с моделью случайного леса, построенной на том же\n",
    "наборе данных. RandomForestClassifier вместо decision_function\n",
    "использует метод predict_proba. Функция precision_recall_curve\n",
    "ожидает, что в качестве второго аргумента ей будет передана вероятность\n",
    "положительного класса (класса 1), то есть rf.predict_proba(X_test)[:,\n",
    "1]. В бинарной классификации пороговое значение по умолчанию для\n",
    "predict_proba равно 0.5, поэтому мы отметили эту точку на кривой (см.\n",
    "рис. 5.14):"
   ]
  },
  {
   "cell_type": "code",
   "execution_count": 58,
   "id": "b888eb88",
   "metadata": {},
   "outputs": [
    {
     "data": {
      "text/plain": [
       "<matplotlib.legend.Legend at 0x20e4c0af7f0>"
      ]
     },
     "execution_count": 58,
     "metadata": {},
     "output_type": "execute_result"
    },
    {
     "data": {
      "image/png": "[encoded data removed]",
      "text/plain": [
       "<Figure size 432x288 with 1 Axes>"
      ]
     },
     "metadata": {
      "needs_background": "light"
     },
     "output_type": "display_data"
    }
   ],
   "source": [
    "from sklearn.ensemble import RandomForestClassifier\n",
    "\n",
    "rf = RandomForestClassifier(n_estimators=100, random_state=0, max_features=2)\n",
    "rf.fit(X_train, y_train)\n",
    "\n",
    "# RandomForestClassifier has predict_proba, but not decision_function\n",
    "precision_rf, recall_rf, thresholds_rf = precision_recall_curve(\n",
    "    y_test, rf.predict_proba(X_test)[:, 1])\n",
    "\n",
    "plt.plot(precision, recall, label=\"svc\")\n",
    "\n",
    "plt.plot(precision[close_zero], recall[close_zero], 'o', markersize=10,\n",
    "         label=\"threshold zero svc\", fillstyle=\"none\", c='k', mew=2)\n",
    "\n",
    "plt.plot(precision_rf, recall_rf, label=\"rf\")\n",
    "\n",
    "close_default_rf = np.argmin(np.abs(thresholds_rf - 0.5))\n",
    "plt.plot(precision_rf[close_default_rf], recall_rf[close_default_rf], '^', c='k',\n",
    "         markersize=10, label=\"threshold 0.5 rf\", fillstyle=\"none\", mew=2)\n",
    "plt.xlabel(\"Precision\")\n",
    "plt.ylabel(\"Recall\")\n",
    "plt.legend(loc=\"best\")"
   ]
  },
  {
   "cell_type": "markdown",
   "id": "fa7dabb7",
   "metadata": {},
   "source": [
    "Рис. 5.14 Сравнение кривых точности-полноты\n",
    "для SVM и случайного леса"
   ]
  },
  {
   "cell_type": "markdown",
   "id": "2d45e770",
   "metadata": {},
   "source": [
    "Из сравнительного графика видно, что случайный лес дает лучшее\n",
    "качество, чем в SVM, для крайних пороговых значений, позволяя\n",
    "получить очень высокое значение точности или очень высокое значение\n",
    "полноты. Что касается центральной части кривой (соответствует\n",
    "примерной точности=0.7), то SVM работает лучше. Если бы мы для\n",
    "сравнения обобщающей способности в целом анализировали лишь f1-\n",
    "меру, мы упустили бы из виду эти тонкости. f1-мера учитывает только\n",
    "одну точку на кривой точности-полноты, точку, определяемую порогом\n",
    "по умолчанию."
   ]
  },
  {
   "cell_type": "code",
   "execution_count": 59,
   "id": "09a3b20a",
   "metadata": {},
   "outputs": [
    {
     "name": "stdout",
     "output_type": "stream",
     "text": [
      "f1-мера random forest: 0.610\n",
      "f1-мера svc: 0.656\n"
     ]
    }
   ],
   "source": [
    "print(\"f1-мера random forest: {:.3f}\".format(\n",
    "f1_score(y_test, rf.predict(X_test))))\n",
    "print(\"f1-мера svc: {:.3f}\".format(f1_score(y_test, svc.predict(X_test))))"
   ]
  },
  {
   "cell_type": "markdown",
   "id": "db73c60d",
   "metadata": {},
   "source": [
    "Сравнение двух кривых точности-полноты дает много детальной\n",
    "информации, но представляет собой довольно трудоемкий процесс.\n",
    "Чтобы выполнить автоматическое сравнение моделей мы могли бы\n",
    "обобщить информацию, содержащуюся в кривой, не ограничиваясь\n",
    "конкретным пороговым значением или рабочей точкой. Один из\n",
    "способов подытожить информацию кривой заключается в вычислении\n",
    "интеграла или площади под кривой точности-полноты, он также известен\n",
    "как метод средней точности (average precision). 34 Для вычисления\n",
    "средней точности вы можете воспользоваться функцией\n",
    "average_precision_score. Поскольку нам нужно вычислить ROCкривую и рассмотреть несколько пороговых значений, функции\n",
    "average_precision_score вместо результата predict нужно передать\n",
    "результат decision_function или predict_proba:"
   ]
  },
  {
   "cell_type": "code",
   "execution_count": 60,
   "id": "0643266a",
   "metadata": {},
   "outputs": [
    {
     "name": "stdout",
     "output_type": "stream",
     "text": [
      "Средняя точность random forest: 0.660\n",
      "Средняя точность svc: 0.666\n"
     ]
    }
   ],
   "source": [
    "from sklearn.metrics import average_precision_score\n",
    "ap_rf = average_precision_score(y_test, rf.predict_proba(X_test)[:, 1])\n",
    "ap_svc = average_precision_score(y_test, svc.decision_function(X_test))\n",
    "print(\"Средняя точность random forest: {:.3f}\".format(ap_rf))\n",
    "print(\"Средняя точность svc: {:.3f}\".format(ap_svc))"
   ]
  },
  {
   "cell_type": "markdown",
   "id": "ff6b77e1",
   "metadata": {},
   "source": [
    "При усреднении по всем возможным пороговым значением мы видим,\n",
    "что случайный лес и SVC дают примерно одинаковое качество модели,\n",
    "при этом случайный даже чуть-чуть вырывается вперед. Это в\n",
    "значительном мере отличаются от результата, полученного нами ранее с\n",
    "помощью f1_score. Поскольку средняя точность равна площади под\n",
    "кривой, которая принимает значения от 0 до 1, средняя точность всегда\n",
    "возвращает значение от 0 (худшее значение) до 1 (лучшее значение).\n",
    "Средняя точность случайного классификатора равна доле\n",
    "положительных примеров в наборе данных."
   ]
  },
  {
   "cell_type": "markdown",
   "id": "c4984963",
   "metadata": {},
   "source": [
    "### Рабочая характеристика приемника (ROC) и AUC"
   ]
  },
  {
   "cell_type": "markdown",
   "id": "6a27305b",
   "metadata": {},
   "source": [
    "Еще один инструмент, который обычно используется для анализа\n",
    "поведения классификаторов при различных пороговых значениях – это\n",
    "кривая рабочей характеристики приемника (receiver operating\n",
    "characteristics curve) или кратко ROC-кривая (ROC curve). Как и кривая\n",
    "точности-полноты, ROC-кривая позволяет рассмотреть все пороговые\n",
    "значения для данного классификатора, но вместо точности и полноты\n",
    "она показывает долю ложно положительных примеров (false positive rate,\n",
    "FPR\n",
    ") в сравнении с долей истинно положительных примеров (true positive rate\n",
    "). Вспомним, что доля истинно положительных примеров –\n",
    "это просто еще одно название полноты, тогда как доля ложно\n",
    "положительных примеров – это доля ложно положительных примеров от\n",
    "общего количества отрицательных примеров:"
   ]
  },
  {
   "attachments": {
    "image.png": {
     "image/png": "[encoded data removed]"
    }
   },
   "cell_type": "markdown",
   "id": "31dd3458",
   "metadata": {},
   "source": [
    "![image.png](attachment:image.png)"
   ]
  },
  {
   "cell_type": "markdown",
   "id": "c2001397",
   "metadata": {},
   "source": [
    "ROC-кривую можно вычислить с помощью функции roc_curve (см.\n",
    "рис. 5.15):"
   ]
  },
  {
   "cell_type": "code",
   "execution_count": 61,
   "id": "ea653a83",
   "metadata": {},
   "outputs": [
    {
     "data": {
      "text/plain": [
       "<matplotlib.legend.Legend at 0x20e4c140070>"
      ]
     },
     "execution_count": 61,
     "metadata": {},
     "output_type": "execute_result"
    },
    {
     "data": {
      "image/png": "[encoded data removed]",
      "text/plain": [
       "<Figure size 432x288 with 1 Axes>"
      ]
     },
     "metadata": {
      "needs_background": "light"
     },
     "output_type": "display_data"
    }
   ],
   "source": [
    "from sklearn.metrics import roc_curve\n",
    "fpr, tpr, thresholds = roc_curve(y_test, svc.decision_function(X_test))\n",
    "\n",
    "plt.plot(fpr, tpr, label=\"ROC-кривая\")\n",
    "plt.xlabel(\"FPR\")\n",
    "plt.ylabel(\"TPR (полнота)\")\n",
    "# находим пороговое значение, ближайшее к нулю\n",
    "close_zero = np.argmin(np.abs(thresholds))\n",
    "plt.plot(fpr[close_zero], tpr[close_zero], 'o', markersize=10,\n",
    "         label=\"порог 0\", fillstyle=\"none\", c='k', mew=2)\n",
    "plt.legend(loc=4)"
   ]
  },
  {
   "cell_type": "markdown",
   "id": "537de1b6",
   "metadata": {},
   "source": [
    "Рис. 5.15 ROC-кривая для SVM"
   ]
  },
  {
   "cell_type": "markdown",
   "id": "1a98771b",
   "metadata": {},
   "source": [
    "Идеальная ROC-кривая проходит через левый верхний угол,\n",
    "соответствуя классификатору, который дает высокое значение полноты\n",
    "при низкой доле ложно положительных примеров. Проанализировав\n",
    "значения полноты и FPR для порога по умолчанию 0, мы видим, что\n",
    "можем достичь гораздо более высокого значения полноты (около 0.9)\n",
    "лишь при незначительном увеличении FPR. Точка, ближе всего расположенная к верхнему левому углу, возможно, будет лучшей рабочей\n",
    "точкой, чем та, что выбрана по умолчанию. Опять же, имейте в виду, что\n",
    "для выбора порогового значения следовать использовать отдельный\n",
    "проверочный набор, а не тестовые данные.\n",
    "- На рис. 5.16 вы можете сравнить случайный лес и SVM с помощью\n",
    "ROC-кривых:"
   ]
  },
  {
   "cell_type": "code",
   "execution_count": 62,
   "id": "73237bad",
   "metadata": {},
   "outputs": [
    {
     "data": {
      "text/plain": [
       "<matplotlib.legend.Legend at 0x20e4bddb1f0>"
      ]
     },
     "execution_count": 62,
     "metadata": {},
     "output_type": "execute_result"
    },
    {
     "data": {
      "image/png": "[encoded data removed]",
      "text/plain": [
       "<Figure size 432x288 with 1 Axes>"
      ]
     },
     "metadata": {
      "needs_background": "light"
     },
     "output_type": "display_data"
    }
   ],
   "source": [
    "from sklearn.metrics import roc_curve\n",
    "fpr_rf, tpr_rf, thresholds_rf = roc_curve(y_test, rf.predict_proba(X_test)[:, 1])\n",
    "\n",
    "plt.plot(fpr, tpr, label=\"ROC-кривая SVC\")\n",
    "plt.plot(fpr_rf, tpr_rf, label=\"ROC-кривая RF\")\n",
    "\n",
    "plt.xlabel(\"FPR\")\n",
    "plt.ylabel(\"TPR (полнота)\")\n",
    "plt.plot(fpr[close_zero], tpr[close_zero], 'o', markersize=10,\n",
    "         label=\"порог 0 SVC\", fillstyle=\"none\", c='k', mew=2)\n",
    "close_default_rf = np.argmin(np.abs(thresholds_rf - 0.5))\n",
    "plt.plot(fpr_rf[close_default_rf], tpr[close_default_rf], '^', markersize=10,\n",
    "         label=\"порог 0.5 RF\", fillstyle=\"none\", c='k', mew=2)\n",
    "plt.legend(loc=4)"
   ]
  },
  {
   "cell_type": "markdown",
   "id": "64a340dc",
   "metadata": {},
   "source": [
    "Рис. 5.16 Сравнение ROC-кривых для SVM и случайного леса"
   ]
  },
  {
   "cell_type": "markdown",
   "id": "37f0daa9",
   "metadata": {},
   "source": [
    "Как и в случае с кривой точности-полноты, мы хотим подытожить\n",
    "информацию ROC-кривой с помощью одного числа, площади под кривой\n",
    "(обычно ее просто называют AUC, при этом имейте в виду, что речь идет\n",
    "о ROC-кривой). Мы можем вычислить площадь под ROC-кривой с\n",
    "помощью функции roc_auc_score:"
   ]
  },
  {
   "cell_type": "code",
   "execution_count": 63,
   "id": "78d50c01",
   "metadata": {},
   "outputs": [
    {
     "name": "stdout",
     "output_type": "stream",
     "text": [
      "AUC для случайного леса: 0.937\n",
      "AUC для SVC: 0.916\n"
     ]
    }
   ],
   "source": [
    "from sklearn.metrics import roc_auc_score\n",
    "rf_auc = roc_auc_score(y_test, rf.predict_proba(X_test)[:, 1])\n",
    "svc_auc = roc_auc_score(y_test, svc.decision_function(X_test))\n",
    "print(\"AUC для случайного леса: {:.3f}\".format(rf_auc))\n",
    "print(\"AUC для SVC: {:.3f}\".format(svc_auc))"
   ]
  },
  {
   "cell_type": "markdown",
   "id": "dae161e5",
   "metadata": {},
   "source": [
    "- Сравнив случайный лес и SVM с помощью AUC, мы можем сделать\n",
    "вывод, что случайный лес дает чуть более лучшее качество модели, чем\n",
    "SVM. Напомним, поскольку средняя точность – это площадь под кривой,\n",
    "которая принимает значения от 0 до 1, средняя точность всегда\n",
    "возвращает значение от 0 (худшее значение) до 1 (лучшее значение).\n",
    "Случайный классификатор соответствует значению AUC 0.5, независимо\n",
    "от того, как сбалансированы классы в наборе данных. Поэтому метрика\n",
    "AUC является более оптимальной, чем правильность при решении задач\n",
    "несбалансированной классификации. AUC можно интерпретировать как\n",
    "меру качества ранжирования положительных примеров. Значение\n",
    "площади под кривой эквивалентно вероятности того, что согласно\n",
    "построенной модели случайно выбранный пример положительного\n",
    "класса будет иметь более высокий балл, чем случайно выбранный пример\n",
    "отрицательного класса. Таким образом, идеальное значение AUC, равное\n",
    "1, означает, что все положительные примеры в отличие от отрицательных\n",
    "имеют более высокий балл. В задачах несбалансированной\n",
    "классификации применение AUC для отбора модели зачастую является\n",
    "более целесообразным, чем использование правильности.\n",
    "- Давайте вернемся к задаче, которую мы решали ранее, классифицируя\n",
    "в наборе digits девятки и остальные цифры. Мы классифицируем\n",
    "наблюдения, используя SVM с тремя различными настройками ширины\n",
    "ядра и gamma (см. рис. 5.17):"
   ]
  },
  {
   "cell_type": "code",
   "execution_count": 64,
   "id": "28686d1f",
   "metadata": {},
   "outputs": [
    {
     "name": "stdout",
     "output_type": "stream",
     "text": [
      "gamma = 1.00  accuracy = 0.90  AUC = 0.50\n",
      "gamma = 0.05  accuracy = 0.90  AUC = 1.00\n",
      "gamma = 0.01  accuracy = 0.90  AUC = 1.00\n"
     ]
    },
    {
     "data": {
      "text/plain": [
       "<matplotlib.legend.Legend at 0x20e4c087580>"
      ]
     },
     "execution_count": 64,
     "metadata": {},
     "output_type": "execute_result"
    },
    {
     "data": {
      "image/png": "[encoded data removed]",
      "text/plain": [
       "<Figure size 432x288 with 1 Axes>"
      ]
     },
     "metadata": {
      "needs_background": "light"
     },
     "output_type": "display_data"
    }
   ],
   "source": [
    "y = digits.target == 9\n",
    "\n",
    "X_train, X_test, y_train, y_test = train_test_split(\n",
    "    digits.data, y, random_state=0)\n",
    "\n",
    "plt.figure()\n",
    "\n",
    "for gamma in [1, 0.05, 0.01]:\n",
    "    svc = SVC(gamma=gamma).fit(X_train, y_train)\n",
    "    accuracy = svc.score(X_test, y_test)\n",
    "    auc = roc_auc_score(y_test, svc.decision_function(X_test))\n",
    "    fpr, tpr, _ = roc_curve(y_test , svc.decision_function(X_test))\n",
    "    print(\"gamma = {:.2f}  accuracy = {:.2f}  AUC = {:.2f}\".format(\n",
    "          gamma, accuracy, auc))\n",
    "    plt.plot(fpr, tpr, label=\"gamma={:.3f}\".format(gamma))\n",
    "plt.xlabel(\"FPR\")\n",
    "plt.ylabel(\"TPR\")\n",
    "plt.xlim(-0.01, 1)\n",
    "plt.ylim(0, 1.02)\n",
    "plt.legend(loc=\"best\")"
   ]
  },
  {
   "cell_type": "markdown",
   "id": "e5aec0f2",
   "metadata": {},
   "source": [
    "Рис. 5.17 Сравнение ROC-кривых для SVM\n",
    "с различными настройками gamma"
   ]
  },
  {
   "cell_type": "markdown",
   "id": "0b5449c1",
   "metadata": {},
   "source": [
    "- Правильность при использовании различных значений gamma остается\n",
    "одинаковой и составляет 90%. Одинаковое значение правильности может\n",
    "быть случайностью, а может быть нет. Однако взглянув на AUC и\n",
    "соответствующую кривую, мы видим четкое различие между этими\n",
    "тремя моделями. При gamma=1.0 значение AUC фактически\n",
    "соответствует случайному классификатору (случайному результату\n",
    "decision_function). При gamma=0.05 качество модели резко повышается.\n",
    "И, наконец, при gamma=0.01, мы получим идеальное значение AUC,\n",
    "равное 1.0. Это означает, что в соответствии с решающей функцией все\n",
    "положительные примеры получают более высокий балл, чем все\n",
    "отрицательные примеры. Другими словами, с помощью правильного\n",
    "порогового значения эта модель может идеально классифицировать\n",
    "данные! Зная это, мы можем скорректировать пороговое значение для этой модели и получить правильные прогнозы. Если бы мы использовали\n",
    "только одну точность, у нас не было бы этой информации.\n",
    "- По этой причине мы настоятельно рекомендуем использовать AUC\n",
    "для оценки качества моделей на несбалансированных данных. Однако\n",
    "имейте в виду, что в AUC не используется порог по умолчанию, таким\n",
    "образом, чтобы на основе модели с высоким значением AUC получить\n",
    "полезный классификатор, возможно, потребуется корректировка\n",
    "порогового значения."
   ]
  },
  {
   "cell_type": "markdown",
   "id": "4d1e4c5e",
   "metadata": {},
   "source": [
    "## Метрики для мультиклассовой классификации"
   ]
  },
  {
   "cell_type": "markdown",
   "id": "626aa6ef",
   "metadata": {},
   "source": [
    "В основном, все\n",
    "метрики для мультиклассовой классификации являются производными\n",
    "от метрик классификации, но при этом усредняются по всем классам. В\n",
    "мультиклассовой классификации правильность вновь определяется как\n",
    "доля правильно классифицированных примеров. И опять же, когда\n",
    "классы не сбалансированы, правильность перестает быть адекватной\n",
    "метрикой оценки качества. Представьте себе задачу трехклассовой\n",
    "классификации, когда 85% точек данных принадлежат к классу А, 10% –\n",
    "к классу В и 5% – к классу C. Что означает среднее значение\n",
    "правильности 85% применительно к этому набору данных? В целом\n",
    "результаты мультиклассовой классификации труднее интерпретировать,\n",
    "чем результаты бинарной классификации. Помимо правильности часто\n",
    "используемыми инструментами являются матрица ошибок и отчет о\n",
    "результатах классификации, которые мы рассматривали, разбирая\n",
    "случай бинарной классификации в предыдущем разделе. Давайте\n",
    "применим эти два метода оценки для классификации 10 различных\n",
    "рукописных цифр в наборе данных digits:"
   ]
  },
  {
   "cell_type": "code",
   "execution_count": 65,
   "id": "c7ac0d76",
   "metadata": {},
   "outputs": [
    {
     "name": "stdout",
     "output_type": "stream",
     "text": [
      "Accuracy: 0.951\n",
      "Confusion matrix:\n",
      "[[37  0  0  0  0  0  0  0  0  0]\n",
      " [ 0 40  0  0  0  0  0  0  2  1]\n",
      " [ 0  1 40  3  0  0  0  0  0  0]\n",
      " [ 0  0  0 43  0  0  0  0  1  1]\n",
      " [ 0  0  0  0 37  0  0  1  0  0]\n",
      " [ 0  0  0  0  0 46  0  0  0  2]\n",
      " [ 0  1  0  0  0  0 51  0  0  0]\n",
      " [ 0  0  0  1  1  0  0 46  0  0]\n",
      " [ 0  3  1  0  0  0  0  0 43  1]\n",
      " [ 0  0  0  0  0  1  0  0  1 45]]\n"
     ]
    },
    {
     "name": "stderr",
     "output_type": "stream",
     "text": [
      "D:\\ANACONDA\\lib\\site-packages\\sklearn\\linear_model\\_logistic.py:763: ConvergenceWarning: lbfgs failed to converge (status=1):\n",
      "STOP: TOTAL NO. of ITERATIONS REACHED LIMIT.\n",
      "\n",
      "Increase the number of iterations (max_iter) or scale the data as shown in:\n",
      "    https://scikit-learn.org/stable/modules/preprocessing.html\n",
      "Please also refer to the documentation for alternative solver options:\n",
      "    https://scikit-learn.org/stable/modules/linear_model.html#logistic-regression\n",
      "  n_iter_i = _check_optimize_result(\n"
     ]
    }
   ],
   "source": [
    "from sklearn.metrics import accuracy_score\n",
    "X_train, X_test, y_train, y_test = train_test_split(\n",
    "    digits.data, digits.target, random_state=0)\n",
    "lr = LogisticRegression().fit(X_train, y_train)\n",
    "pred = lr.predict(X_test)\n",
    "print(\"Accuracy: {:.3f}\".format(accuracy_score(y_test, pred)))\n",
    "print(\"Confusion matrix:\\n{}\".format(confusion_matrix(y_test, pred)))"
   ]
  },
  {
   "cell_type": "markdown",
   "id": "32c749a7",
   "metadata": {},
   "source": [
    "Модель имеет точность 95.3%, что уже говорит нам об очень хорошем\n",
    "качестве модели. Матрица ошибок дает нам несколько более подробную\n",
    "информацию. Как и в случае бинарной классификации, каждая строка\n",
    "соответствует фактической метке класса, а каждый столбец соответствует\n",
    "спрогнозированной метке класса. Вы можете построить более наглядный\n",
    "график, приведенный на рис. 5.18:"
   ]
  },
  {
   "cell_type": "code",
   "execution_count": 66,
   "id": "75377305",
   "metadata": {},
   "outputs": [
    {
     "data": {
      "image/png": "[encoded data removed]",
      "text/plain": [
       "<Figure size 432x288 with 1 Axes>"
      ]
     },
     "metadata": {
      "needs_background": "light"
     },
     "output_type": "display_data"
    }
   ],
   "source": [
    "scores_image = mglearn.tools.heatmap(\n",
    "    confusion_matrix(y_test, pred), xlabel='Спрогнозированная метка класса',\n",
    "    ylabel='Фактическая метка класса', xticklabels=digits.target_names,\n",
    "    yticklabels=digits.target_names, cmap=plt.cm.gray_r, fmt=\"%d\")\n",
    "plt.title(\"Матрица ошибок\")\n",
    "plt.gca().invert_yaxis()"
   ]
  },
  {
   "cell_type": "markdown",
   "id": "0ed19351",
   "metadata": {},
   "source": [
    "Рис. 5.18 Матрица ошибок для десятиклассовой задачи распознавания\n",
    "рукописных цифр"
   ]
  },
  {
   "cell_type": "markdown",
   "id": "71a1ac86",
   "metadata": {},
   "source": [
    "- Фактическое количество примеров, относящихся к первому классу\n",
    "(цифре 0), равно 37 и все эти примеры были классифицированы как\n",
    "класс 0 (то есть ложно отрицательные примеры для класса 0\n",
    "отсутствуют). Об этом говорит тот факт, что все остальные элементы\n",
    "первой строки матрицы ошибок имеют нулевые значения. Кроме того, ни\n",
    "одна из остальных цифр не была ошибочно классифицирована как 0,\n",
    "поскольку все остальные элементы первого столбца имеют нулевые\n",
    "значения (то есть ложно положительные примеры для класса 0\n",
    "отсутствуют). Однако некоторые цифры были спутаны с остальными,\n",
    "например, цифра 2 (третья строка), три примера, являющиеся цифрой 2,\n",
    "были классифицированы как цифра 3 (четвертый столбец). Кроме того,\n",
    "у нас есть одна цифра 3, классифицированная как 2 (третий столбец,\n",
    "четвертая строка), и одна цифра 8, классифицированная как 2 (третий\n",
    "столбец, девятая строка).\n",
    "- С помощью функции classification_report мы можем вычислить\n",
    "точность, полноту и f-меру для каждого класса:"
   ]
  },
  {
   "cell_type": "code",
   "execution_count": 67,
   "id": "ef27fbc0",
   "metadata": {},
   "outputs": [
    {
     "name": "stdout",
     "output_type": "stream",
     "text": [
      "              precision    recall  f1-score   support\n",
      "\n",
      "           0       1.00      1.00      1.00        37\n",
      "           1       0.89      0.93      0.91        43\n",
      "           2       0.98      0.91      0.94        44\n",
      "           3       0.91      0.96      0.93        45\n",
      "           4       0.97      0.97      0.97        38\n",
      "           5       0.98      0.96      0.97        48\n",
      "           6       1.00      0.98      0.99        52\n",
      "           7       0.98      0.96      0.97        48\n",
      "           8       0.91      0.90      0.91        48\n",
      "           9       0.90      0.96      0.93        47\n",
      "\n",
      "    accuracy                           0.95       450\n",
      "   macro avg       0.95      0.95      0.95       450\n",
      "weighted avg       0.95      0.95      0.95       450\n",
      "\n"
     ]
    }
   ],
   "source": [
    "print(classification_report(y_test, pred))"
   ]
  },
  {
   "cell_type": "markdown",
   "id": "8075c4d6",
   "metadata": {},
   "source": [
    "- Неудивительно, что для класса 0 получены идеальные значения\n",
    "точности и полноты, равные 1, поскольку все примеры\n",
    "классифицированы правильно. Для класса 7 получена идеальная\n",
    "точность, поскольку отсутствуют ложно положительные примеры (ни\n",
    "один из остальных классов не был ошибочно классифицирован как класс\n",
    "7), тогда как для класса 6 получена идеальная полнота, поскольку\n",
    "отсутствуют ложно отрицательные примеры. Кроме того, видно, что\n",
    "модель испытывает ряд трудностей при классификации цифр 8 и 3.\n",
    "- Наиболее часто используемой метрикой для оценки качества\n",
    "мультиклассовой классификации для несбалансированных наборов\n",
    "данных является мультиклассовый вариант f-меры. Идея, лежащая в\n",
    "основе мультиклассовой f-меры, заключается в вычислении одной\n",
    "бинарной f-меры для каждого класса, интересующий класс становится\n",
    "положительным, а все остальные – отрицательными классами. Затем эти f-меры для каждого класса усредняются с использованием одной из\n",
    "следующих стратегий:"
   ]
  },
  {
   "cell_type": "markdown",
   "id": "6eae87e1",
   "metadata": {},
   "source": [
    "- \"macro\" усреднение вычисляет f1-меры для каждого класса и находит\n",
    "их невзвешенное среднее. Всем классам, независимо от их размера,\n",
    "присваивается одинаковый вес.\n",
    "- \"weighted\" усреднение вычисляет f-меры для каждого класса и\n",
    "находит их среднее, взвешенное по поддержке (количеству\n",
    "фактических примеров для каждого класса). Эта стратегия\n",
    "используется в классификационном отчете по умолчанию.\n",
    "- \"micro\" усреднение вычисляет общее количество ложно\n",
    "положительных примеров, ложно отрицательных примеров и истинно\n",
    "положительных примеров по всем классам, а затем вычисляет\n",
    "точность, полноту и f-меру с помощью этих показателей."
   ]
  },
  {
   "cell_type": "markdown",
   "id": "a17fc3cf",
   "metadata": {},
   "source": [
    "Если вам необходимо присвоить одинаковый вес каждому примеру,\n",
    "рекомендуется использовать микро-усреднение f1-меры, если вам\n",
    "необходимо присвоить одинаковый вес каждому классу, рекомендуется\n",
    "использовать макро-усреднение f1-меры:"
   ]
  },
  {
   "cell_type": "code",
   "execution_count": 68,
   "id": "fd7fb095",
   "metadata": {},
   "outputs": [
    {
     "name": "stdout",
     "output_type": "stream",
     "text": [
      "Микро-усредненная f1-мера: 0.951\n",
      "Mакро-усредненная f1-мера: 0.952\n",
      "Weighted-усредненная f1-мера: 0.951\n"
     ]
    }
   ],
   "source": [
    "print(\"Микро-усредненная f1-мера: {:.3f}\".format\n",
    "      (f1_score(y_test, pred, average=\"micro\")))\n",
    "print(\"Mакро-усредненная f1-мера: {:.3f}\".format\n",
    "      (f1_score(y_test, pred, average=\"macro\")))\n",
    "print(\"Weighted-усредненная f1-мера: {:.3f}\".format\n",
    "      (f1_score(y_test, pred, average=\"weighted\")))"
   ]
  },
  {
   "cell_type": "markdown",
   "id": "3643f1a5",
   "metadata": {},
   "source": [
    "## Метрики регрессии"
   ]
  },
  {
   "cell_type": "markdown",
   "id": "9821f36e",
   "metadata": {},
   "source": [
    "Оценить качество регрессии можно таким же способом, которой мы\n",
    "использовали для классификации, например, сравнив количество\n",
    "завышенных и заниженных расчетных значений зависимой переменной.\n",
    "Однако в большинстве рассмотренных примеров будет достаточно\n",
    "применения R2, который в методе score используется по умолчанию для\n",
    "всех моделей регрессии. Иногда бизнес-решения принимаются на основе\n",
    "среднеквадратической ошибки или средней абсолютной ошибки, что\n",
    "является стимулом для использования этих метрик при настройке\n",
    "моделей. Однако в целом мы пришли к выводу, что с точки зрения\n",
    "оценки качества регрессионных моделей R2 является более понятной\n",
    "метрикой."
   ]
  },
  {
   "cell_type": "markdown",
   "id": "da227a53",
   "metadata": {},
   "source": [
    "## Использование метрик оценки для отбора модели"
   ]
  },
  {
   "cell_type": "markdown",
   "id": "81970245",
   "metadata": {},
   "source": [
    "Часто нам нужно воспользоваться метриками типа AUC для\n",
    "отбора модели, выполняемого на основе GridSearchCV или\n",
    "cross_val_score. К счастью, scikit-learn предлагает очень простой\n",
    "способ решения этой задачи с помощью аргумента scoring, который\n",
    "можно использовать как в GridSearchCV, так и в cross_val_score. Вы\n",
    "можете просто задать строку с описанием необходимой метрики оценки.\n",
    "Допустим, мы хотим оценить качество классификатора SVM при\n",
    "решении задачи «девять против остальных» для набора данных digits,\n",
    "используя значение AUC. Чтобы поменять метрику оценки с\n",
    "правильности, установленной по умолчанию, на AUC, достаточно\n",
    "указать \"roc_auc\" в качестве параметра scoring:"
   ]
  },
  {
   "cell_type": "code",
   "execution_count": 69,
   "id": "433f69a9",
   "metadata": {},
   "outputs": [
    {
     "name": "stdout",
     "output_type": "stream",
     "text": [
      "Метрика качества по умолчанию: [0.975      0.99166667 1.         0.99442897 0.98050139]\n",
      "Метрика качества явно заданная правильность: [0.975      0.99166667 1.         0.99442897 0.98050139]\n",
      "Метрика качества AUC: [0.99717078 0.99854252 1.         0.999828   0.98400413]\n"
     ]
    }
   ],
   "source": [
    "# метрика качества классификационной модели по умолчанию – правильность\n",
    "print(\"Метрика качества по умолчанию: {}\".format(\n",
    "    cross_val_score(SVC(), digits.data, digits.target == 9)))\n",
    "# значение параметра scoring=\"accuracy\" не меняет результатов\n",
    "explicit_accuracy = cross_val_score(SVC(), digits.data, digits.target == 9,\n",
    "                                    scoring=\"accuracy\")\n",
    "print(\"Метрика качества явно заданная правильность: {}\".format(explicit_accuracy))\n",
    "roc_auc = cross_val_score(SVC(), digits.data, digits.target == 9,\n",
    "                          scoring=\"roc_auc\")\n",
    "print(\"Метрика качества AUC: {}\".format(roc_auc))"
   ]
  },
  {
   "cell_type": "code",
   "execution_count": 70,
   "id": "35a8fb4a",
   "metadata": {},
   "outputs": [
    {
     "name": "stdout",
     "output_type": "stream",
     "text": [
      "Решетчатый поиск c использованием правильности\n",
      "Наилучшие параметры: {'gamma': 0.0001}\n",
      "Наилучшее значение перекр проверки (правильность)): 0.976\n",
      "AUC на тестовом наборе: 0.992\n",
      "Правильность на тестовом наборе: 0.973\n"
     ]
    }
   ],
   "source": [
    "X_train, X_test, y_train, y_test = train_test_split(\n",
    "digits.data, digits.target == 9, random_state=0)\n",
    "\n",
    "# задаем не самую удачную сетку параметров для иллюстрации:\n",
    "param_grid = {'gamma': [0.0001, 0.01, 0.1, 1, 10]}\n",
    "# используем метрику по умолчанию, то есть правильность:\n",
    "grid = GridSearchCV(SVC(), param_grid=param_grid)\n",
    "grid.fit(X_train, y_train)\n",
    "print(\"Решетчатый поиск c использованием правильности\")\n",
    "print(\"Наилучшие параметры:\", grid.best_params_)\n",
    "print(\"Наилучшее значение перекр проверки (правильность)): {:.3f}\".format(grid.best_score_))\n",
    "print(\"AUC на тестовом наборе: {:.3f}\".format(\n",
    "    roc_auc_score(y_test, grid.decision_function(X_test))))\n",
    "print(\"Правильность на тестовом наборе: {:.3f}\".format(grid.score(X_test, y_test)))"
   ]
  },
  {
   "cell_type": "code",
   "execution_count": 71,
   "id": "e527eb7f",
   "metadata": {},
   "outputs": [
    {
     "name": "stdout",
     "output_type": "stream",
     "text": [
      "\n",
      "Решетчатый поиск с использованием AUC\n",
      "Наилучшие параметры: {'gamma': 0.01}\n",
      "Наилучшее значение перекр проверки (AUC): 0.998\n",
      "AUC на тестовом наборе: 1.000\n",
      "Правильность на тестовом наборе: 1.000\n"
     ]
    }
   ],
   "source": [
    "# используем метрику качества AUC:\n",
    "grid = GridSearchCV(SVC(), param_grid=param_grid, scoring=\"roc_auc\")\n",
    "grid.fit(X_train, y_train)\n",
    "print(\"\\nРешетчатый поиск с использованием AUC\")\n",
    "print(\"Наилучшие параметры:\", grid.best_params_)\n",
    "print(\"Наилучшее значение перекр проверки (AUC): {:.3f}\".format(grid.best_score_))\n",
    "print(\"AUC на тестовом наборе: {:.3f}\".format(\n",
    "    roc_auc_score(y_test, grid.decision_function(X_test))))\n",
    "print(\"Правильность на тестовом наборе: {:.3f}\".format(grid.score(X_test, y_test)))"
   ]
  },
  {
   "cell_type": "markdown",
   "id": "cb8a9f18",
   "metadata": {},
   "source": [
    "Когда использовалась правильность, был выбран параметр\n",
    "gamma=0.0001, тогда как при использовании AUC был выбран gamma=\n",
    "0.01. В обоих случаях правильность перекрестной проверки\n",
    "соответствует правильности на тестовом наборе. Однако использование\n",
    "AUC позволила найти настройку параметра, оптимальную с точки\n",
    "зрения AUC и даже с точки зрения правильности."
   ]
  },
  {
   "cell_type": "markdown",
   "id": "8284e795",
   "metadata": {},
   "source": [
    "Наиболее важными значениями параметра scoring для\n",
    "классификации являются: \n",
    "- accuracy (по умолчанию)\n",
    "- roc_auc для\n",
    "площади под ROC-кривой\n",
    "- average_precision (площадь под кривой\n",
    "точности-полноты)\n",
    "- f1\n",
    "- f1_macro\n",
    "- f1_micro\n",
    "- f1_weighted для бинарной\n",
    "f1-меры и различных стратегий усреднения\n",
    "\n",
    "Для регрессии, наиболее\n",
    "часто используемыми значениями являются \n",
    "- r2 для R2\n",
    "- mean_squared_error для среднеквадратической ошибки\n",
    "- mean_absolute_error для средней абсолютной ошибки"
   ]
  }
 ],
 "metadata": {
  "hide_input": false,
  "kernelspec": {
   "display_name": "Python 3 (ipykernel)",
   "language": "python",
   "name": "python3"
  },
  "language_info": {
   "codemirror_mode": {
    "name": "ipython",
    "version": 3
   },
   "file_extension": ".py",
   "mimetype": "text/x-python",
   "name": "python",
   "nbconvert_exporter": "python",
   "pygments_lexer": "ipython3",
   "version": "3.9.7"
  },
  "toc": {
   "base_numbering": 1,
   "nav_menu": {},
   "number_sections": true,
   "sideBar": true,
   "skip_h1_title": false,
   "title_cell": "Table of Contents",
   "title_sidebar": "Contents",
   "toc_cell": false,
   "toc_position": {},
   "toc_section_display": true,
   "toc_window_display": false
  },
  "varInspector": {
   "cols": {
    "lenName": 16,
    "lenType": 16,
    "lenVar": 40
   },
   "kernels_config": {
    "python": {
     "delete_cmd_postfix": "",
     "delete_cmd_prefix": "del ",
     "library": "var_list.py",
     "varRefreshCmd": "print(var_dic_list())"
    },
    "r": {
     "delete_cmd_postfix": ") ",
     "delete_cmd_prefix": "rm(",
     "library": "var_list.r",
     "varRefreshCmd": "cat(var_dic_list()) "
    }
   },
   "types_to_exclude": [
    "module",
    "function",
    "builtin_function_or_method",
    "instance",
    "_Feature"
   ],
   "window_display": false
  }
 },
 "nbformat": 4,
 "nbformat_minor": 5
}
