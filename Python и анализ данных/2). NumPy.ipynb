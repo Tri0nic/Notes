{
 "cells": [
  {
   "cell_type": "markdown",
   "id": "92899a00",
   "metadata": {},
   "source": [
    "Глава 4. Основы NumPy: массивы и векторные вычисления"
   ]
  },
  {
   "cell_type": "markdown",
   "id": "aedc3c31",
   "metadata": {},
   "source": [
    "# 4.1. NumPy ndarray: объект многомерного массива"
   ]
  },
  {
   "cell_type": "code",
   "execution_count": 1,
   "id": "542cd7ce",
   "metadata": {},
   "outputs": [],
   "source": [
    "import numpy as np\n",
    "# а можно чтобы не писать постоянно np: import numpy as *\n",
    "\n",
    "import pandas as pd\n",
    "import matplotlib.pyplot as plt"
   ]
  },
  {
   "cell_type": "code",
   "execution_count": 2,
   "id": "499d01cd",
   "metadata": {},
   "outputs": [
    {
     "data": {
      "text/plain": [
       "array([[ 0.22139902, -1.24724276, -0.11127518],\n",
       "       [ 1.2233772 ,  0.07513705, -1.9531759 ]])"
      ]
     },
     "execution_count": 2,
     "metadata": {},
     "output_type": "execute_result"
    }
   ],
   "source": [
    "# генерация случайного массива\n",
    "# ndarray - это многомерный контейнер для однородных данных (т.е. для элементов одного типа)\n",
    "data = np.random.randn(2, 3)\n",
    "\n",
    "data"
   ]
  },
  {
   "cell_type": "code",
   "execution_count": 3,
   "id": "fde50457",
   "metadata": {},
   "outputs": [
    {
     "data": {
      "text/plain": [
       "array([[  2.21399022, -12.47242763,  -1.1127518 ],\n",
       "       [ 12.23377198,   0.75137045, -19.53175902]])"
      ]
     },
     "execution_count": 3,
     "metadata": {},
     "output_type": "execute_result"
    }
   ],
   "source": [
    "data * 10"
   ]
  },
  {
   "cell_type": "code",
   "execution_count": 4,
   "id": "332516df",
   "metadata": {},
   "outputs": [
    {
     "data": {
      "text/plain": [
       "array([[ 0.44279804, -2.49448553, -0.22255036],\n",
       "       [ 2.4467544 ,  0.15027409, -3.9063518 ]])"
      ]
     },
     "execution_count": 4,
     "metadata": {},
     "output_type": "execute_result"
    }
   ],
   "source": [
    "data + data"
   ]
  },
  {
   "cell_type": "code",
   "execution_count": 5,
   "id": "a4a6806a",
   "metadata": {},
   "outputs": [
    {
     "data": {
      "text/plain": [
       "(2, 3)"
      ]
     },
     "execution_count": 5,
     "metadata": {},
     "output_type": "execute_result"
    }
   ],
   "source": [
    "# размер массива\n",
    "data.shape"
   ]
  },
  {
   "cell_type": "code",
   "execution_count": 6,
   "id": "73eec329",
   "metadata": {},
   "outputs": [
    {
     "data": {
      "text/plain": [
       "dtype('float64')"
      ]
     },
     "execution_count": 6,
     "metadata": {},
     "output_type": "execute_result"
    }
   ],
   "source": [
    "# тип данных в массиве\n",
    "data.dtype"
   ]
  },
  {
   "cell_type": "markdown",
   "id": "ae1655e4",
   "metadata": {},
   "source": [
    "## Создание ndarray"
   ]
  },
  {
   "cell_type": "code",
   "execution_count": 7,
   "id": "81b19555",
   "metadata": {},
   "outputs": [
    {
     "data": {
      "text/plain": [
       "array([6. , 7.5, 8. , 0. , 1. ])"
      ]
     },
     "execution_count": 7,
     "metadata": {},
     "output_type": "execute_result"
    }
   ],
   "source": [
    "# создание одномерного массива\n",
    "arr1 = np.array([6, 7.5, 8, 0, 1])\n",
    "\n",
    "arr1"
   ]
  },
  {
   "cell_type": "code",
   "execution_count": 8,
   "id": "2815cf26",
   "metadata": {},
   "outputs": [
    {
     "data": {
      "text/plain": [
       "array([[1, 2, 3, 4],\n",
       "       [5, 6, 7, 8]])"
      ]
     },
     "execution_count": 8,
     "metadata": {},
     "output_type": "execute_result"
    }
   ],
   "source": [
    "# создание многомерного массива\n",
    "# создание одномерного массива\n",
    "# arr2 = np.array([1, 2, 3, 4], [5, 6, 7, 8])-ошибка\n",
    "arr2 = np.array([[1, 2, 3, 4], [5, 6, 7, 8]])\n",
    "\n",
    "arr2"
   ]
  },
  {
   "cell_type": "code",
   "execution_count": 9,
   "id": "d3fad6e4",
   "metadata": {},
   "outputs": [
    {
     "data": {
      "text/plain": [
       "2"
      ]
     },
     "execution_count": 9,
     "metadata": {},
     "output_type": "execute_result"
    }
   ],
   "source": [
    "# количество измерений массива\n",
    "arr2.ndim"
   ]
  },
  {
   "cell_type": "code",
   "execution_count": 10,
   "id": "3728e149",
   "metadata": {},
   "outputs": [
    {
     "name": "stdout",
     "output_type": "stream",
     "text": [
      "(1, 1, 1, 2, 2)\n",
      "5\n"
     ]
    }
   ],
   "source": [
    "# еще один пример\n",
    "arr3 = np.array([[[[[1,2],[3,4]]]]])\n",
    "\n",
    "print(arr3.shape)\n",
    "print(arr3.ndim)"
   ]
  },
  {
   "cell_type": "code",
   "execution_count": 11,
   "id": "af51bd1c",
   "metadata": {},
   "outputs": [
    {
     "name": "stdout",
     "output_type": "stream",
     "text": [
      "float64\n",
      "int32\n"
     ]
    }
   ],
   "source": [
    "# np.array самостоятельно определяет тип данных массива\n",
    "print(arr1.dtype)\n",
    "print(arr2.dtype)"
   ]
  },
  {
   "cell_type": "code",
   "execution_count": 12,
   "id": "e119b6a2",
   "metadata": {},
   "outputs": [
    {
     "name": "stdout",
     "output_type": "stream",
     "text": [
      "1) [0. 0. 0. 0. 0. 0. 0. 0. 0. 0.]\n",
      "2) [[0. 0. 0. 0. 0. 0.]\n",
      " [0. 0. 0. 0. 0. 0.]\n",
      " [0. 0. 0. 0. 0. 0.]]\n",
      "3) [[[1.23336173e-311 2.81617418e-322]\n",
      "  [0.00000000e+000 0.00000000e+000]\n",
      "  [6.23053953e-307 1.33664410e+160]]\n",
      "\n",
      " [[4.26592179e-090 1.38240129e-047]\n",
      "  [2.82998852e-033 1.91974938e-052]\n",
      "  [6.48224659e+170 4.93432906e+257]]]\n",
      "4) [[1. 1. 1. 1. 1. 1.]\n",
      " [1. 1. 1. 1. 1. 1.]\n",
      " [1. 1. 1. 1. 1. 1.]]\n",
      "5) [[[5 5 5 5 5 5]\n",
      "  [5 5 5 5 5 5]]\n",
      "\n",
      " [[5 5 5 5 5 5]\n",
      "  [5 5 5 5 5 5]]\n",
      "\n",
      " [[5 5 5 5 5 5]\n",
      "  [5 5 5 5 5 5]]]\n"
     ]
    }
   ],
   "source": [
    "# создание заполненных массивов\n",
    "print('1)', np.zeros(10))\n",
    "\n",
    "print('2)', np.zeros((3, 6)))\n",
    "# вызывать функцию empty небезопасно, т.к. она может выдать мусор\n",
    "# сама функция empty выделяет под новый массив память, но не инициализирует её\n",
    "print('3)', np.empty((2, 3, 2)))\n",
    "\n",
    "print('4)', np.ones((3, 6)))\n",
    "\n",
    "# заполнение массива произвольным числом \n",
    "print('5)', np.full((3, 2, 6), 5))"
   ]
  },
  {
   "cell_type": "code",
   "execution_count": 13,
   "id": "d210e3b9",
   "metadata": {},
   "outputs": [
    {
     "name": "stdout",
     "output_type": "stream",
     "text": [
      "[ 0  1  2  3  4  5  6  7  8  9 10 11 12 13 14]\n",
      "[0, 1, 2, 3, 4]\n"
     ]
    }
   ],
   "source": [
    "# функция arange - вариант встроенной в Python функции range, только возвращаемым значением является массив\n",
    "print(np.arange(15))\n",
    "\n",
    "# как сделать не NumPy-ский массив:\n",
    "print([i for i in range(5)])"
   ]
  },
  {
   "cell_type": "markdown",
   "id": "ba14fd23",
   "metadata": {},
   "source": [
    "## Тип данных для ndarray"
   ]
  },
  {
   "cell_type": "code",
   "execution_count": 14,
   "id": "4ad8af4d",
   "metadata": {},
   "outputs": [
    {
     "name": "stdout",
     "output_type": "stream",
     "text": [
      "float64\n",
      "int32\n"
     ]
    }
   ],
   "source": [
    "arr1 = np.array([1, 2, 3], dtype=np.float64)\n",
    "arr2 = np.array([1, 2, 3], dtype=np.int32)\n",
    "\n",
    "print(arr1.dtype)\n",
    "print(arr2.dtype)"
   ]
  },
  {
   "cell_type": "markdown",
   "id": "bec1c928",
   "metadata": {},
   "source": [
    "## Арифметические операции с массивами NumPy"
   ]
  },
  {
   "cell_type": "code",
   "execution_count": 15,
   "id": "834cc078",
   "metadata": {},
   "outputs": [
    {
     "name": "stdout",
     "output_type": "stream",
     "text": [
      "1) [[1. 2. 3.]\n",
      " [4. 5. 6.]]\n",
      "2) [[ 1.  4.  9.]\n",
      " [16. 25. 36.]]\n",
      "3) [[0. 0. 0.]\n",
      " [0. 0. 0.]]\n",
      "4) [[1.         0.5        0.33333333]\n",
      " [0.25       0.2        0.16666667]]\n",
      "5) [[1.         1.41421356 1.73205081]\n",
      " [2.         2.23606798 2.44948974]]\n",
      "6) [[False  True False]\n",
      " [ True False  True]]\n"
     ]
    }
   ],
   "source": [
    "arr = np.array([[1., 2., 3.], [4., 5., 6.]])\n",
    "arr2 = np.array([[0., 4., 1.], [7., 2., 12.]])\n",
    "\n",
    "print('1)',arr)\n",
    "print('2)',arr * arr)\n",
    "print('3)',arr - arr)\n",
    "print('4)',1 / arr)\n",
    "print('5)',arr ** 0.5)\n",
    "\n",
    "# сравнение массивов одинакового размера дает булев массив\n",
    "print('6)',arr2 > arr)"
   ]
  },
  {
   "cell_type": "markdown",
   "id": "d7ea367e",
   "metadata": {},
   "source": [
    "## Индексирование и вырезание"
   ]
  },
  {
   "cell_type": "code",
   "execution_count": 16,
   "id": "589e47a7",
   "metadata": {},
   "outputs": [
    {
     "name": "stdout",
     "output_type": "stream",
     "text": [
      "1) [5 6 7]\n",
      "2) [ 0  1  2  3  4 12 12 12  8  9]\n",
      "3) [    0     1     2     3     4    12 12345    12     8     9]\n",
      "4) [ 0  1  2  3  4 64 64 64  8  9]\n",
      "5) [64 64 64]\n",
      "6.1) 3\n",
      "6.2) 3\n"
     ]
    },
    {
     "data": {
      "text/html": [
       "<div>\n",
       "<style scoped>\n",
       "    .dataframe tbody tr th:only-of-type {\n",
       "        vertical-align: middle;\n",
       "    }\n",
       "\n",
       "    .dataframe tbody tr th {\n",
       "        vertical-align: top;\n",
       "    }\n",
       "\n",
       "    .dataframe thead th {\n",
       "        text-align: right;\n",
       "    }\n",
       "</style>\n",
       "<table border=\"1\" class=\"dataframe\">\n",
       "  <thead>\n",
       "    <tr style=\"text-align: right;\">\n",
       "      <th></th>\n",
       "      <th>0</th>\n",
       "      <th>1</th>\n",
       "      <th>2</th>\n",
       "    </tr>\n",
       "  </thead>\n",
       "  <tbody>\n",
       "    <tr>\n",
       "      <th>0</th>\n",
       "      <td>0, 0</td>\n",
       "      <td>0, 1</td>\n",
       "      <td>0, 2</td>\n",
       "    </tr>\n",
       "    <tr>\n",
       "      <th>1</th>\n",
       "      <td>1, 0</td>\n",
       "      <td>1, 1</td>\n",
       "      <td>1, 2</td>\n",
       "    </tr>\n",
       "    <tr>\n",
       "      <th>2</th>\n",
       "      <td>2, 0</td>\n",
       "      <td>2, 1</td>\n",
       "      <td>2, 2</td>\n",
       "    </tr>\n",
       "  </tbody>\n",
       "</table>\n",
       "</div>"
      ],
      "text/plain": [
       "      0     1     2\n",
       "0  0, 0  0, 1  0, 2\n",
       "1  1, 0  1, 1  1, 2\n",
       "2  2, 0  2, 1  2, 2"
      ]
     },
     "execution_count": 16,
     "metadata": {},
     "output_type": "execute_result"
    }
   ],
   "source": [
    "arr = np.arange(10)\n",
    "print('1)', arr[5:8])\n",
    "\n",
    "arr[5:8] = 12\n",
    "print('2)', arr)\n",
    "\n",
    "# Важнейшее отличие массивов от списков в том, что срез массива является представлением исходного массива,\n",
    "# т.е. любые изменения, внесенные в представление, попадают и в исходный массив\n",
    "arr_slice = arr[5:8]\n",
    "arr_slice[1] = 12345\n",
    "print('3)', arr)\n",
    "\n",
    "# [:] используется для записи во все элементы массива\n",
    "arr_slice[:] = 64\n",
    "print('4)', arr)\n",
    "\n",
    "# чтобы получить копию среза массива, можно использовать arr[5:8].copy()\n",
    "a = arr[5:8].copy()\n",
    "print('5)',a)\n",
    "\n",
    "# обращение к отдельным элементам\n",
    "arr2d = np.array([[1, 2, 3], [4, 5, 6], [7, 8, 9]])\n",
    "print('6.1)', arr2d[0][2])\n",
    "print('6.2)', arr2d[0, 2])\n",
    "\n",
    "# таблица обращений к каждому элементу массива\n",
    "column=['0','1','2']\n",
    "index=['0','1','2']\n",
    "df1 = pd.DataFrame(np.array([['0, 0','0, 1','0, 2'],['1, 0','1, 1','1, 2'],['2, 0','2, 1','2, 2']]), columns=column, index=index)\n",
    "df1"
   ]
  },
  {
   "cell_type": "markdown",
   "id": "29d1d340",
   "metadata": {},
   "source": [
    "### Индексирование срезами"
   ]
  },
  {
   "cell_type": "code",
   "execution_count": 17,
   "id": "38be7ffd",
   "metadata": {},
   "outputs": [
    {
     "name": "stdout",
     "output_type": "stream",
     "text": [
      "1) [ 0  1  2  3  4 64 64 64  8  9]\n",
      "2) [ 1  2  3  4 64]\n",
      "3) [[1 2 3]\n",
      " [4 5 6]\n",
      " [7 8 9]]\n",
      "4) [[1 2 3]\n",
      " [4 5 6]]\n",
      "5) [[2 3]\n",
      " [5 6]]\n"
     ]
    }
   ],
   "source": [
    "print('1)', arr)\n",
    "print('2)', arr[1:6])\n",
    "print('3)', arr2d)\n",
    "print('4)', arr2d[:2])\n",
    "\n",
    "# можно указать несколько срезов - как несколько индексов:\n",
    "print('5)', arr2d[:2, 1:])"
   ]
  },
  {
   "cell_type": "code",
   "execution_count": 18,
   "id": "7196607f",
   "metadata": {},
   "outputs": [
    {
     "name": "stdout",
     "output_type": "stream",
     "text": [
      "0)\n",
      " [[1 2 3]\n",
      " [4 5 6]\n",
      " [7 8 9]]\n",
      "1)\n",
      " [[1 0 0]\n",
      " [4 0 0]\n",
      " [7 8 9]]\n",
      "2)\n",
      " [[1 2 3]\n",
      " [4 5 6]\n",
      " [0 0 0]]\n",
      "3)\n",
      " [[0 0 3]\n",
      " [0 0 6]\n",
      " [0 0 9]]\n",
      "4)\n",
      " [[1 2 3]\n",
      " [0 0 6]\n",
      " [7 8 9]]\n"
     ]
    }
   ],
   "source": [
    "# несколько примеров срезов двумерного массива\n",
    "# arr2d[строки, столбцы]\n",
    "arr2d = np.array([[1, 2, 3], [4, 5, 6], [7, 8, 9]])\n",
    "print('0)\\n', arr2d)\n",
    "\n",
    "arr2d[:2, 1:] = 0\n",
    "print('1)\\n', arr2d)\n",
    "\n",
    "arr2d = np.array([[1, 2, 3], [4, 5, 6], [7, 8, 9]])\n",
    "arr2d[2:, :] = 0\n",
    "print('2)\\n', arr2d)\n",
    "\n",
    "arr2d = np.array([[1, 2, 3], [4, 5, 6], [7, 8, 9]])\n",
    "arr2d[:, :2] = 0\n",
    "print('3)\\n', arr2d)\n",
    "\n",
    "arr2d = np.array([[1, 2, 3], [4, 5, 6], [7, 8, 9]])\n",
    "arr2d[1, :2] = 0\n",
    "print('4)\\n', arr2d)"
   ]
  },
  {
   "cell_type": "markdown",
   "id": "8f6bd310",
   "metadata": {},
   "source": [
    "## Булево индексирование"
   ]
  },
  {
   "cell_type": "markdown",
   "id": "c6b4b294",
   "metadata": {},
   "source": [
    "- Допустим мы хотим вывести все строки из массива data, которым соответствет 'Bob' из массива names\n"
   ]
  },
  {
   "cell_type": "code",
   "execution_count": 19,
   "id": "159bd5a8",
   "metadata": {},
   "outputs": [
    {
     "name": "stdout",
     "output_type": "stream",
     "text": [
      "['Bob' 'Joe' 'Will' 'Bob' 'Will' 'Joe' 'Joe']\n",
      "[[-0.41084742  0.15308593  0.91471375  1.02272162]\n",
      " [ 1.01759401 -1.02505663 -2.00381797 -1.77452477]\n",
      " [ 2.24699216  0.96579738  0.03538349 -0.88914404]\n",
      " [ 0.79862965  0.31000839 -1.02369312 -1.40274433]\n",
      " [ 0.95524409  0.93553612  0.07501055 -0.73128682]\n",
      " [ 1.7180675  -1.66846573 -0.08439142  0.17845563]\n",
      " [-1.26364233 -0.52354446  0.98002203 -1.14486941]]\n"
     ]
    }
   ],
   "source": [
    "names = np.array(['Bob', 'Joe', 'Will', 'Bob', 'Will', 'Joe', 'Joe'])\n",
    "data = np.random.randn(7, 4)\n",
    "\n",
    "print(names)\n",
    "print(data)"
   ]
  },
  {
   "cell_type": "code",
   "execution_count": 20,
   "id": "d02d9e36",
   "metadata": {},
   "outputs": [
    {
     "data": {
      "text/plain": [
       "array([ True, False, False,  True, False, False, False])"
      ]
     },
     "execution_count": 20,
     "metadata": {},
     "output_type": "execute_result"
    }
   ],
   "source": [
    "names == 'Bob'"
   ]
  },
  {
   "cell_type": "code",
   "execution_count": 21,
   "id": "1e0b455c",
   "metadata": {},
   "outputs": [
    {
     "data": {
      "text/plain": [
       "array([[-0.41084742,  0.15308593,  0.91471375,  1.02272162],\n",
       "       [ 0.79862965,  0.31000839, -1.02369312, -1.40274433]])"
      ]
     },
     "execution_count": 21,
     "metadata": {},
     "output_type": "execute_result"
    }
   ],
   "source": [
    "data[names == 'Bob']"
   ]
  },
  {
   "cell_type": "code",
   "execution_count": 22,
   "id": "3e89d4a8",
   "metadata": {},
   "outputs": [
    {
     "name": "stdout",
     "output_type": "stream",
     "text": [
      "[[ 0.91471375  1.02272162]\n",
      " [-1.02369312 -1.40274433]]\n",
      "[ 1.02272162 -1.40274433]\n"
     ]
    }
   ],
   "source": [
    "# Также можно вывести с указанием, какие столбцы выводить\n",
    "print(data[names == 'Bob', 2:])\n",
    "print(data[names == 'Bob', 3])"
   ]
  },
  {
   "cell_type": "code",
   "execution_count": 23,
   "id": "b34e6920",
   "metadata": {},
   "outputs": [
    {
     "name": "stdout",
     "output_type": "stream",
     "text": [
      "[False  True  True False  True  True  True]\n",
      "[[ 1.01759401 -1.02505663 -2.00381797 -1.77452477]\n",
      " [ 2.24699216  0.96579738  0.03538349 -0.88914404]\n",
      " [ 0.95524409  0.93553612  0.07501055 -0.73128682]\n",
      " [ 1.7180675  -1.66846573 -0.08439142  0.17845563]\n",
      " [-1.26364233 -0.52354446  0.98002203 -1.14486941]]\n"
     ]
    }
   ],
   "source": [
    "# для инвертирования можно использовать ~\n",
    "print(names != 'Bob')\n",
    "print(data[~(names == 'Bob')])"
   ]
  },
  {
   "cell_type": "code",
   "execution_count": 24,
   "id": "e53bba8e",
   "metadata": {},
   "outputs": [
    {
     "name": "stdout",
     "output_type": "stream",
     "text": [
      "[ True False  True  True  True False False]\n",
      "[[-0.41084742  0.15308593  0.91471375  1.02272162]\n",
      " [ 2.24699216  0.96579738  0.03538349 -0.88914404]\n",
      " [ 0.79862965  0.31000839 -1.02369312 -1.40274433]\n",
      " [ 0.95524409  0.93553612  0.07501055 -0.73128682]]\n"
     ]
    }
   ],
   "source": [
    "# использование нескольких условий\n",
    "mask = (names == 'Bob') | (names == 'Will')\n",
    "print(mask)\n",
    "print(data[mask])"
   ]
  },
  {
   "cell_type": "markdown",
   "id": "d0ab8020",
   "metadata": {},
   "source": [
    "## Прихотливое индексирование"
   ]
  },
  {
   "cell_type": "markdown",
   "id": "19d4b49a",
   "metadata": {},
   "source": [
    "- Термином прихотливое индексирование в NumPy обозначается индексирование с помощью целочисленных массивов"
   ]
  },
  {
   "cell_type": "code",
   "execution_count": 25,
   "id": "241c5b80",
   "metadata": {},
   "outputs": [
    {
     "data": {
      "text/plain": [
       "array([[0., 0., 0., 0.],\n",
       "       [1., 1., 1., 1.],\n",
       "       [2., 2., 2., 2.],\n",
       "       [3., 3., 3., 3.],\n",
       "       [4., 4., 4., 4.],\n",
       "       [5., 5., 5., 5.],\n",
       "       [6., 6., 6., 6.],\n",
       "       [7., 7., 7., 7.]])"
      ]
     },
     "execution_count": 25,
     "metadata": {},
     "output_type": "execute_result"
    }
   ],
   "source": [
    "arr = np.empty((8, 4))\n",
    "for i in range(8):\n",
    "    arr[i] = i\n",
    "arr"
   ]
  },
  {
   "cell_type": "code",
   "execution_count": 26,
   "id": "985ea78e",
   "metadata": {},
   "outputs": [
    {
     "data": {
      "text/plain": [
       "array([[4., 4., 4., 4.],\n",
       "       [3., 3., 3., 3.],\n",
       "       [0., 0., 0., 0.],\n",
       "       [6., 6., 6., 6.]])"
      ]
     },
     "execution_count": 26,
     "metadata": {},
     "output_type": "execute_result"
    }
   ],
   "source": [
    "# чтобы выбрать подмножество строк в определенном порядке,\n",
    "# можно просто передать список или массив целых чисел, \n",
    "# описывающих желаемый порядок\n",
    "arr[[4, 3, 0, 6]]"
   ]
  },
  {
   "cell_type": "code",
   "execution_count": 27,
   "id": "ac04fd4b",
   "metadata": {},
   "outputs": [
    {
     "data": {
      "text/plain": [
       "array([[5., 5., 5., 5.],\n",
       "       [3., 3., 3., 3.],\n",
       "       [1., 1., 1., 1.]])"
      ]
     },
     "execution_count": 27,
     "metadata": {},
     "output_type": "execute_result"
    }
   ],
   "source": [
    "# если указать отрицательный номер, то индекс будет отсчитываться с конца\n",
    "arr[[-3, -5, -7]]"
   ]
  },
  {
   "cell_type": "code",
   "execution_count": 28,
   "id": "6d32f04d",
   "metadata": {},
   "outputs": [
    {
     "name": "stdout",
     "output_type": "stream",
     "text": [
      "[[ 0  1  2  3]\n",
      " [ 4  5  6  7]\n",
      " [ 8  9 10 11]\n",
      " [12 13 14 15]\n",
      " [16 17 18 19]\n",
      " [20 21 22 23]\n",
      " [24 25 26 27]\n",
      " [28 29 30 31]]\n",
      "\n",
      " [ 4 23 29 10]\n"
     ]
    }
   ],
   "source": [
    "# создаем массив reshape((количество строк, количество столбцов))\n",
    "arr = np.arange(32).reshape((8, 4))\n",
    "print(arr)\n",
    "\n",
    "# при передаче нескольких массивов индексов в данном случае отбираются элементы\n",
    "# (1, 0), (5, 3), (7, 1), (2, 2)\n",
    "print('\\n', arr[[1, 5, 7, 2], [0, 3, 1, 2]])"
   ]
  },
  {
   "cell_type": "code",
   "execution_count": 29,
   "id": "79dacf87",
   "metadata": {},
   "outputs": [
    {
     "data": {
      "text/plain": [
       "array([[ 4,  7,  5,  6],\n",
       "       [20, 23, 21, 22],\n",
       "       [28, 31, 29, 30],\n",
       "       [ 8, 11,  9, 10]])"
      ]
     },
     "execution_count": 29,
     "metadata": {},
     "output_type": "execute_result"
    }
   ],
   "source": [
    "# многие пользователи ожидают другой результат в вводе выше, такой:\n",
    "# берем 1 5 7 2 строки и выводи столбцы в порядке 0 3 1 2:\n",
    "arr[[1, 5, 7, 2]][:, [0, 3, 1, 2]]"
   ]
  },
  {
   "cell_type": "markdown",
   "id": "142e3d45",
   "metadata": {},
   "source": [
    "## Транспонирование массивов и перестановка осей"
   ]
  },
  {
   "cell_type": "markdown",
   "id": "17b832ff",
   "metadata": {},
   "source": [
    "- Транспонирование - частный случай изменения формы\n",
    "- имеется специальный атрибут $T$"
   ]
  },
  {
   "cell_type": "code",
   "execution_count": 30,
   "id": "7cfbe43d",
   "metadata": {},
   "outputs": [
    {
     "name": "stdout",
     "output_type": "stream",
     "text": [
      "[[ 0  1  2  3  4]\n",
      " [ 5  6  7  8  9]\n",
      " [10 11 12 13 14]]\n",
      "\n",
      " [[ 0  5 10]\n",
      " [ 1  6 11]\n",
      " [ 2  7 12]\n",
      " [ 3  8 13]\n",
      " [ 4  9 14]]\n"
     ]
    }
   ],
   "source": [
    "arr = np.arange(15).reshape((3, 5))\n",
    "print(arr)\n",
    "print('\\n', arr.T)"
   ]
  },
  {
   "cell_type": "markdown",
   "id": "0b7bce8f",
   "metadata": {},
   "source": [
    "вычисление матриц $X^TX$ :"
   ]
  },
  {
   "cell_type": "code",
   "execution_count": 31,
   "id": "59058277",
   "metadata": {},
   "outputs": [
    {
     "data": {
      "text/plain": [
       "array([[125, 140, 155, 170, 185],\n",
       "       [140, 158, 176, 194, 212],\n",
       "       [155, 176, 197, 218, 239],\n",
       "       [170, 194, 218, 242, 266],\n",
       "       [185, 212, 239, 266, 293]])"
      ]
     },
     "execution_count": 31,
     "metadata": {},
     "output_type": "execute_result"
    }
   ],
   "source": [
    "np.dot(arr.T, arr)"
   ]
  },
  {
   "cell_type": "code",
   "execution_count": 32,
   "id": "67a9dccd",
   "metadata": {},
   "outputs": [
    {
     "name": "stdout",
     "output_type": "stream",
     "text": [
      "[[[ 0  1  2  3]\n",
      "  [ 4  5  6  7]\n",
      "  [ 8  9 10 11]\n",
      "  [12 13 14 15]]\n",
      "\n",
      " [[16 17 18 19]\n",
      "  [20 21 22 23]\n",
      "  [24 25 26 27]\n",
      "  [28 29 30 31]]]\n"
     ]
    },
    {
     "data": {
      "text/plain": [
       "array([[[ 0,  1,  2,  3],\n",
       "        [16, 17, 18, 19]],\n",
       "\n",
       "       [[ 4,  5,  6,  7],\n",
       "        [20, 21, 22, 23]],\n",
       "\n",
       "       [[ 8,  9, 10, 11],\n",
       "        [24, 25, 26, 27]],\n",
       "\n",
       "       [[12, 13, 14, 15],\n",
       "        [28, 29, 30, 31]]])"
      ]
     },
     "execution_count": 32,
     "metadata": {},
     "output_type": "execute_result"
    }
   ],
   "source": [
    "# метод transpose принимает картеж номеров осей, описывающий их перестановку\n",
    "arr = np.arange(32).reshape((2, 4, 4))\n",
    "print(arr)\n",
    "arr.transpose((1, 0, 2))"
   ]
  },
  {
   "cell_type": "code",
   "execution_count": 33,
   "id": "8ee7fb7c",
   "metadata": {},
   "outputs": [
    {
     "data": {
      "text/plain": [
       "array([[[ 0,  1,  2,  3],\n",
       "        [ 4,  5,  6,  7]],\n",
       "\n",
       "       [[ 8,  9, 10, 11],\n",
       "        [12, 13, 14, 15]]])"
      ]
     },
     "execution_count": 33,
     "metadata": {},
     "output_type": "execute_result"
    }
   ],
   "source": [
    "# метод swapaxes, который принимает пару номеров осей и меняет их местами,\n",
    "# в результате чего данные реорганизуются:\n",
    "arr = np.arange(16).reshape(2,2,4)\n",
    "arr"
   ]
  },
  {
   "cell_type": "code",
   "execution_count": 34,
   "id": "2b9d1b28",
   "metadata": {},
   "outputs": [
    {
     "data": {
      "text/plain": [
       "array([[[ 0,  4],\n",
       "        [ 1,  5],\n",
       "        [ 2,  6],\n",
       "        [ 3,  7]],\n",
       "\n",
       "       [[ 8, 12],\n",
       "        [ 9, 13],\n",
       "        [10, 14],\n",
       "        [11, 15]]])"
      ]
     },
     "execution_count": 34,
     "metadata": {},
     "output_type": "execute_result"
    }
   ],
   "source": [
    "arr.swapaxes(1, 2)"
   ]
  },
  {
   "cell_type": "markdown",
   "id": "a61f6c1c",
   "metadata": {},
   "source": [
    "# 4.2. Универсальные функции: быстрые поэлементные операции над массивами"
   ]
  },
  {
   "cell_type": "markdown",
   "id": "fb49882e",
   "metadata": {},
   "source": [
    "- Универсальной функцией или $u-функцией$, называется функция, которая выполняет поэлементные операции над данными, хранящимися в объектах ndarray"
   ]
  },
  {
   "cell_type": "code",
   "execution_count": 35,
   "id": "14ca30e2",
   "metadata": {},
   "outputs": [
    {
     "data": {
      "text/plain": [
       "array([0, 1, 2, 3, 4, 5, 6, 7, 8, 9])"
      ]
     },
     "execution_count": 35,
     "metadata": {},
     "output_type": "execute_result"
    }
   ],
   "source": [
    "arr = np.arange(10)\n",
    "arr"
   ]
  },
  {
   "cell_type": "code",
   "execution_count": 36,
   "id": "6334d4fc",
   "metadata": {},
   "outputs": [
    {
     "data": {
      "text/plain": [
       "array([0.        , 1.        , 1.41421356, 1.73205081, 2.        ,\n",
       "       2.23606798, 2.44948974, 2.64575131, 2.82842712, 3.        ])"
      ]
     },
     "execution_count": 36,
     "metadata": {},
     "output_type": "execute_result"
    }
   ],
   "source": [
    "np.sqrt(arr)"
   ]
  },
  {
   "cell_type": "code",
   "execution_count": 37,
   "id": "1ca18a59",
   "metadata": {},
   "outputs": [
    {
     "data": {
      "text/plain": [
       "array([1.00000000e+00, 2.71828183e+00, 7.38905610e+00, 2.00855369e+01,\n",
       "       5.45981500e+01, 1.48413159e+02, 4.03428793e+02, 1.09663316e+03,\n",
       "       2.98095799e+03, 8.10308393e+03])"
      ]
     },
     "execution_count": 37,
     "metadata": {},
     "output_type": "execute_result"
    }
   ],
   "source": [
    "np.exp(arr)"
   ]
  },
  {
   "cell_type": "markdown",
   "id": "fc531599",
   "metadata": {},
   "source": [
    "- Такие $u-функции$ называются $унарными$\n",
    "- Другие функции, например, $add$, $maximum$ принимают на вход два массива и поэтому называются $бинарными$ и возвращают один результирующий массив"
   ]
  },
  {
   "cell_type": "code",
   "execution_count": 38,
   "id": "967536e9",
   "metadata": {},
   "outputs": [
    {
     "name": "stdout",
     "output_type": "stream",
     "text": [
      "[-0.84346155 -0.89671821 -0.61173566 -0.45968582 -0.35753046 -0.90202207\n",
      "  0.21838366  0.25081051]\n",
      "[ 1.54299767 -0.24908593  0.63758811 -0.54776089 -0.94354442  0.62884287\n",
      " -0.09839125 -0.61054894]\n"
     ]
    },
    {
     "data": {
      "text/plain": [
       "array([ 1.54299767, -0.24908593,  0.63758811, -0.45968582, -0.35753046,\n",
       "        0.62884287,  0.21838366,  0.25081051])"
      ]
     },
     "execution_count": 38,
     "metadata": {},
     "output_type": "execute_result"
    }
   ],
   "source": [
    "x = np.random.randn(8)\n",
    "y = np.random.randn(8)\n",
    "print(x)\n",
    "print(y)\n",
    "np.maximum(x, y)\n",
    "# здесь np.maximum(x, y) вычисляет поэлементные максимумы в массивах x и y"
   ]
  },
  {
   "cell_type": "code",
   "execution_count": 39,
   "id": "11e90141",
   "metadata": {},
   "outputs": [
    {
     "name": "stdout",
     "output_type": "stream",
     "text": [
      "[-0.53155954  1.77783193 -3.37127802 -8.45784943 -0.48537806 -4.76774747\n",
      "  0.72606976]\n",
      "\n",
      " [-0.53155954  0.77783193 -0.37127802 -0.45784943 -0.48537806 -0.76774747\n",
      "  0.72606976]\n",
      "[-0.  1. -3. -8. -0. -4.  0.]\n"
     ]
    }
   ],
   "source": [
    "# нечасто можно встретить u-функцию, возвращающую несколько массивов.\n",
    "# например, modf возвращает дробные и целые части хранящихся в массиве чисел\n",
    "arr = np.random.randn(7) * 5\n",
    "print(arr)\n",
    "remainder, whole_part = np.modf(arr)\n",
    "print('\\n',remainder)\n",
    "print(whole_part)"
   ]
  },
  {
   "cell_type": "markdown",
   "id": "f5c2922f",
   "metadata": {},
   "source": [
    "# 4.3. Программирование с применением массивов"
   ]
  },
  {
   "cell_type": "markdown",
   "id": "4ea72b18",
   "metadata": {},
   "source": [
    "- Векторизация - способ замены явных циклов выражениями-массивами\n",
    "- Векторные операции с массивами выполняются на несколько порядков быстрее, чем эквивалентные операции на чистом Python"
   ]
  },
  {
   "cell_type": "code",
   "execution_count": 40,
   "id": "b09e9567",
   "metadata": {},
   "outputs": [
    {
     "name": "stdout",
     "output_type": "stream",
     "text": [
      "[[-5.   -4.99 -4.98 ...  4.97  4.98  4.99]\n",
      " [-5.   -4.99 -4.98 ...  4.97  4.98  4.99]\n",
      " [-5.   -4.99 -4.98 ...  4.97  4.98  4.99]\n",
      " ...\n",
      " [-5.   -4.99 -4.98 ...  4.97  4.98  4.99]\n",
      " [-5.   -4.99 -4.98 ...  4.97  4.98  4.99]\n",
      " [-5.   -4.99 -4.98 ...  4.97  4.98  4.99]]\n",
      "\n",
      " [[-5.   -5.   -5.   ... -5.   -5.   -5.  ]\n",
      " [-4.99 -4.99 -4.99 ... -4.99 -4.99 -4.99]\n",
      " [-4.98 -4.98 -4.98 ... -4.98 -4.98 -4.98]\n",
      " ...\n",
      " [ 4.97  4.97  4.97 ...  4.97  4.97  4.97]\n",
      " [ 4.98  4.98  4.98 ...  4.98  4.98  4.98]\n",
      " [ 4.99  4.99  4.99 ...  4.99  4.99  4.99]]\n",
      "\n",
      " [[7.07106781 7.06400028 7.05693985 ... 7.04988652 7.05693985 7.06400028]\n",
      " [7.06400028 7.05692568 7.04985815 ... 7.04279774 7.04985815 7.05692568]\n",
      " [7.05693985 7.04985815 7.04278354 ... 7.03571603 7.04278354 7.04985815]\n",
      " ...\n",
      " [7.04988652 7.04279774 7.03571603 ... 7.0286414  7.03571603 7.04279774]\n",
      " [7.05693985 7.04985815 7.04278354 ... 7.03571603 7.04278354 7.04985815]\n",
      " [7.06400028 7.05692568 7.04985815 ... 7.04279774 7.04985815 7.05692568]]\n"
     ]
    }
   ],
   "source": [
    "# np.meshgrid() принимает два одномерных массива и порождает две двумерные матрицы,\n",
    "# соответствующие всем парам (x, y), т.е. одна матрица x, другая y\n",
    "points = np.arange(-5, 5, 0.01) # 1000 equally spaced points\n",
    "xs, ys = np.meshgrid(points, points)\n",
    "print(xs)\n",
    "print('\\n',ys)\n",
    "\n",
    "# теперь можно легко вычислить sqrt(xs**2 + ys**2) \n",
    "z = np.sqrt(xs**2 + ys**2)\n",
    "print('\\n',z)"
   ]
  },
  {
   "cell_type": "code",
   "execution_count": 41,
   "id": "678f30ee",
   "metadata": {},
   "outputs": [
    {
     "data": {
      "image/png": "[encoded data removed]",
      "text/plain": [
       "<Figure size 432x288 with 2 Axes>"
      ]
     },
     "metadata": {
      "needs_background": "light"
     },
     "output_type": "display_data"
    }
   ],
   "source": [
    "import matplotlib.pyplot as plt\n",
    "plt.imshow(z, cmap=plt.cm.gray); plt.colorbar()\n",
    "plt.title(\"Image plot of $\\sqrt{x^2 + y^2}$ for a grid of values\")\n",
    "plt.draw()"
   ]
  },
  {
   "cell_type": "markdown",
   "id": "47f71369",
   "metadata": {},
   "source": [
    "## Запись логических условий в виде операций с массивами"
   ]
  },
  {
   "cell_type": "code",
   "execution_count": 42,
   "id": "acd627aa",
   "metadata": {},
   "outputs": [
    {
     "data": {
      "text/plain": [
       "[1.1, 2.2, 1.3, 1.4, 2.5]"
      ]
     },
     "execution_count": 42,
     "metadata": {},
     "output_type": "execute_result"
    }
   ],
   "source": [
    "# пусть есть булев массив и два массива значений\n",
    "xarr = np.array([1.1, 1.2, 1.3, 1.4, 1.5])\n",
    "yarr = np.array([2.1, 2.2, 2.3, 2.4, 2.5])\n",
    "cond = np.array([True, False, True, True, False])\n",
    "\n",
    "# Допустим, мы хотим брать значение из массива xarr,\n",
    "# если соответственное значение в массиве cond = True\n",
    "result = [(x if c else y) for x, y, c in zip(xarr, yarr, cond)]\n",
    "result"
   ]
  },
  {
   "cell_type": "markdown",
   "id": "4e5beb2f",
   "metadata": {},
   "source": [
    "- $np.where$(условие, что мы делаем если условие верно, что мы делаем если условие НЕ верно)\n",
    "- Действием может быть как вставление значения массива(arr), так и мат  операция (10*a)"
   ]
  },
  {
   "cell_type": "code",
   "execution_count": 43,
   "id": "66113741",
   "metadata": {},
   "outputs": [
    {
     "data": {
      "text/plain": [
       "array([1.1, 2.2, 1.3, 1.4, 2.5])"
      ]
     },
     "execution_count": 43,
     "metadata": {},
     "output_type": "execute_result"
    }
   ],
   "source": [
    "# Предыдущее решение долгое, а также к многомерным массивам не применимо\n",
    "#  с помощью np.where можно сделать лаконичнее\n",
    "result = np.where(cond, xarr, yarr)\n",
    "result"
   ]
  },
  {
   "cell_type": "code",
   "execution_count": 44,
   "id": "b1f2534e",
   "metadata": {},
   "outputs": [
    {
     "name": "stdout",
     "output_type": "stream",
     "text": [
      "[[-1.56354562  0.60162422  1.77277316 -2.92005549]\n",
      " [ 0.28333728 -1.13799786 -1.02077439 -0.45773259]\n",
      " [-0.74224214 -0.39834388 -0.531235    1.09102041]\n",
      " [-0.86333714  0.33988419 -0.15195658  0.07020289]]\n",
      "\n",
      " [[False  True  True False]\n",
      " [ True False False False]\n",
      " [False False False  True]\n",
      " [False  True False  True]]\n",
      "\n",
      " [[-2  2  2 -2]\n",
      " [ 2 -2 -2 -2]\n",
      " [-2 -2 -2  2]\n",
      " [-2  2 -2  2]]\n"
     ]
    }
   ],
   "source": [
    "#  При анализе данных where обычно применяется, чтобы создать новый массив\n",
    "# на основе существующего\n",
    "# заменим в массиве случайных чисел все положительные числа на 2, а отрицательные на -2\n",
    "arr = np.random.randn(4, 4)\n",
    "print(arr)\n",
    "print('\\n', arr > 0)\n",
    "print('\\n', np.where(arr > 0, 2, -2))"
   ]
  },
  {
   "cell_type": "code",
   "execution_count": 45,
   "id": "d4cf7abe",
   "metadata": {},
   "outputs": [
    {
     "data": {
      "text/plain": [
       "array([[-1.56354562,  2.        ,  2.        , -2.92005549],\n",
       "       [ 2.        , -1.13799786, -1.02077439, -0.45773259],\n",
       "       [-0.74224214, -0.39834388, -0.531235  ,  2.        ],\n",
       "       [-0.86333714,  2.        , -0.15195658,  2.        ]])"
      ]
     },
     "execution_count": 45,
     "metadata": {},
     "output_type": "execute_result"
    }
   ],
   "source": [
    "# С помощью np.where можно комбинировать скаляры и массивы:\n",
    "np.where(arr > 0, 2, arr) # если значение больше 0, то заменяем на 2, если меньше, то берем значение из массива arr"
   ]
  },
  {
   "cell_type": "markdown",
   "id": "b6cebb78",
   "metadata": {},
   "source": [
    "## Математические и статистические операции"
   ]
  },
  {
   "cell_type": "code",
   "execution_count": 46,
   "id": "95feda2c",
   "metadata": {},
   "outputs": [
    {
     "data": {
      "text/plain": [
       "array([[-1.16237727,  0.81431287,  0.81408857,  1.28965979],\n",
       "       [ 0.4474653 ,  2.13073622,  1.90853261, -1.11730851],\n",
       "       [ 1.16182813, -0.92929347,  0.85807831,  0.69881589],\n",
       "       [ 0.95038499, -1.1406665 ,  0.41468624,  0.7414622 ],\n",
       "       [-1.18033805, -0.8839886 ,  0.55108703, -1.85782072]])"
      ]
     },
     "execution_count": 46,
     "metadata": {},
     "output_type": "execute_result"
    }
   ],
   "source": [
    "arr = np.random.randn(5, 4)\n",
    "arr"
   ]
  },
  {
   "cell_type": "code",
   "execution_count": 47,
   "id": "33fb09d4",
   "metadata": {},
   "outputs": [
    {
     "data": {
      "text/plain": [
       "0.22546725149835461"
      ]
     },
     "execution_count": 47,
     "metadata": {},
     "output_type": "execute_result"
    }
   ],
   "source": [
    "# среднее число в массиве\n",
    "arr.mean()\n",
    "\n",
    "# или так, ответ одинаковый\n",
    "np.mean(arr)"
   ]
  },
  {
   "cell_type": "code",
   "execution_count": 48,
   "id": "d511cabf",
   "metadata": {},
   "outputs": [
    {
     "data": {
      "text/plain": [
       "4.5093450299670925"
      ]
     },
     "execution_count": 48,
     "metadata": {},
     "output_type": "execute_result"
    }
   ],
   "source": [
    "# сумма всех элементов массива\n",
    "arr.sum()"
   ]
  },
  {
   "cell_type": "markdown",
   "id": "ec04cde9",
   "metadata": {},
   "source": [
    "- функции типа mean, sum принимают не обязательный аргумент axis, при наличии которого вычисляется статистика по заданной оси"
   ]
  },
  {
   "cell_type": "code",
   "execution_count": 49,
   "id": "f2e21d62",
   "metadata": {},
   "outputs": [
    {
     "name": "stdout",
     "output_type": "stream",
     "text": [
      "[ 0.43892099  0.8423564   0.44735722  0.24146673 -0.84276508]\n",
      "\n",
      " [ 0.2169631  -0.00889948  4.54647276 -0.24519135]\n"
     ]
    }
   ],
   "source": [
    "# Вычисление среднего по столбцам\n",
    "print(arr.mean(axis=1))\n",
    "\n",
    "# Вычисление суммы по строкам\n",
    "print('\\n', arr.sum(axis=0))"
   ]
  },
  {
   "cell_type": "markdown",
   "id": "74c7a563",
   "metadata": {},
   "source": [
    "- другие методы, например, cumsum и cumprod, ничего не агрегируют, а порождают массив промежуточных результатов"
   ]
  },
  {
   "cell_type": "code",
   "execution_count": 50,
   "id": "e57f0317",
   "metadata": {},
   "outputs": [
    {
     "data": {
      "text/plain": [
       "array([ 0,  1,  3,  6, 10, 15, 21, 28], dtype=int32)"
      ]
     },
     "execution_count": 50,
     "metadata": {},
     "output_type": "execute_result"
    }
   ],
   "source": [
    "# cumsum() производит сложение всех элементов поочередно\n",
    "arr = np.array([0, 1, 2, 3, 4, 5, 6, 7])\n",
    "arr.cumsum()"
   ]
  },
  {
   "cell_type": "code",
   "execution_count": 51,
   "id": "dee9ed92",
   "metadata": {},
   "outputs": [
    {
     "name": "stdout",
     "output_type": "stream",
     "text": [
      "[[0 1 2]\n",
      " [3 4 5]\n",
      " [6 7 8]]\n",
      "\n",
      " [[ 0  1  2]\n",
      " [ 3  5  7]\n",
      " [ 9 12 15]]\n",
      "\n",
      " [[  0   0   0]\n",
      " [  3  12  60]\n",
      " [  6  42 336]]\n"
     ]
    }
   ],
   "source": [
    "# также можно применять к строкам и столбцам\n",
    "arr = np.array([[0, 1, 2], [3, 4, 5], [6, 7, 8]])\n",
    "print(arr)\n",
    "print('\\n', arr.cumsum(axis=0))\n",
    "\n",
    "# cumprod() производит умножение всех элементов поочередно\n",
    "print('\\n', arr.cumprod(axis=1))"
   ]
  },
  {
   "cell_type": "markdown",
   "id": "15e51146",
   "metadata": {},
   "source": [
    "##### Таблица 4.5. Статистические методы массива\n",
    "- sum - сумма всего массива или вдоль одной оси sum(axis = 1)\n",
    "- mean - среднее арифметическое\n",
    "- std, var - стандартное отклонение и дисперсия. Может быть задано число степеней свободы (по умолчанию n)\n",
    "- min, max - минимум и максимум\n",
    "- argmin, argmax - индексы минимального и максимального элементов\n",
    "- cumsum - нарастающая сумма с начальным значением 0\n",
    "- cumprod - нарастающее произведение с начальным значением 1"
   ]
  },
  {
   "cell_type": "markdown",
   "id": "74c88c75",
   "metadata": {},
   "source": [
    "## Методы булевых массивов"
   ]
  },
  {
   "cell_type": "code",
   "execution_count": 52,
   "id": "e777f753",
   "metadata": {},
   "outputs": [
    {
     "data": {
      "text/plain": [
       "48"
      ]
     },
     "execution_count": 52,
     "metadata": {},
     "output_type": "execute_result"
    }
   ],
   "source": [
    "# булевы значения приводятся к 1 (True) и 0 (False), \n",
    "# поэтому функция sum часто используется для подсчета True\n",
    "arr = np.random.randn(100)\n",
    "(arr > 0).sum()"
   ]
  },
  {
   "cell_type": "markdown",
   "id": "185e7a45",
   "metadata": {},
   "source": [
    "- существует еще два метода any и all\n",
    "- any проверяет, есть ли в массиве хотя бы одно значение True\n",
    "- all проверяет, все ли значения массива равны True"
   ]
  },
  {
   "cell_type": "code",
   "execution_count": 53,
   "id": "f8091185",
   "metadata": {},
   "outputs": [
    {
     "name": "stdout",
     "output_type": "stream",
     "text": [
      "True\n",
      "False\n"
     ]
    }
   ],
   "source": [
    "bools = np.array([False, False, True, False])\n",
    "print(bools.any())\n",
    "print(bools.all())"
   ]
  },
  {
   "cell_type": "code",
   "execution_count": 54,
   "id": "1310b27d",
   "metadata": {},
   "outputs": [
    {
     "name": "stdout",
     "output_type": "stream",
     "text": [
      "False\n",
      "False\n"
     ]
    }
   ],
   "source": [
    "bools = np.array([False, False, False, False])\n",
    "print(bools.any())\n",
    "print(bools.all())"
   ]
  },
  {
   "cell_type": "code",
   "execution_count": 55,
   "id": "e56194fd",
   "metadata": {},
   "outputs": [
    {
     "name": "stdout",
     "output_type": "stream",
     "text": [
      "True\n",
      "True\n"
     ]
    }
   ],
   "source": [
    "bools = np.array([True, True, True, True])\n",
    "print(bools.any())\n",
    "print(bools.all())"
   ]
  },
  {
   "cell_type": "markdown",
   "id": "9e33a01a",
   "metadata": {},
   "source": [
    "- эти методы работают и для небулевых массивов, тогда все отличные элементы от 0 считаются равными True"
   ]
  },
  {
   "cell_type": "markdown",
   "id": "007e2a5d",
   "metadata": {},
   "source": [
    "## Сортировка"
   ]
  },
  {
   "cell_type": "code",
   "execution_count": 56,
   "id": "3b40b06c",
   "metadata": {},
   "outputs": [
    {
     "name": "stdout",
     "output_type": "stream",
     "text": [
      "[-1.16646382  0.42073658  1.66813831 -0.02256274 -1.17837716  0.39820034]\n",
      "\n",
      " [-1.17837716 -1.16646382 -0.02256274  0.39820034  0.42073658  1.66813831]\n"
     ]
    }
   ],
   "source": [
    "arr = np.random.randn(6)\n",
    "print(arr)\n",
    "\n",
    "arr.sort()\n",
    "print('\\n',arr)"
   ]
  },
  {
   "cell_type": "code",
   "execution_count": 57,
   "id": "786b62eb",
   "metadata": {},
   "outputs": [
    {
     "name": "stdout",
     "output_type": "stream",
     "text": [
      "[[ 1.07301741  1.30412726 -0.85154723]\n",
      " [ 0.04906316  1.23618935 -0.36618482]\n",
      " [-0.17533952 -1.0987625   1.20940766]\n",
      " [-1.2836249  -0.89710213 -0.55487154]\n",
      " [ 0.57712733  0.90477865 -2.16126177]]\n",
      "\n",
      " [[-0.85154723  1.07301741  1.30412726]\n",
      " [-0.36618482  0.04906316  1.23618935]\n",
      " [-1.0987625  -0.17533952  1.20940766]\n",
      " [-1.2836249  -0.89710213 -0.55487154]\n",
      " [-2.16126177  0.57712733  0.90477865]]\n"
     ]
    }
   ],
   "source": [
    "# любой одномерный участок массива можно отсортировать на месте,\n",
    "# передав методу sort номер оси:\n",
    "# (в данном случае сортируем столбцы)\n",
    "arr = np.random.randn(5, 3)\n",
    "print(arr)\n",
    "\n",
    "arr.sort(1)\n",
    "print('\\n',arr)"
   ]
  },
  {
   "cell_type": "markdown",
   "id": "cac583c3",
   "metadata": {},
   "source": [
    "- метод np.sort возвращает отсортированную копию массива, а не сортирует массив на месте\n"
   ]
  },
  {
   "cell_type": "code",
   "execution_count": 58,
   "id": "29b2e6b7",
   "metadata": {},
   "outputs": [
    {
     "data": {
      "text/plain": [
       "-1.6392665290053359"
      ]
     },
     "execution_count": 58,
     "metadata": {},
     "output_type": "execute_result"
    }
   ],
   "source": [
    "large_arr = np.random.randn(1000)\n",
    "large_arr.sort()\n",
    "large_arr[int(0.05 * len(large_arr))] # 5% квантиль"
   ]
  },
  {
   "cell_type": "markdown",
   "id": "d7d2254c",
   "metadata": {},
   "source": [
    "## Устранение дубликатов и другие теоретико-множественные операции"
   ]
  },
  {
   "cell_type": "code",
   "execution_count": 59,
   "id": "babb0d7a",
   "metadata": {},
   "outputs": [
    {
     "name": "stdout",
     "output_type": "stream",
     "text": [
      "['Bob' 'Joe' 'Will']\n",
      "[1 2 3 4]\n"
     ]
    }
   ],
   "source": [
    "# функция np.unique возвращает отсортированное множество уникальных элементов в массиве\n",
    "names = np.array(['Bob', 'Joe', 'Will', 'Bob', 'Will', 'Joe', 'Joe'])\n",
    "print(np.unique(names))\n",
    "\n",
    "# На чистом Python это выглядело бы так:\n",
    "# sorted(set(names))\n",
    "\n",
    "ints = np.array([3, 3, 3, 2, 2, 1, 1, 4, 4])\n",
    "print(np.unique(ints))"
   ]
  },
  {
   "cell_type": "code",
   "execution_count": 60,
   "id": "89472b97",
   "metadata": {},
   "outputs": [
    {
     "data": {
      "text/plain": [
       "array([ True, False, False,  True,  True, False,  True])"
      ]
     },
     "execution_count": 60,
     "metadata": {},
     "output_type": "execute_result"
    }
   ],
   "source": [
    "# функция mp.in1d проверяет, присутствуют ли значения из одного массива в другом,\n",
    "# и возвращает булев массив\n",
    "values = np.array([6, 0, 0, 3, 2, 5, 6])\n",
    "np.in1d(values, [2, 3, 6])"
   ]
  },
  {
   "cell_type": "markdown",
   "id": "bfcb97c9",
   "metadata": {},
   "source": [
    "- функция intersect1d(x,y) вычисляет отсортированное множество элементов, общих для x и y"
   ]
  },
  {
   "cell_type": "markdown",
   "id": "48e5990d",
   "metadata": {},
   "source": [
    "# 4.4. Файловый ввод-вывод массивов"
   ]
  },
  {
   "cell_type": "markdown",
   "id": "426adb66",
   "metadata": {},
   "source": [
    "- $np.save$ и $np.load$ - основные функции для эффективного сохранения и загрузки данных с диска\n",
    "- по умолчанию массивы сохраняются в несжатом двоичном формате в файле с расширением $.npy$"
   ]
  },
  {
   "cell_type": "code",
   "execution_count": 61,
   "id": "b3b7a01a",
   "metadata": {},
   "outputs": [
    {
     "data": {
      "text/plain": [
       "array([[-0.85154723,  1.07301741,  1.30412726],\n",
       "       [-0.36618482,  0.04906316,  1.23618935],\n",
       "       [-1.0987625 , -0.17533952,  1.20940766],\n",
       "       [-1.2836249 , -0.89710213, -0.55487154],\n",
       "       [-2.16126177,  0.57712733,  0.90477865]])"
      ]
     },
     "execution_count": 61,
     "metadata": {},
     "output_type": "execute_result"
    }
   ],
   "source": [
    "arr"
   ]
  },
  {
   "cell_type": "code",
   "execution_count": 62,
   "id": "03a0a6c0",
   "metadata": {},
   "outputs": [],
   "source": [
    "arr = np.arange(10)\n",
    "np.save('some_array', arr) # .npy можно не писать, т.к. это подразумевается по умолчанию"
   ]
  },
  {
   "cell_type": "code",
   "execution_count": 63,
   "id": "a5c4a6ad",
   "metadata": {},
   "outputs": [
    {
     "data": {
      "text/plain": [
       "array([0, 1, 2, 3, 4, 5, 6, 7, 8, 9])"
      ]
     },
     "execution_count": 63,
     "metadata": {},
     "output_type": "execute_result"
    }
   ],
   "source": [
    "np.load('some_array.npy')"
   ]
  },
  {
   "cell_type": "code",
   "execution_count": 64,
   "id": "a7f2c4b3",
   "metadata": {},
   "outputs": [],
   "source": [
    "# можно сохранить несколько массивов в zip-архиве\n",
    "np.savez('array_archive.npz', a=arr, b=arr)"
   ]
  },
  {
   "cell_type": "code",
   "execution_count": 65,
   "id": "fc8a298f",
   "metadata": {},
   "outputs": [
    {
     "data": {
      "text/plain": [
       "array([0, 1, 2, 3, 4, 5, 6, 7, 8, 9])"
      ]
     },
     "execution_count": 65,
     "metadata": {},
     "output_type": "execute_result"
    }
   ],
   "source": [
    "# при считывании npz файла мы получаем похожий на словарь объект\n",
    "arch = np.load('array_archive.npz')\n",
    "arch['b']"
   ]
  },
  {
   "cell_type": "code",
   "execution_count": 66,
   "id": "eee08f89",
   "metadata": {},
   "outputs": [],
   "source": [
    "# если данные хорошо сжимаюся можно использовать np.savez_compressed\n",
    "np.savez_compressed('arrays_compressed.npz', a=arr, b=arr)"
   ]
  },
  {
   "cell_type": "markdown",
   "id": "e83dcb2d",
   "metadata": {},
   "source": [
    "# 4.5. Линейная алгебра"
   ]
  },
  {
   "cell_type": "markdown",
   "id": "9de47886",
   "metadata": {},
   "source": [
    "- В NumPy * используется для поэлементного, а не матричного умножения\n",
    "- Для матричного умножения используется dot"
   ]
  },
  {
   "cell_type": "code",
   "execution_count": 67,
   "id": "c788aa0e",
   "metadata": {},
   "outputs": [
    {
     "name": "stdout",
     "output_type": "stream",
     "text": [
      "[[ 28.  64.]\n",
      " [ 67. 181.]]\n",
      "\n",
      " [[ 28.  64.]\n",
      " [ 67. 181.]]\n",
      "\n",
      " [[ 28.  64.]\n",
      " [ 67. 181.]]\n"
     ]
    }
   ],
   "source": [
    "x = np.array([[1., 2., 3.], [4., 5., 6.]])\n",
    "y = np.array([[6., 23.], [-1, 7], [8, 9]])\n",
    "\n",
    "print(x.dot(y))\n",
    "\n",
    "# x.dot(y) эквивалентно np.dot(x, y) и x@y\n",
    "print('\\n', np.dot(x, y))\n",
    "\n",
    "print('\\n', x@y)"
   ]
  },
  {
   "cell_type": "markdown",
   "id": "580ca980",
   "metadata": {},
   "source": [
    "##### Таблица 4.7. Наиболее употребительные функции из модуля numpy.linalg\n",
    "- diag - возвращает диагональные элементы квадратной матрицы в виде одномерного массива\n",
    "- dot - Вычисляет произведение матриц\n",
    "- trace - Вычисляет след матрицы - сумму диагональных элементов\n",
    "- det - Вычисляет определитель матрицы\n",
    "- eig - Вычисляет собственные значения и собственные векторы квадратичной матрицы\n",
    "- inv - Вычисляет обратную матрицу\n",
    "- pinv - Вычисляет псевдообратную матрицу Мура-Пенроуза\n",
    "- qr - Вычисляет QR-разложение\n",
    "- svd - Вычисляет сингулярное разложение (SVD)\n",
    "- solve - Решает линейную систему Ax = b, где А-квадратная матрица\n",
    "- lstsq -Вычисляет решение уравнения y = Xb по методу наименьших квадратов"
   ]
  },
  {
   "cell_type": "code",
   "execution_count": 68,
   "id": "1868c160",
   "metadata": {},
   "outputs": [
    {
     "data": {
      "text/plain": [
       "array([[ 0.23205128, -0.08205128],\n",
       "       [-0.08589744,  0.03589744]])"
      ]
     },
     "execution_count": 68,
     "metadata": {},
     "output_type": "execute_result"
    }
   ],
   "source": [
    "from numpy.linalg import inv, qr\n",
    "\n",
    "inv(x.dot(y))"
   ]
  },
  {
   "cell_type": "code",
   "execution_count": 69,
   "id": "14ce0bd8",
   "metadata": {},
   "outputs": [
    {
     "data": {
      "text/plain": [
       "array([[-0.24743922,  0.08941025],\n",
       "       [ 0.        ,  0.00518128]])"
      ]
     },
     "execution_count": 69,
     "metadata": {},
     "output_type": "execute_result"
    }
   ],
   "source": [
    "q, r = qr(inv(x.dot(y)))\n",
    "r"
   ]
  },
  {
   "cell_type": "markdown",
   "id": "2f6c1b1b",
   "metadata": {},
   "source": [
    "# 4.6. Генерация псевдослучайных чисел"
   ]
  },
  {
   "cell_type": "markdown",
   "id": "cae7e180",
   "metadata": {},
   "source": [
    "- Модуль numpy.random дополняет встроенный модуль random функциями случайных чисел из различных распределений\n",
    "- С помощью numpy.random можно сразу создавать целые массивы случайных чисел, тогда как встроенная фиункция random выдает только одно случайное число\n",
    "- При генерации больших выборок numpy.random на порядок быстрее"
   ]
  },
  {
   "cell_type": "code",
   "execution_count": 70,
   "id": "c320e5c5",
   "metadata": {},
   "outputs": [
    {
     "name": "stdout",
     "output_type": "stream",
     "text": [
      "[[-1.92765359 -0.48414826 -0.74830898  1.04002501]\n",
      " [-0.33421233  0.14941491 -1.18102005 -0.05066214]\n",
      " [ 0.49642879  1.44060044  0.46888677 -0.11003472]\n",
      " [ 0.26525505  1.22589474 -0.5318656  -0.33406443]]\n"
     ]
    }
   ],
   "source": [
    "samples = np.random.normal(size=(4, 4))\n",
    "print(samples)"
   ]
  },
  {
   "cell_type": "code",
   "execution_count": 71,
   "id": "23c6370f",
   "metadata": {},
   "outputs": [
    {
     "name": "stdout",
     "output_type": "stream",
     "text": [
      "2.75 s ± 4.66 ms per loop (mean ± std. dev. of 7 runs, 1 loop each)\n",
      "78.2 ms ± 99.7 µs per loop (mean ± std. dev. of 7 runs, 10 loops each)\n"
     ]
    }
   ],
   "source": [
    "from random import normalvariate\n",
    "N = 1000000\n",
    "%timeit samples = [normalvariate(0, 1) for _ in range(N)]\n",
    "%timeit np.random.normal(size=N)"
   ]
  },
  {
   "cell_type": "markdown",
   "id": "d266034a",
   "metadata": {},
   "source": [
    "##### Таблица 4.8. Наиболее употребительные функции из модуля numpy.random\n",
    "- seed - Задает начальное значение генератора случайных чисел\n",
    "- permutation - Возвращает случайную перестановку последовательности или диапазона\n",
    "- shuffle - Случайным образом переставляет последовательность на месте\n",
    "- rand - Случайная выборка с равномерным распределением\n",
    "- randint - Случайная выборка целого числа из заданного диапазона\n",
    "- randn - Случайная выборка с нормальным распределением со средним 0 и стандартным отклонением 1\n",
    "- binomial - Случайная выборка с биномиальным распределением\n",
    "- normal - Случайная выборка с нормальным распределинием\n",
    "- beta - Случайная выборка с бета-распределением\n",
    "- chisquare - Случайная выборка с распределением хи-квадрат\n",
    "- gamma - Случайная выборка с гамма-распределением\n",
    "- uniform - Случайная выборка с равномерным распределением на полуинтервале [0, -1)"
   ]
  },
  {
   "cell_type": "code",
   "execution_count": 72,
   "id": "6cdca57f",
   "metadata": {},
   "outputs": [
    {
     "name": "stdout",
     "output_type": "stream",
     "text": [
      "[1 2 3]\n"
     ]
    }
   ],
   "source": [
    "a = [1, 2, 3]\n",
    "b = np.random.permutation(a)\n",
    "print(b)"
   ]
  },
  {
   "cell_type": "markdown",
   "id": "588df560",
   "metadata": {},
   "source": [
    "# 4.7. Пример: случайное блуждание"
   ]
  },
  {
   "cell_type": "code",
   "execution_count": 73,
   "id": "f07db083",
   "metadata": {},
   "outputs": [],
   "source": [
    "# Без использования NumPy\n",
    "\n",
    "import random\n",
    "position = 0\n",
    "walk = [position]\n",
    "steps = 1000\n",
    "for i in range(steps):\n",
    "    step = 1 if random.randint(0, 1) else -1\n",
    "    position += step\n",
    "    walk.append(position)"
   ]
  },
  {
   "cell_type": "code",
   "execution_count": 74,
   "id": "b47040b3",
   "metadata": {},
   "outputs": [
    {
     "data": {
      "text/plain": [
       "[<matplotlib.lines.Line2D at 0x24541192430>]"
      ]
     },
     "execution_count": 74,
     "metadata": {},
     "output_type": "execute_result"
    },
    {
     "data": {
      "image/png": "[encoded data removed]",
      "text/plain": [
       "<Figure size 432x288 with 1 Axes>"
      ]
     },
     "metadata": {
      "needs_background": "light"
     },
     "output_type": "display_data"
    }
   ],
   "source": [
    "plt.plot(walk[:100])"
   ]
  },
  {
   "cell_type": "code",
   "execution_count": 75,
   "id": "48095bee",
   "metadata": {},
   "outputs": [
    {
     "data": {
      "text/plain": [
       "[<matplotlib.lines.Line2D at 0x24543d96ca0>]"
      ]
     },
     "execution_count": 75,
     "metadata": {},
     "output_type": "execute_result"
    },
    {
     "data": {
      "image/png": "[encoded data removed]",
      "text/plain": [
       "<Figure size 432x288 with 1 Axes>"
      ]
     },
     "metadata": {
      "needs_background": "light"
     },
     "output_type": "display_data"
    }
   ],
   "source": [
    "# С ипсользованием NumPy\n",
    "\n",
    "nsteps = 1000\n",
    "draws = np.random.randint(0, 2, size=nsteps)\n",
    "steps = np.where(draws > 0, 1, -1)\n",
    "walk = steps.cumsum()\n",
    "plt.plot(walk[:100])"
   ]
  },
  {
   "cell_type": "code",
   "execution_count": 76,
   "id": "f88e909b",
   "metadata": {},
   "outputs": [
    {
     "data": {
      "text/plain": [
       "-14"
      ]
     },
     "execution_count": 76,
     "metadata": {},
     "output_type": "execute_result"
    }
   ],
   "source": [
    "walk.min()"
   ]
  },
  {
   "cell_type": "code",
   "execution_count": 77,
   "id": "414a8be1",
   "metadata": {},
   "outputs": [
    {
     "data": {
      "text/plain": [
       "14"
      ]
     },
     "execution_count": 77,
     "metadata": {},
     "output_type": "execute_result"
    }
   ],
   "source": [
    "walk.max()"
   ]
  },
  {
   "cell_type": "code",
   "execution_count": 78,
   "id": "63982eb5",
   "metadata": {},
   "outputs": [
    {
     "data": {
      "text/plain": [
       "69"
      ]
     },
     "execution_count": 78,
     "metadata": {},
     "output_type": "execute_result"
    }
   ],
   "source": [
    "# Вычислим, на каком шаге мы впервые достигли отметки в 10\n",
    "(np.abs(walk) >= 10).argmax()"
   ]
  },
  {
   "cell_type": "markdown",
   "id": "1836562c",
   "metadata": {},
   "source": [
    "## Моделирование сразу нескольких случайных блужданий"
   ]
  },
  {
   "cell_type": "code",
   "execution_count": 79,
   "id": "a2eea2fc",
   "metadata": {},
   "outputs": [
    {
     "data": {
      "text/plain": [
       "array([[  1,   2,   3, ...,   2,   3,   2],\n",
       "       [  1,   2,   1, ...,  -8,  -9, -10],\n",
       "       [ -1,  -2,  -3, ..., -12, -11, -12],\n",
       "       ...,\n",
       "       [ -1,   0,   1, ...,  10,  11,  10],\n",
       "       [  1,   0,   1, ...,  -2,  -1,  -2],\n",
       "       [  1,   0,   1, ...,  40,  39,  38]], dtype=int32)"
      ]
     },
     "execution_count": 79,
     "metadata": {},
     "output_type": "execute_result"
    }
   ],
   "source": [
    "#  чтобы это сделать, нужно всего лишь сделать двумерный массив из предыдущего примера\n",
    "nwalks = 5000\n",
    "nsteps = 1000\n",
    "draws = np.random.randint(0, 2, size=(nwalks, nsteps)) # 0 or 1\n",
    "steps = np.where(draws > 0, 1, -1)\n",
    "walks = steps.cumsum(1)\n",
    "walks"
   ]
  },
  {
   "cell_type": "code",
   "execution_count": 80,
   "id": "543550ee",
   "metadata": {},
   "outputs": [
    {
     "data": {
      "text/plain": [
       "120"
      ]
     },
     "execution_count": 80,
     "metadata": {},
     "output_type": "execute_result"
    }
   ],
   "source": [
    "# теперь мы  можем вычислить min и max по всем блужданиям\n",
    "walks.max()"
   ]
  },
  {
   "cell_type": "code",
   "execution_count": 81,
   "id": "f5c859c9",
   "metadata": {},
   "outputs": [
    {
     "data": {
      "text/plain": [
       "-109"
      ]
     },
     "execution_count": 81,
     "metadata": {},
     "output_type": "execute_result"
    }
   ],
   "source": [
    "walks.min()"
   ]
  },
  {
   "cell_type": "code",
   "execution_count": 82,
   "id": "6ecde6d8",
   "metadata": {},
   "outputs": [
    {
     "name": "stdout",
     "output_type": "stream",
     "text": [
      "[False  True False ... False False  True]\n",
      "3342\n"
     ]
    }
   ],
   "source": [
    "# проверим, в скольки блужданиях достигалось значение 30\n",
    "hits30 = (np.abs(walks) >= 30).any(1)\n",
    "print(hits30)\n",
    "print(hits30.sum())"
   ]
  },
  {
   "cell_type": "code",
   "execution_count": 83,
   "id": "9c422984",
   "metadata": {},
   "outputs": [
    {
     "data": {
      "text/plain": [
       "491.4189108318372"
      ]
     },
     "execution_count": 83,
     "metadata": {},
     "output_type": "execute_result"
    }
   ],
   "source": [
    "# вычислим среднее значение номера первого достижения 30\n",
    "crossing_times = (np.abs(walks[hits30]) >= 30).argmax(1)\n",
    "crossing_times.mean()"
   ]
  },
  {
   "cell_type": "code",
   "execution_count": 84,
   "id": "37d48d11",
   "metadata": {},
   "outputs": [
    {
     "data": {
      "text/plain": [
       "[<matplotlib.lines.Line2D at 0x24543f2aa00>]"
      ]
     },
     "execution_count": 84,
     "metadata": {},
     "output_type": "execute_result"
    },
    {
     "data": {
      "image/png": "[encoded data removed]",
      "text/plain": [
       "<Figure size 432x288 with 1 Axes>"
      ]
     },
     "metadata": {
      "needs_background": "light"
     },
     "output_type": "display_data"
    }
   ],
   "source": [
    "# теперь рассмотрим нормальное распределение\n",
    "steps = np.random.normal(loc=0, scale=0.25, size=(nsteps))\n",
    "plt.plot(steps[:100])"
   ]
  },
  {
   "cell_type": "code",
   "execution_count": 85,
   "id": "354ea8ce",
   "metadata": {},
   "outputs": [
    {
     "data": {
      "text/plain": [
       "0.852929825508494"
      ]
     },
     "execution_count": 85,
     "metadata": {},
     "output_type": "execute_result"
    }
   ],
   "source": [
    "steps.max()"
   ]
  },
  {
   "cell_type": "code",
   "execution_count": 86,
   "id": "f74794d6",
   "metadata": {},
   "outputs": [
    {
     "data": {
      "text/plain": [
       "-0.8105240175270155"
      ]
     },
     "execution_count": 86,
     "metadata": {},
     "output_type": "execute_result"
    }
   ],
   "source": [
    "steps.min()"
   ]
  }
 ],
 "metadata": {
  "hide_input": false,
  "kernelspec": {
   "display_name": "Python 3 (ipykernel)",
   "language": "python",
   "name": "python3"
  },
  "language_info": {
   "codemirror_mode": {
    "name": "ipython",
    "version": 3
   },
   "file_extension": ".py",
   "mimetype": "text/x-python",
   "name": "python",
   "nbconvert_exporter": "python",
   "pygments_lexer": "ipython3",
   "version": "3.9.7"
  },
  "toc": {
   "base_numbering": 1,
   "nav_menu": {},
   "number_sections": true,
   "sideBar": true,
   "skip_h1_title": false,
   "title_cell": "Table of Contents",
   "title_sidebar": "Contents",
   "toc_cell": false,
   "toc_position": {
    "height": "calc(100% - 180px)",
    "left": "10px",
    "top": "150px",
    "width": "568.8px"
   },
   "toc_section_display": true,
   "toc_window_display": false
  },
  "varInspector": {
   "cols": {
    "lenName": 16,
    "lenType": 16,
    "lenVar": 40
   },
   "kernels_config": {
    "python": {
     "delete_cmd_postfix": "",
     "delete_cmd_prefix": "del ",
     "library": "var_list.py",
     "varRefreshCmd": "print(var_dic_list())"
    },
    "r": {
     "delete_cmd_postfix": ") ",
     "delete_cmd_prefix": "rm(",
     "library": "var_list.r",
     "varRefreshCmd": "cat(var_dic_list()) "
    }
   },
   "types_to_exclude": [
    "module",
    "function",
    "builtin_function_or_method",
    "instance",
    "_Feature"
   ],
   "window_display": false
  }
 },
 "nbformat": 4,
 "nbformat_minor": 5
}
