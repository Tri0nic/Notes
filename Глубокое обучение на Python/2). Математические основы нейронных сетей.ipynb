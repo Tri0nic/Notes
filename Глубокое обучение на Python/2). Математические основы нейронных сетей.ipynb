{
 "cells": [
  {
   "cell_type": "code",
   "execution_count": 1,
   "id": "a83722b8",
   "metadata": {},
   "outputs": [],
   "source": [
    "import pandas as pd\n",
    "import numpy as np\n",
    "import matplotlib.pyplot as plt"
   ]
  },
  {
   "cell_type": "markdown",
   "id": "719700cb",
   "metadata": {},
   "source": [
    "# Первое знакомство с нейронной сетью"
   ]
  },
  {
   "cell_type": "code",
   "execution_count": 77,
   "id": "7eeb9334",
   "metadata": {
    "scrolled": true
   },
   "outputs": [],
   "source": [
    "import tensorflow\n",
    "import keras"
   ]
  },
  {
   "cell_type": "code",
   "execution_count": 27,
   "id": "16004335",
   "metadata": {},
   "outputs": [],
   "source": [
    "from keras.datasets import mnist\n",
    "(train_images, train_labels), (test_images, test_labels) = mnist.load_data()"
   ]
  },
  {
   "cell_type": "code",
   "execution_count": 28,
   "id": "a2282745",
   "metadata": {},
   "outputs": [
    {
     "data": {
      "text/plain": [
       "(60000, 28, 28)"
      ]
     },
     "execution_count": 28,
     "metadata": {},
     "output_type": "execute_result"
    }
   ],
   "source": [
    "train_images.shape"
   ]
  },
  {
   "cell_type": "code",
   "execution_count": 29,
   "id": "0bc5c3cf",
   "metadata": {},
   "outputs": [
    {
     "data": {
      "text/plain": [
       "(10000, 28, 28)"
      ]
     },
     "execution_count": 29,
     "metadata": {},
     "output_type": "execute_result"
    }
   ],
   "source": [
    "test_images.shape"
   ]
  },
  {
   "cell_type": "code",
   "execution_count": 30,
   "id": "5a3ac76a",
   "metadata": {
    "scrolled": true
   },
   "outputs": [
    {
     "data": {
      "text/plain": [
       "1    6742\n",
       "7    6265\n",
       "3    6131\n",
       "2    5958\n",
       "9    5949\n",
       "0    5923\n",
       "6    5918\n",
       "8    5851\n",
       "4    5842\n",
       "5    5421\n",
       "dtype: int64"
      ]
     },
     "execution_count": 30,
     "metadata": {},
     "output_type": "execute_result"
    }
   ],
   "source": [
    "pd.DataFrame(train_labels).value_counts()"
   ]
  },
  {
   "cell_type": "code",
   "execution_count": 69,
   "id": "2fb91edf",
   "metadata": {},
   "outputs": [],
   "source": [
    "from keras import models\n",
    "from keras import layers\n",
    "network = models.Sequential()\n",
    "network.add(layers.Dense(512, activation='relu', input_shape=(28 * 28,)))\n",
    "network.add(layers.Dense(10, activation='softmax'))"
   ]
  },
  {
   "cell_type": "code",
   "execution_count": 70,
   "id": "988c0638",
   "metadata": {},
   "outputs": [],
   "source": [
    "# Или так:\n",
    "# from tensorflow import keras\n",
    "# from tensorflow.keras import layers\n",
    "# model = keras.Sequential([\n",
    "#     layers.Dense(512, activation=\"relu\"),\n",
    "#     layers.Dense(10, activation=\"softmax\")\n",
    "# ])"
   ]
  },
  {
   "cell_type": "code",
   "execution_count": 71,
   "id": "4f38ecf4",
   "metadata": {},
   "outputs": [],
   "source": [
    "network.compile(optimizer=\"rmsprop\",\n",
    "              loss=\"categorical_crossentropy\",\n",
    "              metrics=[\"accuracy\"])"
   ]
  },
  {
   "cell_type": "markdown",
   "id": "3ad00676",
   "metadata": {},
   "source": [
    "Чтобы подготовить сеть к обучению, нужно настроить еще три параметра для этапа\n",
    "компиляции:\n",
    "- функцию потерь, которая определяет, как сеть должна оценивать качество\n",
    "своей работы на обучающих данных и, соответственно, как корректировать ее\n",
    "в правильном направлении;\n",
    "- оптимизатор — механизм, с помощью которого сеть будет обновлять себя,\n",
    "опираясь на наблюдаемые данные и функцию потерь;\n",
    "- метрики для мониторинга на этапах обучения и тестирования — здесь нас\n",
    "будет интересовать только точность (доля правильно классифицированных\n",
    "изображений)."
   ]
  },
  {
   "cell_type": "markdown",
   "id": "3ec16ac9",
   "metadata": {},
   "source": [
    "Перед обучением мы выполним предварительную обработку данных, преобразовав\n",
    "их в форму, которую ожидает получить нейронная сеть, и масштабируем их так,\n",
    "чтобы все значения оказались в интервале [0, 1]. Исходные данные — обучающие изображения — хранятся в трехмерном массиве (60000, 28, 28) типа uint8,\n",
    "значениями в котором являются числа в интервале [0, 255]. Мы преобразуем его\n",
    "в массив (60000, 28 * 28) типа float32 со значениями в интервале [0, 1]."
   ]
  },
  {
   "cell_type": "code",
   "execution_count": 72,
   "id": "b8a1a595",
   "metadata": {},
   "outputs": [],
   "source": [
    "# Подготовка исходных данных\n",
    "train_images = train_images.reshape((60000, 28 * 28))\n",
    "train_images = train_images.astype('float32') / 255\n",
    "\n",
    "test_images = test_images.reshape((10000, 28 * 28))\n",
    "test_images = test_images.astype('float32') / 255"
   ]
  },
  {
   "cell_type": "code",
   "execution_count": 73,
   "id": "34e2e68b",
   "metadata": {},
   "outputs": [],
   "source": [
    "# Подготовка меток\n",
    "from keras.utils import to_categorical\n",
    "\n",
    "train_labels = to_categorical(train_labels)\n",
    "test_labels = to_categorical(test_labels)"
   ]
  },
  {
   "cell_type": "code",
   "execution_count": 74,
   "id": "20871661",
   "metadata": {},
   "outputs": [
    {
     "name": "stdout",
     "output_type": "stream",
     "text": [
      "Epoch 1/5\n",
      "469/469 [==============================] - 5s 9ms/step - loss: 0.2568 - accuracy: 0.9254\n",
      "Epoch 2/5\n",
      "469/469 [==============================] - 4s 9ms/step - loss: 0.1048 - accuracy: 0.9689\n",
      "Epoch 3/5\n",
      "469/469 [==============================] - 4s 9ms/step - loss: 0.0698 - accuracy: 0.9791\n",
      "Epoch 4/5\n",
      "469/469 [==============================] - 4s 9ms/step - loss: 0.0499 - accuracy: 0.9851\n",
      "Epoch 5/5\n",
      "469/469 [==============================] - 4s 9ms/step - loss: 0.0382 - accuracy: 0.9884\n"
     ]
    },
    {
     "data": {
      "text/plain": [
       "<keras.callbacks.History at 0x21e42bddaf0>"
      ]
     },
     "execution_count": 74,
     "metadata": {},
     "output_type": "execute_result"
    }
   ],
   "source": [
    "network.fit(train_images, train_labels, epochs=5, batch_size=128)"
   ]
  },
  {
   "cell_type": "markdown",
   "id": "afb3066a",
   "metadata": {},
   "source": [
    "Проверим на test:"
   ]
  },
  {
   "cell_type": "code",
   "execution_count": 75,
   "id": "a732091c",
   "metadata": {},
   "outputs": [
    {
     "name": "stdout",
     "output_type": "stream",
     "text": [
      "313/313 [==============================] - 1s 2ms/step - loss: 0.0683 - accuracy: 0.9788\n",
      "test_acc: 0.9787999987602234\n"
     ]
    }
   ],
   "source": [
    "test_loss, test_acc = network.evaluate(test_images, test_labels)\n",
    "print('test_acc:', test_acc)"
   ]
  },
  {
   "cell_type": "markdown",
   "id": "c1a674d7",
   "metadata": {},
   "source": [
    "На train показатели лучше чем на test. Эта разница между точностью на тренировочном и контрольном\n",
    "наборах демонстрирует пример переобучения (overfitting), когда модели машинного\n",
    "обучения показывают худшую точность на новом наборе данных по сравнению\n",
    "с тренировочным."
   ]
  },
  {
   "cell_type": "markdown",
   "id": "0e6d9887",
   "metadata": {},
   "source": [
    "# Представление данных для нейронных сетей"
   ]
  },
  {
   "cell_type": "markdown",
   "id": "f6933ac8",
   "metadata": {},
   "source": [
    "Тензоры — многомерные массивы Numpy\\\n",
    "Тензоры — это обобщение матриц\n",
    "с произвольным количеством измерений"
   ]
  },
  {
   "cell_type": "markdown",
   "id": "ab667b86",
   "metadata": {},
   "source": [
    "В теорминологии тензоров число измерений (ранг) часто называют осями."
   ]
  },
  {
   "cell_type": "markdown",
   "id": "6c7bdd53",
   "metadata": {},
   "source": [
    "## Скаляры (тензоры нулевого ранга)"
   ]
  },
  {
   "cell_type": "code",
   "execution_count": 14,
   "id": "285583aa",
   "metadata": {},
   "outputs": [
    {
     "data": {
      "text/plain": [
       "array(12)"
      ]
     },
     "execution_count": 14,
     "metadata": {},
     "output_type": "execute_result"
    }
   ],
   "source": [
    "x = np.array(12)\n",
    "x"
   ]
  },
  {
   "cell_type": "code",
   "execution_count": 15,
   "id": "976fad79",
   "metadata": {},
   "outputs": [
    {
     "data": {
      "text/plain": [
       "0"
      ]
     },
     "execution_count": 15,
     "metadata": {},
     "output_type": "execute_result"
    }
   ],
   "source": [
    "# ndim показывает, сколько осей у тензора\n",
    "x.ndim"
   ]
  },
  {
   "cell_type": "markdown",
   "id": "59930348",
   "metadata": {},
   "source": [
    "## Векторы (тензоры первого ранга)"
   ]
  },
  {
   "cell_type": "code",
   "execution_count": 16,
   "id": "750a951b",
   "metadata": {},
   "outputs": [
    {
     "data": {
      "text/plain": [
       "array([12,  3,  6, 14])"
      ]
     },
     "execution_count": 16,
     "metadata": {},
     "output_type": "execute_result"
    }
   ],
   "source": [
    "x = np.array([12, 3, 6, 14])\n",
    "x"
   ]
  },
  {
   "cell_type": "code",
   "execution_count": 17,
   "id": "7a4cf610",
   "metadata": {},
   "outputs": [
    {
     "data": {
      "text/plain": [
       "1"
      ]
     },
     "execution_count": 17,
     "metadata": {},
     "output_type": "execute_result"
    }
   ],
   "source": [
    "x.ndim"
   ]
  },
  {
   "cell_type": "markdown",
   "id": "ad52cfa0",
   "metadata": {},
   "source": [
    "Этот вектор содержит пять элементов и поэтому называется пятимерным вектором.\n",
    "Не путайте пятимерные векторы с пятимерными тензорами! Пятимерный вектор\n",
    "имеет только одну ось и пять значений на этой оси, тогда как пятимерный тензор\n",
    "имеет пять осей (и может иметь любое количество значений на каждой из них)."
   ]
  },
  {
   "cell_type": "markdown",
   "id": "636c24d1",
   "metadata": {},
   "source": [
    "## Матрицы (тензоры второго ранга)"
   ]
  },
  {
   "cell_type": "code",
   "execution_count": 21,
   "id": "1e8962b8",
   "metadata": {},
   "outputs": [],
   "source": [
    "x = np.array([[5, 78, 2, 34, 0],\n",
    "[6, 79, 3, 35, 1],\n",
    "[7, 80, 4, 36, 2]])"
   ]
  },
  {
   "cell_type": "code",
   "execution_count": 22,
   "id": "5fd86bcf",
   "metadata": {},
   "outputs": [
    {
     "data": {
      "text/plain": [
       "2"
      ]
     },
     "execution_count": 22,
     "metadata": {},
     "output_type": "execute_result"
    }
   ],
   "source": [
    "x.ndim"
   ]
  },
  {
   "cell_type": "markdown",
   "id": "5653c779",
   "metadata": {},
   "source": [
    "## Тензоры третьего и высшего рангов"
   ]
  },
  {
   "cell_type": "code",
   "execution_count": 23,
   "id": "48a877dc",
   "metadata": {},
   "outputs": [],
   "source": [
    "x = np.array([[[5, 78, 2, 34, 0],\n",
    "[6, 79, 3, 35, 1],\n",
    "[7, 80, 4, 36, 2]],\n",
    "[[5, 78, 2, 34, 0],\n",
    "[6, 79, 3, 35, 1],\n",
    "[7, 80, 4, 36, 2]],\n",
    "[[5, 78, 2, 34, 0],\n",
    "[6, 79, 3, 35, 1],\n",
    "[7, 80, 4, 36, 2]]])"
   ]
  },
  {
   "cell_type": "code",
   "execution_count": 24,
   "id": "577d53a2",
   "metadata": {},
   "outputs": [
    {
     "data": {
      "text/plain": [
       "3"
      ]
     },
     "execution_count": 24,
     "metadata": {},
     "output_type": "execute_result"
    }
   ],
   "source": [
    "x.ndim"
   ]
  },
  {
   "cell_type": "markdown",
   "id": "23d67657",
   "metadata": {},
   "source": [
    "## Ключевые атрибуты тензора"
   ]
  },
  {
   "cell_type": "markdown",
   "id": "28dc9f50",
   "metadata": {},
   "source": [
    "- Количество осей\n",
    "- Форма\n",
    "- Тип данных"
   ]
  },
  {
   "cell_type": "code",
   "execution_count": 33,
   "id": "66c12322",
   "metadata": {},
   "outputs": [
    {
     "data": {
      "text/plain": [
       "3"
      ]
     },
     "execution_count": 33,
     "metadata": {},
     "output_type": "execute_result"
    }
   ],
   "source": [
    "# Вернемся к данным MNIST:\n",
    "train_images.ndim"
   ]
  },
  {
   "cell_type": "code",
   "execution_count": 35,
   "id": "87af3f6e",
   "metadata": {},
   "outputs": [
    {
     "data": {
      "text/plain": [
       "dtype('uint8')"
      ]
     },
     "execution_count": 35,
     "metadata": {},
     "output_type": "execute_result"
    }
   ],
   "source": [
    "train_images.dtype"
   ]
  },
  {
   "cell_type": "code",
   "execution_count": 44,
   "id": "906999d1",
   "metadata": {},
   "outputs": [
    {
     "data": {
      "image/png": "[encoded data removed]",
      "text/plain": [
       "<Figure size 432x288 with 1 Axes>"
      ]
     },
     "metadata": {
      "needs_background": "light"
     },
     "output_type": "display_data"
    }
   ],
   "source": [
    "# cmap=plt.cm.binary - делает картинку ч.б.\n",
    "digit = train_images[4]\n",
    "\n",
    "plt.imshow(digit, cmap=plt.cm.binary)\n",
    "plt.show()"
   ]
  },
  {
   "cell_type": "markdown",
   "id": "5e076186",
   "metadata": {},
   "source": [
    "## Манипулирование тензорами с помощью Numpy"
   ]
  },
  {
   "cell_type": "markdown",
   "id": "c4b90d37",
   "metadata": {},
   "source": [
    "Операция выбора конкретного элемента в тензоре называется получением среза тензора."
   ]
  },
  {
   "cell_type": "code",
   "execution_count": 74,
   "id": "695c17ea",
   "metadata": {},
   "outputs": [
    {
     "data": {
      "image/png": "[encoded data removed]",
      "text/plain": [
       "<Figure size 432x288 with 1 Axes>"
      ]
     },
     "metadata": {
      "needs_background": "light"
     },
     "output_type": "display_data"
    }
   ],
   "source": [
    "# квадрат 14х14 в правом нижнем углу\n",
    "my_slice = train_images[:, 14:, 14:]\n",
    "\n",
    "plt.imshow(my_slice[4], cmap=plt.cm.binary)\n",
    "plt.show()"
   ]
  },
  {
   "cell_type": "code",
   "execution_count": 75,
   "id": "317ad3bf",
   "metadata": {
    "scrolled": false
   },
   "outputs": [
    {
     "data": {
      "image/png": "[encoded data removed]",
      "text/plain": [
       "<Figure size 432x288 with 1 Axes>"
      ]
     },
     "metadata": {
      "needs_background": "light"
     },
     "output_type": "display_data"
    }
   ],
   "source": [
    "# квадрат 14х14 в центре\n",
    "my_slice = train_images[:, 7:-7, 7:-7]\n",
    "\n",
    "plt.imshow(my_slice[4], cmap=plt.cm.binary)\n",
    "plt.show()"
   ]
  },
  {
   "cell_type": "markdown",
   "id": "f9018f95",
   "metadata": {},
   "source": [
    "Модели глубокого обучения не обрабатывают весь набор данных целиком; они разбивают его на небольшие пакеты (batch). При рассмотрении таких пакетных тензоров первую ось (ось с индексом 0) называют осью пакетов, или измерением пакетов."
   ]
  },
  {
   "cell_type": "markdown",
   "id": "c5aca0b8",
   "metadata": {},
   "source": [
    "## Практические примеры тензоров с данными"
   ]
  },
  {
   "cell_type": "markdown",
   "id": "f79e4cce",
   "metadata": {},
   "source": [
    "- векторные данные — двумерные тензоры с формой (образцы, признаки);\n",
    "- временные ряды или последовательности — трехмерные тензоры с формой (образцы, метки_времени, признаки);\n",
    "- изображения — четырехмерные тензоры с формой (образцы, высота, ширина,\n",
    "цвет) или с формой (образцы, цвет, высота, ширина);\n",
    "- видео — пятимерные тензоры с формой (образцы, кадры, высота, ширина, цвет)\n",
    "или с формой (образцы, кадры, цвет, высота, ширина)."
   ]
  },
  {
   "cell_type": "markdown",
   "id": "b2d72755",
   "metadata": {},
   "source": [
    "# Операции с тензорами"
   ]
  },
  {
   "cell_type": "markdown",
   "id": "ed02d4e4",
   "metadata": {},
   "source": [
    "В нашем первом примере мы создали сеть, наложив друг на друга два слоя Dense.\n",
    "В библиотеке Keras экземпляр слоя выглядит так:"
   ]
  },
  {
   "cell_type": "code",
   "execution_count": 78,
   "id": "d50781a8",
   "metadata": {},
   "outputs": [
    {
     "data": {
      "text/plain": [
       "<keras.layers.core.dense.Dense at 0x247df33ae80>"
      ]
     },
     "execution_count": 78,
     "metadata": {},
     "output_type": "execute_result"
    }
   ],
   "source": [
    "keras.layers.Dense(512, activation='relu')"
   ]
  },
  {
   "cell_type": "markdown",
   "id": "f4c8d472",
   "metadata": {},
   "source": [
    "Этот слой можно интерпретировать как функцию, которая принимает двумерный\n",
    "тензор и возвращает другой двумерный тензор — новое представление исходного\n",
    "тензора. В данном случае функция имеет следующий вид (где W — это двумерный\n",
    "тензор, а b — вектор, оба значения являются атрибутами слоя):\n",
    "\n",
    "output = relu(dot(W, input) + b)\n",
    "\n",
    "Давайте развернем ее. Здесь у нас имеется три операции с тензорами: скалярное\n",
    "произведение (dot) исходного тензора input и тензора с именем W; сложение (+)\n",
    "получившегося двумерного тензора и вектора b; и, наконец, операция relu. relu(x)\n",
    "эквивалентна операции max(x, 0), т.е. в данном случае если число отрицательное, то relu заменяет его на 0."
   ]
  },
  {
   "cell_type": "markdown",
   "id": "327e8b89",
   "metadata": {},
   "source": [
    "## Поэлементные операции"
   ]
  },
  {
   "cell_type": "markdown",
   "id": "31f7fa49",
   "metadata": {},
   "source": [
    "Операция relu и сложение — это поэлементные операции: операции, которые применяются к каждому элементу в тензоре по отдельности. То есть эти операции\n",
    "поддаются массовому распараллеливанию (векторизации)."
   ]
  },
  {
   "cell_type": "code",
   "execution_count": 148,
   "id": "5026d187",
   "metadata": {},
   "outputs": [],
   "source": [
    "x = np.array([[15, -5, 1], [5, 2, 2]])\n",
    "y = np.array([[1, 1, 1], [2, 2, 2]])"
   ]
  },
  {
   "cell_type": "code",
   "execution_count": 163,
   "id": "fdf633e5",
   "metadata": {},
   "outputs": [],
   "source": [
    "# реализуем операцию relu:\n",
    "def naive_relu(x):\n",
    "    assert len(x.shape) == 2 # Убедиться, что x — двумерный тензор Numpy\n",
    "    \n",
    "    x = x.copy()\n",
    "    for i in range (x.shape[0]):\n",
    "        for j in range(x.shape[1]):\n",
    "            x[i, j] = max(x[i, j], 0)\n",
    "    return x"
   ]
  },
  {
   "cell_type": "code",
   "execution_count": 164,
   "id": "2cdfdc89",
   "metadata": {},
   "outputs": [],
   "source": [
    "# реализуем операцию сложения:\n",
    "def naive_add(x, y):\n",
    "    assert len(x.shape) == 2\n",
    "    assert len(y.shape) == 2\n",
    "    x = x.copy()\n",
    "    for i in range(x.shape[0]):\n",
    "        for j in range(x.shape[1]):\n",
    "            x[i, j] += y[i, j]\n",
    "    return x"
   ]
  },
  {
   "cell_type": "markdown",
   "id": "63366d28",
   "metadata": {},
   "source": [
    "## Расширение тензора"
   ]
  },
  {
   "cell_type": "markdown",
   "id": "638ff1b7",
   "metadata": {},
   "source": [
    "Что происходит при сложении, когда\n",
    "формы складываемых тензоров различаются?\n",
    "Когда это возможно и не вызывает неоднозначности, меньший тензор расширяется\n",
    "так, чтобы его новая форма соответствовала форме большего тензора. Расширение\n",
    "выполняется в два этапа:\n",
    "1. В меньший тензор добавляются оси (называются осями расширения), чтобы\n",
    "значение его атрибута ndim соответствовало значению этого же атрибута большего тензора.\n",
    "2. Меньший тензор копируется в эти новые оси до полного совпадения с формой\n",
    "большего тензора."
   ]
  },
  {
   "cell_type": "code",
   "execution_count": 168,
   "id": "738dacc7",
   "metadata": {},
   "outputs": [],
   "source": [
    "# расширение вектора до матрицы:\n",
    "def naive_add_matrix_and_vector(x, y):\n",
    "    assert len(x.shape) == 2. # Убедиться, что x — двумерный тензор Numpy.\n",
    "    assert len(y.shape) == 1. # Убедиться, что y — вектор Numpy.\n",
    "    assert x.shape[1] == y.shape[0]\n",
    "    x = x.copy() # Исключить затирание исходного тензора\n",
    "    for i in range(x.shape[0]):\n",
    "        for j in range(x.shape[1]):\n",
    "            x[i, j] += y[j]\n",
    "    return x"
   ]
  },
  {
   "cell_type": "code",
   "execution_count": 188,
   "id": "42c88a50",
   "metadata": {},
   "outputs": [],
   "source": [
    "x = np.array([[15, -5, 1], [5, 2, 2]])\n",
    "y = np.array([1, 5, 1])"
   ]
  },
  {
   "cell_type": "code",
   "execution_count": 189,
   "id": "a60910b1",
   "metadata": {},
   "outputs": [
    {
     "data": {
      "text/plain": [
       "array([[16,  0,  2],\n",
       "       [ 6,  7,  3]])"
      ]
     },
     "execution_count": 189,
     "metadata": {},
     "output_type": "execute_result"
    }
   ],
   "source": [
    "naive_add_matrix_and_vector(x, y)"
   ]
  },
  {
   "cell_type": "markdown",
   "id": "69df8936",
   "metadata": {},
   "source": [
    "Прием расширения в общем случае можно применять в поэлементных операциях\n",
    "с двумя тензорами, если один тензор имеет форму (a, b, ... n, n + 1, ... m), а другой — форму (n, n + 1, ... m). В этом случае при расширении будут добавлены оси\n",
    "до n - 1."
   ]
  },
  {
   "cell_type": "code",
   "execution_count": 190,
   "id": "dbc8bd67",
   "metadata": {},
   "outputs": [],
   "source": [
    "x = np.random.random((64, 3, 32, 10)) # x — тензор случайных чисел, имеющий форму (64, 3, 32, 10)\n",
    "y = np.random.random((32, 10)) # y — тензор случайных чисел, имеющий форму (32, 10)\n",
    "z = np.maximum(x, y) # Получившийся тензор z имеет форму (64, 3, 32, 10) аналогично x  в примере выше"
   ]
  },
  {
   "cell_type": "markdown",
   "id": "0c206ce2",
   "metadata": {},
   "source": [
    "## Скалярное произведение тензоров"
   ]
  },
  {
   "cell_type": "markdown",
   "id": "d42f54a0",
   "metadata": {},
   "source": [
    "Скалярное произведение, также иногда называемое тензорным произведением (не\n",
    "путайте с поэлементным произведением), — наиболее общая и наиболее полезная операция с тензорами. В отличие от поэлементных операций, она объединяет элементы из исходных тензоров."
   ]
  },
  {
   "cell_type": "markdown",
   "id": "77daeff6",
   "metadata": {},
   "source": [
    "- Поэлементное произведение в Numpy, Keras, Theano и TensorFlow выполняется\n",
    "с помощью оператора *. \n",
    "- Операция скалярного произведения в TensorFlow имеет\n",
    "иной синтаксис, но в Numpy и Keras используется простой оператор dot."
   ]
  },
  {
   "cell_type": "code",
   "execution_count": 193,
   "id": "b4aafbc9",
   "metadata": {},
   "outputs": [],
   "source": [
    "x = np.array([[15, -5, 1], [5, 2, 2]])\n",
    "y = np.array([1, 5, 1])"
   ]
  },
  {
   "cell_type": "code",
   "execution_count": 194,
   "id": "8c072a88",
   "metadata": {},
   "outputs": [],
   "source": [
    "z = np.dot(x, y)"
   ]
  },
  {
   "cell_type": "code",
   "execution_count": 195,
   "id": "eef4fcec",
   "metadata": {},
   "outputs": [
    {
     "data": {
      "text/plain": [
       "array([-9, 17])"
      ]
     },
     "execution_count": 195,
     "metadata": {},
     "output_type": "execute_result"
    }
   ],
   "source": [
    "z"
   ]
  },
  {
   "cell_type": "code",
   "execution_count": 197,
   "id": "a8a9a22b",
   "metadata": {},
   "outputs": [],
   "source": [
    "# скалярное произведение двух векторов:\n",
    "def naive_vector_dot(x, y):\n",
    "    assert len(x.shape) == 1\n",
    "    assert len(y.shape) == 1 # Убедиться, что x и y — векторы Numpy\n",
    "    assert x.shape[0] == y.shape[0]\n",
    "    \n",
    "    z = 0.\n",
    "    for i in range(x.shape[0]):\n",
    "        z += x[i] * y[i]\n",
    "    return z"
   ]
  },
  {
   "cell_type": "markdown",
   "id": "5ac7123b",
   "metadata": {},
   "source": [
    "Также есть возможность получить скалярное произведение матрицы x на вектор y,\n",
    "являющееся вектором, элементы которого — скалярные произведения строк x на y:"
   ]
  },
  {
   "cell_type": "code",
   "execution_count": 200,
   "id": "c74de59b",
   "metadata": {},
   "outputs": [],
   "source": [
    "def naive_matrix_vector_dot(x, y):\n",
    "    assert len(x.shape) == 2\n",
    "    assert len(y.shape) == 1\n",
    "    assert x.shape[1] == y.shape[0]\n",
    "    \n",
    "    z = np.zeros(x.shape[0]) # Эта операция вернет вектор с нулевыми элементами, имеющий ту же форму, что и y\n",
    "    for i in range(x.shape[0]):\n",
    "        for j in range(x.shape[1]):\n",
    "            z[i] += x[i, j] * y[j]\n",
    "    return z # на выходе получим вектор, состоящий из скалярных произведений"
   ]
  },
  {
   "cell_type": "code",
   "execution_count": 199,
   "id": "8017219d",
   "metadata": {},
   "outputs": [
    {
     "data": {
      "text/plain": [
       "array([-9., 17.])"
      ]
     },
     "execution_count": 199,
     "metadata": {},
     "output_type": "execute_result"
    }
   ],
   "source": [
    "naive_matrix_vector_dot(x, y)"
   ]
  },
  {
   "cell_type": "markdown",
   "id": "53d65711",
   "metadata": {},
   "source": [
    "Обратите внимание, что, если один из двух тензоров имеет ndim больше 1, скалярное произведение перестает быть симметричной операцией, то есть результат\n",
    "dot(x, y) не совпадает с результатом dot(y, x)."
   ]
  },
  {
   "cell_type": "markdown",
   "id": "73924e98",
   "metadata": {},
   "source": [
    "Наиболее часто на практике применяется скалярное\n",
    "произведение двух матриц. Получить скалярное произведение двух матриц, x и y\n",
    "(dot(x, y)), можно, только если x.shape[1] == y.shape[0]. В результате получится матрица с формой (x.shape[0], y.shape[1]), элементами которой являются\n",
    "скалярные произведения строк x на столбцы y. Вот как могла бы выглядеть простейшая реализация:"
   ]
  },
  {
   "cell_type": "code",
   "execution_count": 205,
   "id": "658da4a1",
   "metadata": {},
   "outputs": [],
   "source": [
    "def naive_matrix_dot(x, y):\n",
    "    assert len(x.shape) == 2\n",
    "    assert len(y.shape) == 2 # Убедиться, что x и y — матрицы Numpy\n",
    "    assert x.shape[1] == y.shape[0]\n",
    "    z = np.zeros((x.shape[0], y.shape[1]))\n",
    "    for i in range(x.shape[0]): # Обход строк в x...\n",
    "        for j in range(y.shape[1]): # и столбцов в y\n",
    "            row_x = x[i, :]\n",
    "            column_y = y[:, j]\n",
    "            z[i, j] = naive_vector_dot(row_x, column_y) # скалярно умножаем i строку на j столбец\n",
    "    return z # на выходе получим матрицу, состоящую из скалярных произведений"
   ]
  },
  {
   "cell_type": "markdown",
   "id": "1f415ca5",
   "metadata": {},
   "source": [
    "## Изменение формы тензора"
   ]
  },
  {
   "cell_type": "markdown",
   "id": "b85304eb",
   "metadata": {},
   "source": []
  },
  {
   "cell_type": "code",
   "execution_count": 206,
   "id": "39563e54",
   "metadata": {},
   "outputs": [],
   "source": [
    "x = np.array([[0., 1.], [2., 3.], [4., 5.]])"
   ]
  },
  {
   "cell_type": "code",
   "execution_count": 207,
   "id": "958eb994",
   "metadata": {},
   "outputs": [
    {
     "data": {
      "text/plain": [
       "array([[0.],\n",
       "       [1.],\n",
       "       [2.],\n",
       "       [3.],\n",
       "       [4.],\n",
       "       [5.]])"
      ]
     },
     "execution_count": 207,
     "metadata": {},
     "output_type": "execute_result"
    }
   ],
   "source": [
    "x.reshape((6, 1))"
   ]
  },
  {
   "cell_type": "markdown",
   "id": "9a6b3dc3",
   "metadata": {},
   "source": [
    "Особый случай изменения формы, который часто встречается в практике, — это\n",
    "транспонирование. Транспонирование — это такое преобразование матрицы, когда\n",
    "строки становятся столбцами, а столбцы — строками, то есть x[i, :] превращается\n",
    "в x[:, i]:"
   ]
  },
  {
   "cell_type": "code",
   "execution_count": 211,
   "id": "1a1f6f75",
   "metadata": {},
   "outputs": [
    {
     "name": "stdout",
     "output_type": "stream",
     "text": [
      "(300, 20)\n",
      "(20, 300)\n"
     ]
    }
   ],
   "source": [
    "x = np.zeros((300, 20))\n",
    "print(x.shape)\n",
    "x = np.transpose(x)\n",
    "print(x.shape)"
   ]
  },
  {
   "cell_type": "markdown",
   "id": "6f57f1a4",
   "metadata": {},
   "source": [
    "## Механизм нейронных сетей: оптимизация на основе градиента"
   ]
  },
  {
   "cell_type": "markdown",
   "id": "187c15a1",
   "metadata": {},
   "source": [
    "output = relu(dot(W, input) + b)\n",
    "\n",
    "В этом выражении W и b — тензоры, являющиеся атрибутами слоя. Они называются\n",
    "весами, или обучаемыми параметрами слоя (атрибуты kernel и bias соответственно). Эти веса содержат информацию, извлеченную сетью из обучающих данных.\n",
    "\n",
    "Первоначально эти весовые матрицы заполняются небольшими случайными\n",
    "значениями (этот шаг называется случайной инициализацией). Начальные представления не несут никакого смысла, но они служат начальной точкой. \n",
    "\n",
    "Далее, на основе сигнала\n",
    "обратной связи, происходит постепенная корректировка весов."
   ]
  },
  {
   "cell_type": "markdown",
   "id": "917161a2",
   "metadata": {},
   "source": [
    "Ниже перечислены шаги, выполняемые в так называемом цикле обучения, который\n",
    "повторяется столько раз, сколько потребуется:\n",
    "1. Извлекается пакет обучающих экземпляров x и соответствующих целей y.\n",
    "2. Сеть обрабатывает пакет x (этот шаг называется прямым проходом) и получает\n",
    "пакет предсказаний y_pred.\n",
    "3. Вычисляются потери сети на пакете, дающие оценку несовпадения между y_pred\n",
    "и y.\n",
    "4. Корректируются веса сети так, чтобы немного уменьшить потери на этом пакете."
   ]
  },
  {
   "cell_type": "markdown",
   "id": "662aca70",
   "metadata": {},
   "source": [
    "Наиболее\n",
    "сложным выглядит шаг 4: корректировка весов сети. Как по отдельным весам в сети узнать, должен некоторый коэффициент увеличиваться или уменьшаться\n",
    "и насколько?"
   ]
  },
  {
   "cell_type": "markdown",
   "id": "137a4d27",
   "metadata": {},
   "source": [
    "Одно из простейших решений — заморозить все веса, кроме одного, и попробовать\n",
    "применить разные значения этого веса. Эту операцию можно\n",
    "было бы повторить для всех весов в сети. Но такой подход крайне неэффективен, потому что требует выполнения двух\n",
    "прямых проходов (что является довольно затратным) для каждого отдельного веса\n",
    "(которых очень много, обычно около тысячи, а иногда и до нескольких миллионов)."
   ]
  },
  {
   "cell_type": "markdown",
   "id": "c09e730e",
   "metadata": {},
   "source": [
    "Гораздо эффективнее опереться на тот факт, что все операции в сети дифференцируемы, и вычислять градиент потерь относительно каждого весового коэффициента\n",
    "в сети. После этого можно было бы просто сдвигать коэффициенты в сторону,\n",
    "противоположную градиенту, и тем самым уменьшать потери."
   ]
  },
  {
   "cell_type": "markdown",
   "id": "1d48d5b5",
   "metadata": {},
   "source": [
    "## Стохастический градиентный спуск"
   ]
  },
  {
   "cell_type": "markdown",
   "id": "a1a7c56e",
   "metadata": {},
   "source": [
    "Стохастический градиентный\n",
    "спуск на небольших пакетах (mini-batch stochastic gradient descent, minibatch SGD).\n",
    "Термин «стохастический» отражает тот факт, что каждый пакет данных выбирается\n",
    "случайно (в науке слово «стохастический» считается синонимом слова «случайный»):\n",
    "\n",
    "1. Извлекается пакет обучающих экземпляров x и соответствующих целей y.\n",
    "2. Сеть обрабатывает пакет x и получает пакет предсказаний y_pred.\n",
    "3. Вычисляются потери сети на пакете, дающие оценку несовпадения между y_pred\n",
    "и y.\n",
    "4. Вычисляется градиент потерь для параметров сети (обратный проход)\n",
    "5. Параметры корректируются на небольшую величину в направлении, противоположном градиенту, например W -= step * gradient, и тем самым снижаются\n",
    "потери."
   ]
  },
  {
   "cell_type": "markdown",
   "id": "2fd95867",
   "metadata": {},
   "source": [
    "- Вариант алгоритма mini-batch SGD в каждой итерации использует единственный образец и цель, а не весь\n",
    "пакет данных. Фактически это истинный SGD (а не mini-batch SGD). \n",
    "- Однако можно пойти другим путем и использовать на каждом шаге все доступные данные. Эта\n",
    "версия алгоритма называется пакетным стохастическим градиентным спуском\n",
    "(batch SGD). Каждое изменение в этом случае будет более точным, но более затратным. \n",
    "\n",
    "Эффективным компромиссом между этими двумя крайностями является\n",
    "использование небольших пакетов."
   ]
  },
  {
   "cell_type": "markdown",
   "id": "ec90cecc",
   "metadata": {},
   "source": [
    "Существует также множество вариантов стохастического градиентного спуска,\n",
    "которые отличаются тем, что при вычислении следующих приращений весов\n",
    "принимают в учет не только текущие значения градиентов, но и предыдущие\n",
    "приращения. Примерами могут служить такие алгоритмы, как SGD с импульсом,\n",
    "Adagrad, RMSProp и некоторые другие. Эти варианты известны как методы оптимизации, или оптимизаторы. В частности, внимания заслуживает идея импульса,\n",
    "которая используется во многих этих вариантах. Импульс вводится для решения\n",
    "двух проблем SGD: невысокой скорости сходимости и попадания в локальный\n",
    "минимум."
   ]
  },
  {
   "cell_type": "markdown",
   "id": "9d250c01",
   "metadata": {},
   "source": [
    "На практике это означает, что приращение параметра w определяется не только по текущему\n",
    "значению градиента, но также по величине предыдущего приращения параметра,\n",
    "как показано в следующей упрощенной реализации:"
   ]
  },
  {
   "cell_type": "code",
   "execution_count": 2,
   "id": "5e915e3b",
   "metadata": {},
   "outputs": [],
   "source": [
    "# past_velocity = 0.\n",
    "# momentum = 0.1 # Постоянное значение импульса\n",
    "# while loss > 0.01: # Цикл оптимизации\n",
    "#     w, loss, gradient = get_current_parameters()\n",
    "#     velocity = past_velocity * momentum + learning_rate * gradient\n",
    "#     w = w + momentum * velocity - learning_rate * gradient\n",
    "#     past_velocity = velocity\n",
    "#     update_parameter(w)"
   ]
  },
  {
   "cell_type": "markdown",
   "id": "fb8e829d",
   "metadata": {},
   "source": [
    "## Объединение производных: алгоритм обратного распространения ошибки"
   ]
  },
  {
   "cell_type": "markdown",
   "id": "2298434d",
   "metadata": {},
   "source": [
    "На практике функция\n",
    "нейронной сети состоит из множества последовательных операций с тензорами,\n",
    "объединенных в одну цепочку, каждая из которых имеет простую, известную производную. Например, пусть есть сеть f, состоящая из трех операций с тензорами a,\n",
    "b и c и весовыми матрицами W1, W2 и W3:\n",
    "f(W1, W2, W3) = a(W1, b(W2, c(W3)))\n",
    "Формула сообщает нам, что такую цепочку функций можно получить с использованием следующего тождества, которое называется цепным правилом: f(g(x)) =\n",
    "= f'(g(x)) * g'(x). Применение цепного правила к вычислению значений градиента нейронной сети приводит к алгоритму, который называется обратным распространением ошибки (Backpropagation), или обратным дифференцированием."
   ]
  },
  {
   "cell_type": "markdown",
   "id": "9f020306",
   "metadata": {},
   "source": [
    "## Краткие итоги главы"
   ]
  },
  {
   "cell_type": "markdown",
   "id": "c94d0339",
   "metadata": {},
   "source": [
    "- Обучение означает поиск комбинации параметров модели, минимизирующих\n",
    "функцию потерь для данного набора обучающих данных и соответствующих\n",
    "им целей.\n",
    "- Обучение происходит путем извлечения пакетов случайных образцов данных\n",
    "и их целей и вычисления градиента параметров сети с учетом потерь в пакете.\n",
    "Затем параметры сети немного смещаются (величина смещения определяется\n",
    "скоростью обучения) в направлении, противоположном направлению градиента.\n",
    "- Весь процесс обучения становится возможным благодаря тому обстоятельству, что нейронные сети являются цепочками дифференцируемых операций\n",
    "с тензорами и, следовательно, позволяют применять цепное правило для вывода функции градиента, отображающей текущие параметры и текущий пакет\n",
    "данных в значение градиента.\n",
    "- Функция потерь — это величина, которую требуется свести к минимуму в ходе\n",
    "обучения, поэтому она должна представлять собой меру успеха для решаемой\n",
    "вами задачи.\n",
    "- Оптимизатор определяет точный способ использования градиента потерь для\n",
    "изменения параметров: например, это может быть оптимизатор RMSProp, реализующий градиентный спуск с импульсом, и др."
   ]
  }
 ],
 "metadata": {
  "hide_input": false,
  "kernelspec": {
   "display_name": "Python 3 (ipykernel)",
   "language": "python",
   "name": "python3"
  },
  "language_info": {
   "codemirror_mode": {
    "name": "ipython",
    "version": 3
   },
   "file_extension": ".py",
   "mimetype": "text/x-python",
   "name": "python",
   "nbconvert_exporter": "python",
   "pygments_lexer": "ipython3",
   "version": "3.9.7"
  },
  "toc": {
   "base_numbering": 1,
   "nav_menu": {},
   "number_sections": true,
   "sideBar": true,
   "skip_h1_title": false,
   "title_cell": "Table of Contents",
   "title_sidebar": "Contents",
   "toc_cell": false,
   "toc_position": {},
   "toc_section_display": true,
   "toc_window_display": false
  },
  "varInspector": {
   "cols": {
    "lenName": 16,
    "lenType": 16,
    "lenVar": 40
   },
   "kernels_config": {
    "python": {
     "delete_cmd_postfix": "",
     "delete_cmd_prefix": "del ",
     "library": "var_list.py",
     "varRefreshCmd": "print(var_dic_list())"
    },
    "r": {
     "delete_cmd_postfix": ") ",
     "delete_cmd_prefix": "rm(",
     "library": "var_list.r",
     "varRefreshCmd": "cat(var_dic_list()) "
    }
   },
   "types_to_exclude": [
    "module",
    "function",
    "builtin_function_or_method",
    "instance",
    "_Feature"
   ],
   "window_display": false
  }
 },
 "nbformat": 4,
 "nbformat_minor": 5
}
